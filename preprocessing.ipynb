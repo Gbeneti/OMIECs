{
 "cells": [
  {
   "cell_type": "code",
   "execution_count": 53,
   "metadata": {},
   "outputs": [],
   "source": [
    "import numpy as np\n",
    "import pandas as pd\n",
    "from groq import Groq\n",
    "import os\n",
    "import time"
   ]
  },
  {
   "cell_type": "code",
   "execution_count": 54,
   "metadata": {},
   "outputs": [],
   "source": [
    "response = pd.read_excel('../../dataframes/llama3-70B-OMIEC190824_0.3_temp_RESPONSES.xlsx')\n",
    "raw_data =  pd.read_excel('../../data/raw/OMIEC_19_08_24.xlsx')"
   ]
  },
  {
   "cell_type": "code",
   "execution_count": 55,
   "metadata": {},
   "outputs": [
    {
     "data": {
      "text/markdown": [
       "Diluting organic semiconductors with a host insulating polymer is used to increase the electronic mobility in organic electronic devices, such as thin film transistors, while considerably reducing material costs. In contrast to organic electronics, bioelectronic devices such as the organic electrochemical transistor (OECT) rely on both electronic and ionic mobility for efficient operation, making it challenging to integrate hydrophobic polymers as the predominant blend component. This work shows that diluting the n-type conjugated polymer p(N-T) with high molecular weight polystyrene (10 KDa) leads to OECTs with over three times better mobility-volumetric capacitance product (mu C*) with respect to the pristine p(N-T) (from 4.3 to 13.4 F V-1 cm-1 s-1) while drastically decreasing the amount of conjugated polymer (six times less). This improvement in mu C* is due to a dramatic increase in electronic mobility by two orders of magnitude, from 0.059 to 1.3 cm2 V-1 s-1 for p(N-T):Polystyrene 10 KDa 1:6. Moreover, devices made with this polymer blend show better stability, retaining 77% of the initial drain current after 60 minutes operation in contrast to 12% for pristine p(N-T). These results open a new generation of low-cost organic mixed ionic-electronic conductors where the bulk of the film is made by a commodity polymer. Insulating commodity polymers are mixed with an n-type conjugated polymer to increase the performance of organic electrochemical transistors. Blending the conjugated polymer p(N-T) with large amounts of 10 kDa polystyrene (1:6 in monomer weight) led to an increase in electronic mobility by two orders of magnitude and device stability by 65% with respect to the pristine conjugated polymer. image"
      ],
      "text/plain": [
       "<IPython.core.display.Markdown object>"
      ]
     },
     "metadata": {},
     "output_type": "display_data"
    }
   ],
   "source": [
    "from IPython.display import display, Markdown\n",
    "\n",
    "display(Markdown(raw_data['Abstract'][98]))"
   ]
  },
  {
   "cell_type": "code",
   "execution_count": 56,
   "metadata": {},
   "outputs": [],
   "source": [
    "result = pd.concat([response, raw_data], axis=1)\n",
    "result.drop('index', axis=1, inplace=True)"
   ]
  },
  {
   "cell_type": "code",
   "execution_count": 57,
   "metadata": {},
   "outputs": [],
   "source": [
    "def prepare_corpus(df):\n",
    "    corpus = []\n",
    "    for index, row in df.iterrows():\n",
    "        for token in set(str(row['response']).replace('\\n', ';').split(';')):\n",
    "            corpus.append(token.strip().replace('/', \"-\").replace(\":\", \"-\"))\n",
    "            \n",
    "    return pd.Series(corpus)"
   ]
  },
  {
   "cell_type": "code",
   "execution_count": 58,
   "metadata": {},
   "outputs": [],
   "source": [
    "corpus = prepare_corpus(result)\n",
    "corpus = corpus[corpus != 'nan']\n",
    "corpus = corpus[corpus != '']\n",
    "corpus = corpus.reset_index(drop=True)"
   ]
  },
  {
   "cell_type": "code",
   "execution_count": 59,
   "metadata": {},
   "outputs": [
    {
     "data": {
      "text/plain": [
       "716"
      ]
     },
     "execution_count": 59,
     "metadata": {},
     "output_type": "execute_result"
    }
   ],
   "source": [
    "len(corpus)"
   ]
  },
  {
   "cell_type": "code",
   "execution_count": 60,
   "metadata": {},
   "outputs": [
    {
     "data": {
      "text/plain": [
       "274"
      ]
     },
     "execution_count": 60,
     "metadata": {},
     "output_type": "execute_result"
    }
   ],
   "source": [
    "len(np.unique(corpus))"
   ]
  },
  {
   "cell_type": "code",
   "execution_count": 61,
   "metadata": {},
   "outputs": [
    {
     "data": {
      "text/plain": [
       "array(['EG-GOPS-PEDOT-PSS', 'Mel-PEDOT-PSS', 'PEDOT', 'PEDOT- PSS',\n",
       "       'PEDOT-Dexamethasone phosphate', 'PEDOT-Dextran sulfate',\n",
       "       'PEDOT-E', 'PEDOT-Hyaluronate', 'PEDOT-LIG', 'PEDOT-N3',\n",
       "       'PEDOT-Nafion', 'PEDOT-PAH', 'PEDOT-PBA', 'PEDOT-PC', 'PEDOT-PF6',\n",
       "       'PEDOT-PSS', 'PEDOT-PSS-PVS', 'PEDOT-Phos',\n",
       "       'PEDOT-PolyDADMA CF3SO3', 'PEDOT-PolyDADMA Cl',\n",
       "       'PEDOT-PolyDADMA FSI', 'PEDOT-PolyDADMA TFSI',\n",
       "       'PEDOT-PolyDADMA Tos', 'PEDOT-TOS', 'PEDOT-Tos', 'PEDOT-b-PEG',\n",
       "       'PEDOT-polyamine', 'PEDOT-tauroursodeoxycholic acid', 'PEDOTS',\n",
       "       'PEO-PEDOT', 'crys-PEDOT-PSS'], dtype='<U31')"
      ]
     },
     "execution_count": 61,
     "metadata": {},
     "output_type": "execute_result"
    }
   ],
   "source": [
    "np.unique(corpus[corpus.str.contains(r'PEDOT', regex=True)].values.tolist())"
   ]
  },
  {
   "cell_type": "code",
   "execution_count": 62,
   "metadata": {},
   "outputs": [],
   "source": [
    "\"\"\"replacements = {\n",
    "    r'.*\\s\\(([^)]+)\\)$': r'\\1', # para polímeros que estão no formato 'nome_polímero (abreviação_polímero)', substitui pela abreviação apenas\n",
    "    r'[Pp]oly\\(3,4-ethylenedioxythiophene\\)': 'PEDOT',\n",
    "    r'\\b[Pp]EDOT[-\\s]?[Pp]oly\\(?[0-9]*[-\\s]*styrenesulfonate\\)?\\b': 'PEDOT-PSS',\n",
    "    r'\\b[Pp]EDOT\\s*[-\\s]*PSS\\)?': 'PEDOT-PSS',\n",
    "    r'\\bPEDOT-PSS\\)$': 'PEDOT-PSS',\n",
    "    r'[Pp]olypyrrole': 'PPy',\n",
    "    r'[Pp]olyethylenedioxythiophene': 'PEDOT',\n",
    "    r'[Pp]olythiophene[s]?': 'PT',  \n",
    "    r'[Pp]oly\\((thiophene)\\)': 'PT',\n",
    "    r'[Pp]oly\\(3-methylthiophene\\)': 'P3MT',\n",
    "    r'[Pp]oly\\(3-hexylthiophene\\)': 'P3HT',\n",
    "    r'[Pp]oly\\(3-hexylthiophene[-\\d,]*diyl\\)': 'P3HT'\n",
    "\n",
    "}\"\"\"\n",
    "\n",
    "replacements = {\n",
    "    r\"(?i)PEDOT-TOS\": 'PEDOT-TOS',\n",
    "     r\"(?i)PEDOT-\\s*PSS\": 'PEDOT-PSS'\n",
    "}\n",
    "\n",
    "items_to_remove = [r'(?i)\\bmixed\\b',\n",
    "                   r'(?i)\\bnone\\b',\n",
    "                   r'MIEC.*',\n",
    "                   'based', \n",
    "                   r'[Pp]olymer',\n",
    "                   r'OECT.*',\n",
    "                   'conjug'\n",
    "                   ]\n"
   ]
  },
  {
   "cell_type": "code",
   "execution_count": 63,
   "metadata": {},
   "outputs": [],
   "source": [
    "for pattern, replacement in replacements.items():\n",
    "    corpus = corpus.str.replace(pattern, replacement, regex=True, case=False)\n",
    "    \n",
    "for item in items_to_remove:\n",
    "    corpus = corpus[~corpus.str.contains(item, regex=True)]"
   ]
  },
  {
   "cell_type": "code",
   "execution_count": 64,
   "metadata": {},
   "outputs": [
    {
     "data": {
      "text/plain": [
       "695"
      ]
     },
     "execution_count": 64,
     "metadata": {},
     "output_type": "execute_result"
    }
   ],
   "source": [
    "len(corpus)"
   ]
  },
  {
   "cell_type": "code",
   "execution_count": 65,
   "metadata": {},
   "outputs": [
    {
     "data": {
      "text/plain": [
       "261"
      ]
     },
     "execution_count": 65,
     "metadata": {},
     "output_type": "execute_result"
    }
   ],
   "source": [
    "len(corpus.unique())"
   ]
  },
  {
   "cell_type": "code",
   "execution_count": 66,
   "metadata": {},
   "outputs": [
    {
     "data": {
      "text/plain": [
       "PEDOT-PSS        286\n",
       "PEDOT             40\n",
       "P3HT              28\n",
       "BBL               12\n",
       "Nafion            10\n",
       "PEO               10\n",
       "PPy                9\n",
       "PANI               6\n",
       "p(g2T-TT)          5\n",
       "P3MEEMT            5\n",
       "p(g2T-T)           4\n",
       "P3MEEET            4\n",
       "PEDOT-TOS          3\n",
       "Pg2T-T             3\n",
       "PEDOT-Nafion       3\n",
       "CPE-K              2\n",
       "DPPT-TT            2\n",
       "P3T                2\n",
       "f-BTI2g-TVT        2\n",
       "P3HHT              2\n",
       "MEH-PPV            2\n",
       "P3MEET             2\n",
       "pgBTTT             2\n",
       "PSS                2\n",
       "PDDA               2\n",
       "PBTTT              2\n",
       "PEDOT-PAH          2\n",
       "PProDOT            2\n",
       "PI                 2\n",
       "LSCF6428           2\n",
       "TPU                2\n",
       "P-3O               2\n",
       "EDOT               2\n",
       "PPP                2\n",
       "Homo-gDPP          2\n",
       "t-gdiPDI           2\n",
       "PPY                1\n",
       "gDPP-TTT           1\n",
       "gDPP-TTVTT         1\n",
       "PIDTC16-BT         1\n",
       "PIDTPEG-BT         1\n",
       "P(gPzDPP-CT2)      1\n",
       "DPP                1\n",
       "DPP-g2T            1\n",
       "PVP                1\n",
       "PProDOT-DPP        1\n",
       "PgNaN              1\n",
       "PgNgN              1\n",
       "P(VDF-TrFE)        1\n",
       "PTEO               1\n",
       "Name: count, dtype: int64"
      ]
     },
     "execution_count": 66,
     "metadata": {},
     "output_type": "execute_result"
    }
   ],
   "source": [
    "corpus.value_counts().head(50)"
   ]
  },
  {
   "cell_type": "code",
   "execution_count": 67,
   "metadata": {},
   "outputs": [
    {
     "name": "stderr",
     "output_type": "stream",
     "text": [
      "C:\\Users\\thaynara220042\\AppData\\Local\\Temp\\ipykernel_26804\\2760201650.py:10: FutureWarning: \n",
      "\n",
      "Passing `palette` without assigning `hue` is deprecated and will be removed in v0.14.0. Assign the `y` variable to `hue` and set `legend=False` for the same effect.\n",
      "\n",
      "  sns.barplot(x=top_10_counts.values, y=top_10_counts.index, palette=\"viridis\")\n"
     ]
    },
    {
     "data": {
      "image/png": "[encoded data removed]",
      "text/plain": [
       "<Figure size 1000x600 with 1 Axes>"
      ]
     },
     "metadata": {},
     "output_type": "display_data"
    }
   ],
   "source": [
    "import seaborn as sns\n",
    "import matplotlib.pyplot as plt\n",
    "\n",
    "top_10_counts = corpus.value_counts().head(10)\n",
    "\n",
    "# Ajustando o tamanho da figura\n",
    "plt.figure(figsize=(10, 6))\n",
    "\n",
    "# Plotando o histograma\n",
    "sns.barplot(x=top_10_counts.values, y=top_10_counts.index, palette=\"viridis\")\n",
    "plt.xlabel('Frequência')\n",
    "plt.ylabel('Material')\n",
    "\n",
    "# Ajustando layout para não cortar legendas\n",
    "plt.tight_layout()\n",
    "\n",
    "# Salvando a imagem\n",
    "#plt.savefig('gráficos/llama3-70B-OMIEC160824_RESPONSES_ranking.png')\n",
    "\n",
    "# Exibindo a imagem\n",
    "plt.show()\n"
   ]
  },
  {
   "cell_type": "markdown",
   "metadata": {},
   "source": [
    "Tendência de publicações sobre a temática durante os anos"
   ]
  },
  {
   "cell_type": "code",
   "execution_count": 68,
   "metadata": {},
   "outputs": [
    {
     "name": "stderr",
     "output_type": "stream",
     "text": [
      "C:\\Users\\thaynara220042\\AppData\\Local\\Temp\\ipykernel_26804\\3736620246.py:12: FutureWarning: \n",
      "\n",
      "Passing `palette` without assigning `hue` is deprecated and will be removed in v0.14.0. Assign the `x` variable to `hue` and set `legend=False` for the same effect.\n",
      "\n",
      "  sns.barplot(\n"
     ]
    },
    {
     "data": {
      "image/png": "[encoded data removed]",
      "text/plain": [
       "<Figure size 1000x600 with 1 Axes>"
      ]
     },
     "metadata": {},
     "output_type": "display_data"
    }
   ],
   "source": [
    "import seaborn as sns\n",
    "import matplotlib.pyplot as plt\n",
    "\n",
    "# Supondo que 'raw_data' seja o seu DataFrame e 'Publication Year' seja a coluna com os anos de publicação\n",
    "publication_counts = raw_data['Publication Year'].value_counts()\n",
    "\n",
    "# Ordenar os valores pela data para melhorar a visualização (opcional)\n",
    "publication_counts = publication_counts.sort_index()\n",
    "\n",
    "# Criar o gráfico de barras com Seaborn usando a paleta \"viridis\"\n",
    "plt.figure(figsize=(10, 6))\n",
    "sns.barplot(\n",
    "    x=publication_counts.index, \n",
    "    y=publication_counts.values, \n",
    "    palette=\"viridis\"  # Aplica a paleta de cores \"viridis\"\n",
    ")\n",
    "\n",
    "# Configurar o título e os rótulos dos eixos\n",
    "plt.title('Número de Publicações por Ano')\n",
    "plt.xlabel('Ano de Publicação')\n",
    "plt.ylabel('Número de Publicações')\n",
    "\n",
    "# Mostrar o gráfico\n",
    "plt.xticks(rotation=45)  # Rotaciona os rótulos do eixo x para melhor visualização\n",
    "\n",
    "# Ajustando layout para não cortar legendas\n",
    "plt.tight_layout()\n",
    "\n",
    "# Salvando a imagem\n",
    "plt.savefig('gráficos/llama3-70B-OMIEC160824_publicação_por_ano.png')\n",
    "\n",
    "plt.show()\n"
   ]
  },
  {
   "cell_type": "markdown",
   "metadata": {},
   "source": [
    "Localizando os artigos em que aparecem os polímeros"
   ]
  },
  {
   "cell_type": "code",
   "execution_count": 71,
   "metadata": {},
   "outputs": [
    {
     "data": {
      "text/html": [
       "<div>\n",
       "<style scoped>\n",
       "    .dataframe tbody tr th:only-of-type {\n",
       "        vertical-align: middle;\n",
       "    }\n",
       "\n",
       "    .dataframe tbody tr th {\n",
       "        vertical-align: top;\n",
       "    }\n",
       "\n",
       "    .dataframe thead th {\n",
       "        text-align: right;\n",
       "    }\n",
       "</style>\n",
       "<table border=\"1\" class=\"dataframe\">\n",
       "  <thead>\n",
       "    <tr style=\"text-align: right;\">\n",
       "      <th></th>\n",
       "      <th>response</th>\n",
       "      <th>Publication Type</th>\n",
       "      <th>Authors</th>\n",
       "      <th>Book Authors</th>\n",
       "      <th>Book Editors</th>\n",
       "      <th>Book Group Authors</th>\n",
       "      <th>Author Full Names</th>\n",
       "      <th>Book Author Full Names</th>\n",
       "      <th>Group Authors</th>\n",
       "      <th>Article Title</th>\n",
       "      <th>...</th>\n",
       "      <th>Web of Science Index</th>\n",
       "      <th>Research Areas</th>\n",
       "      <th>IDS Number</th>\n",
       "      <th>Pubmed Id</th>\n",
       "      <th>Open Access Designations</th>\n",
       "      <th>Highly Cited Status</th>\n",
       "      <th>Hot Paper Status</th>\n",
       "      <th>Date of Export</th>\n",
       "      <th>UT (Unique WOS ID)</th>\n",
       "      <th>Web of Science Record</th>\n",
       "    </tr>\n",
       "  </thead>\n",
       "  <tbody>\n",
       "    <tr>\n",
       "      <th>0</th>\n",
       "      <td>NaN</td>\n",
       "      <td>J</td>\n",
       "      <td>Kim, Y; Kim, G; Ding, BW; Jeong, D; Lee, I; Pa...</td>\n",
       "      <td>NaN</td>\n",
       "      <td>NaN</td>\n",
       "      <td>NaN</td>\n",
       "      <td>Kim, Youngseok; Kim, Gunwoo; Ding, Bowen; Jeon...</td>\n",
       "      <td>NaN</td>\n",
       "      <td>NaN</td>\n",
       "      <td>High-Current-Density Organic Electrochemical D...</td>\n",
       "      <td>...</td>\n",
       "      <td>NaN</td>\n",
       "      <td>Chemistry; Science &amp; Technology - Other Topics...</td>\n",
       "      <td>NaN</td>\n",
       "      <td>NaN</td>\n",
       "      <td>NaN</td>\n",
       "      <td>NaN</td>\n",
       "      <td>NaN</td>\n",
       "      <td>2024-08-19</td>\n",
       "      <td>WOS:000740653700001</td>\n",
       "      <td>0</td>\n",
       "    </tr>\n",
       "    <tr>\n",
       "      <th>1</th>\n",
       "      <td>NaN</td>\n",
       "      <td>J</td>\n",
       "      <td>[Anonymous]</td>\n",
       "      <td>NaN</td>\n",
       "      <td>NaN</td>\n",
       "      <td>NaN</td>\n",
       "      <td>[Anonymous]</td>\n",
       "      <td>NaN</td>\n",
       "      <td>NaN</td>\n",
       "      <td>Organic mixed ionic-electronic conductors prog...</td>\n",
       "      <td>...</td>\n",
       "      <td>NaN</td>\n",
       "      <td>Chemistry; Materials Science; Physics</td>\n",
       "      <td>NaN</td>\n",
       "      <td>NaN</td>\n",
       "      <td>NaN</td>\n",
       "      <td>NaN</td>\n",
       "      <td>NaN</td>\n",
       "      <td>2024-08-19</td>\n",
       "      <td>WOS:001250931500013</td>\n",
       "      <td>0</td>\n",
       "    </tr>\n",
       "    <tr>\n",
       "      <th>2</th>\n",
       "      <td>NaN</td>\n",
       "      <td>J</td>\n",
       "      <td>Wu, RH; Meli, D; Strzalka, J; Narayanan, S; Zh...</td>\n",
       "      <td>NaN</td>\n",
       "      <td>NaN</td>\n",
       "      <td>NaN</td>\n",
       "      <td>Wu, Ruiheng; Meli, Dilara; Strzalka, Joseph; N...</td>\n",
       "      <td>NaN</td>\n",
       "      <td>NaN</td>\n",
       "      <td>Bridging length scales in organic mixed ionic-...</td>\n",
       "      <td>...</td>\n",
       "      <td>NaN</td>\n",
       "      <td>Chemistry; Materials Science; Physics</td>\n",
       "      <td>NaN</td>\n",
       "      <td>NaN</td>\n",
       "      <td>NaN</td>\n",
       "      <td>NaN</td>\n",
       "      <td>NaN</td>\n",
       "      <td>2024-08-19</td>\n",
       "      <td>WOS:001173377100001</td>\n",
       "      <td>0</td>\n",
       "    </tr>\n",
       "    <tr>\n",
       "      <th>3</th>\n",
       "      <td>NaN</td>\n",
       "      <td>J</td>\n",
       "      <td>Shahi, M; Le, VN; Espejo, PA; Alsufyani, M; Ko...</td>\n",
       "      <td>NaN</td>\n",
       "      <td>NaN</td>\n",
       "      <td>NaN</td>\n",
       "      <td>Shahi, Maryam; Le, Vianna N.; Espejo, Paula Al...</td>\n",
       "      <td>NaN</td>\n",
       "      <td>NaN</td>\n",
       "      <td>The organic electrochemical transistor conundr...</td>\n",
       "      <td>...</td>\n",
       "      <td>NaN</td>\n",
       "      <td>Chemistry; Materials Science; Physics</td>\n",
       "      <td>NaN</td>\n",
       "      <td>NaN</td>\n",
       "      <td>NaN</td>\n",
       "      <td>NaN</td>\n",
       "      <td>NaN</td>\n",
       "      <td>2024-08-19</td>\n",
       "      <td>WOS:001086729600001</td>\n",
       "      <td>0</td>\n",
       "    </tr>\n",
       "    <tr>\n",
       "      <th>4</th>\n",
       "      <td>NaN</td>\n",
       "      <td>J</td>\n",
       "      <td>Dai, HJ; Yue, W</td>\n",
       "      <td>NaN</td>\n",
       "      <td>NaN</td>\n",
       "      <td>NaN</td>\n",
       "      <td>Dai, Haojie; Yue, Wan</td>\n",
       "      <td>NaN</td>\n",
       "      <td>NaN</td>\n",
       "      <td>n-Type Organic Mixed Ionic-Electronic Conducto...</td>\n",
       "      <td>...</td>\n",
       "      <td>NaN</td>\n",
       "      <td>Materials Science</td>\n",
       "      <td>NaN</td>\n",
       "      <td>NaN</td>\n",
       "      <td>NaN</td>\n",
       "      <td>NaN</td>\n",
       "      <td>NaN</td>\n",
       "      <td>2024-08-19</td>\n",
       "      <td>WOS:001193211400001</td>\n",
       "      <td>0</td>\n",
       "    </tr>\n",
       "    <tr>\n",
       "      <th>...</th>\n",
       "      <td>...</td>\n",
       "      <td>...</td>\n",
       "      <td>...</td>\n",
       "      <td>...</td>\n",
       "      <td>...</td>\n",
       "      <td>...</td>\n",
       "      <td>...</td>\n",
       "      <td>...</td>\n",
       "      <td>...</td>\n",
       "      <td>...</td>\n",
       "      <td>...</td>\n",
       "      <td>...</td>\n",
       "      <td>...</td>\n",
       "      <td>...</td>\n",
       "      <td>...</td>\n",
       "      <td>...</td>\n",
       "      <td>...</td>\n",
       "      <td>...</td>\n",
       "      <td>...</td>\n",
       "      <td>...</td>\n",
       "      <td>...</td>\n",
       "    </tr>\n",
       "    <tr>\n",
       "      <th>1598</th>\n",
       "      <td>NaN</td>\n",
       "      <td>J</td>\n",
       "      <td>Celander, M; Hahn, ME; Stegeman, JJ</td>\n",
       "      <td>NaN</td>\n",
       "      <td>NaN</td>\n",
       "      <td>NaN</td>\n",
       "      <td>Celander, M; Hahn, ME; Stegeman, JJ</td>\n",
       "      <td>NaN</td>\n",
       "      <td>NaN</td>\n",
       "      <td>Cytochromes P450 (CYP) in the Poeciliopsis luc...</td>\n",
       "      <td>...</td>\n",
       "      <td>NaN</td>\n",
       "      <td>Biochemistry &amp; Molecular Biology; Biophysics</td>\n",
       "      <td>NaN</td>\n",
       "      <td>NaN</td>\n",
       "      <td>NaN</td>\n",
       "      <td>NaN</td>\n",
       "      <td>NaN</td>\n",
       "      <td>2024-08-19</td>\n",
       "      <td>WOS:A1996UG91700015</td>\n",
       "      <td>0</td>\n",
       "    </tr>\n",
       "    <tr>\n",
       "      <th>1599</th>\n",
       "      <td>NaN</td>\n",
       "      <td>J</td>\n",
       "      <td>Johnson, WK; Stoupis, C; Torres, GM; Rosenberg...</td>\n",
       "      <td>NaN</td>\n",
       "      <td>NaN</td>\n",
       "      <td>NaN</td>\n",
       "      <td>Johnson, WK; Stoupis, C; Torres, GM; Rosenberg...</td>\n",
       "      <td>NaN</td>\n",
       "      <td>NaN</td>\n",
       "      <td>Superparamagnetic iron oxide (SPIO) as an oral...</td>\n",
       "      <td>...</td>\n",
       "      <td>NaN</td>\n",
       "      <td>Radiology, Nuclear Medicine &amp; Medical Imaging</td>\n",
       "      <td>NaN</td>\n",
       "      <td>NaN</td>\n",
       "      <td>NaN</td>\n",
       "      <td>NaN</td>\n",
       "      <td>NaN</td>\n",
       "      <td>2024-08-19</td>\n",
       "      <td>WOS:A1996TW43000005</td>\n",
       "      <td>0</td>\n",
       "    </tr>\n",
       "    <tr>\n",
       "      <th>1600</th>\n",
       "      <td>Omiecinski</td>\n",
       "      <td>J</td>\n",
       "      <td>FRIEDBERG, T; GRASSOW, MA; OESCH, F</td>\n",
       "      <td>NaN</td>\n",
       "      <td>NaN</td>\n",
       "      <td>NaN</td>\n",
       "      <td>FRIEDBERG, T; GRASSOW, MA; OESCH, F</td>\n",
       "      <td>NaN</td>\n",
       "      <td>NaN</td>\n",
       "      <td>SELECTIVE DETECTION OF MESSENGER-RNA FORMS ENC...</td>\n",
       "      <td>...</td>\n",
       "      <td>NaN</td>\n",
       "      <td>Biochemistry &amp; Molecular Biology; Biophysics</td>\n",
       "      <td>NaN</td>\n",
       "      <td>NaN</td>\n",
       "      <td>NaN</td>\n",
       "      <td>NaN</td>\n",
       "      <td>NaN</td>\n",
       "      <td>2024-08-19</td>\n",
       "      <td>WOS:A1990DD24100024</td>\n",
       "      <td>0</td>\n",
       "    </tr>\n",
       "    <tr>\n",
       "      <th>1601</th>\n",
       "      <td>NaN</td>\n",
       "      <td>J</td>\n",
       "      <td>SCHUETZ, EG; SCHUETZ, JD; MAY, B; GUZELIAN, PS</td>\n",
       "      <td>NaN</td>\n",
       "      <td>NaN</td>\n",
       "      <td>NaN</td>\n",
       "      <td>SCHUETZ, EG; SCHUETZ, JD; MAY, B; GUZELIAN, PS</td>\n",
       "      <td>NaN</td>\n",
       "      <td>NaN</td>\n",
       "      <td>REGULATION OF CYTOCHROME-P-450B/E AND P-450P G...</td>\n",
       "      <td>...</td>\n",
       "      <td>NaN</td>\n",
       "      <td>Biochemistry &amp; Molecular Biology</td>\n",
       "      <td>NaN</td>\n",
       "      <td>NaN</td>\n",
       "      <td>NaN</td>\n",
       "      <td>NaN</td>\n",
       "      <td>NaN</td>\n",
       "      <td>2024-08-19</td>\n",
       "      <td>WOS:A1990CH53300085</td>\n",
       "      <td>0</td>\n",
       "    </tr>\n",
       "    <tr>\n",
       "      <th>1602</th>\n",
       "      <td>NaN</td>\n",
       "      <td>J</td>\n",
       "      <td>SERGIENKO, VB; BABENKOV, NV; TERNOVOI, SK</td>\n",
       "      <td>NaN</td>\n",
       "      <td>NaN</td>\n",
       "      <td>NaN</td>\n",
       "      <td>SERGIENKO, VB; BABENKOV, NV; TERNOVOI, SK</td>\n",
       "      <td>NaN</td>\n",
       "      <td>NaN</td>\n",
       "      <td>ONE-PHOTON EMISSION COMPUTERIZED-TOMOGRAPHY IN...</td>\n",
       "      <td>...</td>\n",
       "      <td>NaN</td>\n",
       "      <td>General &amp; Internal Medicine</td>\n",
       "      <td>NaN</td>\n",
       "      <td>NaN</td>\n",
       "      <td>NaN</td>\n",
       "      <td>NaN</td>\n",
       "      <td>NaN</td>\n",
       "      <td>2024-08-19</td>\n",
       "      <td>WOS:A1986A951900020</td>\n",
       "      <td>0</td>\n",
       "    </tr>\n",
       "  </tbody>\n",
       "</table>\n",
       "<p>1603 rows × 73 columns</p>\n",
       "</div>"
      ],
      "text/plain": [
       "        response Publication Type  \\\n",
       "0            NaN                J   \n",
       "1            NaN                J   \n",
       "2            NaN                J   \n",
       "3            NaN                J   \n",
       "4            NaN                J   \n",
       "...          ...              ...   \n",
       "1598         NaN                J   \n",
       "1599         NaN                J   \n",
       "1600  Omiecinski                J   \n",
       "1601         NaN                J   \n",
       "1602         NaN                J   \n",
       "\n",
       "                                                Authors Book Authors  \\\n",
       "0     Kim, Y; Kim, G; Ding, BW; Jeong, D; Lee, I; Pa...          NaN   \n",
       "1                                           [Anonymous]          NaN   \n",
       "2     Wu, RH; Meli, D; Strzalka, J; Narayanan, S; Zh...          NaN   \n",
       "3     Shahi, M; Le, VN; Espejo, PA; Alsufyani, M; Ko...          NaN   \n",
       "4                                       Dai, HJ; Yue, W          NaN   \n",
       "...                                                 ...          ...   \n",
       "1598                Celander, M; Hahn, ME; Stegeman, JJ          NaN   \n",
       "1599  Johnson, WK; Stoupis, C; Torres, GM; Rosenberg...          NaN   \n",
       "1600                FRIEDBERG, T; GRASSOW, MA; OESCH, F          NaN   \n",
       "1601     SCHUETZ, EG; SCHUETZ, JD; MAY, B; GUZELIAN, PS          NaN   \n",
       "1602          SERGIENKO, VB; BABENKOV, NV; TERNOVOI, SK          NaN   \n",
       "\n",
       "     Book Editors Book Group Authors  \\\n",
       "0             NaN                NaN   \n",
       "1             NaN                NaN   \n",
       "2             NaN                NaN   \n",
       "3             NaN                NaN   \n",
       "4             NaN                NaN   \n",
       "...           ...                ...   \n",
       "1598          NaN                NaN   \n",
       "1599          NaN                NaN   \n",
       "1600          NaN                NaN   \n",
       "1601          NaN                NaN   \n",
       "1602          NaN                NaN   \n",
       "\n",
       "                                      Author Full Names  \\\n",
       "0     Kim, Youngseok; Kim, Gunwoo; Ding, Bowen; Jeon...   \n",
       "1                                           [Anonymous]   \n",
       "2     Wu, Ruiheng; Meli, Dilara; Strzalka, Joseph; N...   \n",
       "3     Shahi, Maryam; Le, Vianna N.; Espejo, Paula Al...   \n",
       "4                                 Dai, Haojie; Yue, Wan   \n",
       "...                                                 ...   \n",
       "1598                Celander, M; Hahn, ME; Stegeman, JJ   \n",
       "1599  Johnson, WK; Stoupis, C; Torres, GM; Rosenberg...   \n",
       "1600                FRIEDBERG, T; GRASSOW, MA; OESCH, F   \n",
       "1601     SCHUETZ, EG; SCHUETZ, JD; MAY, B; GUZELIAN, PS   \n",
       "1602          SERGIENKO, VB; BABENKOV, NV; TERNOVOI, SK   \n",
       "\n",
       "     Book Author Full Names  Group Authors  \\\n",
       "0                       NaN            NaN   \n",
       "1                       NaN            NaN   \n",
       "2                       NaN            NaN   \n",
       "3                       NaN            NaN   \n",
       "4                       NaN            NaN   \n",
       "...                     ...            ...   \n",
       "1598                    NaN            NaN   \n",
       "1599                    NaN            NaN   \n",
       "1600                    NaN            NaN   \n",
       "1601                    NaN            NaN   \n",
       "1602                    NaN            NaN   \n",
       "\n",
       "                                          Article Title  ...  \\\n",
       "0     High-Current-Density Organic Electrochemical D...  ...   \n",
       "1     Organic mixed ionic-electronic conductors prog...  ...   \n",
       "2     Bridging length scales in organic mixed ionic-...  ...   \n",
       "3     The organic electrochemical transistor conundr...  ...   \n",
       "4     n-Type Organic Mixed Ionic-Electronic Conducto...  ...   \n",
       "...                                                 ...  ...   \n",
       "1598  Cytochromes P450 (CYP) in the Poeciliopsis luc...  ...   \n",
       "1599  Superparamagnetic iron oxide (SPIO) as an oral...  ...   \n",
       "1600  SELECTIVE DETECTION OF MESSENGER-RNA FORMS ENC...  ...   \n",
       "1601  REGULATION OF CYTOCHROME-P-450B/E AND P-450P G...  ...   \n",
       "1602  ONE-PHOTON EMISSION COMPUTERIZED-TOMOGRAPHY IN...  ...   \n",
       "\n",
       "     Web of Science Index                                     Research Areas  \\\n",
       "0                     NaN  Chemistry; Science & Technology - Other Topics...   \n",
       "1                     NaN              Chemistry; Materials Science; Physics   \n",
       "2                     NaN              Chemistry; Materials Science; Physics   \n",
       "3                     NaN              Chemistry; Materials Science; Physics   \n",
       "4                     NaN                                  Materials Science   \n",
       "...                   ...                                                ...   \n",
       "1598                  NaN       Biochemistry & Molecular Biology; Biophysics   \n",
       "1599                  NaN      Radiology, Nuclear Medicine & Medical Imaging   \n",
       "1600                  NaN       Biochemistry & Molecular Biology; Biophysics   \n",
       "1601                  NaN                   Biochemistry & Molecular Biology   \n",
       "1602                  NaN                        General & Internal Medicine   \n",
       "\n",
       "      IDS Number  Pubmed Id Open Access Designations Highly Cited Status  \\\n",
       "0            NaN        NaN                      NaN                 NaN   \n",
       "1            NaN        NaN                      NaN                 NaN   \n",
       "2            NaN        NaN                      NaN                 NaN   \n",
       "3            NaN        NaN                      NaN                 NaN   \n",
       "4            NaN        NaN                      NaN                 NaN   \n",
       "...          ...        ...                      ...                 ...   \n",
       "1598         NaN        NaN                      NaN                 NaN   \n",
       "1599         NaN        NaN                      NaN                 NaN   \n",
       "1600         NaN        NaN                      NaN                 NaN   \n",
       "1601         NaN        NaN                      NaN                 NaN   \n",
       "1602         NaN        NaN                      NaN                 NaN   \n",
       "\n",
       "     Hot Paper Status Date of Export   UT (Unique WOS ID)  \\\n",
       "0                 NaN     2024-08-19  WOS:000740653700001   \n",
       "1                 NaN     2024-08-19  WOS:001250931500013   \n",
       "2                 NaN     2024-08-19  WOS:001173377100001   \n",
       "3                 NaN     2024-08-19  WOS:001086729600001   \n",
       "4                 NaN     2024-08-19  WOS:001193211400001   \n",
       "...               ...            ...                  ...   \n",
       "1598              NaN     2024-08-19  WOS:A1996UG91700015   \n",
       "1599              NaN     2024-08-19  WOS:A1996TW43000005   \n",
       "1600              NaN     2024-08-19  WOS:A1990DD24100024   \n",
       "1601              NaN     2024-08-19  WOS:A1990CH53300085   \n",
       "1602              NaN     2024-08-19  WOS:A1986A951900020   \n",
       "\n",
       "     Web of Science Record  \n",
       "0                        0  \n",
       "1                        0  \n",
       "2                        0  \n",
       "3                        0  \n",
       "4                        0  \n",
       "...                    ...  \n",
       "1598                     0  \n",
       "1599                     0  \n",
       "1600                     0  \n",
       "1601                     0  \n",
       "1602                     0  \n",
       "\n",
       "[1603 rows x 73 columns]"
      ]
     },
     "execution_count": 71,
     "metadata": {},
     "output_type": "execute_result"
    }
   ],
   "source": [
    "result"
   ]
  },
  {
   "cell_type": "code",
   "execution_count": 69,
   "metadata": {},
   "outputs": [
    {
     "name": "stderr",
     "output_type": "stream",
     "text": [
      "C:\\Users\\thaynara220042\\AppData\\Local\\Temp\\ipykernel_26804\\4170896890.py:9: FutureWarning: The behavior of DataFrame concatenation with empty or all-NA entries is deprecated. In a future version, this will no longer exclude empty or all-NA columns when determining the result dtypes. To retain the old behavior, exclude the relevant entries before the concat operation.\n",
      "  polímeros_encontrados = pd.concat([new_row_df, polímeros_encontrados], ignore_index=True)\n"
     ]
    }
   ],
   "source": [
    "polímeros_encontrados = pd.DataFrame(columns=['Nome'] + result.columns.tolist())\n",
    "\n",
    "for index, row in result.iterrows():\n",
    "    for token in set(str(row['response']).replace('\\n', ';').split(';')):\n",
    "            polimero = token.strip().replace('/', \"-\").replace(\":\", \"-\")\n",
    "            new_row = row.to_dict() \n",
    "            new_row['Nome'] = polimero\n",
    "            new_row_df = pd.DataFrame([new_row])\n",
    "            polímeros_encontrados = pd.concat([new_row_df, polímeros_encontrados], ignore_index=True)"
   ]
  },
  {
   "cell_type": "code",
   "execution_count": 73,
   "metadata": {},
   "outputs": [],
   "source": [
    "for pattern, replacement in replacements.items():\n",
    "    polímeros_encontrados['Nome'] = polímeros_encontrados['Nome'].str.replace(pattern, replacement, regex=True, case=False)"
   ]
  },
  {
   "cell_type": "code",
   "execution_count": 87,
   "metadata": {},
   "outputs": [
    {
     "name": "stdout",
     "output_type": "stream",
     "text": [
      "PEO | Citações: 48 \n",
      " A series of semiconducting small molecules with bithiophene or bis-3,4-ethylenedioxythiophene cores are designed and synthesized. The molecules display stable reversible oxidation in solution and can be reversibly oxidized in the solid state with aqueous electrolyte when functionalized with polar triethylene glycol side chains. Evidence of promising ion injection properties observed with cyclic voltammetry is complemented by strong electrochromism probed by spectroelectrochemistry. Blending these molecules with high molecular weight polyethylene oxide (PEO) is found to improve both ion injection and thin film stability. The molecules and their corresponding PEO blends are investigated as active layers in organic electrochemical transistors (OECTs). For the most promising molecule:polymer blend (P4E4:PEO), p-type accumulation mode OECTs with mu A drain currents, mu S peak transconductances, and a mu C* figure-of-merit value of 0.81 F V-1 cm(-1) s(-1) are obtained. \n",
      "\n",
      "PEO | Citações: 0 \n",
      " With the vigorous development of organic materials, organic electrochemical transistors (OECTs) have attracted considerable attention in the field of organic electronics owing to their high transconductances, low operating voltages (< 1 V), and excellent biocompatibility. However, the absence of stretchable semiconductor films for OECTs, where mechanical deformation occurs, induces a consequent degradation in electrical performance. Here, we report the fabrication of high-performance stretchable semiconductor films by incorporating a blend organic semiconductor layer, which is composed of poly(3-hexylthiophene) (P3HT) and polyethylene oxide (PEO), and the development of fully flexible OECTs. To address this issue, the stretchable semiconductor films are assembled into a freestanding film by the air/water interface assembly technique. Furthermore, adjusting the number of stacked layers of the P3HT/PEO film allows controllable OECT output without compromising the on/off current ratio. Benefiting from the elastic blend semiconductor films, the corresponding stretchable OECTs exhibit robust mechanical endurance and maintain their reliable electrical characteristics when subjected to a 40% strain. Besides, artificial synapses based on these OECTs showed good stability upon 30% strain. This work paves the way for a universal design strategy to achieve high-performance stretchable OECT devices and could be extended to other flexible/stretchable electronics. \n",
      "\n",
      "PEO | Citações: 0 \n",
      " The electrolyte serves as a key component in organic electrochemical transistors (OECTs) and allows for the modulation of the conductivity of the polymer channel by applying a voltage to the gate electrode. Different from liquid electrolytes in OECTs, the solid electrolyte is beneficial for the integration in the circuit and shows great stability. And considering the fabrication of the device, developing a new solution-processed solid electrolyte for OECTs is a critical area of research. In this work, the organic-inorganic perovskite is used as the electrolyte to fabricate polymer electrochemical transistors due to its solid-phase ion migration kinetics. To realize this goal, a separate polyethylene oxide (PEO) layer on top of the poly[2-methoxy-5-(2-ethylhexyloxy)-1,4-phenylenevinylene] (MEH-PPV) layer plays a crucial role since it can affect the electric field and the ion motion. More importantly, based on this device structure, both a polymer light-emitting electrochemical transistor and the polymer electrochemical phototransistor are realized. The solution-processed solid organic-inorganic perovskite electrolytes can enable the development of integration in OECTs, which have significant potential for multifunctional applications. \n",
      "\n",
      "PEO | Citações: 19 \n",
      " A new polymer electrolyte system, polyethylene oxide (PEO), complexed with a glass (15NaF-15Na(2)O-70B(2)O(3)) has been investigated. The solvation of glass with PEO was confirmed by IR and optical absorption studies. The transport number measurements showed that the electrolyte was a mixed (ionic + electronic) conductor, the charge transport being mainly ionic (t(ion) approximate to 0.93). Using this electrolyte, an electrochemical cell with configuration Na/(PEO + glass)/(I-2 + C + electrolyte) has been fabricated and its discharge characteristics studied (open circuit voltage (OCV) = 2.12 V and short circuit current (SCC) = 100 mu A). A number of cell parameters evaluated are reported in this paper. \n",
      "\n",
      "PEO | Citações: 15 \n",
      " Nano-composites of a polymer electrolyte PEO:NH4I (80:20) have been prepared by dispersing nano-size ZnS crystallites in it. The measured band gap of dispersed ZnS is similar to3.9 eV and its particle size as estimated from the XRD linewidths is similar to11 nm. Detailed I-V and polarisation studies show that the composite polymer film is a mixed (ionic+electronic) conductor and that the dispersoid ZnS is n-type. The total electrical conductivity Vs composition studies show two peaks at the ZnS concentrations of 4 and 10wt% which can be qualitatively explained on the basis of two-percolation threshold model. \n",
      "\n",
      "PEO | Citações: 26 \n",
      " Poly(ethylene oxide) (PEO) based solid polymer electrolyte with NaYF4 salt has been prepared and investigated by IR, optical absorption and transport number measurements. The material is found to be a mixed (ionic + electronic) conductor. An electrochemical cell with the configuration Na/PEO + NaYF4/(I2 + C + electrolyte) has been prepared and studied its characteristics for which the open circuit voltage (OCV) and short circuit current (SCC) are 2.4 V and 8 muA respectively. A number of cell parameters evaluated are also reported. \n",
      "\n",
      "PEO | Citações: 13 \n",
      " Mixed ionic-electronic conductors (MIEC) are of growing interest for fuel cells, batteries and sensors. Here, by exploiting the unique properties of Li4C60 2D fulleride and poly(ethylene oxide) (PEO), we demonstrate the feasibility of a MIEC where the nature of transport can be tuned from ionic, to mixed, to almost entirely electronic, simply by changing the weight ratio of the two basic components. By coupling Li-7 MAS-NMR, electrochemical impedance spectroscopy and open circuit voltage (OCV) measurements of a Li/composite/LiFePO4 cell we demonstrate that: i) a fraction of Li+ ions is extracted by Li4C60 and confined into PEO amorphous strands similarly to what happens in PEO-salt systems; ii) a transition between prevalently ionic and electronic conductivity takes place at 33 wt% Li4C60. This new class of MIEC is very promising for the design of both chemically and electrochemically stable semi-cells and interfaces which can be employed in batteries and supercapacitors. (C) 2016 Elsevier Ltd. All rights reserved. \n",
      "\n",
      "PEO | Citações: 18 \n",
      " The intercalation of poly(ethylene oxide) (PEO), into molybdenum disulfide, like that of other electron pair donors, leads to mixed ionic-electronic conductors. At room temperature, intercalates show electrical and lithium-ion conductivities better than MoS2 and bulk PEO composites, respectively. However, these products are known to be sensitive to temperature; indeed, in the range 80-100 degreesC an irreversible decrease of the electrical conductivity is observed. In order to investigate these features, the thermal behavior of a series of polyethers of different molecular weights (poly(ethylene glycol) (Mw 3400) and PEO with Mw in the range 10(4)-4 x 10(6), pure and intercalated in MoS2, (Li-x(MoS2)(polyether)(y) with xsimilar to0.1 and y=1.1-1.5), was comparatively analyzed. Furthermore, the effect of thermal treatment of the sample on the electrical conductivity was studied for one of the intercalated products. Results indicate that irreversible changes, detected by both loss of weight and a significant conductivity lowering, are occurring in the range from about 100 degreesC to a temperature near to the decomposition point of the organic phase at about 350 degreesC. (C) 2003 Elsevier Science Ltd. All rights reserved. \n",
      "\n",
      "PEO | Citações: 7 \n",
      " Many applications exploit the interplay between ions and electrons and require materials that can effectively support the storage and transport of both carriers. Organic Mixed Ionic Electronic Conductors (OMIECs) offer not only mixed conductivity but also ease of processability and property tunability, making them promising candidates for such applications. One approach to achieve mixed conductivity is blending a semiconducting polymer that conducts electrons with a polymer electrolyte that conducts ions. This system is synthetically simple and we hypothesized that it offers control of ionic/electronic transport and coupling through phase separation and film morphology. To realize this we blended the common semiconducting polythiophene poly(3-hexylthiophene-2,5-diyl) (P3HT) with the common polymer electrolyte poly(ethylene oxide) (PEO) and studied the effect of blend composition and PEO molecular weight (Mw) on mixed conductivity and film morphology. Spectroelectrochemistry and electrochemical quartz crystal microbalance measurements reveal the electrochemical properties, while X-ray diffraction patterns and electron microscopy images of contrast agent-stained films disclose the blend morphology. By correlating the structure and properties we find that mixed conductivity is optimal at a sweet-spot composition that contains sufficient PEO to support ionic conductivity and sufficient P3HT to generate high interfacial area. We also find that high Mw PEO supports phase separation and connectivity of P3HT domains effectively providing good electronic conductivity, but suppresses the P3HT:PEO interfacial area required for the coupling between the ions and holes. Good dispersion of PEO and coupling with P3HT is better supported by low Mw PEO. Overall, we show that the morphology tunability attained by polymer blends can be directed towards optimal mixed conductivity suggesting that blends of semiconductors and electrolyte polymers are a promising approach towards high performance mixed conductivity systems. \n",
      "\n",
      "PEO | Citações: 0 \n",
      " In the domain of organic mixed ionic-electronic conductors (OMIECs), simultaneous transport and coupling of ionic and electronic charges are crucial for the function of electrochemical devices in organic electronics. Understanding conduction mechanisms and chemical reactions in operational devices is pivotal for performance enhancement and is necessary for the informed and systematic development of more promising materials. Surface-enhanced Raman spectroscopy (SERS) is a potent tool for monitoring electrochemical evolution and dynamic doping in operational devices, offering enhanced sensitivity to subtle spectral changes. We demonstrate the utility of SERS for in situ tracking of doping in OMIECs in an organic light-emitting electrochemical cell (LEC) containing a conjugated polymer (poly[2-methoxy-5-(2-ethylhexyloxy)-1,4-phenylenevinylene]; MEH-PPV), a molecular anion (lithium triflate), and an electrolyte network (poly(ethylene oxide); PEO). SERS enhancement is achieved via an interleaved layer of gold particles formed by spontaneous breakup of a deposited thin gold film. The results successfully highlight the ability of SERS to unveil time-resolved MEH-PPV doping and polaron formation, elucidating the effects of triflate ion transfer in the operating device and validating the electrochemical doping model in LECs. \n",
      "\n"
     ]
    }
   ],
   "source": [
    "for index, row in polímeros_encontrados[polímeros_encontrados['Nome'] == 'PEO'].iterrows():\n",
    "    print(row['Nome'],\"| Citações:\", row['Times Cited, All Databases'] , '\\n', row['Abstract'], '\\n')"
   ]
  },
  {
   "cell_type": "code",
   "execution_count": 83,
   "metadata": {},
   "outputs": [
    {
     "data": {
      "image/png": "[encoded data removed]",
      "text/plain": [
       "<Figure size 1200x600 with 1 Axes>"
      ]
     },
     "metadata": {},
     "output_type": "display_data"
    }
   ],
   "source": [
    "import seaborn as sns\n",
    "import matplotlib.pyplot as plt\n",
    "import pandas as pd\n",
    "\n",
    "dfs = []\n",
    "\n",
    "\n",
    "for polymer in corpus.value_counts().head(5).index:\n",
    "    publication_counts = polímeros_encontrados[polímeros_encontrados['Nome'] == polymer]['Publication Year'].value_counts()\n",
    "    publication_counts = publication_counts.sort_index().reset_index()\n",
    "    publication_counts.columns = ['Year', 'Count']\n",
    "    publication_counts['Polymer'] = polymer\n",
    "    dfs.append(publication_counts)\n",
    "\n",
    "\n",
    "combined_df = pd.concat(dfs)\n",
    "\n",
    "plt.figure(figsize=(12, 6))\n",
    "sns.lineplot(data=combined_df, x='Year', y='Count', hue='Polymer', marker='o')\n",
    "plt.title('Frequência de Publicação por Ano para os 5 Polímeros Mais Frequentes')\n",
    "plt.xlabel('Ano')\n",
    "plt.ylabel('Número de Publicações')\n",
    "plt.legend(title='Polímero')\n",
    "plt.grid(True)\n",
    "\n",
    "plt.xlim(left=2010)\n",
    "\n",
    "plt.savefig('gráficos/llama3-70B-OMIEC190824_freq_publicação_polimero.png')\n",
    "\n",
    "plt.show()\n"
   ]
  },
  {
   "cell_type": "markdown",
   "metadata": {},
   "source": [
    "### Playground"
   ]
  },
  {
   "cell_type": "code",
   "execution_count": 86,
   "metadata": {},
   "outputs": [
    {
     "ename": "KeyError",
     "evalue": "'Nome'",
     "output_type": "error",
     "traceback": [
      "\u001b[1;31m---------------------------------------------------------------------------\u001b[0m",
      "\u001b[1;31mKeyError\u001b[0m                                  Traceback (most recent call last)",
      "File \u001b[1;32mc:\\Users\\thaynara220042\\.conda\\envs\\trabFinal\\lib\\site-packages\\pandas\\core\\indexes\\base.py:3805\u001b[0m, in \u001b[0;36mIndex.get_loc\u001b[1;34m(self, key)\u001b[0m\n\u001b[0;32m   3804\u001b[0m \u001b[38;5;28;01mtry\u001b[39;00m:\n\u001b[1;32m-> 3805\u001b[0m     \u001b[38;5;28;01mreturn\u001b[39;00m \u001b[38;5;28;43mself\u001b[39;49m\u001b[38;5;241;43m.\u001b[39;49m\u001b[43m_engine\u001b[49m\u001b[38;5;241;43m.\u001b[39;49m\u001b[43mget_loc\u001b[49m\u001b[43m(\u001b[49m\u001b[43mcasted_key\u001b[49m\u001b[43m)\u001b[49m\n\u001b[0;32m   3806\u001b[0m \u001b[38;5;28;01mexcept\u001b[39;00m \u001b[38;5;167;01mKeyError\u001b[39;00m \u001b[38;5;28;01mas\u001b[39;00m err:\n",
      "File \u001b[1;32mindex.pyx:167\u001b[0m, in \u001b[0;36mpandas._libs.index.IndexEngine.get_loc\u001b[1;34m()\u001b[0m\n",
      "File \u001b[1;32mindex.pyx:196\u001b[0m, in \u001b[0;36mpandas._libs.index.IndexEngine.get_loc\u001b[1;34m()\u001b[0m\n",
      "File \u001b[1;32mpandas\\\\_libs\\\\hashtable_class_helper.pxi:7081\u001b[0m, in \u001b[0;36mpandas._libs.hashtable.PyObjectHashTable.get_item\u001b[1;34m()\u001b[0m\n",
      "File \u001b[1;32mpandas\\\\_libs\\\\hashtable_class_helper.pxi:7089\u001b[0m, in \u001b[0;36mpandas._libs.hashtable.PyObjectHashTable.get_item\u001b[1;34m()\u001b[0m\n",
      "\u001b[1;31mKeyError\u001b[0m: 'Nome'",
      "\nThe above exception was the direct cause of the following exception:\n",
      "\u001b[1;31mKeyError\u001b[0m                                  Traceback (most recent call last)",
      "Cell \u001b[1;32mIn[86], line 2\u001b[0m\n\u001b[0;32m      1\u001b[0m \u001b[38;5;28;01mfor\u001b[39;00m index, row \u001b[38;5;129;01min\u001b[39;00m result\u001b[38;5;241m.\u001b[39miterrows():    \n\u001b[1;32m----> 2\u001b[0m     \u001b[38;5;28;01mif\u001b[39;00m \u001b[38;5;129;01mnot\u001b[39;00m \u001b[38;5;28misinstance\u001b[39m(row[\u001b[38;5;124m'\u001b[39m\u001b[38;5;124mresponse\u001b[39m\u001b[38;5;124m'\u001b[39m], \u001b[38;5;28mfloat\u001b[39m) \u001b[38;5;129;01mand\u001b[39;00m  \u001b[38;5;124m'\u001b[39m\u001b[38;5;124mPEDOT\u001b[39m\u001b[38;5;124m'\u001b[39m \u001b[38;5;129;01min\u001b[39;00m \u001b[43mrow\u001b[49m\u001b[43m[\u001b[49m\u001b[38;5;124;43m'\u001b[39;49m\u001b[38;5;124;43mNome\u001b[39;49m\u001b[38;5;124;43m'\u001b[39;49m\u001b[43m]\u001b[49m:\n\u001b[0;32m      3\u001b[0m         \u001b[38;5;28mprint\u001b[39m(row[\u001b[38;5;124m'\u001b[39m\u001b[38;5;124mresponse\u001b[39m\u001b[38;5;124m'\u001b[39m], \u001b[38;5;124m'\u001b[39m\u001b[38;5;130;01m\\n\u001b[39;00m\u001b[38;5;124m'\u001b[39m, row[\u001b[38;5;124m'\u001b[39m\u001b[38;5;124mAbstract\u001b[39m\u001b[38;5;124m'\u001b[39m], \u001b[38;5;124m'\u001b[39m\u001b[38;5;130;01m\\n\u001b[39;00m\u001b[38;5;124m'\u001b[39m )\n",
      "File \u001b[1;32mc:\\Users\\thaynara220042\\.conda\\envs\\trabFinal\\lib\\site-packages\\pandas\\core\\series.py:1121\u001b[0m, in \u001b[0;36mSeries.__getitem__\u001b[1;34m(self, key)\u001b[0m\n\u001b[0;32m   1118\u001b[0m     \u001b[38;5;28;01mreturn\u001b[39;00m \u001b[38;5;28mself\u001b[39m\u001b[38;5;241m.\u001b[39m_values[key]\n\u001b[0;32m   1120\u001b[0m \u001b[38;5;28;01melif\u001b[39;00m key_is_scalar:\n\u001b[1;32m-> 1121\u001b[0m     \u001b[38;5;28;01mreturn\u001b[39;00m \u001b[38;5;28;43mself\u001b[39;49m\u001b[38;5;241;43m.\u001b[39;49m\u001b[43m_get_value\u001b[49m\u001b[43m(\u001b[49m\u001b[43mkey\u001b[49m\u001b[43m)\u001b[49m\n\u001b[0;32m   1123\u001b[0m \u001b[38;5;66;03m# Convert generator to list before going through hashable part\u001b[39;00m\n\u001b[0;32m   1124\u001b[0m \u001b[38;5;66;03m# (We will iterate through the generator there to check for slices)\u001b[39;00m\n\u001b[0;32m   1125\u001b[0m \u001b[38;5;28;01mif\u001b[39;00m is_iterator(key):\n",
      "File \u001b[1;32mc:\\Users\\thaynara220042\\.conda\\envs\\trabFinal\\lib\\site-packages\\pandas\\core\\series.py:1237\u001b[0m, in \u001b[0;36mSeries._get_value\u001b[1;34m(self, label, takeable)\u001b[0m\n\u001b[0;32m   1234\u001b[0m     \u001b[38;5;28;01mreturn\u001b[39;00m \u001b[38;5;28mself\u001b[39m\u001b[38;5;241m.\u001b[39m_values[label]\n\u001b[0;32m   1236\u001b[0m \u001b[38;5;66;03m# Similar to Index.get_value, but we do not fall back to positional\u001b[39;00m\n\u001b[1;32m-> 1237\u001b[0m loc \u001b[38;5;241m=\u001b[39m \u001b[38;5;28;43mself\u001b[39;49m\u001b[38;5;241;43m.\u001b[39;49m\u001b[43mindex\u001b[49m\u001b[38;5;241;43m.\u001b[39;49m\u001b[43mget_loc\u001b[49m\u001b[43m(\u001b[49m\u001b[43mlabel\u001b[49m\u001b[43m)\u001b[49m\n\u001b[0;32m   1239\u001b[0m \u001b[38;5;28;01mif\u001b[39;00m is_integer(loc):\n\u001b[0;32m   1240\u001b[0m     \u001b[38;5;28;01mreturn\u001b[39;00m \u001b[38;5;28mself\u001b[39m\u001b[38;5;241m.\u001b[39m_values[loc]\n",
      "File \u001b[1;32mc:\\Users\\thaynara220042\\.conda\\envs\\trabFinal\\lib\\site-packages\\pandas\\core\\indexes\\base.py:3812\u001b[0m, in \u001b[0;36mIndex.get_loc\u001b[1;34m(self, key)\u001b[0m\n\u001b[0;32m   3807\u001b[0m     \u001b[38;5;28;01mif\u001b[39;00m \u001b[38;5;28misinstance\u001b[39m(casted_key, \u001b[38;5;28mslice\u001b[39m) \u001b[38;5;129;01mor\u001b[39;00m (\n\u001b[0;32m   3808\u001b[0m         \u001b[38;5;28misinstance\u001b[39m(casted_key, abc\u001b[38;5;241m.\u001b[39mIterable)\n\u001b[0;32m   3809\u001b[0m         \u001b[38;5;129;01mand\u001b[39;00m \u001b[38;5;28many\u001b[39m(\u001b[38;5;28misinstance\u001b[39m(x, \u001b[38;5;28mslice\u001b[39m) \u001b[38;5;28;01mfor\u001b[39;00m x \u001b[38;5;129;01min\u001b[39;00m casted_key)\n\u001b[0;32m   3810\u001b[0m     ):\n\u001b[0;32m   3811\u001b[0m         \u001b[38;5;28;01mraise\u001b[39;00m InvalidIndexError(key)\n\u001b[1;32m-> 3812\u001b[0m     \u001b[38;5;28;01mraise\u001b[39;00m \u001b[38;5;167;01mKeyError\u001b[39;00m(key) \u001b[38;5;28;01mfrom\u001b[39;00m \u001b[38;5;21;01merr\u001b[39;00m\n\u001b[0;32m   3813\u001b[0m \u001b[38;5;28;01mexcept\u001b[39;00m \u001b[38;5;167;01mTypeError\u001b[39;00m:\n\u001b[0;32m   3814\u001b[0m     \u001b[38;5;66;03m# If we have a listlike key, _check_indexing_error will raise\u001b[39;00m\n\u001b[0;32m   3815\u001b[0m     \u001b[38;5;66;03m#  InvalidIndexError. Otherwise we fall through and re-raise\u001b[39;00m\n\u001b[0;32m   3816\u001b[0m     \u001b[38;5;66;03m#  the TypeError.\u001b[39;00m\n\u001b[0;32m   3817\u001b[0m     \u001b[38;5;28mself\u001b[39m\u001b[38;5;241m.\u001b[39m_check_indexing_error(key)\n",
      "\u001b[1;31mKeyError\u001b[0m: 'Nome'"
     ]
    }
   ],
   "source": [
    "for index, row in result.iterrows():    \n",
    "    if not isinstance(row['response'], float) and  'PEDOT' in row['Nome']:\n",
    "        print(row['response'], '\\n', row['Abstract'], '\\n' )"
   ]
  },
  {
   "cell_type": "markdown",
   "metadata": {},
   "source": [
    "Tendência de publicações por ano plotado com plotly"
   ]
  },
  {
   "cell_type": "code",
   "execution_count": 17,
   "metadata": {},
   "outputs": [
    {
     "data": {
      "application/vnd.plotly.v1+json": {
       "config": {
        "plotlyServerURL": "https://plot.ly"
       },
       "data": [
        {
         "alignmentgroup": "True",
         "hovertemplate": "Publication Year=%{x}<br>Number of Publications=%{y}<br>color=%{marker.color}<extra></extra>",
         "legendgroup": "",
         "marker": {
          "color": [
           1990,
           1991,
           1992,
           1993,
           1994,
           1995,
           1996,
           1997,
           1998,
           1999,
           2000,
           2001,
           2002,
           2003,
           2004,
           2005,
           2006,
           2007,
           2008,
           2009,
           2010,
           2011,
           2012,
           2013,
           2014,
           2015,
           2016,
           2017,
           2018,
           2019,
           2020,
           2021,
           2022,
           2023,
           2024
          ],
          "coloraxis": "coloraxis",
          "pattern": {
           "shape": ""
          }
         },
         "name": "",
         "offsetgroup": "",
         "orientation": "v",
         "showlegend": false,
         "textposition": "auto",
         "type": "bar",
         "x": [
          1990,
          1991,
          1992,
          1993,
          1994,
          1995,
          1996,
          1997,
          1998,
          1999,
          2000,
          2001,
          2002,
          2003,
          2004,
          2005,
          2006,
          2007,
          2008,
          2009,
          2010,
          2011,
          2012,
          2013,
          2014,
          2015,
          2016,
          2017,
          2018,
          2019,
          2020,
          2021,
          2022,
          2023,
          2024
         ],
         "xaxis": "x",
         "y": [
          3,
          1,
          8,
          2,
          4,
          7,
          12,
          11,
          9,
          13,
          7,
          13,
          7,
          13,
          11,
          7,
          9,
          5,
          8,
          14,
          9,
          15,
          17,
          19,
          27,
          19,
          27,
          23,
          21,
          29,
          35,
          37,
          57,
          68,
          69
         ],
         "yaxis": "y"
        }
       ],
       "layout": {
        "barmode": "relative",
        "coloraxis": {
         "colorbar": {
          "title": {
           "text": "color"
          }
         },
         "colorscale": [
          [
           0,
           "#440154"
          ],
          [
           0.1111111111111111,
           "#482878"
          ],
          [
           0.2222222222222222,
           "#3e4989"
          ],
          [
           0.3333333333333333,
           "#31688e"
          ],
          [
           0.4444444444444444,
           "#26828e"
          ],
          [
           0.5555555555555556,
           "#1f9e89"
          ],
          [
           0.6666666666666666,
           "#35b779"
          ],
          [
           0.7777777777777778,
           "#6ece58"
          ],
          [
           0.8888888888888888,
           "#b5de2b"
          ],
          [
           1,
           "#fde725"
          ]
         ],
         "showscale": false
        },
        "legend": {
         "tracegroupgap": 0
        },
        "template": {
         "data": {
          "bar": [
           {
            "error_x": {
             "color": "#2a3f5f"
            },
            "error_y": {
             "color": "#2a3f5f"
            },
            "marker": {
             "line": {
              "color": "#E5ECF6",
              "width": 0.5
             },
             "pattern": {
              "fillmode": "overlay",
              "size": 10,
              "solidity": 0.2
             }
            },
            "type": "bar"
           }
          ],
          "barpolar": [
           {
            "marker": {
             "line": {
              "color": "#E5ECF6",
              "width": 0.5
             },
             "pattern": {
              "fillmode": "overlay",
              "size": 10,
              "solidity": 0.2
             }
            },
            "type": "barpolar"
           }
          ],
          "carpet": [
           {
            "aaxis": {
             "endlinecolor": "#2a3f5f",
             "gridcolor": "white",
             "linecolor": "white",
             "minorgridcolor": "white",
             "startlinecolor": "#2a3f5f"
            },
            "baxis": {
             "endlinecolor": "#2a3f5f",
             "gridcolor": "white",
             "linecolor": "white",
             "minorgridcolor": "white",
             "startlinecolor": "#2a3f5f"
            },
            "type": "carpet"
           }
          ],
          "choropleth": [
           {
            "colorbar": {
             "outlinewidth": 0,
             "ticks": ""
            },
            "type": "choropleth"
           }
          ],
          "contour": [
           {
            "colorbar": {
             "outlinewidth": 0,
             "ticks": ""
            },
            "colorscale": [
             [
              0,
              "#0d0887"
             ],
             [
              0.1111111111111111,
              "#46039f"
             ],
             [
              0.2222222222222222,
              "#7201a8"
             ],
             [
              0.3333333333333333,
              "#9c179e"
             ],
             [
              0.4444444444444444,
              "#bd3786"
             ],
             [
              0.5555555555555556,
              "#d8576b"
             ],
             [
              0.6666666666666666,
              "#ed7953"
             ],
             [
              0.7777777777777778,
              "#fb9f3a"
             ],
             [
              0.8888888888888888,
              "#fdca26"
             ],
             [
              1,
              "#f0f921"
             ]
            ],
            "type": "contour"
           }
          ],
          "contourcarpet": [
           {
            "colorbar": {
             "outlinewidth": 0,
             "ticks": ""
            },
            "type": "contourcarpet"
           }
          ],
          "heatmap": [
           {
            "colorbar": {
             "outlinewidth": 0,
             "ticks": ""
            },
            "colorscale": [
             [
              0,
              "#0d0887"
             ],
             [
              0.1111111111111111,
              "#46039f"
             ],
             [
              0.2222222222222222,
              "#7201a8"
             ],
             [
              0.3333333333333333,
              "#9c179e"
             ],
             [
              0.4444444444444444,
              "#bd3786"
             ],
             [
              0.5555555555555556,
              "#d8576b"
             ],
             [
              0.6666666666666666,
              "#ed7953"
             ],
             [
              0.7777777777777778,
              "#fb9f3a"
             ],
             [
              0.8888888888888888,
              "#fdca26"
             ],
             [
              1,
              "#f0f921"
             ]
            ],
            "type": "heatmap"
           }
          ],
          "heatmapgl": [
           {
            "colorbar": {
             "outlinewidth": 0,
             "ticks": ""
            },
            "colorscale": [
             [
              0,
              "#0d0887"
             ],
             [
              0.1111111111111111,
              "#46039f"
             ],
             [
              0.2222222222222222,
              "#7201a8"
             ],
             [
              0.3333333333333333,
              "#9c179e"
             ],
             [
              0.4444444444444444,
              "#bd3786"
             ],
             [
              0.5555555555555556,
              "#d8576b"
             ],
             [
              0.6666666666666666,
              "#ed7953"
             ],
             [
              0.7777777777777778,
              "#fb9f3a"
             ],
             [
              0.8888888888888888,
              "#fdca26"
             ],
             [
              1,
              "#f0f921"
             ]
            ],
            "type": "heatmapgl"
           }
          ],
          "histogram": [
           {
            "marker": {
             "pattern": {
              "fillmode": "overlay",
              "size": 10,
              "solidity": 0.2
             }
            },
            "type": "histogram"
           }
          ],
          "histogram2d": [
           {
            "colorbar": {
             "outlinewidth": 0,
             "ticks": ""
            },
            "colorscale": [
             [
              0,
              "#0d0887"
             ],
             [
              0.1111111111111111,
              "#46039f"
             ],
             [
              0.2222222222222222,
              "#7201a8"
             ],
             [
              0.3333333333333333,
              "#9c179e"
             ],
             [
              0.4444444444444444,
              "#bd3786"
             ],
             [
              0.5555555555555556,
              "#d8576b"
             ],
             [
              0.6666666666666666,
              "#ed7953"
             ],
             [
              0.7777777777777778,
              "#fb9f3a"
             ],
             [
              0.8888888888888888,
              "#fdca26"
             ],
             [
              1,
              "#f0f921"
             ]
            ],
            "type": "histogram2d"
           }
          ],
          "histogram2dcontour": [
           {
            "colorbar": {
             "outlinewidth": 0,
             "ticks": ""
            },
            "colorscale": [
             [
              0,
              "#0d0887"
             ],
             [
              0.1111111111111111,
              "#46039f"
             ],
             [
              0.2222222222222222,
              "#7201a8"
             ],
             [
              0.3333333333333333,
              "#9c179e"
             ],
             [
              0.4444444444444444,
              "#bd3786"
             ],
             [
              0.5555555555555556,
              "#d8576b"
             ],
             [
              0.6666666666666666,
              "#ed7953"
             ],
             [
              0.7777777777777778,
              "#fb9f3a"
             ],
             [
              0.8888888888888888,
              "#fdca26"
             ],
             [
              1,
              "#f0f921"
             ]
            ],
            "type": "histogram2dcontour"
           }
          ],
          "mesh3d": [
           {
            "colorbar": {
             "outlinewidth": 0,
             "ticks": ""
            },
            "type": "mesh3d"
           }
          ],
          "parcoords": [
           {
            "line": {
             "colorbar": {
              "outlinewidth": 0,
              "ticks": ""
             }
            },
            "type": "parcoords"
           }
          ],
          "pie": [
           {
            "automargin": true,
            "type": "pie"
           }
          ],
          "scatter": [
           {
            "fillpattern": {
             "fillmode": "overlay",
             "size": 10,
             "solidity": 0.2
            },
            "type": "scatter"
           }
          ],
          "scatter3d": [
           {
            "line": {
             "colorbar": {
              "outlinewidth": 0,
              "ticks": ""
             }
            },
            "marker": {
             "colorbar": {
              "outlinewidth": 0,
              "ticks": ""
             }
            },
            "type": "scatter3d"
           }
          ],
          "scattercarpet": [
           {
            "marker": {
             "colorbar": {
              "outlinewidth": 0,
              "ticks": ""
             }
            },
            "type": "scattercarpet"
           }
          ],
          "scattergeo": [
           {
            "marker": {
             "colorbar": {
              "outlinewidth": 0,
              "ticks": ""
             }
            },
            "type": "scattergeo"
           }
          ],
          "scattergl": [
           {
            "marker": {
             "colorbar": {
              "outlinewidth": 0,
              "ticks": ""
             }
            },
            "type": "scattergl"
           }
          ],
          "scattermapbox": [
           {
            "marker": {
             "colorbar": {
              "outlinewidth": 0,
              "ticks": ""
             }
            },
            "type": "scattermapbox"
           }
          ],
          "scatterpolar": [
           {
            "marker": {
             "colorbar": {
              "outlinewidth": 0,
              "ticks": ""
             }
            },
            "type": "scatterpolar"
           }
          ],
          "scatterpolargl": [
           {
            "marker": {
             "colorbar": {
              "outlinewidth": 0,
              "ticks": ""
             }
            },
            "type": "scatterpolargl"
           }
          ],
          "scatterternary": [
           {
            "marker": {
             "colorbar": {
              "outlinewidth": 0,
              "ticks": ""
             }
            },
            "type": "scatterternary"
           }
          ],
          "surface": [
           {
            "colorbar": {
             "outlinewidth": 0,
             "ticks": ""
            },
            "colorscale": [
             [
              0,
              "#0d0887"
             ],
             [
              0.1111111111111111,
              "#46039f"
             ],
             [
              0.2222222222222222,
              "#7201a8"
             ],
             [
              0.3333333333333333,
              "#9c179e"
             ],
             [
              0.4444444444444444,
              "#bd3786"
             ],
             [
              0.5555555555555556,
              "#d8576b"
             ],
             [
              0.6666666666666666,
              "#ed7953"
             ],
             [
              0.7777777777777778,
              "#fb9f3a"
             ],
             [
              0.8888888888888888,
              "#fdca26"
             ],
             [
              1,
              "#f0f921"
             ]
            ],
            "type": "surface"
           }
          ],
          "table": [
           {
            "cells": {
             "fill": {
              "color": "#EBF0F8"
             },
             "line": {
              "color": "white"
             }
            },
            "header": {
             "fill": {
              "color": "#C8D4E3"
             },
             "line": {
              "color": "white"
             }
            },
            "type": "table"
           }
          ]
         },
         "layout": {
          "annotationdefaults": {
           "arrowcolor": "#2a3f5f",
           "arrowhead": 0,
           "arrowwidth": 1
          },
          "autotypenumbers": "strict",
          "coloraxis": {
           "colorbar": {
            "outlinewidth": 0,
            "ticks": ""
           }
          },
          "colorscale": {
           "diverging": [
            [
             0,
             "#8e0152"
            ],
            [
             0.1,
             "#c51b7d"
            ],
            [
             0.2,
             "#de77ae"
            ],
            [
             0.3,
             "#f1b6da"
            ],
            [
             0.4,
             "#fde0ef"
            ],
            [
             0.5,
             "#f7f7f7"
            ],
            [
             0.6,
             "#e6f5d0"
            ],
            [
             0.7,
             "#b8e186"
            ],
            [
             0.8,
             "#7fbc41"
            ],
            [
             0.9,
             "#4d9221"
            ],
            [
             1,
             "#276419"
            ]
           ],
           "sequential": [
            [
             0,
             "#0d0887"
            ],
            [
             0.1111111111111111,
             "#46039f"
            ],
            [
             0.2222222222222222,
             "#7201a8"
            ],
            [
             0.3333333333333333,
             "#9c179e"
            ],
            [
             0.4444444444444444,
             "#bd3786"
            ],
            [
             0.5555555555555556,
             "#d8576b"
            ],
            [
             0.6666666666666666,
             "#ed7953"
            ],
            [
             0.7777777777777778,
             "#fb9f3a"
            ],
            [
             0.8888888888888888,
             "#fdca26"
            ],
            [
             1,
             "#f0f921"
            ]
           ],
           "sequentialminus": [
            [
             0,
             "#0d0887"
            ],
            [
             0.1111111111111111,
             "#46039f"
            ],
            [
             0.2222222222222222,
             "#7201a8"
            ],
            [
             0.3333333333333333,
             "#9c179e"
            ],
            [
             0.4444444444444444,
             "#bd3786"
            ],
            [
             0.5555555555555556,
             "#d8576b"
            ],
            [
             0.6666666666666666,
             "#ed7953"
            ],
            [
             0.7777777777777778,
             "#fb9f3a"
            ],
            [
             0.8888888888888888,
             "#fdca26"
            ],
            [
             1,
             "#f0f921"
            ]
           ]
          },
          "colorway": [
           "#636efa",
           "#EF553B",
           "#00cc96",
           "#ab63fa",
           "#FFA15A",
           "#19d3f3",
           "#FF6692",
           "#B6E880",
           "#FF97FF",
           "#FECB52"
          ],
          "font": {
           "color": "#2a3f5f"
          },
          "geo": {
           "bgcolor": "white",
           "lakecolor": "white",
           "landcolor": "#E5ECF6",
           "showlakes": true,
           "showland": true,
           "subunitcolor": "white"
          },
          "hoverlabel": {
           "align": "left"
          },
          "hovermode": "closest",
          "mapbox": {
           "style": "light"
          },
          "paper_bgcolor": "white",
          "plot_bgcolor": "#E5ECF6",
          "polar": {
           "angularaxis": {
            "gridcolor": "white",
            "linecolor": "white",
            "ticks": ""
           },
           "bgcolor": "#E5ECF6",
           "radialaxis": {
            "gridcolor": "white",
            "linecolor": "white",
            "ticks": ""
           }
          },
          "scene": {
           "xaxis": {
            "backgroundcolor": "#E5ECF6",
            "gridcolor": "white",
            "gridwidth": 2,
            "linecolor": "white",
            "showbackground": true,
            "ticks": "",
            "zerolinecolor": "white"
           },
           "yaxis": {
            "backgroundcolor": "#E5ECF6",
            "gridcolor": "white",
            "gridwidth": 2,
            "linecolor": "white",
            "showbackground": true,
            "ticks": "",
            "zerolinecolor": "white"
           },
           "zaxis": {
            "backgroundcolor": "#E5ECF6",
            "gridcolor": "white",
            "gridwidth": 2,
            "linecolor": "white",
            "showbackground": true,
            "ticks": "",
            "zerolinecolor": "white"
           }
          },
          "shapedefaults": {
           "line": {
            "color": "#2a3f5f"
           }
          },
          "ternary": {
           "aaxis": {
            "gridcolor": "white",
            "linecolor": "white",
            "ticks": ""
           },
           "baxis": {
            "gridcolor": "white",
            "linecolor": "white",
            "ticks": ""
           },
           "bgcolor": "#E5ECF6",
           "caxis": {
            "gridcolor": "white",
            "linecolor": "white",
            "ticks": ""
           }
          },
          "title": {
           "x": 0.05
          },
          "xaxis": {
           "automargin": true,
           "gridcolor": "white",
           "linecolor": "white",
           "ticks": "",
           "title": {
            "standoff": 15
           },
           "zerolinecolor": "white",
           "zerolinewidth": 2
          },
          "yaxis": {
           "automargin": true,
           "gridcolor": "white",
           "linecolor": "white",
           "ticks": "",
           "title": {
            "standoff": 15
           },
           "zerolinecolor": "white",
           "zerolinewidth": 2
          }
         }
        },
        "title": {
         "text": "Number of Publications per Year"
        },
        "xaxis": {
         "anchor": "y",
         "domain": [
          0,
          1
         ],
         "tickangle": 45,
         "title": {
          "text": "Publication Year"
         }
        },
        "yaxis": {
         "anchor": "x",
         "domain": [
          0,
          1
         ],
         "title": {
          "text": "Number of Publications"
         }
        }
       }
      }
     },
     "metadata": {},
     "output_type": "display_data"
    }
   ],
   "source": [
    "import plotly.express as px\n",
    "\n",
    "# Supondo que 'raw_data' seja o seu DataFrame e 'Publication Year' seja a coluna com os anos de publicação\n",
    "publication_counts = raw_data['Publication Year'].value_counts()\n",
    "\n",
    "# Ordenar os valores pela data para melhorar a visualização (opcional)\n",
    "publication_counts = publication_counts.sort_index()\n",
    "\n",
    "# Criar o gráfico de barras com Plotly\n",
    "fig = px.bar(\n",
    "    x=publication_counts.index, \n",
    "    y=publication_counts.values, \n",
    "    labels={'x': 'Publication Year', 'y': 'Number of Publications'},\n",
    "    title='Number of Publications per Year',\n",
    "    color=publication_counts.index,  # Adiciona cor baseado no índice (ano de publicação)\n",
    "    color_continuous_scale='viridis'  # Aplica a paleta \"viridis\"\n",
    ")\n",
    "\n",
    "# Configurar o layout\n",
    "fig.update_layout(\n",
    "    xaxis=dict(tickangle=45),  # Rotaciona os rótulos do eixo x para melhor visualização\n",
    "    yaxis_title='Number of Publications',\n",
    "    xaxis_title='Publication Year',\n",
    "    coloraxis_showscale=False  # Oculta a barra de escala de cores, se indesejado\n",
    ")\n",
    "\n",
    "# Mostrar o gráfico\n",
    "fig.show()\n"
   ]
  }
 ],
 "metadata": {
  "kernelspec": {
   "display_name": "trabFinal",
   "language": "python",
   "name": "python3"
  },
  "language_info": {
   "codemirror_mode": {
    "name": "ipython",
    "version": 3
   },
   "file_extension": ".py",
   "mimetype": "text/x-python",
   "name": "python",
   "nbconvert_exporter": "python",
   "pygments_lexer": "ipython3",
   "version": "3.10.14"
  }
 },
 "nbformat": 4,
 "nbformat_minor": 2
}
