{
 "cells": [
  {
   "cell_type": "code",
   "execution_count": 1,
   "metadata": {},
   "outputs": [],
   "source": [
    "import numpy as np\n",
    "import pandas as pd"
   ]
  },
  {
   "cell_type": "code",
   "execution_count": 2,
   "metadata": {},
   "outputs": [],
   "source": [
    "LLM='llama3-70B'\n",
    "POLYTER_TYPE='OMIEC_NEUROMORPHIC'\n",
    "DATE='030924'"
   ]
  },
  {
   "cell_type": "code",
   "execution_count": 3,
   "metadata": {},
   "outputs": [],
   "source": [
    "response = pd.read_excel('../../dataframes/llama3-70B-OMIEC_NEUROMORPHIC030924_0.2_temp_dict2_RESPONSES.xlsx')\n",
    "raw_data =  pd.read_excel('../../data/raw/OMIEC_NEUROMORPHIC_20_08_24_v2.xlsx')"
   ]
  },
  {
   "cell_type": "code",
   "execution_count": 4,
   "metadata": {},
   "outputs": [
    {
     "name": "stdout",
     "output_type": "stream",
     "text": [
      "index        0\n",
      "response    11\n",
      "dtype: int64\n"
     ]
    }
   ],
   "source": [
    "nan_count = response.isna().sum()\n",
    "print(nan_count)"
   ]
  },
  {
   "cell_type": "code",
   "execution_count": 5,
   "metadata": {},
   "outputs": [],
   "source": [
    "result = pd.concat([response, raw_data], axis=1)\n",
    "result.drop('index', axis=1, inplace=True)"
   ]
  },
  {
   "cell_type": "code",
   "execution_count": 6,
   "metadata": {},
   "outputs": [],
   "source": [
    "response = response.dropna()\n",
    "responses_cleaned = response[response['response'] != '{}']\n",
    "responses_cleaned = responses_cleaned[responses_cleaned['response'] != 'None']"
   ]
  },
  {
   "cell_type": "code",
   "execution_count": 7,
   "metadata": {},
   "outputs": [],
   "source": [
    "import re\n",
    "import json\n",
    "\n",
    "def prepare_dict(df):\n",
    "    \n",
    "    all_dicts = []\n",
    "    index_nones = []\n",
    "    for index, row in df.iterrows():\n",
    "        try:\n",
    "            if \"PEDOT: PSS\" in row['response']:\n",
    "               row['response'] = row['response'].replace(\"PEDOT: PSS\", \"PEDOT:PSS\")\n",
    "            \n",
    "            if \"'Doped?:' \" in row['response']:\n",
    "                dicts = row['response'].strip().replace(\"'Doped?:'\", \"'Doped?':\").rstrip(';').split(';')\n",
    "            else:\n",
    "                dicts = row['response'].strip().rstrip(';').split(';')\n",
    "                \n",
    "            dicts = [d.strip().replace(\"'\", '\"') for d in dicts]\n",
    "            json_data = f\"[{','.join(dicts)}]\"\n",
    "            dictt = json.loads(json_data)\n",
    "        except Exception as e:\n",
    "            print(index, '\\n', row['response'], '\\n')\n",
    "            #print(row['response'].replace(\"'Doped?:'\", \"'Doped?':\"))\n",
    "            \n",
    "        for polymer in dictt:\n",
    "            #polymer['Index'] = index \n",
    "            if \"Doped?:\" in polymer:\n",
    "                polymer[\"Doped?\"] = polymer.pop(\"Doped?:\")\n",
    "\n",
    "            if 'Polymer Chemical Abbreviation' not in polymer:\n",
    "                key = list(polymer.keys())[0]\n",
    "                polymer['Polymer Chemical Abbreviation'] = polymer[key]\n",
    "                \n",
    "            if 'Polymer Mentioned Name' not in polymer:\n",
    "                polymer['Polymer Mentioned Name'] = list(polymer.keys())[0]\n",
    "                \n",
    "            new_dict = {index: polymer}\n",
    "            \n",
    "            all_dicts.append(new_dict)\n",
    "    \n",
    "    return all_dicts, index_nones\n",
    "\n"
   ]
  },
  {
   "cell_type": "code",
   "execution_count": 8,
   "metadata": {},
   "outputs": [
    {
     "name": "stdout",
     "output_type": "stream",
     "text": [
      "{'Polymer Mentioned Name': 'polythiophene', 'Polymer Chemical Abbreviation': 'PTh', 'Polymer Application': 'neuromorphic computing, healthcare, bioelectronic devices', 'Doped?': 'p-doped'}\n",
      "{'Polymer Mentioned Name': 'naphthalene diimide-based polymer', 'Polymer Chemical Abbreviation': 'NDI', 'Polymer Application': 'neuromorphic computing, healthcare, bioelectronic devices', 'Doped?': 'n-doped'}\n",
      "{'Polymer Mentioned Name': 'melanin', 'Polymer Chemical Abbreviation': 'Mel', 'Polymer Application': 'bioelectronics, neuromorphic computing, soft robotics, energy storage, organic electrochemical transistors, supercapacitors', 'Doped?': 'not doped'}\n",
      "{'Polymer Mentioned Name': 'poly(3,4-ethylenedioxythiophene) polystyrene sulfonate', 'Polymer Chemical Abbreviation': 'PEDOT:PSS', 'Polymer Application': 'organic electrochemical transistors, supercapacitors', 'Doped?': 'not doped'}\n",
      "{'Polymer Mentioned Name': 'poly(3-[2-[2-(2-methoxyethoxy)ethoxy]ethyl]thiophene -2,5-diyl)', 'Polymer Chemical Abbreviation': 'P3MEEET', 'Polymer Application': 'bioelectronics, neuromorphic computing', 'Doped?': 'p-doped'}\n",
      "{'Polymer Mentioned Name': 'non-fused planar naphthalenediimide (NDI)-dialkoxybithiazole (2Tz) copolymers', 'Polymer Chemical Abbreviation': 'NDI-2Tz', 'Polymer Application': 'bioelectronics, neuromorphic computing, biosensing systems, brain-inspired computing', 'Doped?': 'not doped'}\n",
      "{'Polymer Mentioned Name': 'P-XO', 'Polymer Chemical Abbreviation': 'P-XO', 'Polymer Application': 'bioelectronics, neuromorphic computing, biosensing systems, brain-inspired computing', 'Doped?': 'not doped'}\n",
      "{'Polymer Mentioned Name': 'P-6O', 'Polymer Chemical Abbreviation': 'P-6O', 'Polymer Application': 'bioelectronics, neuromorphic computing, biosensing systems, brain-inspired computing', 'Doped?': 'not doped'}\n",
      "{'Polymer Mentioned Name': 'poly(3,4-ethylenedioxythiophene)', 'Polymer Chemical Abbreviation': 'PEDOT', 'Polymer Application': 'bioelectronics, neuromorphic computing, energy conversion and storage', 'Doped?': 'p-doped'}\n",
      "{'Polymer Mentioned Name': 'poly(styrenesulfonic acid)', 'Polymer Chemical Abbreviation': 'PSS', 'Polymer Application': 'bioelectronics, neuromorphic computing, energy conversion and storage', 'Doped?': 'not doped'}\n",
      "{'Polymer Mentioned Name': 'pyrrole-benzothiazine-based', 'Polymer Chemical Abbreviation': 'PBBT', 'Polymer Application': 'OECT, neuromorphic', 'Doped?': 'p-type'}\n",
      "{'Polymer Mentioned Name': 'methylated PBBT', 'Polymer Chemical Abbreviation': 'PBBT-Me', 'Polymer Application': 'OECT, neuromorphic', 'Doped?': 'p-type'}\n",
      "{'Polymer Mentioned Name': 'PBBT-H', 'Polymer Chemical Abbreviation': 'PBBT-H', 'Polymer Application': 'OECT', 'Doped?': 'p-type'}\n",
      "{'Polymer Mentioned Name': 'poly(benzimidazobenzophenanthroline)', 'Polymer Chemical Abbreviation': 'BBL', 'Polymer Application': 'OECT, neuromorphic', 'Doped?': 'n-type'}\n",
      "{'Polymer Mentioned Name': 'Ru(bpy)(3)(PF6)(2)', 'Polymer Chemical Abbreviation': 'Ru(bpy)(3)(PF6)(2)', 'Polymer Application': 'memristor, neuromorphic, STP', 'Doped?': 'not_doped'}\n",
      "{'Polymer Mentioned Name': 'semicrystalline regioregular polythiophene', 'Polymer Chemical Abbreviation': 'PT', 'Polymer Application': 'electrochemically gated transistor, neuromorphic computing platforms, biosensors, flexible energy storage devices', 'Doped?': 'not doped'}\n",
      "{'Polymer Mentioned Name': 'TIIP', 'Polymer Chemical Abbreviation': 'TIIP', 'Polymer Application': 'OECT, neuromorphic', 'Doped?': 'not doped'}\n",
      "{'Polymer Mentioned Name': 'oligo(ethylene glycol) substitution of regioregular polythiophene', 'Polymer Chemical Abbreviation': 'PEG-PT', 'Polymer Application': 'neuromorphic computing platforms, biosensors, flexible energy storage devices', 'Doped?': 'p-doped'}\n",
      "{'Polymer Mentioned Name': 'gNR-Bu', 'Polymer Chemical Abbreviation': 'gNR-Bu', 'Polymer Application': 'OENS, neuromorphic biosensor, ANN', 'Doped?': 'n-doped'}\n",
      "{'Polymer Mentioned Name': 'poly(3-hexylthiophene)', 'Polymer Chemical Abbreviation': 'P3HT', 'Polymer Application': 'neuromorphic computing, bioelectronics, energy harvesting', 'Doped?': 'not_doped'}\n",
      "{'Polymer Mentioned Name': 'poly(3,4-ethylene dioxythiophene) poly(styrene sulfonate)', 'Polymer Chemical Abbreviation': 'PEDOT:PSS', 'Polymer Application': 'bioelectronics, energy generation/storage, neuromorphic computing', 'Doped?': 'not doped'}\n",
      "{'Polymer Mentioned Name': 'TiO2', 'Polymer Chemical Abbreviation': 'TiO2', 'Polymer Application': 'neuromorphic systems, artificial synapses, electronic devices', 'Doped?': 'not doped'}\n",
      "{'Polymer Mentioned Name': 'poly(3-{[2-(2-methoxyethoxy)ethoxy]methyl}thiophene-2,5-diyl)', 'Polymer Chemical Abbreviation': 'P3MEEMT', 'Polymer Application': 'organic supercapacitors, redox flow batteries, bioelectronic sensors, thermoelectrics, neuromorphic computing', 'Doped?': 'p-doped'}\n",
      "{'Polymer Mentioned Name': 'halide perovskite', 'Polymer Chemical Abbreviation': 'MAPbI(3)', 'Polymer Application': 'memristors, solar cells', 'Doped?': 'not doped'}\n",
      "{'Polymer Mentioned Name': 'La2NiO4+', 'Polymer Chemical Abbreviation': 'L2NO4', 'Polymer Application': 'memristive, artificial synapse, analog computing, synaptic', 'Doped?': 'not doped'}\n",
      "{'Polymer Mentioned Name': 'polythiophene', 'Polymer Chemical Abbreviation': 'PTh', 'Polymer Application': 'neuromorphic computing, bioelectronics, energy storage and conversion', 'Doped?': 'not doped'}\n",
      "{'Polymer Mentioned Name': 'poly[3-(6-hydroxy)hexylthiophene]', 'Polymer Chemical Abbreviation': 'P3HHT', 'Polymer Application': 'organic electrochemical transistors, bioelectronics, neuromorphic computing', 'Doped?': 'not doped'}\n",
      "{'Polymer Mentioned Name': 'poly(3,4-ethylenedioxythiophene):polystyrene sulfonate', 'Polymer Chemical Abbreviation': 'PEDOT:PSS', 'Polymer Application': 'batteries, bioelectronics', 'Doped?': 'not doped'}\n",
      "{'Polymer Mentioned Name': 'poly(2-(3,3 \" -bis(2-(2-(2-methoxyethoxy)ethoxy)ethoxy)-[2,2 \" -bithiophen]-5-yl)thieno[3,2-b]thiophene)', 'Polymer Chemical Abbreviation': 'p(g2T-TT)', 'Polymer Application': 'organic electrochemical transistors, bioelectronics', 'Doped?': 'not doped'}\n",
      "{'Polymer Mentioned Name': 'poly(3,4-ethylenedioxythiophene)', 'Polymer Chemical Abbreviation': 'PEDOT', 'Polymer Application': 'bioelectronics, biological interfacing, drug delivery systems, neuromorphic devices', 'Doped?': 'p-doped'}\n",
      "{'Polymer Mentioned Name': 'poly(styrene sulfonate)', 'Polymer Chemical Abbreviation': 'PSS', 'Polymer Application': 'bioelectronics, biological interfacing, drug delivery systems, neuromorphic devices', 'Doped?': 'not doped'}\n",
      "{'Polymer Mentioned Name': 'poly(2-(3,3 \" -bis(2-(2-(2-methoxyethoxy)ethoxy) ethoxy)-[2,2 \" -bithiophen]-5-yl)thieno[3,2-b]thiophene)', 'Polymer Chemical Abbreviation': 'p(g2T-TT)', 'Polymer Application': 'bioelectronics, biological interfacing, drug delivery systems, neuromorphic devices', 'Doped?': 'not doped'}\n",
      "{'Polymer Mentioned Name': 'poly(3-hexylthiophene)', 'Polymer Chemical Abbreviation': 'P3HT', 'Polymer Application': 'OECT, neuromorphic', 'Doped?': 'not doped'}\n",
      "{'Polymer Mentioned Name': 'poly(3,4-ethylenedioxythiophene)', 'Polymer Chemical Abbreviation': 'PEDOT', 'Polymer Application': 'OECT, neuromorphic', 'Doped?': 'not doped'}\n",
      "{'Polymer Mentioned Name': 'polystyrene sulfonate', 'Polymer Chemical Abbreviation': 'PSS', 'Polymer Application': 'OECT', 'Doped?': 'not doped'}\n",
      "{'Polymer Mentioned Name': 'Nafion', 'Polymer Chemical Abbreviation': 'Nafion', 'Polymer Application': 'OECT, neuromorphic', 'Doped?': 'not doped'}\n",
      "{'Polymer Mentioned Name': 'polypyrrole derivative', 'Polymer Chemical Abbreviation': 'PPY', 'Polymer Application': 'neuromorphic devices, ECG recording', 'Doped?': 'not doped'}\n",
      "{'Polymer Mentioned Name': 'poly (3-hexylthiophene)', 'Polymer Chemical Abbreviation': 'P3HT', 'Polymer Application': 'OECT, neuromorphic', 'Doped?': 'not doped'}\n",
      "{'Polymer Mentioned Name': 'BDOPV-TCNVT', 'Polymer Chemical Abbreviation': 'BDOPV-TCNVT', 'Polymer Application': 'neuromorphic, bioelectronic', 'Doped?': 'not doped'}\n",
      "{'Polymer Mentioned Name': 'ClBDOPV-TCNVT', 'Polymer Chemical Abbreviation': 'ClBDOPV-TCNVT', 'Polymer Application': 'neuromorphic, bioelectronic', 'Doped?': 'not doped'}\n",
      "{'Polymer Mentioned Name': 'poly(3,4-ethylenedioxythiophene) polystyrene sulfonate', 'Polymer Chemical Abbreviation': 'PEDOT:PSS', 'Polymer Application': 'neuromorphic devices, biosensors', 'Doped?': 'not doped'}\n",
      "{'Polymer Mentioned Name': 'p(g2T-T)', 'Polymer Chemical Abbreviation': 'p(g2T-T)', 'Polymer Application': 'OECT, neuromorphic', 'Doped?': 'p-doped'}\n",
      "{'Polymer Mentioned Name': 'Homo-gDPP', 'Polymer Chemical Abbreviation': 'Homo-gDPP', 'Polymer Application': 'OECT, neuromorphic', 'Doped?': 'n-doped'}\n",
      "{'Polymer Mentioned Name': 'PEDOT:PSS', 'Polymer Chemical Abbreviation': 'PEDOT:PSS', 'Polymer Application': 'bioelectronics, neuromorphic computing, biosensors, wearable electronics', 'Doped?': 'not doped'}\n",
      "{'Polymer Mentioned Name': 'ETE-COONa', 'Polymer Chemical Abbreviation': 'ETE-COONa', 'Polymer Application': 'bioelectronics', 'Doped?': 'not doped'}\n",
      "{'Chitosan': 'chitosan', 'Polymer Chemical Abbreviation': 'CS', 'Polymer Application': 'neuromorphic, OECT', 'Doped?': 'not_doped', 'Polymer Mentioned Name': 'Chitosan'}\n",
      "{'Polymer Mentioned Name': 'p(g2T-T)', 'Polymer Chemical Abbreviation': 'p(g2T-T)', 'Polymer Application': 'biosensors, artificial neuromorphic systems, brain-machine interfaces', 'Doped?': 'not doped'}\n",
      "{'Polymer Mentioned Name': 'poly(3,4-ethylenedioxythiophene):polystyrene sulfonate', 'Polymer Chemical Abbreviation': 'PEDOT:PSS', 'Polymer Application': 'wearable bioelectronics, bio-hybrid devices, adaptive neuromorphic technologies, fiber-electrochemical neuromorphic organic devices', 'Doped?': 'not doped'}\n",
      "{'Polymer Mentioned Name': 'regioregular poly-(3-hexylthiophene-2,5-diyl)', 'Polymer Chemical Abbreviation': 'rr-P3HT', 'Polymer Application': 'biosensing devices, neuromorphic computing, organic bioelectronics, water-based electrochemical devices', 'Doped?': 'p-doped'}\n",
      "{'Polymer Mentioned Name': 'poly(3-hexylthiophene)', 'Polymer Chemical Abbreviation': 'P3HT', 'Polymer Application': 'neuromorphic, synaptic, OECT', 'Doped?': 'not doped'}\n",
      "{'Polymer Mentioned Name': 'styrene-ethylene-butylene-styrene', 'Polymer Chemical Abbreviation': 'SEBS', 'Polymer Application': 'neuromorphic, synaptic, OECT, stretchable', 'Doped?': 'not doped'}\n",
      "{'Polymer Mentioned Name': 'polypyrrole', 'Polymer Chemical Abbreviation': 'PPy', 'Polymer Application': 'neuromorphic, synaptic, sensing, wearable', 'Doped?': 'not_doped'}\n",
      "{'Polymer Mentioned Name': 'cyclopentadithiophene-benzothiadiazole', 'Polymer Chemical Abbreviation': 'CDT-BT', 'Polymer Application': 'biosignal amplifiers, analyte sensors, neuromorphic electronics', 'Doped?': 'not doped'}\n",
      "{'Polymer Mentioned Name': 'poly(3,4-ethylenedioxythiophene): poly(styrene sulfonate)', 'Polymer Chemical Abbreviation': 'PEDOT:PSS', 'Polymer Application': 'wearable, implantable, neuromorphic, sustainable', 'Doped?': 'p-doped'}\n",
      "{'Polymer Mentioned Name': 'poly(3,4-ethylenedioxythiophene)', 'Polymer Chemical Abbreviation': 'PEDOT', 'Polymer Application': 'biological applications, neuromorphic', 'Doped?': 'p-doped'}\n",
      "{'Polymer Mentioned Name': 'poly(styrene sulfonate)', 'Polymer Chemical Abbreviation': 'PSS', 'Polymer Application': 'biological applications, neuromorphic', 'Doped?': 'not doped'}\n",
      "{'Polymer Mentioned Name': 'poly(3,4-ethylenedioxythiophene):polystyrene sulfonate', 'Polymer Chemical Abbreviation': 'PEDOT:PSS', 'Polymer Application': 'bioelectronics, neuromorphic computing, soft robotics', 'Doped?': 'not doped'}\n",
      "{'Polymer Mentioned Name': 'poly(3,4-ethylenedioxythiophene)', 'Polymer Chemical Abbreviation': 'PEDOT', 'Polymer Application': 'neuromorphic, OECT', 'Doped?': 'not doped'}\n",
      "{'Polymer Mentioned Name': 'PNDI2OD-2Tz', 'Polymer Chemical Abbreviation': 'PNDI2OD-2Tz', 'Polymer Application': 'OECT', 'Doped?': 'not_doped'}\n",
      "{'Polymer Mentioned Name': 'PNDIODTEG-2Tz', 'Polymer Chemical Abbreviation': 'PNDIODTEG-2Tz', 'Polymer Application': 'OECT', 'Doped?': 'not_doped'}\n",
      "{'Polymer Mentioned Name': 'PNDI2TEG-2Tz', 'Polymer Chemical Abbreviation': 'PNDI2TEG-2Tz', 'Polymer Application': 'OECT, neuromorphic computing, electrochemical resistive random-access memory', 'Doped?': 'not_doped'}\n",
      "{'Polymer Mentioned Name': 'poly(3,4-ethylenedioxythiophene) polystyrene sulfonate', 'Polymer Chemical Abbreviation': 'PEDOT:PSS', 'Polymer Application': 'OECT, biosensing', 'Doped?': 'not doped'}\n",
      "{'Polymer Mentioned Name': 'conjugated polyelectrolyte', 'Polymer Chemical Abbreviation': 'PCPDTBT-SO3K', 'Polymer Application': 'OECT, neuromorphic', 'Doped?': 'not doped'}\n",
      "{'Polymer Mentioned Name': 'PEDOT:PSS', 'Polymer Chemical Abbreviation': 'PEDOT:PSS', 'Polymer Application': 'OECT, neuromorphic', 'Doped?': 'not doped'}\n",
      "{'Polymer Mentioned Name': 'PSSNa', 'Polymer Chemical Abbreviation': 'PSSNa', 'Polymer Application': 'OECT, neuromorphic', 'Doped?': 'not doped'}\n",
      "{'Polymer Mentioned Name': 'PEDOT:PSS', 'Polymer Chemical Abbreviation': 'PEDOT:PSS', 'Polymer Application': 'OECT, neuromorphic, integrated circuits', 'Doped?': 'p-doped'}\n",
      "{'Polymer Mentioned Name': 'P(gPzDPP-CT2)', 'Polymer Chemical Abbreviation': 'P(gPzDPP-CT2)', 'Polymer Application': 'bioelectronics, neuromorphic computing', 'Doped?': 'n-doped'}\n",
      "{'Polymer Mentioned Name': 'PEDOT:PSS', 'Polymer Chemical Abbreviation': 'PEDOT:PSS', 'Polymer Application': 'synaptic behavior, bioelectronics, neuromorphic', 'Doped?': 'not doped'}\n",
      "{'Polymer Mentioned Name': 'DPP-g2T', 'Polymer Chemical Abbreviation': 'DPP-g2T', 'Polymer Application': 'neuromorphic, biocompatible, printed logic circuitry', 'Doped?': 'not doped'}\n",
      "{'Polymer Mentioned Name': 'PEDOT:PSS', 'Polymer Chemical Abbreviation': 'PEDOT:PSS', 'Polymer Application': 'neuromorphic, Organic Electrochemical Transistors', 'Doped?': 'not doped'}\n",
      "{'Polymer Mentioned Name': 'poly(3,4-ethylenedioxythiophene)polystyrene sulfonate', 'Polymer Chemical Abbreviation': 'PEDOT:PSS', 'Polymer Application': 'OECT, neuromorphic, synaptic', 'Doped?': 'not doped'}\n",
      "{'Polymer Mentioned Name': 'poly(benzimidazobenzophenanthroline)', 'Polymer Chemical Abbreviation': 'BBL', 'Polymer Application': 'OECT, neuromorphic, biosensors', 'Doped?': 'not_doped'}\n",
      "{'Polymer Mentioned Name': 'donor-acceptor type copolymer bearing hydrophilic ethylene glycol side chains', 'Polymer Chemical Abbreviation': 'P-90', 'Polymer Application': 'OECT, biosensors', 'Doped?': 'not_doped'}\n",
      "{'Polymer Mentioned Name': 'PCPDTBT-SO3K', 'Polymer Chemical Abbreviation': 'CPE-K', 'Polymer Application': 'analyte detection, neural interfacing, impedance sensing, neuromorphic computing, neural-activity sensing', 'Doped?': 'not doped'}\n",
      "{'Polymer Mentioned Name': 'PEDOT:PSS', 'Polymer Chemical Abbreviation': 'PEDOT:PSS', 'Polymer Application': 'OECT, neuromorphic', 'Doped?': 'not_doped'}\n",
      "{'Polymer Mentioned Name': 'PSSNa', 'Polymer Chemical Abbreviation': 'PSSNa', 'Polymer Application': 'ion conductor, OECT, neuromorphic', 'Doped?': 'not_doped'}\n",
      "{'Polymer Mentioned Name': 'poly(3,4-ethylenedioxythiophene):poly(styrenesulfonic acid)', 'Polymer Chemical Abbreviation': 'PEDOT:PSS', 'Polymer Application': 'organic electronics, neural recordings', 'Doped?': 'not doped'}\n",
      "{'Polymer Mentioned Name': 'poly(3,4-ethylenedioxythiophene):Nafion', 'Polymer Chemical Abbreviation': 'PEDOT:Nafion', 'Polymer Application': 'organic electrochemical transistor, memristor, artificial synapse, neural recordings', 'Doped?': 'not doped'}\n",
      "{'Polymer Mentioned Name': 'poly(N,N\"-bis(7-glycol)-naphthalene-1,4,5,8-bis(dicarboximide)-co-2,2\"-bithiophene-co-N,N\"-bis(2-octyldodecyl)-naphthalene-1,4,5,8-bis(dicarboximide)', 'Polymer Chemical Abbreviation': 'PNB', 'Polymer Application': 'bioelectronic, neuromorphic', 'Doped?': 'n-doped'}\n",
      "{'Polymer Mentioned Name': 'fullerene derivatives with glycolated side chains', 'Polymer Chemical Abbreviation': '', 'Polymer Application': 'bioelectronics, neuromorphic computing', 'Doped?': 'not doped'}\n",
      "{'Polymer Mentioned Name': 'PCBM', 'Polymer Chemical Abbreviation': '[6,6]-phenyl-C-61-butyric acid methyl ester', 'Polymer Application': 'OECTs', 'Doped?': 'n-type'}\n",
      "{'Polymer Mentioned Name': 'C60-TEG', 'Polymer Chemical Abbreviation': '2-(2,3,4-tris(methoxtriglycol) phenyl) [60]fulleropyrrolidine', 'Polymer Application': 'OECTs', 'Doped?': 'n-type'}\n",
      "{'Polymer Mentioned Name': 'poly(3,4-ethylenedioxythiophene):poly(styrenesulfonate)', 'Polymer Chemical Abbreviation': 'PEDOT:PSS', 'Polymer Application': 'circuit elements, neuromorphic devices, transducers for biological sensing, bioelectronics, flexible/wearable electronics', 'Doped?': 'not doped'}\n",
      "{'Polymer Mentioned Name': 'poly(3-hexylthiophene)', 'Polymer Chemical Abbreviation': 'P3HT', 'Polymer Application': 'bioelectronics, neuromorphic', 'Doped?': 'not doped'}\n",
      "{'Polymer Mentioned Name': 'poly(vinylidene fluoride-co-trifluoroethylene)', 'Polymer Chemical Abbreviation': 'P(VDF-TrFE)', 'Polymer Application': 'neuromorphic', 'Doped?': 'not doped'}\n",
      "{'Polymer Mentioned Name': 'poly(3-hexylthiophene)', 'Polymer Chemical Abbreviation': 'P3HT', 'Polymer Application': 'OECT, neuromorphic', 'Doped?': 'not doped'}\n"
     ]
    }
   ],
   "source": [
    "\n",
    "polymer_dicts, _ = prepare_dict(responses_cleaned)\n",
    "\n",
    "polymers = []\n",
    "\n",
    "for polymer in polymer_dicts:\n",
    "    print(polymer[list(polymer.keys())[0]])\n",
    "    polymers.append(polymer[list(polymer.keys())[0]]['Polymer Chemical Abbreviation'])\n"
   ]
  },
  {
   "cell_type": "code",
   "execution_count": 9,
   "metadata": {},
   "outputs": [
    {
     "name": "stdout",
     "output_type": "stream",
     "text": [
      "Quantidade polímeros: 86 | Quantidade polímeros únicos: 51\n"
     ]
    }
   ],
   "source": [
    "# Função para encontrar a interseção entre dois conjuntos de polímeros\n",
    "def verificar_interseccao(p1, p2):\n",
    "    conjunto1 = {p1['Polymer Chemical Abbreviation'].replace('/', '-').replace(':', '-').lower(),\n",
    "                 p1['Polymer Mentioned Name'].replace('/', '-').replace(':', '-').lower()}\n",
    "    conjunto2 = {p2['Polymer Chemical Abbreviation'].replace('/', '-').replace(':', '-').lower(),\n",
    "                 p2['Polymer Mentioned Name'].replace('/', '-').replace(':', '-').lower()}\n",
    "    return not conjunto1.isdisjoint(conjunto2)\n",
    "\n",
    "# Agrupar polímeros com base na interseção\n",
    "def agrupar_polimeros(polimeros):\n",
    "    grupos = []\n",
    "    visitados = set()\n",
    "    \n",
    "    for i, dados1 in enumerate(polimeros):\n",
    "        \n",
    "        if i in visitados:\n",
    "            continue\n",
    "        \n",
    "        grupo_atual = set()\n",
    "        grupo_nome_atual = []\n",
    "        \n",
    "        # Adicionar o polímero atual ao grupo\n",
    "        grupo_atual.add(i)\n",
    "        grupo_nome_atual.append([dados1[list(dados1.keys())[0]]['Polymer Chemical Abbreviation'], list(dados1.keys())[0]])\n",
    "        visitados.add(i)\n",
    "        \n",
    "        # Comparar com elementos subsequentes\n",
    "        for j in range(i + 1, len(polimeros)):\n",
    "            dados2 = polimeros[j]\n",
    "            if verificar_interseccao(dados1[list(dados1.keys())[0]], dados2[list(dados2.keys())[0]]):\n",
    "                grupo_atual.add(j)\n",
    "                grupo_nome_atual.append([dados2[list(dados2.keys())[0]]['Polymer Chemical Abbreviation'], list(dados2.keys())[0]])\n",
    "                visitados.add(j)\n",
    "        \n",
    "        grupos.append(grupo_nome_atual)\n",
    "    \n",
    "    return grupos\n",
    "\n",
    "\n",
    "grupos_nomes_encontrados = agrupar_polimeros(polymer_dicts)\n",
    "#grupos_nomes_encontrados = sorted(grupos_nomes_encontrados, key=len, reverse=True)\n",
    "grupos_nomes = [list(map(list, set(map(tuple, grupo)))) for _, grupo in enumerate(grupos_nomes_encontrados, start=1)]\n",
    "grupos_nomes = sorted(grupos_nomes, key=len, reverse=True)\n",
    "soma = 0\n",
    "\n",
    "for i, grupo in enumerate(grupos_nomes, start=1):\n",
    "    soma += len(grupo)\n",
    "    #print(f\"{grupo[0][0]}: {len(grupo)}\")\n",
    "print(f\"Quantidade polímeros: {soma} | Quantidade polímeros únicos: {len(grupos_nomes)}\")\n"
   ]
  },
  {
   "cell_type": "code",
   "execution_count": 10,
   "metadata": {},
   "outputs": [],
   "source": [
    "items_to_remove = [r'(?i)\\bmixed\\b',\n",
    "                   r'(?i)\\bnone\\b',\n",
    "                   r'MIEC.*',\n",
    "                   'based', \n",
    "                   r'[Pp]olymer',\n",
    "                   r'OECT.*',\n",
    "                   'conjug',\n",
    "                   r'^$', \n",
    "                   r'^PSS$'\n",
    "                   ]\n"
   ]
  },
  {
   "cell_type": "code",
   "execution_count": 11,
   "metadata": {},
   "outputs": [
    {
     "name": "stdout",
     "output_type": "stream",
     "text": [
      "Polímeros identificados antes: 51\n",
      "Polímeros identificados após remoção: 49\n"
     ]
    }
   ],
   "source": [
    "\n",
    "print(\"Polímeros identificados antes:\", len(grupos_nomes))\n",
    "for item in items_to_remove:\n",
    "    for p in grupos_nomes:\n",
    "        pattern = re.compile(item)\n",
    "        if pattern.search(p[0][0]):\n",
    "            #print(item, '\\n', p)\n",
    "            grupos_nomes.remove(p)\n",
    "\n",
    "print(\"Polímeros identificados após remoção:\",len(grupos_nomes))"
   ]
  },
  {
   "cell_type": "code",
   "execution_count": 12,
   "metadata": {},
   "outputs": [
    {
     "data": {
      "text/html": [
       "<div>\n",
       "<style scoped>\n",
       "    .dataframe tbody tr th:only-of-type {\n",
       "        vertical-align: middle;\n",
       "    }\n",
       "\n",
       "    .dataframe tbody tr th {\n",
       "        vertical-align: top;\n",
       "    }\n",
       "\n",
       "    .dataframe thead th {\n",
       "        text-align: right;\n",
       "    }\n",
       "</style>\n",
       "<table border=\"1\" class=\"dataframe\">\n",
       "  <thead>\n",
       "    <tr style=\"text-align: right;\">\n",
       "      <th></th>\n",
       "      <th>Nome</th>\n",
       "      <th>Quantidade_Encontrada</th>\n",
       "      <th>Identificação_Encontrados</th>\n",
       "    </tr>\n",
       "  </thead>\n",
       "  <tbody>\n",
       "    <tr>\n",
       "      <th>0</th>\n",
       "      <td>PEDOT:PSS</td>\n",
       "      <td>17</td>\n",
       "      <td>[[PEDOT:PSS, 80], [PEDOT:PSS, 109], [PEDOT:PSS...</td>\n",
       "    </tr>\n",
       "    <tr>\n",
       "      <th>1</th>\n",
       "      <td>P3HT</td>\n",
       "      <td>6</td>\n",
       "      <td>[[P3HT, 22], [P3HT, 121], [P3HT, 66], [P3HT, 4...</td>\n",
       "    </tr>\n",
       "    <tr>\n",
       "      <th>2</th>\n",
       "      <td>PEDOT</td>\n",
       "      <td>5</td>\n",
       "      <td>[[PEDOT, 41], [PEDOT, 44], [PEDOT, 75], [PEDOT...</td>\n",
       "    </tr>\n",
       "    <tr>\n",
       "      <th>3</th>\n",
       "      <td>PTh</td>\n",
       "      <td>2</td>\n",
       "      <td>[[PTh, 33], [PTh, 0]]</td>\n",
       "    </tr>\n",
       "    <tr>\n",
       "      <th>4</th>\n",
       "      <td>BBL</td>\n",
       "      <td>2</td>\n",
       "      <td>[[BBL, 12], [BBL, 102]]</td>\n",
       "    </tr>\n",
       "    <tr>\n",
       "      <th>5</th>\n",
       "      <td>p(g2T-TT)</td>\n",
       "      <td>2</td>\n",
       "      <td>[[p(g2T-TT), 40], [p(g2T-TT), 41]]</td>\n",
       "    </tr>\n",
       "    <tr>\n",
       "      <th>6</th>\n",
       "      <td>PPY</td>\n",
       "      <td>2</td>\n",
       "      <td>[[PPY, 45], [PPy, 68]]</td>\n",
       "    </tr>\n",
       "    <tr>\n",
       "      <th>7</th>\n",
       "      <td>p(g2T-T)</td>\n",
       "      <td>2</td>\n",
       "      <td>[[p(g2T-T), 50], [p(g2T-T), 57]]</td>\n",
       "    </tr>\n",
       "    <tr>\n",
       "      <th>8</th>\n",
       "      <td>PCPDTBT-SO3K</td>\n",
       "      <td>2</td>\n",
       "      <td>[[PCPDTBT-SO3K, 83], [CPE-K, 107]]</td>\n",
       "    </tr>\n",
       "    <tr>\n",
       "      <th>9</th>\n",
       "      <td>PSSNa</td>\n",
       "      <td>2</td>\n",
       "      <td>[[PSSNa, 85], [PSSNa, 109]]</td>\n",
       "    </tr>\n",
       "    <tr>\n",
       "      <th>10</th>\n",
       "      <td>NDI</td>\n",
       "      <td>1</td>\n",
       "      <td>[[NDI, 0]]</td>\n",
       "    </tr>\n",
       "    <tr>\n",
       "      <th>11</th>\n",
       "      <td>Mel</td>\n",
       "      <td>1</td>\n",
       "      <td>[[Mel, 1]]</td>\n",
       "    </tr>\n",
       "    <tr>\n",
       "      <th>12</th>\n",
       "      <td>P3MEEET</td>\n",
       "      <td>1</td>\n",
       "      <td>[[P3MEEET, 2]]</td>\n",
       "    </tr>\n",
       "    <tr>\n",
       "      <th>13</th>\n",
       "      <td>NDI-2Tz</td>\n",
       "      <td>1</td>\n",
       "      <td>[[NDI-2Tz, 9]]</td>\n",
       "    </tr>\n",
       "    <tr>\n",
       "      <th>14</th>\n",
       "      <td>P-XO</td>\n",
       "      <td>1</td>\n",
       "      <td>[[P-XO, 9]]</td>\n",
       "    </tr>\n",
       "    <tr>\n",
       "      <th>15</th>\n",
       "      <td>P-6O</td>\n",
       "      <td>1</td>\n",
       "      <td>[[P-6O, 9]]</td>\n",
       "    </tr>\n",
       "    <tr>\n",
       "      <th>16</th>\n",
       "      <td>PBBT</td>\n",
       "      <td>1</td>\n",
       "      <td>[[PBBT, 12]]</td>\n",
       "    </tr>\n",
       "    <tr>\n",
       "      <th>17</th>\n",
       "      <td>PBBT-Me</td>\n",
       "      <td>1</td>\n",
       "      <td>[[PBBT-Me, 12]]</td>\n",
       "    </tr>\n",
       "    <tr>\n",
       "      <th>18</th>\n",
       "      <td>PBBT-H</td>\n",
       "      <td>1</td>\n",
       "      <td>[[PBBT-H, 12]]</td>\n",
       "    </tr>\n",
       "    <tr>\n",
       "      <th>19</th>\n",
       "      <td>Ru(bpy)(3)(PF6)(2)</td>\n",
       "      <td>1</td>\n",
       "      <td>[[Ru(bpy)(3)(PF6)(2), 13]]</td>\n",
       "    </tr>\n",
       "    <tr>\n",
       "      <th>20</th>\n",
       "      <td>PT</td>\n",
       "      <td>1</td>\n",
       "      <td>[[PT, 15]]</td>\n",
       "    </tr>\n",
       "    <tr>\n",
       "      <th>21</th>\n",
       "      <td>TIIP</td>\n",
       "      <td>1</td>\n",
       "      <td>[[TIIP, 17]]</td>\n",
       "    </tr>\n",
       "    <tr>\n",
       "      <th>22</th>\n",
       "      <td>PEG-PT</td>\n",
       "      <td>1</td>\n",
       "      <td>[[PEG-PT, 19]]</td>\n",
       "    </tr>\n",
       "    <tr>\n",
       "      <th>23</th>\n",
       "      <td>gNR-Bu</td>\n",
       "      <td>1</td>\n",
       "      <td>[[gNR-Bu, 20]]</td>\n",
       "    </tr>\n",
       "    <tr>\n",
       "      <th>24</th>\n",
       "      <td>TiO2</td>\n",
       "      <td>1</td>\n",
       "      <td>[[TiO2, 25]]</td>\n",
       "    </tr>\n",
       "    <tr>\n",
       "      <th>25</th>\n",
       "      <td>P3MEEMT</td>\n",
       "      <td>1</td>\n",
       "      <td>[[P3MEEMT, 26]]</td>\n",
       "    </tr>\n",
       "    <tr>\n",
       "      <th>26</th>\n",
       "      <td>MAPbI(3)</td>\n",
       "      <td>1</td>\n",
       "      <td>[[MAPbI(3), 30]]</td>\n",
       "    </tr>\n",
       "    <tr>\n",
       "      <th>27</th>\n",
       "      <td>L2NO4</td>\n",
       "      <td>1</td>\n",
       "      <td>[[L2NO4, 32]]</td>\n",
       "    </tr>\n",
       "    <tr>\n",
       "      <th>28</th>\n",
       "      <td>P3HHT</td>\n",
       "      <td>1</td>\n",
       "      <td>[[P3HHT, 40]]</td>\n",
       "    </tr>\n",
       "    <tr>\n",
       "      <th>29</th>\n",
       "      <td>Nafion</td>\n",
       "      <td>1</td>\n",
       "      <td>[[Nafion, 44]]</td>\n",
       "    </tr>\n",
       "    <tr>\n",
       "      <th>30</th>\n",
       "      <td>BDOPV-TCNVT</td>\n",
       "      <td>1</td>\n",
       "      <td>[[BDOPV-TCNVT, 47]]</td>\n",
       "    </tr>\n",
       "    <tr>\n",
       "      <th>31</th>\n",
       "      <td>ClBDOPV-TCNVT</td>\n",
       "      <td>1</td>\n",
       "      <td>[[ClBDOPV-TCNVT, 47]]</td>\n",
       "    </tr>\n",
       "    <tr>\n",
       "      <th>32</th>\n",
       "      <td>Homo-gDPP</td>\n",
       "      <td>1</td>\n",
       "      <td>[[Homo-gDPP, 50]]</td>\n",
       "    </tr>\n",
       "    <tr>\n",
       "      <th>33</th>\n",
       "      <td>ETE-COONa</td>\n",
       "      <td>1</td>\n",
       "      <td>[[ETE-COONa, 52]]</td>\n",
       "    </tr>\n",
       "    <tr>\n",
       "      <th>34</th>\n",
       "      <td>CS</td>\n",
       "      <td>1</td>\n",
       "      <td>[[CS, 53]]</td>\n",
       "    </tr>\n",
       "    <tr>\n",
       "      <th>35</th>\n",
       "      <td>rr-P3HT</td>\n",
       "      <td>1</td>\n",
       "      <td>[[rr-P3HT, 63]]</td>\n",
       "    </tr>\n",
       "    <tr>\n",
       "      <th>36</th>\n",
       "      <td>SEBS</td>\n",
       "      <td>1</td>\n",
       "      <td>[[SEBS, 66]]</td>\n",
       "    </tr>\n",
       "    <tr>\n",
       "      <th>37</th>\n",
       "      <td>CDT-BT</td>\n",
       "      <td>1</td>\n",
       "      <td>[[CDT-BT, 73]]</td>\n",
       "    </tr>\n",
       "    <tr>\n",
       "      <th>38</th>\n",
       "      <td>PNDI2OD-2Tz</td>\n",
       "      <td>1</td>\n",
       "      <td>[[PNDI2OD-2Tz, 82]]</td>\n",
       "    </tr>\n",
       "    <tr>\n",
       "      <th>39</th>\n",
       "      <td>PNDIODTEG-2Tz</td>\n",
       "      <td>1</td>\n",
       "      <td>[[PNDIODTEG-2Tz, 82]]</td>\n",
       "    </tr>\n",
       "    <tr>\n",
       "      <th>40</th>\n",
       "      <td>PNDI2TEG-2Tz</td>\n",
       "      <td>1</td>\n",
       "      <td>[[PNDI2TEG-2Tz, 82]]</td>\n",
       "    </tr>\n",
       "    <tr>\n",
       "      <th>41</th>\n",
       "      <td>P(gPzDPP-CT2)</td>\n",
       "      <td>1</td>\n",
       "      <td>[[P(gPzDPP-CT2), 87]]</td>\n",
       "    </tr>\n",
       "    <tr>\n",
       "      <th>42</th>\n",
       "      <td>DPP-g2T</td>\n",
       "      <td>1</td>\n",
       "      <td>[[DPP-g2T, 91]]</td>\n",
       "    </tr>\n",
       "    <tr>\n",
       "      <th>43</th>\n",
       "      <td>P-90</td>\n",
       "      <td>1</td>\n",
       "      <td>[[P-90, 102]]</td>\n",
       "    </tr>\n",
       "    <tr>\n",
       "      <th>44</th>\n",
       "      <td>PEDOT:Nafion</td>\n",
       "      <td>1</td>\n",
       "      <td>[[PEDOT:Nafion, 110]]</td>\n",
       "    </tr>\n",
       "    <tr>\n",
       "      <th>45</th>\n",
       "      <td>PNB</td>\n",
       "      <td>1</td>\n",
       "      <td>[[PNB, 111]]</td>\n",
       "    </tr>\n",
       "    <tr>\n",
       "      <th>46</th>\n",
       "      <td>[6,6]-phenyl-C-61-butyric acid methyl ester</td>\n",
       "      <td>1</td>\n",
       "      <td>[[[6,6]-phenyl-C-61-butyric acid methyl ester,...</td>\n",
       "    </tr>\n",
       "    <tr>\n",
       "      <th>47</th>\n",
       "      <td>2-(2,3,4-tris(methoxtriglycol) phenyl) [60]ful...</td>\n",
       "      <td>1</td>\n",
       "      <td>[[2-(2,3,4-tris(methoxtriglycol) phenyl) [60]f...</td>\n",
       "    </tr>\n",
       "    <tr>\n",
       "      <th>48</th>\n",
       "      <td>P(VDF-TrFE)</td>\n",
       "      <td>1</td>\n",
       "      <td>[[P(VDF-TrFE), 120]]</td>\n",
       "    </tr>\n",
       "  </tbody>\n",
       "</table>\n",
       "</div>"
      ],
      "text/plain": [
       "                                                 Nome  Quantidade_Encontrada  \\\n",
       "0                                           PEDOT:PSS                     17   \n",
       "1                                                P3HT                      6   \n",
       "2                                               PEDOT                      5   \n",
       "3                                                 PTh                      2   \n",
       "4                                                 BBL                      2   \n",
       "5                                           p(g2T-TT)                      2   \n",
       "6                                                 PPY                      2   \n",
       "7                                            p(g2T-T)                      2   \n",
       "8                                        PCPDTBT-SO3K                      2   \n",
       "9                                               PSSNa                      2   \n",
       "10                                                NDI                      1   \n",
       "11                                                Mel                      1   \n",
       "12                                            P3MEEET                      1   \n",
       "13                                            NDI-2Tz                      1   \n",
       "14                                               P-XO                      1   \n",
       "15                                               P-6O                      1   \n",
       "16                                               PBBT                      1   \n",
       "17                                            PBBT-Me                      1   \n",
       "18                                             PBBT-H                      1   \n",
       "19                                 Ru(bpy)(3)(PF6)(2)                      1   \n",
       "20                                                 PT                      1   \n",
       "21                                               TIIP                      1   \n",
       "22                                             PEG-PT                      1   \n",
       "23                                             gNR-Bu                      1   \n",
       "24                                               TiO2                      1   \n",
       "25                                            P3MEEMT                      1   \n",
       "26                                           MAPbI(3)                      1   \n",
       "27                                              L2NO4                      1   \n",
       "28                                              P3HHT                      1   \n",
       "29                                             Nafion                      1   \n",
       "30                                        BDOPV-TCNVT                      1   \n",
       "31                                      ClBDOPV-TCNVT                      1   \n",
       "32                                          Homo-gDPP                      1   \n",
       "33                                          ETE-COONa                      1   \n",
       "34                                                 CS                      1   \n",
       "35                                            rr-P3HT                      1   \n",
       "36                                               SEBS                      1   \n",
       "37                                             CDT-BT                      1   \n",
       "38                                        PNDI2OD-2Tz                      1   \n",
       "39                                      PNDIODTEG-2Tz                      1   \n",
       "40                                       PNDI2TEG-2Tz                      1   \n",
       "41                                      P(gPzDPP-CT2)                      1   \n",
       "42                                            DPP-g2T                      1   \n",
       "43                                               P-90                      1   \n",
       "44                                       PEDOT:Nafion                      1   \n",
       "45                                                PNB                      1   \n",
       "46        [6,6]-phenyl-C-61-butyric acid methyl ester                      1   \n",
       "47  2-(2,3,4-tris(methoxtriglycol) phenyl) [60]ful...                      1   \n",
       "48                                        P(VDF-TrFE)                      1   \n",
       "\n",
       "                            Identificação_Encontrados  \n",
       "0   [[PEDOT:PSS, 80], [PEDOT:PSS, 109], [PEDOT:PSS...  \n",
       "1   [[P3HT, 22], [P3HT, 121], [P3HT, 66], [P3HT, 4...  \n",
       "2   [[PEDOT, 41], [PEDOT, 44], [PEDOT, 75], [PEDOT...  \n",
       "3                               [[PTh, 33], [PTh, 0]]  \n",
       "4                             [[BBL, 12], [BBL, 102]]  \n",
       "5                  [[p(g2T-TT), 40], [p(g2T-TT), 41]]  \n",
       "6                              [[PPY, 45], [PPy, 68]]  \n",
       "7                    [[p(g2T-T), 50], [p(g2T-T), 57]]  \n",
       "8                  [[PCPDTBT-SO3K, 83], [CPE-K, 107]]  \n",
       "9                         [[PSSNa, 85], [PSSNa, 109]]  \n",
       "10                                         [[NDI, 0]]  \n",
       "11                                         [[Mel, 1]]  \n",
       "12                                     [[P3MEEET, 2]]  \n",
       "13                                     [[NDI-2Tz, 9]]  \n",
       "14                                        [[P-XO, 9]]  \n",
       "15                                        [[P-6O, 9]]  \n",
       "16                                       [[PBBT, 12]]  \n",
       "17                                    [[PBBT-Me, 12]]  \n",
       "18                                     [[PBBT-H, 12]]  \n",
       "19                         [[Ru(bpy)(3)(PF6)(2), 13]]  \n",
       "20                                         [[PT, 15]]  \n",
       "21                                       [[TIIP, 17]]  \n",
       "22                                     [[PEG-PT, 19]]  \n",
       "23                                     [[gNR-Bu, 20]]  \n",
       "24                                       [[TiO2, 25]]  \n",
       "25                                    [[P3MEEMT, 26]]  \n",
       "26                                   [[MAPbI(3), 30]]  \n",
       "27                                      [[L2NO4, 32]]  \n",
       "28                                      [[P3HHT, 40]]  \n",
       "29                                     [[Nafion, 44]]  \n",
       "30                                [[BDOPV-TCNVT, 47]]  \n",
       "31                              [[ClBDOPV-TCNVT, 47]]  \n",
       "32                                  [[Homo-gDPP, 50]]  \n",
       "33                                  [[ETE-COONa, 52]]  \n",
       "34                                         [[CS, 53]]  \n",
       "35                                    [[rr-P3HT, 63]]  \n",
       "36                                       [[SEBS, 66]]  \n",
       "37                                     [[CDT-BT, 73]]  \n",
       "38                                [[PNDI2OD-2Tz, 82]]  \n",
       "39                              [[PNDIODTEG-2Tz, 82]]  \n",
       "40                               [[PNDI2TEG-2Tz, 82]]  \n",
       "41                              [[P(gPzDPP-CT2), 87]]  \n",
       "42                                    [[DPP-g2T, 91]]  \n",
       "43                                      [[P-90, 102]]  \n",
       "44                              [[PEDOT:Nafion, 110]]  \n",
       "45                                       [[PNB, 111]]  \n",
       "46  [[[6,6]-phenyl-C-61-butyric acid methyl ester,...  \n",
       "47  [[2-(2,3,4-tris(methoxtriglycol) phenyl) [60]f...  \n",
       "48                               [[P(VDF-TrFE), 120]]  "
      ]
     },
     "execution_count": 12,
     "metadata": {},
     "output_type": "execute_result"
    }
   ],
   "source": [
    "df = []\n",
    "for i,grupo in enumerate(grupos_nomes, start=1):\n",
    "    linha_df = {'Nome': grupo[0][0], 'Quantidade_Encontrada': len(grupo), 'Identificação_Encontrados': grupo}\n",
    "    df.append(linha_df)\n",
    "polímeros_estruturados = pd.DataFrame(df)\n",
    "polímeros_estruturados"
   ]
  },
  {
   "cell_type": "code",
   "execution_count": 13,
   "metadata": {},
   "outputs": [
    {
     "data": {
      "image/png": "[encoded data removed]",
      "text/plain": [
       "<Figure size 1000x600 with 1 Axes>"
      ]
     },
     "metadata": {},
     "output_type": "display_data"
    }
   ],
   "source": [
    "import seaborn as sns\n",
    "import matplotlib.pyplot as plt\n",
    "\n",
    "\n",
    "plt.figure(figsize=(10, 6))\n",
    "\n",
    "\n",
    "sns.barplot(x=polímeros_estruturados[:10]['Quantidade_Encontrada'], y=polímeros_estruturados[:10]['Nome'], hue=polímeros_estruturados[:10]['Quantidade_Encontrada'],palette=\"viridis\")\n",
    "plt.xlabel('Frequência')\n",
    "plt.ylabel('Material')\n",
    "\n",
    "# Ajustando layout para não cortar legendas\n",
    "plt.tight_layout()\n",
    "plt.title('Polímeros OMIEC Mais Frequentes')\n",
    "# Salvando a imagem\n",
    "plt.savefig(f'images/{LLM}-{POLYTER_TYPE}{DATE}_RESPONSES_ranking.png')\n",
    "\n",
    "# Exibindo a imagem\n",
    "plt.show()\n"
   ]
  },
  {
   "cell_type": "markdown",
   "metadata": {},
   "source": [
    "Tendência de publicações sobre a temática durante os anos"
   ]
  },
  {
   "cell_type": "code",
   "execution_count": 14,
   "metadata": {},
   "outputs": [
    {
     "data": {
      "image/png": "[encoded data removed]",
      "text/plain": [
       "<Figure size 1000x600 with 1 Axes>"
      ]
     },
     "metadata": {},
     "output_type": "display_data"
    }
   ],
   "source": [
    "import seaborn as sns\n",
    "import matplotlib.pyplot as plt\n",
    "\n",
    "# Supondo que 'raw_data' seja o seu DataFrame e 'Publication Year' seja a coluna com os anos de publicação\n",
    "publication_counts = raw_data['Publication Year'].value_counts()\n",
    "\n",
    "# Ordenar os valores pela data para melhorar a visualização (opcional)\n",
    "publication_counts = publication_counts.sort_index()\n",
    "\n",
    "# Criar o gráfico de barras com Seaborn usando a paleta \"viridis\"\n",
    "plt.figure(figsize=(10, 6))\n",
    "sns.barplot(\n",
    "    x=publication_counts.index, \n",
    "    y=publication_counts.values,\n",
    "    hue=publication_counts, \n",
    "    palette=\"viridis\"  # Aplica a paleta de cores \"viridis\"\n",
    ")\n",
    "\n",
    "# Configurar o título e os rótulos dos eixos\n",
    "plt.title('Número de Publicações por Ano')\n",
    "plt.xlabel('Ano de Publicação')\n",
    "plt.ylabel('Número de Publicações')\n",
    "\n",
    "# Mostrar o gráfico\n",
    "plt.xticks(rotation=45)  # Rotaciona os rótulos do eixo x para melhor visualização\n",
    "\n",
    "# Ajustando layout para não cortar legendas\n",
    "plt.tight_layout()\n",
    "\n",
    "# Salvando a imagem\n",
    "plt.savefig(f'images/{LLM}-{POLYTER_TYPE}{DATE}_publicação_por_ano.png')\n",
    "\n",
    "plt.show()\n"
   ]
  },
  {
   "cell_type": "markdown",
   "metadata": {},
   "source": [
    "### Localizando os artigos em que aparecem os polímeros"
   ]
  },
  {
   "cell_type": "code",
   "execution_count": 15,
   "metadata": {},
   "outputs": [
    {
     "name": "stdout",
     "output_type": "stream",
     "text": [
      "BBL | Citações: 13 \n",
      " Organic electrochemical transistors (OECTs) are a rapidly advancing technology that plays a crucial role in the development of next-generation bioelectronic devices. Recent advances in p-type/n-type organic mixed ionic-electronic conductors (OMIECs) have enabled power-efficient complementary OECT technologies for various applications, such as chemical/biological sensing, large-scale logic gates, and neuromorphic computing. However, ensuring long-term operational stability remains a significant challenge that hinders their widespread adoption. While p-type OMIECs are generally more stable than n-type OMIECs, they still face limitations, especially during prolonged operations. Here, we demonstrate that simple methylation of the pyrrole-benzothiazine-based (PBBT) ladder polymer backbone results in stable and high-performance p-type OECTs. The methylated PBBT (PBBT-Me) exhibits a 25-fold increase in OECT mobility and an impressive 36-fold increase in & mu;C* (mobility x volumetric capacitance) compared to the non-methylated PBBT-H polymer. Combining the newly developed PBBT-Me with the ladder n-type poly(benzimidazobenzophenanthroline) (BBL), we developed complementary inverters with a record-high DC gain of 194 V V-1 and excellent stability. These state-of-the-art complementary inverters were used to demonstrate leaky integrate-and-fire type organic electrochemical neurons (LIF-OECNs) capable of biologically relevant firing frequencies of about 2 Hz and of operating continuously for up to 6.5 h. This achievement represents a significant improvement over previous results and holds great potential for developing stable bioelectronic circuits capable of in-sensor computing. \n",
      "\n",
      "BBL | Citações: 85 \n",
      " Organic electrochemical transistors (OECTs) are the building blocks of biosensors, neuromorphic devices, and complementary circuits. One rule in the materials design for OECTs is the inclusion of a hydrophilic component in the chemical structure to enable ion transport in the film. Here, it is shown that the ladder-type, side-chain free polymer poly(benzimidazobenzophenanthroline) (BBL) performs significantly better in OECTs than the donor-acceptor type copolymer bearing hydrophilic ethylene glycol side chains (P-90). A combination of electrochemical techniques reveals that BBL exhibits a more efficient ion-to-electron coupling and higher OECT mobility than P-90. In situ atomic force microscopy scans evidence that BBL, which swells negligibly in electrolytes, undergoes a drastic and permanent change in morphology upon electrochemical doping. In contrast, P-90 substantially swells when immersed in electrolytes and shows moderate morphology changes induced by dopant ions. Ex situ grazing incidence wide-angle X-ray scattering suggests that the particular packing of BBL crystallites is minimally affected after doping, in contrast to P-90. BBL's ability to show exceptional mixed transport is due to the crystallites' connectivity, which resists water uptake. This side chain-free route for the design of mixed conductors could bring the n-type OECT performance closer to the bar set by their p-type counterparts. \n",
      "\n"
     ]
    }
   ],
   "source": [
    "busca = 'BBL'\n",
    "\n",
    "resultado = polímeros_estruturados.loc[polímeros_estruturados['Nome'] == busca]\n",
    "for ID in list(resultado['Identificação_Encontrados'])[0]:\n",
    "    print(busca,\"| Citações:\", raw_data.loc[ID[1]]['Times Cited, All Databases'] , '\\n', raw_data.loc[ID[1]]['Abstract'], '\\n')"
   ]
  },
  {
   "cell_type": "markdown",
   "metadata": {},
   "source": [
    "### Frequência de publicação para TOP5 polímeros"
   ]
  },
  {
   "cell_type": "code",
   "execution_count": 16,
   "metadata": {},
   "outputs": [],
   "source": [
    "dfs = []\n",
    "\n",
    "for polymer in polímeros_estruturados[:5]['Nome']:\n",
    "    resultado = polímeros_estruturados.loc[polímeros_estruturados['Nome'] == polymer]\n",
    "    lista_ids = [ID[1] for ID in list(resultado['Identificação_Encontrados'])[0]]\n",
    "    publication_counts = raw_data.iloc[lista_ids]['Publication Year'].value_counts()\n",
    "    publication_counts = publication_counts.sort_index().reset_index()\n",
    "    publication_counts.columns = ['Year', 'Count']\n",
    "    publication_counts['Polymer'] = polymer\n",
    "    dfs.append(publication_counts)"
   ]
  },
  {
   "cell_type": "code",
   "execution_count": 17,
   "metadata": {},
   "outputs": [
    {
     "data": {
      "image/png": "[encoded data removed]",
      "text/plain": [
       "<Figure size 1200x600 with 1 Axes>"
      ]
     },
     "metadata": {},
     "output_type": "display_data"
    }
   ],
   "source": [
    "import seaborn as sns\n",
    "import matplotlib.pyplot as plt\n",
    "import pandas as pd\n",
    "\n",
    "dfs = []\n",
    "\n",
    "for polymer in polímeros_estruturados[:5]['Nome']:\n",
    "    resultado = polímeros_estruturados.loc[polímeros_estruturados['Nome'] == polymer]\n",
    "    lista_ids = [ID[1] for ID in list(resultado['Identificação_Encontrados'])[0]]\n",
    "    publication_counts = raw_data.iloc[lista_ids]['Publication Year'].value_counts()\n",
    "    publication_counts = publication_counts.sort_index().reset_index()\n",
    "    publication_counts.columns = ['Year', 'Count']\n",
    "    publication_counts['Polymer'] = polymer\n",
    "    dfs.append(publication_counts)\n",
    "    \n",
    "combined_df = pd.concat(dfs)\n",
    "\n",
    "# Definir o intervalo de anos que você deseja garantir\n",
    "anos_desejados = range(combined_df['Year'].min(), combined_df['Year'].max() + 1)\n",
    "\n",
    "# Criar um DataFrame de referência com todos os anos para cada polímero\n",
    "reference_df = pd.DataFrame([(polymer, year) for polymer in combined_df['Polymer'].unique() for year in anos_desejados], columns=['Polymer', 'Year'])\n",
    "\n",
    "# Mesclar com o DataFrame combinado para garantir que todos os anos estejam presentes\n",
    "combined_df = pd.merge(reference_df, combined_df, on=['Polymer', 'Year'], how='left').fillna(0)\n",
    "\n",
    "# Plotar os dados\n",
    "plt.figure(figsize=(12, 6))\n",
    "sns.lineplot(data=combined_df, x='Year', y='Count', hue='Polymer', marker='o')\n",
    "plt.title('Frequência de Publicação por Ano para os 5 Polímeros Mais Frequentes')\n",
    "plt.xlabel('Ano')\n",
    "plt.ylabel('Número de Publicações')\n",
    "plt.legend(title='Polímero')\n",
    "plt.grid(True)\n",
    "\n",
    "#plt.xlim(left=2010)\n",
    "\n",
    "plt.savefig(f'images/{LLM}-{POLYTER_TYPE}{DATE}_freq_publicação_polimero.png')\n",
    "\n",
    "plt.show()\n"
   ]
  },
  {
   "cell_type": "markdown",
   "metadata": {},
   "source": [
    "### Demais análises"
   ]
  },
  {
   "cell_type": "code",
   "execution_count": 18,
   "metadata": {},
   "outputs": [
    {
     "name": "stdout",
     "output_type": "stream",
     "text": [
      "230\n"
     ]
    }
   ],
   "source": [
    "aplicações = []\n",
    "for i in polymer_dicts:\n",
    "    app = i[list(i.keys())[0]]['Polymer Application'].split(',')\n",
    "    aplicações.extend(app)\n",
    "    '''for f in app:\n",
    "        if 'intermediate temperature solid oxide fuel cells' in f.lower():\n",
    "            print(i, '\\n')\n",
    "            print(raw_data.loc[list(i.keys())[0]]['Abstract'], '\\n')'''\n",
    "print(len(aplicações))"
   ]
  },
  {
   "cell_type": "code",
   "execution_count": 19,
   "metadata": {},
   "outputs": [],
   "source": [
    "aplicações = pd.Series([a.lower().strip() for a in aplicações ])"
   ]
  },
  {
   "cell_type": "code",
   "execution_count": 20,
   "metadata": {},
   "outputs": [
    {
     "data": {
      "text/plain": [
       "81"
      ]
     },
     "execution_count": 20,
     "metadata": {},
     "output_type": "execute_result"
    }
   ],
   "source": [
    "len(np.unique(aplicações))"
   ]
  },
  {
   "cell_type": "code",
   "execution_count": 21,
   "metadata": {},
   "outputs": [],
   "source": [
    "replacements = {\n",
    "    r\"\\borganic(?:\\s+electrochemical(?:\\s+transistors?)?)?\\b|\\belectrochemical\\s+transistors?\\b\": 'oect',\n",
    "    r\"\\b(oect|oects)\\b(?:\\s*.*)?[\\)\\']?\" : 'oect'\n",
    "}\n",
    "\n",
    "for pattern, replacement in replacements.items():\n",
    "    aplicações = aplicações.str.replace(pattern, replacement, regex=True, case=False)"
   ]
  },
  {
   "cell_type": "code",
   "execution_count": 22,
   "metadata": {},
   "outputs": [
    {
     "data": {
      "text/plain": [
       "75"
      ]
     },
     "execution_count": 22,
     "metadata": {},
     "output_type": "execute_result"
    }
   ],
   "source": [
    "len(np.unique(aplicações))"
   ]
  },
  {
   "cell_type": "code",
   "execution_count": 23,
   "metadata": {},
   "outputs": [
    {
     "data": {
      "text/plain": [
       "oect                             41\n",
       "neuromorphic                     36\n",
       "bioelectronics                   24\n",
       "neuromorphic computing           21\n",
       "biosensors                        7\n",
       "neuromorphic devices              6\n",
       "synaptic                          5\n",
       "bioelectronic                     3\n",
       "drug delivery systems             3\n",
       "biological interfacing            3\n",
       "brain-inspired computing          3\n",
       "biosensing systems                3\n",
       "artificial synapse                2\n",
       "supercapacitors                   2\n",
       "healthcare                        2\n",
       "soft robotics                     2\n",
       "wearable                          2\n",
       "bioelectronic devices             2\n",
       "energy conversion and storage     2\n",
       "neural recordings                 2\n",
       "Name: count, dtype: int64"
      ]
     },
     "execution_count": 23,
     "metadata": {},
     "output_type": "execute_result"
    }
   ],
   "source": [
    "aplicações.value_counts().head(20)"
   ]
  },
  {
   "cell_type": "markdown",
   "metadata": {},
   "source": [
    "Verificando que foi extraído sobre dopagem"
   ]
  },
  {
   "cell_type": "code",
   "execution_count": 24,
   "metadata": {},
   "outputs": [
    {
     "name": "stdout",
     "output_type": "stream",
     "text": [
      "86\n"
     ]
    }
   ],
   "source": [
    "dopado = []\n",
    "for i in polymer_dicts:\n",
    "    dop = i[list(i.keys())[0]]['Doped?'].split(',')\n",
    "    dopado.extend(dop)\n",
    "    '''for f in app:\n",
    "        if 'intermediate temperature solid oxide fuel cells' in f.lower():\n",
    "            print(i, '\\n')\n",
    "            print(raw_data.loc[list(i.keys())[0]]['Abstract'], '\\n')'''\n",
    "print(len(dopado))"
   ]
  },
  {
   "cell_type": "code",
   "execution_count": 25,
   "metadata": {},
   "outputs": [],
   "source": [
    "dopado = pd.Series([d.lower().strip().replace('-', ' ').replace('_', ' ').replace('type', 'doped') for d in dopado ])"
   ]
  },
  {
   "cell_type": "code",
   "execution_count": 26,
   "metadata": {},
   "outputs": [],
   "source": [
    "items_to_remove = [ r'^$', \n",
    "                   r'(?i)\\bnone\\b'\n",
    "                   ]\n",
    "\n",
    "    \n",
    "for item in items_to_remove:\n",
    "    dopado = dopado[~dopado.str.contains(item, regex=True)]"
   ]
  },
  {
   "cell_type": "code",
   "execution_count": 27,
   "metadata": {},
   "outputs": [
    {
     "data": {
      "text/plain": [
       "3"
      ]
     },
     "execution_count": 27,
     "metadata": {},
     "output_type": "execute_result"
    }
   ],
   "source": [
    "len(np.unique(dopado))"
   ]
  },
  {
   "cell_type": "code",
   "execution_count": 28,
   "metadata": {},
   "outputs": [
    {
     "data": {
      "text/plain": [
       "not doped    64\n",
       "p doped      14\n",
       "n doped       8\n",
       "Name: count, dtype: int64"
      ]
     },
     "execution_count": 28,
     "metadata": {},
     "output_type": "execute_result"
    }
   ],
   "source": [
    "dopado.value_counts().head(20)"
   ]
  },
  {
   "cell_type": "markdown",
   "metadata": {},
   "source": [
    "### Playground"
   ]
  },
  {
   "cell_type": "code",
   "execution_count": 29,
   "metadata": {},
   "outputs": [
    {
     "data": {
      "application/vnd.plotly.v1+json": {
       "config": {
        "plotlyServerURL": "https://plot.ly"
       },
       "data": [
        {
         "alignmentgroup": "True",
         "hovertemplate": "Publication Year=%{x}<br>Number of Publications=%{y}<br>color=%{marker.color}<extra></extra>",
         "legendgroup": "",
         "marker": {
          "color": [
           2013,
           2014,
           2015,
           2017,
           2018,
           2019,
           2020,
           2021,
           2022,
           2023,
           2024
          ],
          "coloraxis": "coloraxis",
          "pattern": {
           "shape": ""
          }
         },
         "name": "",
         "offsetgroup": "",
         "orientation": "v",
         "showlegend": false,
         "textposition": "auto",
         "type": "bar",
         "x": [
          2013,
          2014,
          2015,
          2017,
          2018,
          2019,
          2020,
          2021,
          2022,
          2023,
          2024
         ],
         "xaxis": "x",
         "y": [
          2,
          2,
          2,
          3,
          4,
          6,
          10,
          15,
          27,
          23,
          29
         ],
         "yaxis": "y"
        }
       ],
       "layout": {
        "barmode": "relative",
        "coloraxis": {
         "colorbar": {
          "title": {
           "text": "color"
          }
         },
         "colorscale": [
          [
           0,
           "#440154"
          ],
          [
           0.1111111111111111,
           "#482878"
          ],
          [
           0.2222222222222222,
           "#3e4989"
          ],
          [
           0.3333333333333333,
           "#31688e"
          ],
          [
           0.4444444444444444,
           "#26828e"
          ],
          [
           0.5555555555555556,
           "#1f9e89"
          ],
          [
           0.6666666666666666,
           "#35b779"
          ],
          [
           0.7777777777777778,
           "#6ece58"
          ],
          [
           0.8888888888888888,
           "#b5de2b"
          ],
          [
           1,
           "#fde725"
          ]
         ],
         "showscale": false
        },
        "legend": {
         "tracegroupgap": 0
        },
        "template": {
         "data": {
          "bar": [
           {
            "error_x": {
             "color": "#2a3f5f"
            },
            "error_y": {
             "color": "#2a3f5f"
            },
            "marker": {
             "line": {
              "color": "#E5ECF6",
              "width": 0.5
             },
             "pattern": {
              "fillmode": "overlay",
              "size": 10,
              "solidity": 0.2
             }
            },
            "type": "bar"
           }
          ],
          "barpolar": [
           {
            "marker": {
             "line": {
              "color": "#E5ECF6",
              "width": 0.5
             },
             "pattern": {
              "fillmode": "overlay",
              "size": 10,
              "solidity": 0.2
             }
            },
            "type": "barpolar"
           }
          ],
          "carpet": [
           {
            "aaxis": {
             "endlinecolor": "#2a3f5f",
             "gridcolor": "white",
             "linecolor": "white",
             "minorgridcolor": "white",
             "startlinecolor": "#2a3f5f"
            },
            "baxis": {
             "endlinecolor": "#2a3f5f",
             "gridcolor": "white",
             "linecolor": "white",
             "minorgridcolor": "white",
             "startlinecolor": "#2a3f5f"
            },
            "type": "carpet"
           }
          ],
          "choropleth": [
           {
            "colorbar": {
             "outlinewidth": 0,
             "ticks": ""
            },
            "type": "choropleth"
           }
          ],
          "contour": [
           {
            "colorbar": {
             "outlinewidth": 0,
             "ticks": ""
            },
            "colorscale": [
             [
              0,
              "#0d0887"
             ],
             [
              0.1111111111111111,
              "#46039f"
             ],
             [
              0.2222222222222222,
              "#7201a8"
             ],
             [
              0.3333333333333333,
              "#9c179e"
             ],
             [
              0.4444444444444444,
              "#bd3786"
             ],
             [
              0.5555555555555556,
              "#d8576b"
             ],
             [
              0.6666666666666666,
              "#ed7953"
             ],
             [
              0.7777777777777778,
              "#fb9f3a"
             ],
             [
              0.8888888888888888,
              "#fdca26"
             ],
             [
              1,
              "#f0f921"
             ]
            ],
            "type": "contour"
           }
          ],
          "contourcarpet": [
           {
            "colorbar": {
             "outlinewidth": 0,
             "ticks": ""
            },
            "type": "contourcarpet"
           }
          ],
          "heatmap": [
           {
            "colorbar": {
             "outlinewidth": 0,
             "ticks": ""
            },
            "colorscale": [
             [
              0,
              "#0d0887"
             ],
             [
              0.1111111111111111,
              "#46039f"
             ],
             [
              0.2222222222222222,
              "#7201a8"
             ],
             [
              0.3333333333333333,
              "#9c179e"
             ],
             [
              0.4444444444444444,
              "#bd3786"
             ],
             [
              0.5555555555555556,
              "#d8576b"
             ],
             [
              0.6666666666666666,
              "#ed7953"
             ],
             [
              0.7777777777777778,
              "#fb9f3a"
             ],
             [
              0.8888888888888888,
              "#fdca26"
             ],
             [
              1,
              "#f0f921"
             ]
            ],
            "type": "heatmap"
           }
          ],
          "heatmapgl": [
           {
            "colorbar": {
             "outlinewidth": 0,
             "ticks": ""
            },
            "colorscale": [
             [
              0,
              "#0d0887"
             ],
             [
              0.1111111111111111,
              "#46039f"
             ],
             [
              0.2222222222222222,
              "#7201a8"
             ],
             [
              0.3333333333333333,
              "#9c179e"
             ],
             [
              0.4444444444444444,
              "#bd3786"
             ],
             [
              0.5555555555555556,
              "#d8576b"
             ],
             [
              0.6666666666666666,
              "#ed7953"
             ],
             [
              0.7777777777777778,
              "#fb9f3a"
             ],
             [
              0.8888888888888888,
              "#fdca26"
             ],
             [
              1,
              "#f0f921"
             ]
            ],
            "type": "heatmapgl"
           }
          ],
          "histogram": [
           {
            "marker": {
             "pattern": {
              "fillmode": "overlay",
              "size": 10,
              "solidity": 0.2
             }
            },
            "type": "histogram"
           }
          ],
          "histogram2d": [
           {
            "colorbar": {
             "outlinewidth": 0,
             "ticks": ""
            },
            "colorscale": [
             [
              0,
              "#0d0887"
             ],
             [
              0.1111111111111111,
              "#46039f"
             ],
             [
              0.2222222222222222,
              "#7201a8"
             ],
             [
              0.3333333333333333,
              "#9c179e"
             ],
             [
              0.4444444444444444,
              "#bd3786"
             ],
             [
              0.5555555555555556,
              "#d8576b"
             ],
             [
              0.6666666666666666,
              "#ed7953"
             ],
             [
              0.7777777777777778,
              "#fb9f3a"
             ],
             [
              0.8888888888888888,
              "#fdca26"
             ],
             [
              1,
              "#f0f921"
             ]
            ],
            "type": "histogram2d"
           }
          ],
          "histogram2dcontour": [
           {
            "colorbar": {
             "outlinewidth": 0,
             "ticks": ""
            },
            "colorscale": [
             [
              0,
              "#0d0887"
             ],
             [
              0.1111111111111111,
              "#46039f"
             ],
             [
              0.2222222222222222,
              "#7201a8"
             ],
             [
              0.3333333333333333,
              "#9c179e"
             ],
             [
              0.4444444444444444,
              "#bd3786"
             ],
             [
              0.5555555555555556,
              "#d8576b"
             ],
             [
              0.6666666666666666,
              "#ed7953"
             ],
             [
              0.7777777777777778,
              "#fb9f3a"
             ],
             [
              0.8888888888888888,
              "#fdca26"
             ],
             [
              1,
              "#f0f921"
             ]
            ],
            "type": "histogram2dcontour"
           }
          ],
          "mesh3d": [
           {
            "colorbar": {
             "outlinewidth": 0,
             "ticks": ""
            },
            "type": "mesh3d"
           }
          ],
          "parcoords": [
           {
            "line": {
             "colorbar": {
              "outlinewidth": 0,
              "ticks": ""
             }
            },
            "type": "parcoords"
           }
          ],
          "pie": [
           {
            "automargin": true,
            "type": "pie"
           }
          ],
          "scatter": [
           {
            "fillpattern": {
             "fillmode": "overlay",
             "size": 10,
             "solidity": 0.2
            },
            "type": "scatter"
           }
          ],
          "scatter3d": [
           {
            "line": {
             "colorbar": {
              "outlinewidth": 0,
              "ticks": ""
             }
            },
            "marker": {
             "colorbar": {
              "outlinewidth": 0,
              "ticks": ""
             }
            },
            "type": "scatter3d"
           }
          ],
          "scattercarpet": [
           {
            "marker": {
             "colorbar": {
              "outlinewidth": 0,
              "ticks": ""
             }
            },
            "type": "scattercarpet"
           }
          ],
          "scattergeo": [
           {
            "marker": {
             "colorbar": {
              "outlinewidth": 0,
              "ticks": ""
             }
            },
            "type": "scattergeo"
           }
          ],
          "scattergl": [
           {
            "marker": {
             "colorbar": {
              "outlinewidth": 0,
              "ticks": ""
             }
            },
            "type": "scattergl"
           }
          ],
          "scattermapbox": [
           {
            "marker": {
             "colorbar": {
              "outlinewidth": 0,
              "ticks": ""
             }
            },
            "type": "scattermapbox"
           }
          ],
          "scatterpolar": [
           {
            "marker": {
             "colorbar": {
              "outlinewidth": 0,
              "ticks": ""
             }
            },
            "type": "scatterpolar"
           }
          ],
          "scatterpolargl": [
           {
            "marker": {
             "colorbar": {
              "outlinewidth": 0,
              "ticks": ""
             }
            },
            "type": "scatterpolargl"
           }
          ],
          "scatterternary": [
           {
            "marker": {
             "colorbar": {
              "outlinewidth": 0,
              "ticks": ""
             }
            },
            "type": "scatterternary"
           }
          ],
          "surface": [
           {
            "colorbar": {
             "outlinewidth": 0,
             "ticks": ""
            },
            "colorscale": [
             [
              0,
              "#0d0887"
             ],
             [
              0.1111111111111111,
              "#46039f"
             ],
             [
              0.2222222222222222,
              "#7201a8"
             ],
             [
              0.3333333333333333,
              "#9c179e"
             ],
             [
              0.4444444444444444,
              "#bd3786"
             ],
             [
              0.5555555555555556,
              "#d8576b"
             ],
             [
              0.6666666666666666,
              "#ed7953"
             ],
             [
              0.7777777777777778,
              "#fb9f3a"
             ],
             [
              0.8888888888888888,
              "#fdca26"
             ],
             [
              1,
              "#f0f921"
             ]
            ],
            "type": "surface"
           }
          ],
          "table": [
           {
            "cells": {
             "fill": {
              "color": "#EBF0F8"
             },
             "line": {
              "color": "white"
             }
            },
            "header": {
             "fill": {
              "color": "#C8D4E3"
             },
             "line": {
              "color": "white"
             }
            },
            "type": "table"
           }
          ]
         },
         "layout": {
          "annotationdefaults": {
           "arrowcolor": "#2a3f5f",
           "arrowhead": 0,
           "arrowwidth": 1
          },
          "autotypenumbers": "strict",
          "coloraxis": {
           "colorbar": {
            "outlinewidth": 0,
            "ticks": ""
           }
          },
          "colorscale": {
           "diverging": [
            [
             0,
             "#8e0152"
            ],
            [
             0.1,
             "#c51b7d"
            ],
            [
             0.2,
             "#de77ae"
            ],
            [
             0.3,
             "#f1b6da"
            ],
            [
             0.4,
             "#fde0ef"
            ],
            [
             0.5,
             "#f7f7f7"
            ],
            [
             0.6,
             "#e6f5d0"
            ],
            [
             0.7,
             "#b8e186"
            ],
            [
             0.8,
             "#7fbc41"
            ],
            [
             0.9,
             "#4d9221"
            ],
            [
             1,
             "#276419"
            ]
           ],
           "sequential": [
            [
             0,
             "#0d0887"
            ],
            [
             0.1111111111111111,
             "#46039f"
            ],
            [
             0.2222222222222222,
             "#7201a8"
            ],
            [
             0.3333333333333333,
             "#9c179e"
            ],
            [
             0.4444444444444444,
             "#bd3786"
            ],
            [
             0.5555555555555556,
             "#d8576b"
            ],
            [
             0.6666666666666666,
             "#ed7953"
            ],
            [
             0.7777777777777778,
             "#fb9f3a"
            ],
            [
             0.8888888888888888,
             "#fdca26"
            ],
            [
             1,
             "#f0f921"
            ]
           ],
           "sequentialminus": [
            [
             0,
             "#0d0887"
            ],
            [
             0.1111111111111111,
             "#46039f"
            ],
            [
             0.2222222222222222,
             "#7201a8"
            ],
            [
             0.3333333333333333,
             "#9c179e"
            ],
            [
             0.4444444444444444,
             "#bd3786"
            ],
            [
             0.5555555555555556,
             "#d8576b"
            ],
            [
             0.6666666666666666,
             "#ed7953"
            ],
            [
             0.7777777777777778,
             "#fb9f3a"
            ],
            [
             0.8888888888888888,
             "#fdca26"
            ],
            [
             1,
             "#f0f921"
            ]
           ]
          },
          "colorway": [
           "#636efa",
           "#EF553B",
           "#00cc96",
           "#ab63fa",
           "#FFA15A",
           "#19d3f3",
           "#FF6692",
           "#B6E880",
           "#FF97FF",
           "#FECB52"
          ],
          "font": {
           "color": "#2a3f5f"
          },
          "geo": {
           "bgcolor": "white",
           "lakecolor": "white",
           "landcolor": "#E5ECF6",
           "showlakes": true,
           "showland": true,
           "subunitcolor": "white"
          },
          "hoverlabel": {
           "align": "left"
          },
          "hovermode": "closest",
          "mapbox": {
           "style": "light"
          },
          "paper_bgcolor": "white",
          "plot_bgcolor": "#E5ECF6",
          "polar": {
           "angularaxis": {
            "gridcolor": "white",
            "linecolor": "white",
            "ticks": ""
           },
           "bgcolor": "#E5ECF6",
           "radialaxis": {
            "gridcolor": "white",
            "linecolor": "white",
            "ticks": ""
           }
          },
          "scene": {
           "xaxis": {
            "backgroundcolor": "#E5ECF6",
            "gridcolor": "white",
            "gridwidth": 2,
            "linecolor": "white",
            "showbackground": true,
            "ticks": "",
            "zerolinecolor": "white"
           },
           "yaxis": {
            "backgroundcolor": "#E5ECF6",
            "gridcolor": "white",
            "gridwidth": 2,
            "linecolor": "white",
            "showbackground": true,
            "ticks": "",
            "zerolinecolor": "white"
           },
           "zaxis": {
            "backgroundcolor": "#E5ECF6",
            "gridcolor": "white",
            "gridwidth": 2,
            "linecolor": "white",
            "showbackground": true,
            "ticks": "",
            "zerolinecolor": "white"
           }
          },
          "shapedefaults": {
           "line": {
            "color": "#2a3f5f"
           }
          },
          "ternary": {
           "aaxis": {
            "gridcolor": "white",
            "linecolor": "white",
            "ticks": ""
           },
           "baxis": {
            "gridcolor": "white",
            "linecolor": "white",
            "ticks": ""
           },
           "bgcolor": "#E5ECF6",
           "caxis": {
            "gridcolor": "white",
            "linecolor": "white",
            "ticks": ""
           }
          },
          "title": {
           "x": 0.05
          },
          "xaxis": {
           "automargin": true,
           "gridcolor": "white",
           "linecolor": "white",
           "ticks": "",
           "title": {
            "standoff": 15
           },
           "zerolinecolor": "white",
           "zerolinewidth": 2
          },
          "yaxis": {
           "automargin": true,
           "gridcolor": "white",
           "linecolor": "white",
           "ticks": "",
           "title": {
            "standoff": 15
           },
           "zerolinecolor": "white",
           "zerolinewidth": 2
          }
         }
        },
        "title": {
         "text": "Number of Publications per Year"
        },
        "xaxis": {
         "anchor": "y",
         "domain": [
          0,
          1
         ],
         "tickangle": 45,
         "title": {
          "text": "Publication Year"
         }
        },
        "yaxis": {
         "anchor": "x",
         "domain": [
          0,
          1
         ],
         "title": {
          "text": "Number of Publications"
         }
        }
       }
      }
     },
     "metadata": {},
     "output_type": "display_data"
    }
   ],
   "source": [
    "import plotly.express as px\n",
    "\n",
    "# Supondo que 'raw_data' seja o seu DataFrame e 'Publication Year' seja a coluna com os anos de publicação\n",
    "publication_counts = raw_data['Publication Year'].value_counts()\n",
    "\n",
    "# Ordenar os valores pela data para melhorar a visualização (opcional)\n",
    "publication_counts = publication_counts.sort_index()\n",
    "\n",
    "# Criar o gráfico de barras com Plotly\n",
    "fig = px.bar(\n",
    "    x=publication_counts.index, \n",
    "    y=publication_counts.values, \n",
    "    labels={'x': 'Publication Year', 'y': 'Number of Publications'},\n",
    "    title='Number of Publications per Year',\n",
    "    color=publication_counts.index,  # Adiciona cor baseado no índice (ano de publicação)\n",
    "    color_continuous_scale='viridis'  # Aplica a paleta \"viridis\"\n",
    ")\n",
    "\n",
    "# Configurar o layout\n",
    "fig.update_layout(\n",
    "    xaxis=dict(tickangle=45),  # Rotaciona os rótulos do eixo x para melhor visualização\n",
    "    yaxis_title='Number of Publications',\n",
    "    xaxis_title='Publication Year',\n",
    "    coloraxis_showscale=False  # Oculta a barra de escala de cores, se indesejado\n",
    ")\n",
    "\n",
    "# Mostrar o gráfico\n",
    "fig.show()\n"
   ]
  },
  {
   "cell_type": "code",
   "execution_count": null,
   "metadata": {},
   "outputs": [],
   "source": []
  }
 ],
 "metadata": {
  "kernelspec": {
   "display_name": "trabFinal",
   "language": "python",
   "name": "python3"
  },
  "language_info": {
   "codemirror_mode": {
    "name": "ipython",
    "version": 3
   },
   "file_extension": ".py",
   "mimetype": "text/x-python",
   "name": "python",
   "nbconvert_exporter": "python",
   "pygments_lexer": "ipython3",
   "version": "3.11.6"
  }
 },
 "nbformat": 4,
 "nbformat_minor": 2
}
