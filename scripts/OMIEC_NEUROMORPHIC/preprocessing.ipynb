{
 "cells": [
  {
   "cell_type": "code",
   "execution_count": 1,
   "metadata": {},
   "outputs": [],
   "source": [
    "import numpy as np\n",
    "import pandas as pd\n",
    "from groq import Groq\n",
    "import os\n",
    "import time"
   ]
  },
  {
   "cell_type": "code",
   "execution_count": 2,
   "metadata": {},
   "outputs": [],
   "source": [
    "response = pd.read_excel('../../dataframes/llama3-70B-OMIEC200824_0.3_temp_NEUROMORPHIC_RESPONSES_v2.xlsx')\n",
    "raw_data =  pd.read_excel('../../data/raw/OMIEC_NEUROMORPHIC_20_08_24_v2.xlsx')"
   ]
  },
  {
   "cell_type": "code",
   "execution_count": 3,
   "metadata": {},
   "outputs": [
    {
     "data": {
      "text/markdown": [
       "Organic electrochemical transistors (OECTs) have been widely researched for the next-generation electronic building blocks because of their unique property that combines highly efficient signal transduction with amplification in a single device. By virtue of materials engineering and interfacial modification, multifunctional OECTs have been reported for biological sensing, physiological signal recording, and neuromorphic processing applications. With these significant advancements, it is beneficial to reveal universal device engineering guidelines such that OECTs can be readily tailored to satisfy the specific needs of each application. In this perspective, we systematically discuss the key physical processes that influence OECT operation, which includes both steady state and transient responses. These discussions reveal the important role of fine-tuning the OECT active materials, interfacial properties, and device structures to manipulate their charge transport properties for multifunctional applications. Finally, we also share our perspectives on a few hurdles as the community moves to transform OECTs from laboratory ideas into real-world technologies."
      ],
      "text/plain": [
       "<IPython.core.display.Markdown object>"
      ]
     },
     "metadata": {},
     "output_type": "display_data"
    }
   ],
   "source": [
    "from IPython.display import display, Markdown\n",
    "\n",
    "display(Markdown(raw_data['Abstract'][98]))"
   ]
  },
  {
   "cell_type": "code",
   "execution_count": 4,
   "metadata": {},
   "outputs": [],
   "source": [
    "result = pd.concat([response, raw_data], axis=1)\n",
    "result.drop('index', axis=1, inplace=True)"
   ]
  },
  {
   "cell_type": "code",
   "execution_count": 5,
   "metadata": {},
   "outputs": [],
   "source": [
    "def prepare_corpus(df):\n",
    "    corpus = []\n",
    "    for index, row in df.iterrows():\n",
    "        for token in set(str(row['response']).replace('\\n', ';').split(';')):\n",
    "            corpus.append(token.strip().replace('/', \"-\").replace(\":\", \"-\"))\n",
    "            \n",
    "    return pd.Series(corpus)"
   ]
  },
  {
   "cell_type": "code",
   "execution_count": 6,
   "metadata": {},
   "outputs": [],
   "source": [
    "corpus = prepare_corpus(result)\n",
    "corpus = corpus[corpus != 'nan']\n",
    "corpus = corpus[corpus != '']\n",
    "corpus = corpus.reset_index(drop=True)"
   ]
  },
  {
   "cell_type": "code",
   "execution_count": 7,
   "metadata": {},
   "outputs": [
    {
     "data": {
      "text/plain": [
       "73"
      ]
     },
     "execution_count": 7,
     "metadata": {},
     "output_type": "execute_result"
    }
   ],
   "source": [
    "len(corpus)"
   ]
  },
  {
   "cell_type": "code",
   "execution_count": 8,
   "metadata": {},
   "outputs": [
    {
     "data": {
      "text/plain": [
       "44"
      ]
     },
     "execution_count": 8,
     "metadata": {},
     "output_type": "execute_result"
    }
   ],
   "source": [
    "len(np.unique(corpus))"
   ]
  },
  {
   "cell_type": "code",
   "execution_count": 9,
   "metadata": {},
   "outputs": [
    {
     "data": {
      "text/plain": [
       "array(['PEDOT', 'PEDOT-Nafion', 'PEDOT-PSS'], dtype='<U12')"
      ]
     },
     "execution_count": 9,
     "metadata": {},
     "output_type": "execute_result"
    }
   ],
   "source": [
    "np.unique(corpus[corpus.str.contains(r'PEDOT', regex=True)].values.tolist())"
   ]
  },
  {
   "cell_type": "code",
   "execution_count": 10,
   "metadata": {},
   "outputs": [],
   "source": [
    "\"\"\"replacements = {\n",
    "    r'.*\\s\\(([^)]+)\\)$': r'\\1', # para polímeros que estão no formato 'nome_polímero (abreviação_polímero)', substitui pela abreviação apenas\n",
    "    r'[Pp]oly\\(3,4-ethylenedioxythiophene\\)': 'PEDOT',\n",
    "    r'\\b[Pp]EDOT[-\\s]?[Pp]oly\\(?[0-9]*[-\\s]*styrenesulfonate\\)?\\b': 'PEDOT-PSS',\n",
    "    r'\\b[Pp]EDOT\\s*[-\\s]*PSS\\)?': 'PEDOT-PSS',\n",
    "    r'\\bPEDOT-PSS\\)$': 'PEDOT-PSS',\n",
    "    r'[Pp]olypyrrole': 'PPy',\n",
    "    r'[Pp]olyethylenedioxythiophene': 'PEDOT',\n",
    "    r'[Pp]olythiophene[s]?': 'PT',  \n",
    "    r'[Pp]oly\\((thiophene)\\)': 'PT',\n",
    "    r'[Pp]oly\\(3-methylthiophene\\)': 'P3MT',\n",
    "    r'[Pp]oly\\(3-hexylthiophene\\)': 'P3HT',\n",
    "    r'[Pp]oly\\(3-hexylthiophene[-\\d,]*diyl\\)': 'P3HT'\n",
    "\n",
    "}\"\"\"\n",
    "\n",
    "replacements = {\n",
    "    r\"(?i)PEDOT-TOS\": 'PEDOT-TOS',\n",
    "     r\"(?i)PEDOT-\\s*PSS\": 'PEDOT-PSS'\n",
    "}\n",
    "\n",
    "items_to_remove = [r'(?i)\\bmixed\\b',\n",
    "                   r'(?i)\\bnone\\b',\n",
    "                   r'MIEC.*',\n",
    "                   'based', \n",
    "                   r'[Pp]olymer',\n",
    "                   r'OECT.*',\n",
    "                   'conjug'\n",
    "                   ]\n"
   ]
  },
  {
   "cell_type": "code",
   "execution_count": 11,
   "metadata": {},
   "outputs": [],
   "source": [
    "for pattern, replacement in replacements.items():\n",
    "    corpus = corpus.str.replace(pattern, replacement, regex=True, case=False)\n",
    "    \n",
    "for item in items_to_remove:\n",
    "    corpus = corpus[~corpus.str.contains(item, regex=True)]"
   ]
  },
  {
   "cell_type": "code",
   "execution_count": 12,
   "metadata": {},
   "outputs": [
    {
     "data": {
      "text/plain": [
       "72"
      ]
     },
     "execution_count": 12,
     "metadata": {},
     "output_type": "execute_result"
    }
   ],
   "source": [
    "len(corpus)"
   ]
  },
  {
   "cell_type": "code",
   "execution_count": 13,
   "metadata": {},
   "outputs": [
    {
     "data": {
      "text/plain": [
       "43"
      ]
     },
     "execution_count": 13,
     "metadata": {},
     "output_type": "execute_result"
    }
   ],
   "source": [
    "len(corpus.unique())"
   ]
  },
  {
   "cell_type": "code",
   "execution_count": 14,
   "metadata": {},
   "outputs": [
    {
     "data": {
      "text/plain": [
       "PEDOT-PSS                                     20\n",
       "P3HT                                           7\n",
       "p(g2T-T)                                       2\n",
       "PT                                             2\n",
       "p(g2T-TT)                                      2\n",
       "BBL                                            2\n",
       "PNDI2TEG-2Tz                                   1\n",
       "ETE-COONa                                      1\n",
       "CHIT                                           1\n",
       "rr-P3HT                                        1\n",
       "PPy                                            1\n",
       "CDT-BT                                         1\n",
       "PEDOT                                          1\n",
       "NDI                                            1\n",
       "Homo-gDPP                                      1\n",
       "PNDI2OD-2Tz                                    1\n",
       "PCPDTBT-SO3K                                   1\n",
       "P(gPzDPP-CT2)                                  1\n",
       "DPP-g2T                                        1\n",
       "Nafion                                         1\n",
       "CPE-K                                          1\n",
       "PEDOT-Nafion                                   1\n",
       "P(N,N'-BisGly-NPDIBT)                          1\n",
       "PNDIODTEG-2Tz                                  1\n",
       "PPY                                            1\n",
       "ClBDOPV-TCNVT                                  1\n",
       "BDOPV-TCNVT                                    1\n",
       "Mel                                            1\n",
       "P3MEEET                                        1\n",
       "P-5O                                           1\n",
       "P-6O                                           1\n",
       "P-4O                                           1\n",
       "P-3O                                           1\n",
       "PBBT-H                                         1\n",
       "PBBT-Me                                        1\n",
       "Ru(bpy)(3)(PF6)(2)                             1\n",
       "oEG-substituted regioregular polythiophene     1\n",
       "TIIP                                           1\n",
       "gNR-Bu                                         1\n",
       "P3MEEMT                                        1\n",
       "P3T                                            1\n",
       "P3HHT                                          1\n",
       "P(VDF-TrFE)                                    1\n",
       "Name: count, dtype: int64"
      ]
     },
     "execution_count": 14,
     "metadata": {},
     "output_type": "execute_result"
    }
   ],
   "source": [
    "corpus.value_counts().head(50)"
   ]
  },
  {
   "cell_type": "code",
   "execution_count": 15,
   "metadata": {},
   "outputs": [
    {
     "name": "stderr",
     "output_type": "stream",
     "text": [
      "C:\\Users\\gustavo220061\\AppData\\Local\\Temp\\ipykernel_1740\\2760201650.py:10: FutureWarning: \n",
      "\n",
      "Passing `palette` without assigning `hue` is deprecated and will be removed in v0.14.0. Assign the `y` variable to `hue` and set `legend=False` for the same effect.\n",
      "\n",
      "  sns.barplot(x=top_10_counts.values, y=top_10_counts.index, palette=\"viridis\")\n"
     ]
    },
    {
     "data": {
      "image/png": "[encoded data removed]",
      "text/plain": [
       "<Figure size 1000x600 with 1 Axes>"
      ]
     },
     "metadata": {},
     "output_type": "display_data"
    }
   ],
   "source": [
    "import seaborn as sns\n",
    "import matplotlib.pyplot as plt\n",
    "\n",
    "top_10_counts = corpus.value_counts().head(10)\n",
    "\n",
    "# Ajustando o tamanho da figura\n",
    "plt.figure(figsize=(10, 6))\n",
    "\n",
    "# Plotando o histograma\n",
    "sns.barplot(x=top_10_counts.values, y=top_10_counts.index, palette=\"viridis\")\n",
    "plt.xlabel('Frequência')\n",
    "plt.ylabel('Material')\n",
    "\n",
    "# Ajustando layout para não cortar legendas\n",
    "plt.tight_layout()\n",
    "\n",
    "# Salvando a imagem\n",
    "#plt.savefig('gráficos/llama3-70B-OMIEC160824_RESPONSES_ranking.png')\n",
    "\n",
    "# Exibindo a imagem\n",
    "plt.show()\n"
   ]
  },
  {
   "cell_type": "markdown",
   "metadata": {},
   "source": [
    "Tendência de publicações sobre a temática durante os anos"
   ]
  },
  {
   "cell_type": "code",
   "execution_count": 16,
   "metadata": {},
   "outputs": [
    {
     "name": "stderr",
     "output_type": "stream",
     "text": [
      "C:\\Users\\gustavo220061\\AppData\\Local\\Temp\\ipykernel_1740\\3642470878.py:12: FutureWarning: \n",
      "\n",
      "Passing `palette` without assigning `hue` is deprecated and will be removed in v0.14.0. Assign the `x` variable to `hue` and set `legend=False` for the same effect.\n",
      "\n",
      "  sns.barplot(\n"
     ]
    },
    {
     "data": {
      "image/png": "[encoded data removed]",
      "text/plain": [
       "<Figure size 1000x600 with 1 Axes>"
      ]
     },
     "metadata": {},
     "output_type": "display_data"
    }
   ],
   "source": [
    "import seaborn as sns\n",
    "import matplotlib.pyplot as plt\n",
    "\n",
    "# Supondo que 'raw_data' seja o seu DataFrame e 'Publication Year' seja a coluna com os anos de publicação\n",
    "publication_counts = raw_data['Publication Year'].value_counts()\n",
    "\n",
    "# Ordenar os valores pela data para melhorar a visualização (opcional)\n",
    "publication_counts = publication_counts.sort_index()\n",
    "\n",
    "# Criar o gráfico de barras com Seaborn usando a paleta \"viridis\"\n",
    "plt.figure(figsize=(10, 6))\n",
    "sns.barplot(\n",
    "    x=publication_counts.index, \n",
    "    y=publication_counts.values, \n",
    "    palette=\"viridis\"  # Aplica a paleta de cores \"viridis\"\n",
    ")\n",
    "\n",
    "# Configurar o título e os rótulos dos eixos\n",
    "plt.title('Número de Publicações por Ano')\n",
    "plt.xlabel('Ano de Publicação')\n",
    "plt.ylabel('Número de Publicações')\n",
    "\n",
    "# Mostrar o gráfico\n",
    "plt.xticks(rotation=45)  # Rotaciona os rótulos do eixo x para melhor visualização\n",
    "\n",
    "# Ajustando layout para não cortar legendas\n",
    "plt.tight_layout()\n",
    "\n",
    "# Salvando a imagem\n",
    "plt.savefig('images/llama3-70B-OMIEC200824_NEUROMORPHIC_publicação_por_ano.png')\n",
    "\n",
    "plt.show()\n"
   ]
  },
  {
   "cell_type": "markdown",
   "metadata": {},
   "source": [
    "Localizando os artigos em que aparecem os polímeros"
   ]
  },
  {
   "cell_type": "code",
   "execution_count": 17,
   "metadata": {},
   "outputs": [
    {
     "data": {
      "text/html": [
       "<div>\n",
       "<style scoped>\n",
       "    .dataframe tbody tr th:only-of-type {\n",
       "        vertical-align: middle;\n",
       "    }\n",
       "\n",
       "    .dataframe tbody tr th {\n",
       "        vertical-align: top;\n",
       "    }\n",
       "\n",
       "    .dataframe thead th {\n",
       "        text-align: right;\n",
       "    }\n",
       "</style>\n",
       "<table border=\"1\" class=\"dataframe\">\n",
       "  <thead>\n",
       "    <tr style=\"text-align: right;\">\n",
       "      <th></th>\n",
       "      <th>response</th>\n",
       "      <th>Publication Type</th>\n",
       "      <th>Authors</th>\n",
       "      <th>Book Authors</th>\n",
       "      <th>Book Editors</th>\n",
       "      <th>Book Group Authors</th>\n",
       "      <th>Author Full Names</th>\n",
       "      <th>Book Author Full Names</th>\n",
       "      <th>Group Authors</th>\n",
       "      <th>Article Title</th>\n",
       "      <th>...</th>\n",
       "      <th>Web of Science Index</th>\n",
       "      <th>Research Areas</th>\n",
       "      <th>IDS Number</th>\n",
       "      <th>Pubmed Id</th>\n",
       "      <th>Open Access Designations</th>\n",
       "      <th>Highly Cited Status</th>\n",
       "      <th>Hot Paper Status</th>\n",
       "      <th>Date of Export</th>\n",
       "      <th>UT (Unique WOS ID)</th>\n",
       "      <th>Web of Science Record</th>\n",
       "    </tr>\n",
       "  </thead>\n",
       "  <tbody>\n",
       "    <tr>\n",
       "      <th>0</th>\n",
       "      <td>PT; NDI</td>\n",
       "      <td>J</td>\n",
       "      <td>Griggs, S; Marks, A; Meli, D; Rebetez, G; Bard...</td>\n",
       "      <td>NaN</td>\n",
       "      <td>NaN</td>\n",
       "      <td>NaN</td>\n",
       "      <td>Griggs, Sophie; Marks, Adam; Meli, Dilara; Reb...</td>\n",
       "      <td>NaN</td>\n",
       "      <td>NaN</td>\n",
       "      <td>The effect of residual palladium on the perfor...</td>\n",
       "      <td>...</td>\n",
       "      <td>Science Citation Index Expanded (SCI-EXPANDED)</td>\n",
       "      <td>Science &amp; Technology - Other Topics</td>\n",
       "      <td>9C7HY</td>\n",
       "      <td>36575179.0</td>\n",
       "      <td>gold, Green Published</td>\n",
       "      <td>NaN</td>\n",
       "      <td>NaN</td>\n",
       "      <td>2024-08-20</td>\n",
       "      <td>WOS:000935585400011</td>\n",
       "      <td>View Full Record in Web of Science</td>\n",
       "    </tr>\n",
       "    <tr>\n",
       "      <th>1</th>\n",
       "      <td>PEDOT:PSS; Mel</td>\n",
       "      <td>J</td>\n",
       "      <td>Nozella, NL; Lima, JVM; de Oliveira, RF; Graef...</td>\n",
       "      <td>NaN</td>\n",
       "      <td>NaN</td>\n",
       "      <td>NaN</td>\n",
       "      <td>Nozella, Natan Luis; Lima, Joao Victor Morais;...</td>\n",
       "      <td>NaN</td>\n",
       "      <td>NaN</td>\n",
       "      <td>Melanin/PEDOT:PSS blend as organic mixed ionic...</td>\n",
       "      <td>...</td>\n",
       "      <td>Emerging Sources Citation Index (ESCI)</td>\n",
       "      <td>Materials Science</td>\n",
       "      <td>T8ME8</td>\n",
       "      <td>NaN</td>\n",
       "      <td>gold</td>\n",
       "      <td>NaN</td>\n",
       "      <td>NaN</td>\n",
       "      <td>2024-08-20</td>\n",
       "      <td>WOS:001066878900001</td>\n",
       "      <td>View Full Record in Web of Science</td>\n",
       "    </tr>\n",
       "    <tr>\n",
       "      <th>2</th>\n",
       "      <td>P3MEEET</td>\n",
       "      <td>J</td>\n",
       "      <td>Collins, GW; Lone, MS; Jackson, SR; Keller, JN...</td>\n",
       "      <td>NaN</td>\n",
       "      <td>NaN</td>\n",
       "      <td>NaN</td>\n",
       "      <td>Collins, Garrett W.; Lone, Mohd Sajid; Jackson...</td>\n",
       "      <td>NaN</td>\n",
       "      <td>NaN</td>\n",
       "      <td>Photoluminescence Probes Ion Insertion into Am...</td>\n",
       "      <td>...</td>\n",
       "      <td>Science Citation Index Expanded (SCI-EXPANDED)</td>\n",
       "      <td>Chemistry; Science &amp; Technology - Other Topics...</td>\n",
       "      <td>RS6V7</td>\n",
       "      <td>NaN</td>\n",
       "      <td>hybrid</td>\n",
       "      <td>NaN</td>\n",
       "      <td>NaN</td>\n",
       "      <td>2024-08-20</td>\n",
       "      <td>WOS:001229699000001</td>\n",
       "      <td>View Full Record in Web of Science</td>\n",
       "    </tr>\n",
       "    <tr>\n",
       "      <th>3</th>\n",
       "      <td>NaN</td>\n",
       "      <td>J</td>\n",
       "      <td>Kim, H; Won, Y; Song, HW; Kwon, Y; Jun, M; Oh, JH</td>\n",
       "      <td>NaN</td>\n",
       "      <td>NaN</td>\n",
       "      <td>NaN</td>\n",
       "      <td>Kim, Hyunwook; Won, Yousang; Song, Hyun Woo; K...</td>\n",
       "      <td>NaN</td>\n",
       "      <td>NaN</td>\n",
       "      <td>Organic Mixed Ionic-Electronic Conductors for ...</td>\n",
       "      <td>...</td>\n",
       "      <td>Science Citation Index Expanded (SCI-EXPANDED)</td>\n",
       "      <td>Chemistry; Science &amp; Technology - Other Topics...</td>\n",
       "      <td>ZI0I9</td>\n",
       "      <td>38148583.0</td>\n",
       "      <td>gold, Green Accepted</td>\n",
       "      <td>NaN</td>\n",
       "      <td>NaN</td>\n",
       "      <td>2024-08-20</td>\n",
       "      <td>WOS:001131799400001</td>\n",
       "      <td>View Full Record in Web of Science</td>\n",
       "    </tr>\n",
       "    <tr>\n",
       "      <th>4</th>\n",
       "      <td>NaN</td>\n",
       "      <td>J</td>\n",
       "      <td>Quill, TJ; LeCroy, G; Marks, A; Hesse, SA; Thi...</td>\n",
       "      <td>NaN</td>\n",
       "      <td>NaN</td>\n",
       "      <td>NaN</td>\n",
       "      <td>Quill, Tyler J.; LeCroy, Garrett; Marks, Adam;...</td>\n",
       "      <td>NaN</td>\n",
       "      <td>NaN</td>\n",
       "      <td>Charge Carrier Induced Structural Ordering And...</td>\n",
       "      <td>...</td>\n",
       "      <td>Science Citation Index Expanded (SCI-EXPANDED)</td>\n",
       "      <td>Chemistry; Science &amp; Technology - Other Topics...</td>\n",
       "      <td>FJ7I0</td>\n",
       "      <td>38198654.0</td>\n",
       "      <td>NaN</td>\n",
       "      <td>NaN</td>\n",
       "      <td>NaN</td>\n",
       "      <td>2024-08-20</td>\n",
       "      <td>WOS:001145462600001</td>\n",
       "      <td>View Full Record in Web of Science</td>\n",
       "    </tr>\n",
       "    <tr>\n",
       "      <th>...</th>\n",
       "      <td>...</td>\n",
       "      <td>...</td>\n",
       "      <td>...</td>\n",
       "      <td>...</td>\n",
       "      <td>...</td>\n",
       "      <td>...</td>\n",
       "      <td>...</td>\n",
       "      <td>...</td>\n",
       "      <td>...</td>\n",
       "      <td>...</td>\n",
       "      <td>...</td>\n",
       "      <td>...</td>\n",
       "      <td>...</td>\n",
       "      <td>...</td>\n",
       "      <td>...</td>\n",
       "      <td>...</td>\n",
       "      <td>...</td>\n",
       "      <td>...</td>\n",
       "      <td>...</td>\n",
       "      <td>...</td>\n",
       "      <td>...</td>\n",
       "    </tr>\n",
       "    <tr>\n",
       "      <th>118</th>\n",
       "      <td>NaN</td>\n",
       "      <td>J</td>\n",
       "      <td>Doris, SE; Pierre, A; Street, RA</td>\n",
       "      <td>NaN</td>\n",
       "      <td>NaN</td>\n",
       "      <td>NaN</td>\n",
       "      <td>Doris, Sean E.; Pierre, Adrien; Street, Robert A.</td>\n",
       "      <td>NaN</td>\n",
       "      <td>NaN</td>\n",
       "      <td>Dynamic and Tunable Threshold Voltage in Organ...</td>\n",
       "      <td>...</td>\n",
       "      <td>Science Citation Index Expanded (SCI-EXPANDED)</td>\n",
       "      <td>Chemistry; Science &amp; Technology - Other Topics...</td>\n",
       "      <td>GC9EV</td>\n",
       "      <td>29498110.0</td>\n",
       "      <td>NaN</td>\n",
       "      <td>NaN</td>\n",
       "      <td>NaN</td>\n",
       "      <td>2024-08-20</td>\n",
       "      <td>WOS:000430101200030</td>\n",
       "      <td>View Full Record in Web of Science</td>\n",
       "    </tr>\n",
       "    <tr>\n",
       "      <th>119</th>\n",
       "      <td>NaN</td>\n",
       "      <td>J</td>\n",
       "      <td>Rivnay, J; Inal, S; Salleo, A; Owens, RM; Berg...</td>\n",
       "      <td>NaN</td>\n",
       "      <td>NaN</td>\n",
       "      <td>NaN</td>\n",
       "      <td>Rivnay, Jonathan; Inal, Sahika; Salleo, Albert...</td>\n",
       "      <td>NaN</td>\n",
       "      <td>NaN</td>\n",
       "      <td>Organic electrochemical transistors</td>\n",
       "      <td>...</td>\n",
       "      <td>Science Citation Index Expanded (SCI-EXPANDED)</td>\n",
       "      <td>Science &amp; Technology - Other Topics; Materials...</td>\n",
       "      <td>FY1WS</td>\n",
       "      <td>NaN</td>\n",
       "      <td>Green Submitted</td>\n",
       "      <td>NaN</td>\n",
       "      <td>NaN</td>\n",
       "      <td>2024-08-20</td>\n",
       "      <td>WOS:000426604800007</td>\n",
       "      <td>View Full Record in Web of Science</td>\n",
       "    </tr>\n",
       "    <tr>\n",
       "      <th>120</th>\n",
       "      <td>P(VDF-TrFE); P3HT</td>\n",
       "      <td>J</td>\n",
       "      <td>Kong, LA; Sun, J; Qian, C; Fu, Y; Wang, JX; Ya...</td>\n",
       "      <td>NaN</td>\n",
       "      <td>NaN</td>\n",
       "      <td>NaN</td>\n",
       "      <td>Kong, Ling -an; Sun, Jia; Qian, Chuan; Fu, Yin...</td>\n",
       "      <td>NaN</td>\n",
       "      <td>NaN</td>\n",
       "      <td>Long-term synaptic plasticity simulated in ion...</td>\n",
       "      <td>...</td>\n",
       "      <td>Science Citation Index Expanded (SCI-EXPANDED)</td>\n",
       "      <td>Materials Science; Physics</td>\n",
       "      <td>EY4YX</td>\n",
       "      <td>NaN</td>\n",
       "      <td>NaN</td>\n",
       "      <td>NaN</td>\n",
       "      <td>NaN</td>\n",
       "      <td>2024-08-20</td>\n",
       "      <td>WOS:000403985300017</td>\n",
       "      <td>View Full Record in Web of Science</td>\n",
       "    </tr>\n",
       "    <tr>\n",
       "      <th>121</th>\n",
       "      <td>P3HT</td>\n",
       "      <td>J</td>\n",
       "      <td>Qian, C; Kong, LA; Yang, JL; Gao, YL; Sun, J</td>\n",
       "      <td>NaN</td>\n",
       "      <td>NaN</td>\n",
       "      <td>NaN</td>\n",
       "      <td>Qian, Chuan; Kong, Ling-an; Yang, Junliang; Ga...</td>\n",
       "      <td>NaN</td>\n",
       "      <td>NaN</td>\n",
       "      <td>Multi-gate organic neuron transistors for spat...</td>\n",
       "      <td>...</td>\n",
       "      <td>Science Citation Index Expanded (SCI-EXPANDED)</td>\n",
       "      <td>Physics</td>\n",
       "      <td>EL6WH</td>\n",
       "      <td>NaN</td>\n",
       "      <td>NaN</td>\n",
       "      <td>NaN</td>\n",
       "      <td>NaN</td>\n",
       "      <td>2024-08-20</td>\n",
       "      <td>WOS:000394762600040</td>\n",
       "      <td>View Full Record in Web of Science</td>\n",
       "    </tr>\n",
       "    <tr>\n",
       "      <th>122</th>\n",
       "      <td>NaN</td>\n",
       "      <td>J</td>\n",
       "      <td>Gkoupidenis, P; Schaefer, N; Strakosas, X; Fai...</td>\n",
       "      <td>NaN</td>\n",
       "      <td>NaN</td>\n",
       "      <td>NaN</td>\n",
       "      <td>Gkoupidenis, Paschalis; Schaefer, Nathan; Stra...</td>\n",
       "      <td>NaN</td>\n",
       "      <td>NaN</td>\n",
       "      <td>Synaptic plasticity functions in an organic el...</td>\n",
       "      <td>...</td>\n",
       "      <td>Science Citation Index Expanded (SCI-EXPANDED)</td>\n",
       "      <td>Physics</td>\n",
       "      <td>DB3VY</td>\n",
       "      <td>NaN</td>\n",
       "      <td>NaN</td>\n",
       "      <td>NaN</td>\n",
       "      <td>NaN</td>\n",
       "      <td>2024-08-20</td>\n",
       "      <td>WOS:000368442300039</td>\n",
       "      <td>View Full Record in Web of Science</td>\n",
       "    </tr>\n",
       "  </tbody>\n",
       "</table>\n",
       "<p>123 rows × 73 columns</p>\n",
       "</div>"
      ],
      "text/plain": [
       "              response Publication Type  \\\n",
       "0              PT; NDI                J   \n",
       "1       PEDOT:PSS; Mel                J   \n",
       "2              P3MEEET                J   \n",
       "3                  NaN                J   \n",
       "4                  NaN                J   \n",
       "..                 ...              ...   \n",
       "118                NaN                J   \n",
       "119                NaN                J   \n",
       "120  P(VDF-TrFE); P3HT                J   \n",
       "121               P3HT                J   \n",
       "122                NaN                J   \n",
       "\n",
       "                                               Authors  Book Authors  \\\n",
       "0    Griggs, S; Marks, A; Meli, D; Rebetez, G; Bard...           NaN   \n",
       "1    Nozella, NL; Lima, JVM; de Oliveira, RF; Graef...           NaN   \n",
       "2    Collins, GW; Lone, MS; Jackson, SR; Keller, JN...           NaN   \n",
       "3    Kim, H; Won, Y; Song, HW; Kwon, Y; Jun, M; Oh, JH           NaN   \n",
       "4    Quill, TJ; LeCroy, G; Marks, A; Hesse, SA; Thi...           NaN   \n",
       "..                                                 ...           ...   \n",
       "118                   Doris, SE; Pierre, A; Street, RA           NaN   \n",
       "119  Rivnay, J; Inal, S; Salleo, A; Owens, RM; Berg...           NaN   \n",
       "120  Kong, LA; Sun, J; Qian, C; Fu, Y; Wang, JX; Ya...           NaN   \n",
       "121       Qian, C; Kong, LA; Yang, JL; Gao, YL; Sun, J           NaN   \n",
       "122  Gkoupidenis, P; Schaefer, N; Strakosas, X; Fai...           NaN   \n",
       "\n",
       "    Book Editors Book Group Authors  \\\n",
       "0            NaN                NaN   \n",
       "1            NaN                NaN   \n",
       "2            NaN                NaN   \n",
       "3            NaN                NaN   \n",
       "4            NaN                NaN   \n",
       "..           ...                ...   \n",
       "118          NaN                NaN   \n",
       "119          NaN                NaN   \n",
       "120          NaN                NaN   \n",
       "121          NaN                NaN   \n",
       "122          NaN                NaN   \n",
       "\n",
       "                                     Author Full Names  \\\n",
       "0    Griggs, Sophie; Marks, Adam; Meli, Dilara; Reb...   \n",
       "1    Nozella, Natan Luis; Lima, Joao Victor Morais;...   \n",
       "2    Collins, Garrett W.; Lone, Mohd Sajid; Jackson...   \n",
       "3    Kim, Hyunwook; Won, Yousang; Song, Hyun Woo; K...   \n",
       "4    Quill, Tyler J.; LeCroy, Garrett; Marks, Adam;...   \n",
       "..                                                 ...   \n",
       "118  Doris, Sean E.; Pierre, Adrien; Street, Robert A.   \n",
       "119  Rivnay, Jonathan; Inal, Sahika; Salleo, Albert...   \n",
       "120  Kong, Ling -an; Sun, Jia; Qian, Chuan; Fu, Yin...   \n",
       "121  Qian, Chuan; Kong, Ling-an; Yang, Junliang; Ga...   \n",
       "122  Gkoupidenis, Paschalis; Schaefer, Nathan; Stra...   \n",
       "\n",
       "     Book Author Full Names  Group Authors  \\\n",
       "0                       NaN            NaN   \n",
       "1                       NaN            NaN   \n",
       "2                       NaN            NaN   \n",
       "3                       NaN            NaN   \n",
       "4                       NaN            NaN   \n",
       "..                      ...            ...   \n",
       "118                     NaN            NaN   \n",
       "119                     NaN            NaN   \n",
       "120                     NaN            NaN   \n",
       "121                     NaN            NaN   \n",
       "122                     NaN            NaN   \n",
       "\n",
       "                                         Article Title  ...  \\\n",
       "0    The effect of residual palladium on the perfor...  ...   \n",
       "1    Melanin/PEDOT:PSS blend as organic mixed ionic...  ...   \n",
       "2    Photoluminescence Probes Ion Insertion into Am...  ...   \n",
       "3    Organic Mixed Ionic-Electronic Conductors for ...  ...   \n",
       "4    Charge Carrier Induced Structural Ordering And...  ...   \n",
       "..                                                 ...  ...   \n",
       "118  Dynamic and Tunable Threshold Voltage in Organ...  ...   \n",
       "119                Organic electrochemical transistors  ...   \n",
       "120  Long-term synaptic plasticity simulated in ion...  ...   \n",
       "121  Multi-gate organic neuron transistors for spat...  ...   \n",
       "122  Synaptic plasticity functions in an organic el...  ...   \n",
       "\n",
       "                               Web of Science Index  \\\n",
       "0    Science Citation Index Expanded (SCI-EXPANDED)   \n",
       "1            Emerging Sources Citation Index (ESCI)   \n",
       "2    Science Citation Index Expanded (SCI-EXPANDED)   \n",
       "3    Science Citation Index Expanded (SCI-EXPANDED)   \n",
       "4    Science Citation Index Expanded (SCI-EXPANDED)   \n",
       "..                                              ...   \n",
       "118  Science Citation Index Expanded (SCI-EXPANDED)   \n",
       "119  Science Citation Index Expanded (SCI-EXPANDED)   \n",
       "120  Science Citation Index Expanded (SCI-EXPANDED)   \n",
       "121  Science Citation Index Expanded (SCI-EXPANDED)   \n",
       "122  Science Citation Index Expanded (SCI-EXPANDED)   \n",
       "\n",
       "                                        Research Areas  IDS Number  \\\n",
       "0                  Science & Technology - Other Topics       9C7HY   \n",
       "1                                    Materials Science       T8ME8   \n",
       "2    Chemistry; Science & Technology - Other Topics...       RS6V7   \n",
       "3    Chemistry; Science & Technology - Other Topics...       ZI0I9   \n",
       "4    Chemistry; Science & Technology - Other Topics...       FJ7I0   \n",
       "..                                                 ...         ...   \n",
       "118  Chemistry; Science & Technology - Other Topics...       GC9EV   \n",
       "119  Science & Technology - Other Topics; Materials...       FY1WS   \n",
       "120                         Materials Science; Physics       EY4YX   \n",
       "121                                            Physics       EL6WH   \n",
       "122                                            Physics       DB3VY   \n",
       "\n",
       "      Pubmed Id Open Access Designations Highly Cited Status Hot Paper Status  \\\n",
       "0    36575179.0    gold, Green Published                 NaN              NaN   \n",
       "1           NaN                     gold                 NaN              NaN   \n",
       "2           NaN                   hybrid                 NaN              NaN   \n",
       "3    38148583.0     gold, Green Accepted                 NaN              NaN   \n",
       "4    38198654.0                      NaN                 NaN              NaN   \n",
       "..          ...                      ...                 ...              ...   \n",
       "118  29498110.0                      NaN                 NaN              NaN   \n",
       "119         NaN          Green Submitted                 NaN              NaN   \n",
       "120         NaN                      NaN                 NaN              NaN   \n",
       "121         NaN                      NaN                 NaN              NaN   \n",
       "122         NaN                      NaN                 NaN              NaN   \n",
       "\n",
       "    Date of Export   UT (Unique WOS ID)               Web of Science Record  \n",
       "0       2024-08-20  WOS:000935585400011  View Full Record in Web of Science  \n",
       "1       2024-08-20  WOS:001066878900001  View Full Record in Web of Science  \n",
       "2       2024-08-20  WOS:001229699000001  View Full Record in Web of Science  \n",
       "3       2024-08-20  WOS:001131799400001  View Full Record in Web of Science  \n",
       "4       2024-08-20  WOS:001145462600001  View Full Record in Web of Science  \n",
       "..             ...                  ...                                 ...  \n",
       "118     2024-08-20  WOS:000430101200030  View Full Record in Web of Science  \n",
       "119     2024-08-20  WOS:000426604800007  View Full Record in Web of Science  \n",
       "120     2024-08-20  WOS:000403985300017  View Full Record in Web of Science  \n",
       "121     2024-08-20  WOS:000394762600040  View Full Record in Web of Science  \n",
       "122     2024-08-20  WOS:000368442300039  View Full Record in Web of Science  \n",
       "\n",
       "[123 rows x 73 columns]"
      ]
     },
     "execution_count": 17,
     "metadata": {},
     "output_type": "execute_result"
    }
   ],
   "source": [
    "result"
   ]
  },
  {
   "cell_type": "code",
   "execution_count": 18,
   "metadata": {},
   "outputs": [
    {
     "name": "stderr",
     "output_type": "stream",
     "text": [
      "C:\\Users\\gustavo220061\\AppData\\Local\\Temp\\ipykernel_1740\\4170896890.py:9: FutureWarning: The behavior of DataFrame concatenation with empty or all-NA entries is deprecated. In a future version, this will no longer exclude empty or all-NA columns when determining the result dtypes. To retain the old behavior, exclude the relevant entries before the concat operation.\n",
      "  polímeros_encontrados = pd.concat([new_row_df, polímeros_encontrados], ignore_index=True)\n"
     ]
    }
   ],
   "source": [
    "polímeros_encontrados = pd.DataFrame(columns=['Nome'] + result.columns.tolist())\n",
    "\n",
    "for index, row in result.iterrows():\n",
    "    for token in set(str(row['response']).replace('\\n', ';').split(';')):\n",
    "            polimero = token.strip().replace('/', \"-\").replace(\":\", \"-\")\n",
    "            new_row = row.to_dict() \n",
    "            new_row['Nome'] = polimero\n",
    "            new_row_df = pd.DataFrame([new_row])\n",
    "            polímeros_encontrados = pd.concat([new_row_df, polímeros_encontrados], ignore_index=True)"
   ]
  },
  {
   "cell_type": "code",
   "execution_count": 19,
   "metadata": {},
   "outputs": [],
   "source": [
    "for pattern, replacement in replacements.items():\n",
    "    polímeros_encontrados['Nome'] = polímeros_encontrados['Nome'].str.replace(pattern, replacement, regex=True, case=False)"
   ]
  },
  {
   "cell_type": "code",
   "execution_count": 20,
   "metadata": {},
   "outputs": [],
   "source": [
    "for index, row in polímeros_encontrados[polímeros_encontrados['Nome'] == 'PEO'].iterrows():\n",
    "    print(row['Nome'],\"| Citações:\", row['Times Cited, All Databases'] , '\\n', row['Abstract'], '\\n')"
   ]
  },
  {
   "cell_type": "code",
   "execution_count": 21,
   "metadata": {},
   "outputs": [
    {
     "data": {
      "image/png": "[encoded data removed]",
      "text/plain": [
       "<Figure size 1200x600 with 1 Axes>"
      ]
     },
     "metadata": {},
     "output_type": "display_data"
    }
   ],
   "source": [
    "import seaborn as sns\n",
    "import matplotlib.pyplot as plt\n",
    "import pandas as pd\n",
    "\n",
    "dfs = []\n",
    "\n",
    "\n",
    "for polymer in corpus.value_counts().head(5).index:\n",
    "    publication_counts = polímeros_encontrados[polímeros_encontrados['Nome'] == polymer]['Publication Year'].value_counts()\n",
    "    publication_counts = publication_counts.sort_index().reset_index()\n",
    "    publication_counts.columns = ['Year', 'Count']\n",
    "    publication_counts['Polymer'] = polymer\n",
    "    dfs.append(publication_counts)\n",
    "\n",
    "\n",
    "combined_df = pd.concat(dfs)\n",
    "\n",
    "plt.figure(figsize=(12, 6))\n",
    "sns.lineplot(data=combined_df, x='Year', y='Count', hue='Polymer', marker='o')\n",
    "plt.title('Frequência de Publicação por Ano para os 5 Polímeros Mais Frequentes')\n",
    "plt.xlabel('Ano')\n",
    "plt.ylabel('Número de Publicações')\n",
    "plt.legend(title='Polímero')\n",
    "plt.grid(True)\n",
    "\n",
    "plt.xlim(left=2010)\n",
    "\n",
    "plt.savefig('images/llama3-70B-OMIEC190824_NEUROMORPHIC_freq_publicação_polimero.png')\n",
    "\n",
    "plt.show()\n"
   ]
  },
  {
   "cell_type": "markdown",
   "metadata": {},
   "source": [
    "### Playground"
   ]
  },
  {
   "cell_type": "markdown",
   "metadata": {},
   "source": [
    "Tendência de publicações por ano plotado com plotly"
   ]
  },
  {
   "cell_type": "code",
   "execution_count": 22,
   "metadata": {},
   "outputs": [
    {
     "ename": "ValueError",
     "evalue": "Mime type rendering requires nbformat>=4.2.0 but it is not installed",
     "output_type": "error",
     "traceback": [
      "\u001b[1;31m---------------------------------------------------------------------------\u001b[0m",
      "\u001b[1;31mValueError\u001b[0m                                Traceback (most recent call last)",
      "Cell \u001b[1;32mIn[22], line 28\u001b[0m\n\u001b[0;32m     20\u001b[0m fig\u001b[38;5;241m.\u001b[39mupdate_layout(\n\u001b[0;32m     21\u001b[0m     xaxis\u001b[38;5;241m=\u001b[39m\u001b[38;5;28mdict\u001b[39m(tickangle\u001b[38;5;241m=\u001b[39m\u001b[38;5;241m45\u001b[39m),  \u001b[38;5;66;03m# Rotaciona os rótulos do eixo x para melhor visualização\u001b[39;00m\n\u001b[0;32m     22\u001b[0m     yaxis_title\u001b[38;5;241m=\u001b[39m\u001b[38;5;124m'\u001b[39m\u001b[38;5;124mNumber of Publications\u001b[39m\u001b[38;5;124m'\u001b[39m,\n\u001b[0;32m     23\u001b[0m     xaxis_title\u001b[38;5;241m=\u001b[39m\u001b[38;5;124m'\u001b[39m\u001b[38;5;124mPublication Year\u001b[39m\u001b[38;5;124m'\u001b[39m,\n\u001b[0;32m     24\u001b[0m     coloraxis_showscale\u001b[38;5;241m=\u001b[39m\u001b[38;5;28;01mFalse\u001b[39;00m  \u001b[38;5;66;03m# Oculta a barra de escala de cores, se indesejado\u001b[39;00m\n\u001b[0;32m     25\u001b[0m )\n\u001b[0;32m     27\u001b[0m \u001b[38;5;66;03m# Mostrar o gráfico\u001b[39;00m\n\u001b[1;32m---> 28\u001b[0m \u001b[43mfig\u001b[49m\u001b[38;5;241;43m.\u001b[39;49m\u001b[43mshow\u001b[49m\u001b[43m(\u001b[49m\u001b[43m)\u001b[49m\n",
      "File \u001b[1;32mc:\\venv\\ilumpy-VS\\Lib\\site-packages\\plotly\\basedatatypes.py:3410\u001b[0m, in \u001b[0;36mBaseFigure.show\u001b[1;34m(self, *args, **kwargs)\u001b[0m\n\u001b[0;32m   3377\u001b[0m \u001b[38;5;250m\u001b[39m\u001b[38;5;124;03m\"\"\"\u001b[39;00m\n\u001b[0;32m   3378\u001b[0m \u001b[38;5;124;03mShow a figure using either the default renderer(s) or the renderer(s)\u001b[39;00m\n\u001b[0;32m   3379\u001b[0m \u001b[38;5;124;03mspecified by the renderer argument\u001b[39;00m\n\u001b[1;32m   (...)\u001b[0m\n\u001b[0;32m   3406\u001b[0m \u001b[38;5;124;03mNone\u001b[39;00m\n\u001b[0;32m   3407\u001b[0m \u001b[38;5;124;03m\"\"\"\u001b[39;00m\n\u001b[0;32m   3408\u001b[0m \u001b[38;5;28;01mimport\u001b[39;00m \u001b[38;5;21;01mplotly\u001b[39;00m\u001b[38;5;21;01m.\u001b[39;00m\u001b[38;5;21;01mio\u001b[39;00m \u001b[38;5;28;01mas\u001b[39;00m \u001b[38;5;21;01mpio\u001b[39;00m\n\u001b[1;32m-> 3410\u001b[0m \u001b[38;5;28;01mreturn\u001b[39;00m \u001b[43mpio\u001b[49m\u001b[38;5;241;43m.\u001b[39;49m\u001b[43mshow\u001b[49m\u001b[43m(\u001b[49m\u001b[38;5;28;43mself\u001b[39;49m\u001b[43m,\u001b[49m\u001b[43m \u001b[49m\u001b[38;5;241;43m*\u001b[39;49m\u001b[43margs\u001b[49m\u001b[43m,\u001b[49m\u001b[43m \u001b[49m\u001b[38;5;241;43m*\u001b[39;49m\u001b[38;5;241;43m*\u001b[39;49m\u001b[43mkwargs\u001b[49m\u001b[43m)\u001b[49m\n",
      "File \u001b[1;32mc:\\venv\\ilumpy-VS\\Lib\\site-packages\\plotly\\io\\_renderers.py:394\u001b[0m, in \u001b[0;36mshow\u001b[1;34m(fig, renderer, validate, **kwargs)\u001b[0m\n\u001b[0;32m    389\u001b[0m         \u001b[38;5;28;01mraise\u001b[39;00m \u001b[38;5;167;01mValueError\u001b[39;00m(\n\u001b[0;32m    390\u001b[0m             \u001b[38;5;124m\"\u001b[39m\u001b[38;5;124mMime type rendering requires ipython but it is not installed\u001b[39m\u001b[38;5;124m\"\u001b[39m\n\u001b[0;32m    391\u001b[0m         )\n\u001b[0;32m    393\u001b[0m     \u001b[38;5;28;01mif\u001b[39;00m \u001b[38;5;129;01mnot\u001b[39;00m nbformat \u001b[38;5;129;01mor\u001b[39;00m Version(nbformat\u001b[38;5;241m.\u001b[39m__version__) \u001b[38;5;241m<\u001b[39m Version(\u001b[38;5;124m\"\u001b[39m\u001b[38;5;124m4.2.0\u001b[39m\u001b[38;5;124m\"\u001b[39m):\n\u001b[1;32m--> 394\u001b[0m         \u001b[38;5;28;01mraise\u001b[39;00m \u001b[38;5;167;01mValueError\u001b[39;00m(\n\u001b[0;32m    395\u001b[0m             \u001b[38;5;124m\"\u001b[39m\u001b[38;5;124mMime type rendering requires nbformat>=4.2.0 but it is not installed\u001b[39m\u001b[38;5;124m\"\u001b[39m\n\u001b[0;32m    396\u001b[0m         )\n\u001b[0;32m    398\u001b[0m     ipython_display\u001b[38;5;241m.\u001b[39mdisplay(bundle, raw\u001b[38;5;241m=\u001b[39m\u001b[38;5;28;01mTrue\u001b[39;00m)\n\u001b[0;32m    400\u001b[0m \u001b[38;5;66;03m# external renderers\u001b[39;00m\n",
      "\u001b[1;31mValueError\u001b[0m: Mime type rendering requires nbformat>=4.2.0 but it is not installed"
     ]
    }
   ],
   "source": [
    "import plotly.express as px\n",
    "\n",
    "# Supondo que 'raw_data' seja o seu DataFrame e 'Publication Year' seja a coluna com os anos de publicação\n",
    "publication_counts = raw_data['Publication Year'].value_counts()\n",
    "\n",
    "# Ordenar os valores pela data para melhorar a visualização (opcional)\n",
    "publication_counts = publication_counts.sort_index()\n",
    "\n",
    "# Criar o gráfico de barras com Plotly\n",
    "fig = px.bar(\n",
    "    x=publication_counts.index, \n",
    "    y=publication_counts.values, \n",
    "    labels={'x': 'Publication Year', 'y': 'Number of Publications'},\n",
    "    title='Number of Publications per Year',\n",
    "    color=publication_counts.index,  # Adiciona cor baseado no índice (ano de publicação)\n",
    "    color_continuous_scale='viridis'  # Aplica a paleta \"viridis\"\n",
    ")\n",
    "\n",
    "# Configurar o layout\n",
    "fig.update_layout(\n",
    "    xaxis=dict(tickangle=45),  # Rotaciona os rótulos do eixo x para melhor visualização\n",
    "    yaxis_title='Number of Publications',\n",
    "    xaxis_title='Publication Year',\n",
    "    coloraxis_showscale=False  # Oculta a barra de escala de cores, se indesejado\n",
    ")\n",
    "\n",
    "# Mostrar o gráfico\n",
    "fig.show()\n"
   ]
  }
 ],
 "metadata": {
  "kernelspec": {
   "display_name": "trabFinal",
   "language": "python",
   "name": "python3"
  },
  "language_info": {
   "codemirror_mode": {
    "name": "ipython",
    "version": 3
   },
   "file_extension": ".py",
   "mimetype": "text/x-python",
   "name": "python",
   "nbconvert_exporter": "python",
   "pygments_lexer": "ipython3",
   "version": "3.11.6"
  }
 },
 "nbformat": 4,
 "nbformat_minor": 2
}
