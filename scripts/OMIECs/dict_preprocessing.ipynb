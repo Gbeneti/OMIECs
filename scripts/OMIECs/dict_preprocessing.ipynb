{
 "cells": [
  {
   "cell_type": "code",
   "execution_count": 38,
   "metadata": {},
   "outputs": [],
   "source": [
    "import numpy as np\n",
    "import pandas as pd\n",
    "from groq import Groq\n",
    "import os\n",
    "import time"
   ]
  },
  {
   "cell_type": "code",
   "execution_count": 39,
   "metadata": {},
   "outputs": [],
   "source": [
    "response = pd.read_excel('../../dataframes/llama3-70B-OMIEC190824_0.3_temp_dict2_RESPONSES.xlsx')\n",
    "raw_data =  pd.read_excel('../../data/raw/OMIEC_19_08_24.xlsx')"
   ]
  },
  {
   "cell_type": "code",
   "execution_count": 40,
   "metadata": {},
   "outputs": [
    {
     "name": "stdout",
     "output_type": "stream",
     "text": [
      "index         0\n",
      "response    532\n",
      "dtype: int64\n"
     ]
    }
   ],
   "source": [
    "nan_count = response.isna().sum()\n",
    "print(nan_count)"
   ]
  },
  {
   "cell_type": "code",
   "execution_count": 41,
   "metadata": {},
   "outputs": [],
   "source": [
    "result = pd.concat([response, raw_data], axis=1)\n",
    "result.drop('index', axis=1, inplace=True)"
   ]
  },
  {
   "cell_type": "code",
   "execution_count": 42,
   "metadata": {},
   "outputs": [],
   "source": [
    "response = response.dropna()\n",
    "responses_cleaned = response[response['response'] != '{}']\n",
    "responses_cleaned = responses_cleaned[responses_cleaned['response'] != 'None']"
   ]
  },
  {
   "cell_type": "code",
   "execution_count": 43,
   "metadata": {},
   "outputs": [],
   "source": [
    "import re\n",
    "import json\n",
    "\n",
    "def prepare_dict(df):\n",
    "    \n",
    "    all_dicts = []\n",
    "    index_nones = []\n",
    "    for index, row in df.iterrows():\n",
    "        try:\n",
    "            if \"PEDOT: PSS\" in row['response']:\n",
    "               row['response'] = row['response'].replace(\"PEDOT: PSS\", \"PEDOT:PSS\")\n",
    "            \n",
    "            if \"'Doped?:' \" in row['response']:\n",
    "                dicts = row['response'].strip().replace(\"'Doped?:'\", \"'Doped?':\").rstrip(';').split(';')\n",
    "            else:\n",
    "                dicts = row['response'].strip().rstrip(';').split(';')\n",
    "                \n",
    "            dicts = [d.strip().replace(\"'\", '\"') for d in dicts]\n",
    "            json_data = f\"[{','.join(dicts)}]\"\n",
    "            dictt = json.loads(json_data)\n",
    "        except Exception as e:\n",
    "            print(index, '\\n', row['response'], '\\n')\n",
    "            #print(row['response'].replace(\"'Doped?:'\", \"'Doped?':\"))\n",
    "            \n",
    "        for polymer in dictt:\n",
    "            #polymer['Index'] = index \n",
    "            if \"Doped?:\" in polymer:\n",
    "                polymer[\"Doped?\"] = polymer.pop(\"Doped?:\")\n",
    "\n",
    "            if 'Polymer Chemical Abbreviation' not in polymer:\n",
    "                key = list(polymer.keys())[0]\n",
    "                polymer['Polymer Chemical Abbreviation'] = polymer[key]\n",
    "                \n",
    "            if 'Polymer Mentioned Name' not in polymer:\n",
    "                polymer['Polymer Mentioned Name'] = list(polymer.keys())[0]\n",
    "                \n",
    "            new_dict = {index: polymer}\n",
    "            \n",
    "            all_dicts.append(new_dict)\n",
    "    \n",
    "    return all_dicts, index_nones\n",
    "\n"
   ]
  },
  {
   "cell_type": "code",
   "execution_count": 44,
   "metadata": {},
   "outputs": [
    {
     "name": "stdout",
     "output_type": "stream",
     "text": [
      "188 \n",
      " {(La,Si)(Co,Fe)O(3-delta): (La,Si)(Co,Fe)O(3-delta), Cathode, Not Doped} \n",
      "\n",
      "301 \n",
      " {(C6H10N2)PbI4: '(C6H10N2)PbI4', 'Polymer Chemical Abbreviation': '(C6H10N2)PbI4', 'Polymer Application': 'solar cells, light-emitting devices', 'Doped?:': 'not doped'};{(C6H10N2)(6)IPb5I21 center dot 3H(2)O: '(C6H10N2)(6)IPb5I21 center dot 3H(2)O', 'Polymer Chemical Abbreviation': '(C6H10N2)(6)IPb5I21 center dot 3H(2)O', 'Polymer Application': 'solar cells, light-emitting devices', 'Doped?:': 'not doped'} \n",
      "\n",
      "494 \n",
      " {(La,Sr)(Co,Fe)O-3: (La,Sr)(Co,Fe)O-3, 'Polymer Chemical Abbreviation': LSCF, 'Polymer Application': model mixed conducting cathode material, 'Doped?:': not doped}; \n",
      "\n",
      "547 \n",
      " {(La, Sr)(Co, Fe)O(3): (La, Sr)(Co, Fe)O(3), 'model-mixed conducting cathode material, cathode'; } \n",
      "\n",
      "865 \n",
      " {naphthalene bis-isatin dimer: naphthalene bis-isatin dimer, Polymeric Chemical Abbreviation: NBID, Polymer Application: organic electrochemical transistors, Doped?: n-doped};{gNR: gNR, Polymeric Chemical Abbreviation: gNR, Polymer Application: organic electrochemical transistors, Doped?: n-doped} \n",
      "\n",
      "1001 \n",
      " {lactone-based conjugated polymer: lactone-based conjugated polymer, : , Artificial synapse, Complementary amplifier for detecting α-synuclein: n-doped} \n",
      "\n",
      "1041 \n",
      " { 'Polymer Mentioned Name': 'N,N'-bis(salicylidene)ethylenediaminonickel (II)', 'Polymer Chemical Abbreviation':'Ni(sal-en)', 'Polymer Application': 'organic electrochemical transistors', 'Doped?:' 'not doped'};{ 'Polymer Mentioned Name': 'N,N'-bis(3-methoxysalicylidene)ethylenediaminonickel (II)', 'Polymer Chemical Abbreviation':'Ni(methoxy-sal-en)', 'Polymer Application': 'organic electrochemical transistors', 'Doped?:' 'not doped'} \n",
      "\n",
      "1048 \n",
      " {TNR: TNR, Polymer Application: organic bioelectronics, Doped?: n-doped}; {bgTNR: bgTNR, Polymer Application: organic electrochemical transistor, Doped?: n-doped} \n",
      "\n",
      "1161 \n",
      " { 'Polymer Mentioned Name': 'alkoxy-benzo[1,2-b:4,5-b']dithiophene', 'Polymer Chemical Abbreviation':'BDT', 'Polymer Application': 'organic electrochemical transistors, biological events, photovoltaics', 'Doped?:': 'not doped'}; { 'Polymer Mentioned Name': '3,3'-dimethoxy-2,2'-bithiophene', 'Polymer Chemical Abbreviation':'MeOT2', 'Polymer Application': 'organic electrochemical transistors', 'Doped?:': 'not doped'} \n",
      "\n",
      "1455 \n",
      " { 'Polymer Mentioned Name': 'poly(3,7-dihydrobenzo[1,2-b:4,5-b ']difuran-2,6-dione)', 'Polymer Chemical Abbreviation':'n-PBDF', 'Polymer Application': 'printed electronics, organic electrochemical transistors, thermoelectrics', 'Doped?:': 'n-doped'} \n",
      "\n",
      "1547 \n",
      " {naphthalene-1,4,5,8-tetracarboxylic-diimide-bithiophene: naphthalene-1,4,5,8-tetracarboxylic-diimide-bithiophene, NTDBT, electrochemical devices; } \n",
      "\n",
      "{'Polymer Mentioned Name': 'polythiophene', 'Polymer Chemical Abbreviation': 'PTh', 'Polymer Application': 'neuromorphic computing, healthcare', 'Doped?': 'p-doped'}\n",
      "{'Polymer Mentioned Name': 'naphthalene diimide-based polymer', 'Polymer Chemical Abbreviation': 'NDI', 'Polymer Application': 'neuromorphic computing, healthcare', 'Doped?': 'n-doped'}\n",
      "{'Polymer Mentioned Name': 'ethylene glycol functionalized conjugated polymers', 'Polymer Chemical Abbreviation': 'EG-CP', 'Polymer Application': 'dynamic microfiltration systems, biomedical machinery, electronic devices, organic electrochemical transistors', 'Doped?': 'not doped'}\n",
      "{'Polymer Mentioned Name': 'melanin', 'Polymer Chemical Abbreviation': 'Mel', 'Polymer Application': 'bioelectronics, neuromorphic computing, soft robotics, energy storage', 'Doped?': 'not doped'}\n",
      "{'Polymer Mentioned Name': 'poly(3,4-ethylenedioxythiophene) polystyrene sulfonate', 'Polymer Chemical Abbreviation': 'PEDOT:PSS', 'Polymer Application': 'organic electrochemical transistors, supercapacitors', 'Doped?': 'not doped'}\n",
      "{'Polymer Mentioned Name': 'poly(3,4-ethylenedioxythiophene)-poly(styrene sulfonate)', 'Polymer Chemical Abbreviation': 'PEDOT:PSS', 'Polymer Application': 'device, electrochromic', 'Doped?': 'not_doped'}\n",
      "{'Polymer Mentioned Name': 'poly(3,4-ethylenedioxythiophene) polystyrene sulfonate', 'Polymer Chemical Abbreviation': 'PEDOT:PSS', 'Polymer Application': 'artificial muscle-like actuators, microelectrodes, microactuators', 'Doped?': 'not doped'}\n",
      "{'Polymer Mentioned Name': 'poly(3,4-propylenedioxythiophene)', 'Polymer Chemical Abbreviation': 'PProDOT', 'Polymer Application': 'flexible, bio-, optoelectronics, electrochromic', 'Doped?': 'not_doped'}\n",
      "{'Polymer Mentioned Name': 'ethylenedioxythiophene', 'Polymer Chemical Abbreviation': 'EDOT', 'Polymer Application': 'organic electrochemical transistors, organic bioelectronic transducers, ionic-electronic devices', 'Doped?': 'not doped'}\n",
      "{'Polymer Mentioned Name': 'PEDOT', 'Polymer Chemical Abbreviation': 'PEDOT', 'Polymer Application': 'vertical OECTs, organic ionic transistors', 'Doped?': 'not doped'}\n",
      "{'Polymer Mentioned Name': 'poly(3,4-ethylenedioxythiophene):poly(styrenesulfonate)', 'Polymer Chemical Abbreviation': 'PEDOT:PSS', 'Polymer Application': 'bioelectronic devices, OECTs, bioelectronics', 'Doped?': 'not doped'}\n",
      "{'Polymer Mentioned Name': 'poly(3-[2-[2-(2-methoxyethoxy)ethoxy]ethyl]thiophene -2,5-diyl)', 'Polymer Chemical Abbreviation': 'P3MEEET', 'Polymer Application': 'bioelectronics, neuromorphic computing', 'Doped?': 'p-doped'}\n",
      "{'Polymer Mentioned Name': '2,2\"-bithiophene-based polymer', 'Polymer Chemical Abbreviation': 'BT', 'Polymer Application': 'transient electrochemical transistor behaviors, high-performance device design', 'Doped?': 'not doped'}\n",
      "{'Polymer Mentioned Name': 'phenylene-based polymer', 'Polymer Chemical Abbreviation': 'Ph', 'Polymer Application': 'transient electrochemical transistor behaviors, high-performance device design', 'Doped?': 'not doped'}\n",
      "{'Polymer Mentioned Name': '1,4-dithienylphenylene-based polymer', 'Polymer Chemical Abbreviation': 'DTP', 'Polymer Application': 'transient electrochemical transistor behaviors, high-performance device design', 'Doped?': 'not doped'}\n",
      "{'Polymer Mentioned Name': 'Pg2T-S', 'Polymer Chemical Abbreviation': 'Pg2T-S', 'Polymer Application': 'organic optoelectronic devices, OECTs', 'Doped?': 'not doped'}\n",
      "{'Polymer Mentioned Name': 'Pg2T-SVS', 'Polymer Chemical Abbreviation': 'Pg2T-SVS', 'Polymer Application': 'organic optoelectronic devices, OECTs', 'Doped?': 'not doped'}\n",
      "{'Polymer Mentioned Name': 'Pg2T-T', 'Polymer Chemical Abbreviation': 'Pg2T-T', 'Polymer Application': 'organic optoelectronic devices, OECTs', 'Doped?': 'not doped'}\n",
      "{'Polymer Mentioned Name': 'non-fused planar naphthalenediimide (NDI)-dialkoxybithiazole (2Tz) copolymers', 'Polymer Chemical Abbreviation': 'NDI-2Tz', 'Polymer Application': 'OECTs, bioelectronics, neuromorphic computing, biosensing systems, brain-inspired computing', 'Doped?': 'not doped'}\n",
      "{'Polymer Mentioned Name': 'poly(3,4-ethylenedioxythio-phene)/polystyrene sulfonate', 'Polymer Chemical Abbreviation': 'PEDOT/PSS', 'Polymer Application': 'energy, actuators, bioelectronics', 'Doped?': 'not_doped'}\n",
      "{'Polymer Mentioned Name': 'poly(3,4-ethlyenedioxythiophene)', 'Polymer Chemical Abbreviation': 'PEDOT', 'Polymer Application': 'bioelectronics, food packaging, agricultural sensing, control of industrial chemical processes, biological environments', 'Doped?': 'p-doped'}\n",
      "{'Polymer Mentioned Name': '2SgPDI', 'Polymer Chemical Abbreviation': '2SgPDI', 'Polymer Application': 'flexible bioelectronics, OECTs', 'Doped?': 'not_doped'}\n",
      "{'Polymer Mentioned Name': 'gPDI', 'Polymer Chemical Abbreviation': 'gPDI', 'Polymer Application': 'OECTs', 'Doped?': 'not_doped'}\n",
      "{'Polymer Mentioned Name': 'regiorandom (RRa) poly(3-hexylthiophene)', 'Polymer Chemical Abbreviation': 'P3HT', 'Polymer Application': 'electrochemical, thermal annealing', 'Doped?': 'p-doped'}\n",
      "{'Polymer Mentioned Name': 'regioregular (RR) poly(3-hexylthiophene)', 'Polymer Chemical Abbreviation': 'P3HT', 'Polymer Application': 'electrochemical, thermal annealing', 'Doped?': 'p-doped'}\n",
      "{'Polymer Mentioned Name': 'methyl substituted ladder type poly(para-phenylene)', 'Polymer Chemical Abbreviation': 'mLPPP', 'Polymer Application': 'light-emitting electrochemical cells (LECs)', 'Doped?': 'not doped'}\n",
      "{'Polymer Mentioned Name': 'naphthodithiophene diimide-based polymer', 'Polymer Chemical Abbreviation': 'NDI', 'Polymer Application': 'organic electrochemical transistors', 'Doped?': 'n-doped'}\n",
      "{'Polymer Mentioned Name': 'poly(3,4-ethylenedioxythiophene)', 'Polymer Chemical Abbreviation': 'PEDOT', 'Polymer Application': 'bioelectronics, neuromorphic computing, energy conversion and storage', 'Doped?': 'p-doped'}\n",
      "{'Polymer Mentioned Name': 'poly(3,4-ethylenedioxythiophene) polystyrene sulfonate', 'Polymer Chemical Abbreviation': 'PEDOT:PSS', 'Polymer Application': 'operating devices', 'Doped?': 'p-doped'}\n",
      "{'Polymer Mentioned Name': 'naphthalene diimide (NDI)-based small-molecule OMIECs', 'Polymer Chemical Abbreviation': 'gNDI-Br-2', 'Polymer Application': 'organic electrochemical transistors (OECTs), bioelectronic, energy storage devices', 'Doped?': 'n-doped'}\n",
      "{'Polymer Mentioned Name': 'glycolated polythiophene materials', 'Polymer Chemical Abbreviation': 'P3MEEET', 'Polymer Application': 'bioelectronics, organic electrochemical transistors', 'Doped?': 'not doped'}\n",
      "{'Polymer Mentioned Name': 'glycolated conjugated polymers based on a fused-ring cyclopentadithiophene (CPDT) skeleton', 'Polymer Chemical Abbreviation': 'CPDT', 'Polymer Application': 'organic electrochemical transistors (OECTs), flexible devices', 'Doped?': 'not doped'}\n",
      "{'Polymer Mentioned Name': 'classical 3,4-propylenedioxythiophene-alt-phenylene yellow copolymer', 'Polymer Chemical Abbreviation': 'PProDOT-Ph', 'Polymer Application': 'electrochromic displays, electrochromic', 'Doped?': 'not_doped'}\n",
      "{'Polymer Mentioned Name': 'pyrrole-benzothiazine-based', 'Polymer Chemical Abbreviation': 'PBBT', 'Polymer Application': 'chemical/biological sensing, large-scale logic gates, neuromorphic computing', 'Doped?': 'p-type'}\n",
      "{'Polymer Mentioned Name': 'methylated PBBT', 'Polymer Chemical Abbreviation': 'PBBT-Me', 'Polymer Application': 'chemical/biological sensing, large-scale logic gates, neuromorphic computing', 'Doped?': 'p-type'}\n",
      "{'Polymer Mentioned Name': 'poly(benzimidazobenzophenanthroline)', 'Polymer Chemical Abbreviation': 'BBL', 'Polymer Application': 'chemical/biological sensing, large-scale logic gates, neuromorphic computing', 'Doped?': 'n-type'}\n",
      "{'Polymer Mentioned Name': 'poly(benzimidazobenzophenanthroline)', 'Polymer Chemical Abbreviation': 'BBL', 'Polymer Application': 'OECTs, complementary inverters, power-efficient organic (bio-)electronic devices', 'Doped?': 'n-doped'}\n",
      "{'Polymer Mentioned Name': 'PEDOT:PSS', 'Polymer Chemical Abbreviation': 'PEDOT:PSS', 'Polymer Application': 'OECT channel materials, organic electrochemical transistor', 'Doped?': 'not doped'}\n",
      "{'Polymer Mentioned Name': 'poly(3-hexylthiophene)', 'Polymer Chemical Abbreviation': 'P3HT', 'Polymer Application': 'devices', 'Doped?': 'electrochemical doping'}\n",
      "{'Polymer Mentioned Name': 'polyaniline/poly (4-styrene sulfonic acid) composite films', 'Polymer Chemical Abbreviation': 'PANI/PSS', 'Polymer Application': 'photoconductivity applications', 'Doped?': 'not doped'}\n",
      "{'Polymer Mentioned Name': 'PTBT-P', 'Polymer Chemical Abbreviation': 'PTBT-P', 'Polymer Application': 'OECTs, electrochemical random-access memories', 'Doped?': 'not_doped'}\n",
      "{'Polymer Mentioned Name': 'PTTBT-P', 'Polymer Chemical Abbreviation': 'PTTBT-P', 'Polymer Application': 'OECTs, electrochemical random-access memories', 'Doped?': 'not_doped'}\n",
      "{'Polymer Mentioned Name': 'p(g(7)NC(n)N)', 'Polymer Chemical Abbreviation': 'p(g(7)NC(n)N)', 'Polymer Application': 'OECT', 'Doped?': 'not doped'}\n",
      "{'Polymer Mentioned Name': 'p(g(7)NC(10)N)', 'Polymer Chemical Abbreviation': 'p(g(7)NC(10)N)', 'Polymer Application': 'OECT', 'Doped?': 'not doped'}\n",
      "{'Polymer Mentioned Name': 'p(g(7)NC(4)N)', 'Polymer Chemical Abbreviation': 'p(g(7)NC(4)N)', 'Polymer Application': 'OECT, OTE', 'Doped?': 'p-doped'}\n",
      "{'Polymer Mentioned Name': 'PE2gTT', 'Polymer Chemical Abbreviation': 'PE2gTT', 'Polymer Application': 'organic electrochemical transistors', 'Doped?': 'not doped'}\n",
      "{'Polymer Mentioned Name': 'PE2gT', 'Polymer Chemical Abbreviation': 'PE2gT', 'Polymer Application': 'organic electrochemical transistors, bioelectronics', 'Doped?': 'not doped'}\n",
      "{'Polymer Mentioned Name': 'PT2gTT', 'Polymer Chemical Abbreviation': 'PT2gTT', 'Polymer Application': 'organic electrochemical transistors', 'Doped?': 'not doped'}\n",
      "{'Polymer Mentioned Name': 'PT2gT', 'Polymer Chemical Abbreviation': 'PT2gT', 'Polymer Application': 'organic electrochemical transistors', 'Doped?': 'not doped'}\n",
      "{'Polymer Mentioned Name': 'PEO-PEDOT', 'Polymer Chemical Abbreviation': 'PEO-PEDOT', 'Polymer Application': 'electronic, energy-related', 'Doped?': 'not doped'}\n",
      "{'Polymer Mentioned Name': 'p(g2T-T)', 'Polymer Chemical Abbreviation': 'p(g2T-T)', 'Polymer Application': 'bioelectronics, biomedical, bio-implantable', 'Doped?': 'p-doped'}\n",
      "{'Polymer Mentioned Name': 'Homo-gDPP', 'Polymer Chemical Abbreviation': 'Homo-gDPP', 'Polymer Application': 'bioelectronics, biomedical, bio-implantable', 'Doped?': 'n-doped'}\n",
      "{'Polymer Mentioned Name': 'hPDI[3]-C-11', 'Polymer Chemical Abbreviation': 'hPDI[3]-C-11', 'Polymer Application': 'organic electrochemical transistors, glucose sensor, electrochemical inverter', 'Doped?': 'n-doped'}\n",
      "{'Polymer Mentioned Name': 'hPDI[3]-H', 'Polymer Chemical Abbreviation': 'hPDI[3]-H', 'Polymer Application': 'organic electrochemical transistors, glucose sensor, electrochemical inverter', 'Doped?': 'n-doped'}\n",
      "{'Polymer Mentioned Name': 'semicrystalline regioregular polythiophene', 'Polymer Chemical Abbreviation': 'PT', 'Polymer Application': 'biosensors, flexible energy storage devices, neuromorphic computing platforms', 'Doped?': 'not doped'}\n",
      "{'Polymer Mentioned Name': 'P(NDIMTEG-T)', 'Polymer Chemical Abbreviation': 'PNDT', 'Polymer Application': 'OECTs', 'Doped?': 'n-doped'}\n",
      "{'Polymer Mentioned Name': 'poly[2-methoxy-5-(2-ethylhexyloxy)-1,4-phenylenevinylene]', 'Polymer Chemical Abbreviation': 'MEH-PPV', 'Polymer Application': 'organic light-emitting electrochemical cell', 'Doped?': 'p-doped'}\n",
      "{'Polymer Mentioned Name': 'poly(ethylene oxide)', 'Polymer Chemical Abbreviation': 'PEO', 'Polymer Application': 'electrolyte network', 'Doped?': 'not doped'}\n",
      "{'Polymer Mentioned Name': 'polymeric organic mixed ionic-electronic conductor', 'Polymer Chemical Abbreviation': '', 'Polymer Application': 'infrasound detection, aviation industry, optimization of wind turbines', 'Doped?': 'not doped'}\n",
      "{'Polymer Mentioned Name': 'Ru(bpy)(3)(PF6)(2)', 'Polymer Chemical Abbreviation': 'Ru(bpy)(3)(PF6)(2)', 'Polymer Application': 'memristor, STP, synaptic plasticity, learning rule', 'Doped?': 'not doped'}\n",
      "{'Polymer Mentioned Name': 'TIIP', 'Polymer Chemical Abbreviation': 'TIIP', 'Polymer Application': 'bioelectronic sensing, circuits, neuromorphic hardware', 'Doped?': 'not doped'}\n",
      "{'Polymer Mentioned Name': 'CPE-K', 'Polymer Chemical Abbreviation': 'CPE-K', 'Polymer Application': 'batteries, organic electrochemical transistors, electrochemical sensors', 'Doped?': 'not doped'}\n",
      "{'eSoil': 'eSoil', 'Polymer Chemical Abbreviation': '', 'Polymer Application': 'bioelectronic growth scaffold, hydroponics, plant growth, fertilizer use, crop yield', 'Doped?': 'not doped', 'Polymer Mentioned Name': 'eSoil'}\n",
      "{'Polymer Mentioned Name': 'poly(3,4-propylene dioxythiophene)', 'Polymer Chemical Abbreviation': 'PProDOT', 'Polymer Application': 'organic electrochemical devices', 'Doped?': 'not_doped'}\n",
      "{'Polymer Mentioned Name': 'gIDT-BBT', 'Polymer Chemical Abbreviation': 'gIDT-BBT', 'Polymer Application': 'organic electrochemical transistors, complementary logic circuits, electrooculogram recording', 'Doped?': 'not doped'}\n",
      "{'Polymer Mentioned Name': 'homopolymer based on an alkoxy thiophene monomer', 'Polymer Chemical Abbreviation': 'P3HOTS(-)TMA(+)', 'Polymer Application': 'bioelectronic', 'Doped?': 'self-doped'}\n",
      "{'Polymer Mentioned Name': 'copolymer with a thiophene carrying ethylene glycol side chains', 'Polymer Chemical Abbreviation': 'P3HOTS(-)TMA(+)-co-P3MEEET', 'Polymer Application': 'bioelectronic', 'Doped?': 'self-doped'}\n",
      "{'Polymer Mentioned Name': 'non-doped homopolymer', 'Polymer Chemical Abbreviation': 'P3MEEET', 'Polymer Application': 'organic electrochemical transistor', 'Doped?': 'not doped'}\n",
      "{'Polymer Mentioned Name': 'diketopyrrolopyrrole (DPP)-based copolymers', 'Polymer Chemical Abbreviation': 'DPP', 'Polymer Application': 'electrochemical signal transduction, synaptic plasticity, manufacturing of organic electronics', 'Doped?': 'not doped'}\n",
      "{'ionic arylenediimides': 'ionic arylenediimides', 'Polymer Chemical Abbreviation': 'IAD', 'Polymer Application': 'organic mixed ionic-electronic conductors', 'Doped?': 'not doped', 'Polymer Mentioned Name': 'ionic arylenediimides'}\n",
      "{'viologens': 'viologens', 'Polymer Chemical Abbreviation': 'V', 'Polymer Application': '', 'Doped?': 'not doped', 'Polymer Mentioned Name': 'viologens'}\n",
      "{'electron-rich ionic arylenediimides': 'electron-rich ionic arylenediimides', 'Polymer Chemical Abbreviation': 'ERIAD', 'Polymer Application': '', 'Doped?': 'not doped', 'Polymer Mentioned Name': 'electron-rich ionic arylenediimides'}\n",
      "{'naphthalenediimides': 'naphthalenediimides', 'Polymer Chemical Abbreviation': 'NDI', 'Polymer Application': '', 'Doped?': 'not doped', 'Polymer Mentioned Name': 'naphthalenediimides'}\n",
      "{'Polymer Mentioned Name': 'glycolated polythiophene', 'Polymer Chemical Abbreviation': 'p(g3T2)', 'Polymer Application': 'bioelectronic devices, recording and stimulating electrodes, transistors-based sensors and actuators, mechanical actuators, mechanostimulation devices', 'Doped?': 'electrochemically doped'}\n",
      "{'Polymer Mentioned Name': 'poly(3-hexylthiophene-2,5-diyl)', 'Polymer Chemical Abbreviation': 'P3HT', 'Polymer Application': 'storage, transport', 'Doped?': 'not doped'}\n",
      "{'Polymer Mentioned Name': 'poly(ethylene oxide)', 'Polymer Chemical Abbreviation': 'PEO', 'Polymer Application': 'storage, transport', 'Doped?': 'not doped'}\n",
      "{'Polymer Mentioned Name': 'Conjugated polyelectrolytes', 'Polymer Chemical Abbreviation': 'CPE', 'Polymer Application': 'bio-interfacing electronics, energy harvesting and storage devices', 'Doped?': 'not doped'}\n",
      "{'Polymer Mentioned Name': 'f-BTI2g-TVTCN', 'Polymer Chemical Abbreviation': 'f-BTI2g-TVTCN', 'Polymer Application': 'OECTs, biosensors, low-power complementary circuits', 'Doped?': 'n-doped'}\n",
      "{'Polymer Mentioned Name': 'f-BTI2g-TVT', 'Polymer Chemical Abbreviation': 'f-BTI2g-TVT', 'Polymer Application': 'OECTs', 'Doped?': 'n-doped'}\n",
      "{'Polymer Mentioned Name': 'P1', 'Polymer Chemical Abbreviation': 'PT', 'Polymer Application': 'OECTs, bioelectronics, optoelectronics, energy storage devices', 'Doped?': 'not doped'}\n",
      "{'Polymer Mentioned Name': 'P2', 'Polymer Chemical Abbreviation': 'PT', 'Polymer Application': 'OECTs, bioelectronics, optoelectronics, energy storage devices', 'Doped?': 'not doped'}\n",
      "{'Polymer Mentioned Name': 'P3', 'Polymer Chemical Abbreviation': 'PT', 'Polymer Application': 'OECTs, bioelectronics, optoelectronics, energy storage devices', 'Doped?': 'not doped'}\n",
      "{'Polymer Mentioned Name': 'PEDOT-PBA', 'Polymer Chemical Abbreviation': 'PEDOT-PBA', 'Polymer Application': 'glucose detection, biological sensing', 'Doped?': 'not doped'}\n",
      "{'Polymer Mentioned Name': 'thiophene-based trimer', 'Polymer Chemical Abbreviation': '', 'Polymer Application': 'zinc cation detection, biological signal transduction, organic electrochemical transistors', 'Doped?': 'not doped'}\n",
      "{'Polymer Mentioned Name': 'polythiophene', 'Polymer Chemical Abbreviation': 'PTh', 'Polymer Application': 'in situ biosensors, flexible energy storage devices, neuromorphic computing platforms', 'Doped?': 'p-doped'}\n",
      "{'Polymer Mentioned Name': 'polythiophene bearing carboxyl-butyl side chains', 'Polymer Chemical Abbreviation': 'PT-CB', 'Polymer Application': 'organic electrochemical transistors, (bio)-sensing', 'Doped?': 'not doped'}\n",
      "{'Polymer Mentioned Name': 'poly(3,4-ethylenedioxythiophene)/poly(4-styrenesulfonate)', 'Polymer Chemical Abbreviation': 'PEDOT:PSS', 'Polymer Application': 'solid-state lithium-metal batteries, cathodes, solid-state electrolytes', 'Doped?': 'not doped'}\n",
      "{'Polymer Mentioned Name': 'poly(vinylidene fluoride)', 'Polymer Chemical Abbreviation': 'PVDF', 'Polymer Application': 'binder', 'Doped?': 'not_doped'}\n",
      "{'Polymer Mentioned Name': 'poly[norbornene-1,2bis(C(O)OPEDOT)](25)-b-[norbornene-1,2-bis-(C(O)PEG(12))](25)', 'Polymer Chemical Abbreviation': 'PEDOT-b-PEG', 'Polymer Application': 'cathode binder', 'Doped?': 'not_doped'}\n",
      "{'Polymer Mentioned Name': 'poly(3,4-ethylenedioxythiophene)', 'Polymer Chemical Abbreviation': 'PEDOT', 'Polymer Application': 'electronic conductivity', 'Doped?': 'not_doped'}\n",
      "{'Polymer Mentioned Name': 'poly(ethylene glycol)', 'Polymer Chemical Abbreviation': 'PEG', 'Polymer Application': 'ionic conductivity', 'Doped?': 'not_doped'}\n",
      "{'Polymer Mentioned Name': 'pgBTTT', 'Polymer Chemical Abbreviation': 'pgBTTT', 'Polymer Application': 'bioelectronics, thermoelectrics', 'Doped?': 'not doped'}\n",
      "{'Polymer Mentioned Name': 'p(g2T-TT)', 'Polymer Chemical Abbreviation': 'p(g2T-TT)', 'Polymer Application': 'bioelectronics, thermoelectrics', 'Doped?': 'not doped'}\n",
      "{'Polymer Mentioned Name': 'an organic mixed ionic-electronic conducting polymer', 'Polymer Chemical Abbreviation': '', 'Polymer Application': 'neuromorphic devices, machine learning, artificial neural networks', 'Doped?': 'not doped'}\n",
      "{'Polymer Mentioned Name': 'poly(3,4-ethylenedioxythiophene)', 'Polymer Chemical Abbreviation': 'PEDOT', 'Polymer Application': 'bioelectronics, biosensors, energy conversion and storage, optoelectronics', 'Doped?': 'not doped'}\n",
      "{'Polymer Mentioned Name': 'EDOTS', 'Polymer Chemical Abbreviation': 'EDOTS', 'Polymer Application': 'bioelectronics', 'Doped?': 'not doped'}\n",
      "{'Polymer Mentioned Name': 'EDOTCOOH', 'Polymer Chemical Abbreviation': 'EDOTCOOH', 'Polymer Application': 'bioelectronics', 'Doped?': 'not doped'}\n",
      "{'Polymer Mentioned Name': 'poly(3-hexylthiophene)', 'Polymer Chemical Abbreviation': 'P3HT', 'Polymer Application': 'neuromorphic computing, bioelectronics, energy harvesting', 'Doped?': 'not_doped'}\n",
      "{'Polymer Mentioned Name': 'poly(benzodifurandione)', 'Polymer Chemical Abbreviation': 'PBFDO', 'Polymer Application': 'electrophysiological, OECTs', 'Doped?': 'n-doped'}\n",
      "{'Polymer Mentioned Name': 'poly(3,4-ethylenedioxythiophene):poly(styrene sulfonate)', 'Polymer Chemical Abbreviation': 'PEDOT:PSS', 'Polymer Application': 'bioelectronics, sensors, actuators, charge storage devices, electrochromic displays', 'Doped?': 'not doped'}\n",
      "{'Polymer Mentioned Name': 'p(N-T)', 'Polymer Chemical Abbreviation': 'p(N-T)', 'Polymer Application': 'organic electrochemical transistor, thin film transistors, bioelectronic devices', 'Doped?': 'n-doped'}\n",
      "{'Polymer Mentioned Name': 'PEDOT:PSS', 'Polymer Chemical Abbreviation': 'PEDOT:PSS', 'Polymer Application': 'binder, cathode formulation, solid-state battery', 'Doped?': 'not doped'}\n",
      "{'Polymer Mentioned Name': 'C(2)mpyrFSI', 'Polymer Chemical Abbreviation': 'C(2)mpyrFSI', 'Polymer Application': 'ionic conductor, binder, solid-state battery', 'Doped?': 'not doped'}\n",
      "{'Polymer Mentioned Name': 'C(2)mpyrTFSI', 'Polymer Chemical Abbreviation': 'C(2)mpyrTFSI', 'Polymer Application': 'ionic conductor, binder, solid-state battery', 'Doped?': 'not doped'}\n",
      "{'Polymer Mentioned Name': 'poly(3,4-ethylene dioxythiophene) poly(styrene sulfonate)', 'Polymer Chemical Abbreviation': 'PEDOT:PSS', 'Polymer Application': 'bioelectronics, energy generation, energy storage, neuromorphic computing', 'Doped?': 'p-doped'}\n",
      "{'Polymer Mentioned Name': 'PDPP-mEG', 'Polymer Chemical Abbreviation': 'PDPP-mEG', 'Polymer Application': 'organic electrochemical transistors, OECTs', 'Doped?': 'p-doped'}\n",
      "{'Polymer Mentioned Name': 'PDPP-4EG', 'Polymer Chemical Abbreviation': 'PDPP-4EG', 'Polymer Application': 'organic electrochemical transistors, OECTs', 'Doped?': 'p-doped'}\n",
      "{'Polymer Mentioned Name': 'f-BTI2g-TVTF', 'Polymer Chemical Abbreviation': 'f-BTI2g-TVTF', 'Polymer Application': 'organic electrochemical transistors, organic thermoelectrics, OECT-based inverter amplifier', 'Doped?': 'n-doped'}\n",
      "{'Polymer Mentioned Name': 'f-BTI2g-TVTCl', 'Polymer Chemical Abbreviation': 'f-BTI2g-TVTCl', 'Polymer Application': 'organic electrochemical transistors, organic thermoelectrics', 'Doped?': 'n-doped'}\n",
      "{'Polymer Mentioned Name': 'f-BTI2g-TVT', 'Polymer Chemical Abbreviation': 'f-BTI2g-TVT', 'Polymer Application': 'organic electrochemical transistors', 'Doped?': 'n-doped'}\n",
      "{'Polymer Mentioned Name': 'halide perovskites', 'Polymer Chemical Abbreviation': 'CsPbBr3', 'Polymer Application': 'optoelectronic communication systems, electroluminescence, photodetection, multifunctional optoelectronic devices', 'Doped?': 'not doped'}\n",
      "{'Polymer Mentioned Name': 'indacenodithiophene-co-benzothiadiazole', 'Polymer Chemical Abbreviation': 'IDTBT', 'Polymer Application': 'interfacing biological systems with organic electronics, organic electrochemical transistor', 'Doped?': 'electrochemically doped'}\n",
      "{'Polymer Mentioned Name': 'La0.5Sr0.5FeO3-delta', 'Polymer Chemical Abbreviation': 'LSF', 'Polymer Application': 'oxygen-selective membranes', 'Doped?': 'not doped'}\n",
      "{'Polymer Mentioned Name': 'Pr x Ce1-x O2-delta', 'Polymer Chemical Abbreviation': 'PCO', 'Polymer Application': 'flat optics, optical tuning, spatial control, optical switching', 'Doped?': 'not doped'}\n",
      "{'Polymer Mentioned Name': 'Ba3Ti3O6(BO3)(2)', 'Polymer Chemical Abbreviation': 'BTO', 'Polymer Application': 'solid-oxide fuel-cell anodes, anode composites', 'Doped?': 'not doped'}\n",
      "{'Polymer Mentioned Name': 'La0.65Ca0.35FeO3-delta', 'Polymer Chemical Abbreviation': 'LCaF', 'Polymer Application': 'cathode, SOFCs', 'Doped?': 'not doped'}\n",
      "{'Polymer Mentioned Name': 'La0.6Sr0.4Co0.2Fe0.8O3-delta', 'Polymer Chemical Abbreviation': 'LSCoF', 'Polymer Application': 'oxygen permeation membranes, cathode', 'Doped?': 'not doped'}\n",
      "{'Polymer Mentioned Name': 'Gd-doped CeO2', 'Polymer Chemical Abbreviation': 'GDC', 'Polymer Application': 'composite cathode', 'Doped?': 'p-doped'}\n",
      "{'Polymer Mentioned Name': 'La0.6Sr0.4CoO3-', 'Polymer Chemical Abbreviation': 'LCO', 'Polymer Application': 'mixed ionic electronic conductor', 'Doped?': 'not doped'}\n",
      "{'Cu2O': 'Cu2O', 'Polymer Chemical Abbreviation': 'Cu2O', 'Polymer Application': 'ion blocking electrodes', 'Doped?': 'not_doped', 'Polymer Mentioned Name': 'Cu2O'}\n",
      "{'Polymer Mentioned Name': 'poly(ethylene oxide)', 'Polymer Chemical Abbreviation': 'PEO', 'Polymer Application': 'electrical conductivity, lithium-ion conductivities', 'Doped?': 'not doped'}\n",
      "{'Polymer Mentioned Name': 'poly(ethylene glycol)', 'Polymer Chemical Abbreviation': 'PEG', 'Polymer Application': 'electrical conductivity, lithium-ion conductivities', 'Doped?': 'not doped'}\n",
      "{'Polymer Mentioned Name': 'poly(3,4-ethylenedioxidethiophene)/poly(styrene sulfonate)', 'Polymer Chemical Abbreviation': 'PEDOT:PSS', 'Polymer Application': 'ultra-sensitive bioelectronic sensors, organic bioelectronics', 'Doped?': 'not doped'}\n",
      "{'Polymer Mentioned Name': 'PEDOT/X', 'Polymer Chemical Abbreviation': 'PEDOT:X', 'Polymer Application': 'ion exchange, pharmacological activity', 'Doped?': 'not doped'}\n",
      "{'(Ba0.5Sr0.5)(Co0.8Fe0.2)O3-delta': 'BSCF', 'Polymer Application': 'oxygen transport membrane', 'Doped?': 'not doped', 'Polymer Chemical Abbreviation': 'BSCF', 'Polymer Mentioned Name': '(Ba0.5Sr0.5)(Co0.8Fe0.2)O3-delta'}\n",
      "{'(Ba0.5Sr0.5)(Co0.8Fe0.2)O3-delta': 'BSCF', 'Polymer Application': 'oxygen transport membrane', 'Doped?': 'Y-doped', 'Polymer Chemical Abbreviation': 'BSCF', 'Polymer Mentioned Name': '(Ba0.5Sr0.5)(Co0.8Fe0.2)O3-delta'}\n",
      "{'Polymer Mentioned Name': 'poly(3,4-ethyelenedioxythiophene)-polystyrene sulfonate', 'Polymer Chemical Abbreviation': 'PEDOT-PSS', 'Polymer Application': 'thermoelectric', 'Doped?': 'not_doped'}\n",
      "{'Polymer Mentioned Name': 'methylammonium lead iodide', 'Polymer Chemical Abbreviation': 'MAPI', 'Polymer Application': 'optoelectronic devices, solar cells', 'Doped?': 'not doped'}\n",
      "{'Polymer Mentioned Name': 'GdBa0.5Sr0.5CoFeO5+delta', 'Polymer Chemical Abbreviation': 'GBSCF', 'Polymer Application': 'cathode material, intermediate temperature solid oxide fuel cells', 'Doped?': 'not doped'}\n",
      "{'Polymer Mentioned Name': 'polyvinylpyrrolidone', 'Polymer Chemical Abbreviation': 'PVP', 'Polymer Application': 'electrolyte, electrochemical cell', 'Doped?': 'not doped'}\n",
      "{'Polymer Mentioned Name': 'g2T2-gBT6', 'Polymer Chemical Abbreviation': 'g2T2-gBT6', 'Polymer Application': 'energy storage devices', 'Doped?': 'not doped'}\n",
      "{'Polymer Mentioned Name': 'g2T2-gBT4', 'Polymer Chemical Abbreviation': 'g2T2-gBT4', 'Polymer Application': 'organic electrochemical transistors (OECTs)', 'Doped?': 'not doped'}\n",
      "{'Polymer Mentioned Name': 'emeraldine salt of polyaniline', 'Polymer Chemical Abbreviation': 'ES-PANI', 'Polymer Application': 'field-effect transistors', 'Doped?': 'not doped'}\n",
      "{'Polymer Mentioned Name': 'LiMn2O4', 'Polymer Chemical Abbreviation': 'LiMn2O4', 'Polymer Application': 'lithium-ion battery', 'Doped?': 'not_doped'}\n",
      "{'luminescent conjugated polymer': 'luminescent conjugated polymer', 'Polymer Chemical Abbreviation': '', 'Polymer Application': 'light-emitting, electroluminescence', 'Doped?': 'p-doped, n-doped', 'Polymer Mentioned Name': 'luminescent conjugated polymer'}\n",
      "{'polymer electrolyte': 'polymer electrolyte', 'Polymer Chemical Abbreviation': '', 'Polymer Application': '', 'Doped?': 'not doped', 'Polymer Mentioned Name': 'polymer electrolyte'}\n",
      "{'Polymer Mentioned Name': 'PEO', 'Polymer Chemical Abbreviation': 'PEO', 'Polymer Application': 'electrical conductivity, mobility, transport number measurements', 'Doped?': 'not doped'}\n",
      "{'Polymer Mentioned Name': 'Ti3C2Tx MXene', 'Polymer Chemical Abbreviation': 'Ti3C2Tx', 'Polymer Application': 'energy-related applications', 'Doped?': 'not doped'}\n",
      "{'Polymer Mentioned Name': 'La0.6Ca0.4Co0.5Fe0.5O3-delta', 'Polymer Chemical Abbreviation': 'LCCF', 'Polymer Application': 'CO2 conversion, renewable energy usage, product separation', 'Doped?': 'not doped'}\n",
      "{'Polymer Mentioned Name': 'poly(ethylene oxide)', 'Polymer Chemical Abbreviation': 'PEO', 'Polymer Application': 'fuel cells, batteries, sensors, supercapacitors', 'Doped?': 'not doped'}\n",
      "{'Polymer Mentioned Name': 'electroactive polymers', 'Polymer Chemical Abbreviation': 'EP', 'Polymer Application': 'computer simulation of mass transfer in thin films, redox behavior', 'Doped?': 'not doped'}\n",
      "{'Polymer Mentioned Name': 'f-BTI2g-SVSCN', 'Polymer Chemical Abbreviation': 'f-BTI2g-SVSCN', 'Polymer Application': 'OECTs,biosensors', 'Doped?': 'n-doped'}\n",
      "{'Polymer Mentioned Name': 'f-BSeI2g-SVSCN', 'Polymer Chemical Abbreviation': 'f-BSeI2g-SVSCN', 'Polymer Application': 'OECTs,biosensors,glucose sensor', 'Doped?': 'n-doped'}\n",
      "{'Polymer Mentioned Name': 'gNR', 'Polymer Chemical Abbreviation': 'gNR', 'Polymer Application': 'OECTs', 'Doped?': 'n-doped'}\n",
      "{'Polymer Mentioned Name': 'hgNR', 'Polymer Chemical Abbreviation': 'hgNR', 'Polymer Application': 'OECTs', 'Doped?': 'n-doped'}\n",
      "{'Polymer Mentioned Name': 'SrCo0.8Fe0.2O3-delta', 'Polymer Chemical Abbreviation': 'SrCo0.8Fe0.2O3-delta', 'Polymer Application': 'oxygen perm-selective solid oxide membrane, porous electrodes, oxygen permeability, oxygen flux', 'Doped?': 'acceptor doped'}\n",
      "{'Polymer Mentioned Name': 'perovskite Pr0.5Ba0.5CoO3-delta', 'Polymer Chemical Abbreviation': 'Pr0.5Ba0.5CoO3-delta', 'Polymer Application': 'oxygen evolution reaction, electrochemical cells', 'Doped?': 'not doped'}\n",
      "{'Polymer Mentioned Name': 'strontium- and iron-doped lanthanum cobaltite', 'Polymer Chemical Abbreviation': 'LSFC', 'Polymer Application': 'solid oxide cell oxygen electrodes, fuel cell, co-electrolysis of steam and carbon dioxide', 'Doped?': 'p-doped'}\n",
      "{'Polymer Mentioned Name': 'La0.8Sr0.2Ga0.8Fe0.2O3', 'Polymer Chemical Abbreviation': 'LSGF8282', 'Polymer Application': 'cathode materials, intermediate temperature solid oxide fuel cells', 'Doped?': 'doped'}\n",
      "{'Polymer Mentioned Name': 'La0.7Sr0.3CuO3', 'Polymer Chemical Abbreviation': 'LSC7310', 'Polymer Application': 'cathode materials, intermediate temperature solid oxide fuel cells', 'Doped?': 'doped'}\n",
      "{'Polymer Mentioned Name': 'La2Cu0.8Co0.2O4', 'Polymer Chemical Abbreviation': 'LCC2082', 'Polymer Application': 'cathode materials, intermediate temperature solid oxide fuel cells', 'Doped?': 'doped'}\n",
      "{'Polymer Mentioned Name': 'LaCu0.3Co0.7O3', 'Polymer Chemical Abbreviation': 'LCC1037', 'Polymer Application': 'cathode materials, intermediate temperature solid oxide fuel cells', 'Doped?': 'doped'}\n",
      "{'Polymer Mentioned Name': 'La0.8Sr0.2Ga0.8Fe0.2O3', 'Polymer Chemical Abbreviation': 'LSGF8282', 'Polymer Application': 'cathode materials, intermediate temperature solid oxide fuel cells', 'Doped?': 'doped'}\n",
      "{'Polymer Mentioned Name': 'La0.7Sr0.3CuO3', 'Polymer Chemical Abbreviation': 'LSC7310', 'Polymer Application': 'cathode materials, intermediate temperature solid oxide fuel cells', 'Doped?': 'doped'}\n",
      "{'Polymer Mentioned Name': 'La2Cu0.8Co0.2O4', 'Polymer Chemical Abbreviation': 'LCC2082', 'Polymer Application': 'cathode materials, intermediate temperature solid oxide fuel cells', 'Doped?': 'doped'}\n",
      "{'Polymer Mentioned Name': 'LaCu0.3Co0.7O3', 'Polymer Chemical Abbreviation': 'LCC1037', 'Polymer Application': 'cathode materials, intermediate temperature solid oxide fuel cells', 'Doped?': 'doped'}\n",
      "{'Polymer Mentioned Name': 'PPP-OR11', 'Polymer Chemical Abbreviation': 'PPP-OR11', 'Polymer Application': 'light-emitting electrochemical cells, light emitting diodes', 'Doped?': 'not doped'}\n",
      "{'Polymer Mentioned Name': 'PEDOT', 'Polymer Chemical Abbreviation': 'PEDOT', 'Polymer Application': 'pH sensing, chemical, biological', 'Doped?': 'p-doped'}\n",
      "{'Polymer Mentioned Name': 'NDI-T2-based polymer', 'Polymer Chemical Abbreviation': 'NDI-T2', 'Polymer Application': 'bioelectronic device, organic electrochemical transistor (OECT)', 'Doped?': 'n-doped'}\n",
      "{'Polymer Mentioned Name': 'NDI-T2-based polymer with methoxy substitution', 'Polymer Chemical Abbreviation': 'NDI-T2-methoxy', 'Polymer Application': 'bioelectronic device, organic electrochemical transistor (OECT)', 'Doped?': 'ambipolar'}\n",
      "{'Polymer Mentioned Name': 'NDI-T2-based polymer with EG side chain', 'Polymer Chemical Abbreviation': 'NDI-T2-EG', 'Polymer Application': 'bioelectronic device, organic electrochemical transistor (OECT)', 'Doped?': 'n-doped'}\n",
      "{'Polymer Mentioned Name': 'NDI-T2-based polymer with six-carbon spacer', 'Polymer Chemical Abbreviation': 'NDI-T2-6C', 'Polymer Application': 'bioelectronic device, organic electrochemical transistor (OECT)', 'Doped?': 'n-doped'}\n",
      "{'Polymer Mentioned Name': 'La0.5Sr0.5Fe0.8Ga0.2O3-delta', 'Polymer Chemical Abbreviation': 'LSFGO', 'Polymer Application': 'isotope exchange, oxygen permeability, electrical conductivity relaxation', 'Doped?': 'not_doped'}\n",
      "{'Polymer Mentioned Name': 'BaTiO(3)', 'Polymer Chemical Abbreviation': 'BaTiO3', 'Polymer Application': 'oxidation, reduction', 'Doped?': 'acceptor-doped, donor-doped, not doped'}\n",
      "{'Polymer Mentioned Name': 'TiO(2)', 'Polymer Chemical Abbreviation': 'TiO2', 'Polymer Application': 'oxidation, reduction', 'Doped?': 'not doped'}\n",
      "{'Polymer Mentioned Name': 'SrCeO(3)', 'Polymer Chemical Abbreviation': 'SrCeO3', 'Polymer Application': 'oxidation, reduction, hydration, dehydration', 'Doped?': 'acceptor-doped'}\n",
      "{'Polymer Mentioned Name': 'BaCeO(3)', 'Polymer Chemical Abbreviation': 'BaCeO3', 'Polymer Application': 'oxidation, reduction, hydration, dehydration', 'Doped?': 'acceptor-doped'}\n",
      "{'Polymer Mentioned Name': 'polyvinyl pyrrolidone', 'Polymer Chemical Abbreviation': 'PVP', 'Polymer Application': 'battery', 'Doped?': 'not doped'}\n",
      "{'Polymer Mentioned Name': 'polyvinyl alcohol', 'Polymer Chemical Abbreviation': 'PVA', 'Polymer Application': 'battery', 'Doped?': 'not doped'}\n",
      "{'Polymer Mentioned Name': 'Cu2O', 'Polymer Chemical Abbreviation': 'Cu2O', 'Polymer Application': 'semiconductor industry, thin layers, low resistance, fast response', 'Doped?': 'not doped'}\n",
      "{'Polymer Mentioned Name': 'P(gTDPP2FT)', 'Polymer Chemical Abbreviation': 'P(gTDPP2FT)', 'Polymer Application': 'logic circuits, sensors', 'Doped?': 'n-doped'}\n",
      "{'Polymer Mentioned Name': 'Sr0.25Bi0.5FeO3-delta', 'Polymer Chemical Abbreviation': 'SBF', 'Polymer Application': 'gas separation, electrosynthesis, removal of pollutants, methane conversion', 'Doped?': 'not doped'}\n",
      "{'Polymer Mentioned Name': 'poly(3,4-ethylenedioxythiophene)', 'Polymer Chemical Abbreviation': 'PEDOT', 'Polymer Application': 'wearable sensors, bioelectrodes, strain sensors, conformal electrodes', 'Doped?': 'not doped'}\n",
      "{'Polymer Mentioned Name': 'hyaluronic acid', 'Polymer Chemical Abbreviation': 'HA', 'Polymer Application': 'noninvasive stimulation, electrotherapeutics', 'Doped?': 'not doped'}\n",
      "{'Polymer Mentioned Name': 'acrylonitrile butadiene copolymer latex', 'Polymer Chemical Abbreviation': 'NBR', 'Polymer Application': 'noninvasive stimulation, electrotherapeutics', 'Doped?': 'not doped'}\n",
      "{'Polymer Mentioned Name': 'poly(ethylene oxide)', 'Polymer Chemical Abbreviation': 'PEO', 'Polymer Application': 'solid polymer electrolyte, electrochemical cell', 'Doped?': 'not doped'}\n",
      "{'Polymer Mentioned Name': 'poly(3,4-ethylenedioxythiophene)', 'Polymer Chemical Abbreviation': 'PEDOT', 'Polymer Application': 'organic bioelectronics', 'Doped?': 'p-doped'}\n",
      "{'Polymer Mentioned Name': 'poly(styrenesulfonate)', 'Polymer Chemical Abbreviation': 'PSS', 'Polymer Application': 'none', 'Doped?': 'not doped'}\n",
      "{'Polymer Mentioned Name': 'La0.75Sr0.25Cr0.9Fe0.1O3-delta', 'Polymer Chemical Abbreviation': 'LSCF', 'Polymer Application': 'cathode electrode, electrolysis, H2O electrolysis, H2O-CO2 co-electrolysis', 'Doped?': 'not doped'}\n",
      "{'Polymer Mentioned Name': 'Pr0.1Ce0.9O2-delta', 'Polymer Chemical Abbreviation': 'Pr0.1Ce0.9O2-delta', 'Polymer Application': 'adaptive thin film optical devices, electro-tuning of optical constants', 'Doped?': 'not doped'}\n",
      "{'Polymer Mentioned Name': 'La27W3.5Mo1.5O55.5-delta', 'Polymer Chemical Abbreviation': 'LWM', 'Polymer Application': 'steam methane reforming, high temperature processes, hydrogen permeability', 'Doped?': 'not doped'}\n",
      "{'Polymer Mentioned Name': 'La0.87Sr0.13CrO3-delta', 'Polymer Chemical Abbreviation': 'LSC', 'Polymer Application': 'steam methane reforming, high temperature processes, hydrogen permeability', 'Doped?': 'not doped'}\n",
      "{'Polymer Mentioned Name': 'La2NiO4', 'Polymer Chemical Abbreviation': 'La2NiO4', 'Polymer Application': 'dynamic conductivity analysis', 'Doped?': 'not doped'}\n",
      "{'Polymer Mentioned Name': 'La2CuO4', 'Polymer Chemical Abbreviation': 'La2CuO4', 'Polymer Application': 'dynamic conductivity analysis', 'Doped?': 'not doped'}\n",
      "{'p-MIECs': 'p-MIECs', 'Polymer Chemical Abbreviation': 'p-MIECs', 'Polymer Application': 'Galvanic cells', 'Doped?': 'not_doped', 'Polymer Mentioned Name': 'p-MIECs'}\n",
      "{'conjugated polymer semiconductors': 'conjugated polymer semiconductors', 'Polymer Chemical Abbreviation': 'CPS', 'Polymer Application': 'MIECs', 'Doped?': 'not_doped', 'Polymer Mentioned Name': 'conjugated polymer semiconductors'}\n",
      "{'polymer electrolytes': 'polymer electrolytes', 'Polymer Chemical Abbreviation': 'PE', 'Polymer Application': 'p-MIECs', 'Doped?': 'not_doped', 'Polymer Mentioned Name': 'polymer electrolytes'}\n",
      "{'Polymer Mentioned Name': 'poly(3-hexylthiophene)', 'Polymer Chemical Abbreviation': 'P3HT', 'Polymer Application': 'energy storage, bioelectronic devices', 'Doped?': 'p-doped'}\n",
      "{'Polymer Mentioned Name': 'La0.8Sr0.2MnO3', 'Polymer Chemical Abbreviation': 'LSM', 'Polymer Application': 'cathode materials, solid oxide fuel cells', 'Doped?': 'not doped'}\n",
      "{'Polymer Mentioned Name': '(La0.87Ca0.13)(0.95)MnO3', 'Polymer Chemical Abbreviation': 'LCM', 'Polymer Application': 'cathode materials, solid oxide fuel cells', 'Doped?': 'not doped'}\n",
      "{'Polymer Mentioned Name': 'Sr0.5Sm0.5CoO3-delta', 'Polymer Chemical Abbreviation': 'SSC', 'Polymer Application': 'cathode materials, mixed ionic/electronic conductors', 'Doped?': 'not doped'}\n",
      "{'Polymer Mentioned Name': 'La0.6Sr0.4Fe0.8Co0.2O3-delta', 'Polymer Chemical Abbreviation': 'LSFC', 'Polymer Application': 'cathode materials, mixed ionic/electronic conductors', 'Doped?': 'not doped'}\n",
      "{'Polymer Mentioned Name': 'metal hydrides', 'Polymer Chemical Abbreviation': 'MH', 'Polymer Application': 'solid state ionic systems', 'Doped?': 'not doped'}\n",
      "{'Polymer Mentioned Name': 'LixV2O5', 'Polymer Chemical Abbreviation': 'LixV2O5', 'Polymer Application': 'optical actuator, waveguide, photonic integrated circuit', 'Doped?': 'not doped'}\n",
      "{'Polymer Mentioned Name': 'CH3NH3PbI3', 'Polymer Chemical Abbreviation': 'CH3NH3PbI3', 'Polymer Application': 'optoelectronic devices, solar cells, photovoltaic', 'Doped?': 'not doped'}\n",
      "{'Polymer Mentioned Name': 'None', 'Polymer Chemical Abbreviation': 'None', 'Polymer Application': 'None', 'Doped?': 'None'}\n",
      "{'Polymer Mentioned Name': 'Ce0.8Gd0.2O2-delta-CoFe2O4', 'Polymer Chemical Abbreviation': 'Ce0.8Gd0.2O2-delta-CoFe2O4', 'Polymer Application': 'diverse applications', 'Doped?': 'not doped'}\n",
      "{'Polymer Mentioned Name': 'alpha\"-Ag2+deltaTe', 'Polymer Chemical Abbreviation': 'alpha\"-Ag2+deltaTe', 'Polymer Application': 'electrochemical cell, galvanic cell, solid-state', 'Doped?': 'not_doped'}\n",
      "{'Polymer Mentioned Name': 'PDI-based n-type small molecules', 'Polymer Chemical Abbreviation': 'diPDI', 'Polymer Application': 'organic electrochemical transistors', 'Doped?': 'n-doped'}\n",
      "{'Polymer Mentioned Name': 'fused n-type small molecules', 'Polymer Chemical Abbreviation': 'naphthalene bis-isatin and rhodanine acceptor units', 'Polymer Application': 'organic electrochemical transistors', 'Doped?': 'n-doped'}\n",
      "{'Polymer Mentioned Name': 'isoindigo-based polymers', 'Polymer Chemical Abbreviation': 'isoindigo', 'Polymer Application': 'organic electrochemical transistors', 'Doped?': 'not doped'}\n",
      "{'Polymer Mentioned Name': 'lactone-based conjugated polymers', 'Polymer Chemical Abbreviation': 'lactone', 'Polymer Application': 'organic electrochemical transistors', 'Doped?': 'not doped'}\n",
      "{'Polymer Mentioned Name': 'naphthalene tetracarboxylic diimide copolymers', 'Polymer Chemical Abbreviation': 'naphthalene tetracarboxylic diimide', 'Polymer Application': 'aqueous-based electrochemical devices', 'Doped?': 'not doped'}\n",
      "{'Polymer Mentioned Name': 'cyclopentadithiophene-alt-benzothiadiazole', 'Polymer Chemical Abbreviation': 'CPDT-BT', 'Polymer Application': 'accumulation mode organic electrochemical transistors (OECTs)', 'Doped?': 'not_doped'}\n",
      "{'Polymer Mentioned Name': 'Poly(3,4-ethylenedioxythiophene): Polystyrene sulfonate', 'Polymer Chemical Abbreviation': 'PEDOT:PSS', 'Polymer Application': 'biologically-functionalized organic electrochemical transistor, detect ovalbumin antigens', 'Doped?': 'not doped'}\n",
      "{'Polymer Mentioned Name': 'conducting polymer', 'Polymer Chemical Abbreviation': 'CP', 'Polymer Application': 'microwave resonators, metadevices, antennas, cloaking technologies', 'Doped?': 'not doped'}\n",
      "{'Polymer Mentioned Name': 'None', 'Polymer Chemical Abbreviation': 'None', 'Polymer Application': 'fuel cells, batteries, capacitors', 'Doped?': 'not_doped'}\n",
      "{'Polymer Mentioned Name': 'PEDOT:PSS-like', 'Polymer Chemical Abbreviation': 'PEDOT:PSS', 'Polymer Application': 'organic electrochemical transistors, OECTs', 'Doped?': 'not doped'}\n",
      "{'Polymer Mentioned Name': 'poly(3,4-ethylenedioxythiophene): polystyrene sulfonate', 'Polymer Chemical Abbreviation': 'PEDOT:PSS', 'Polymer Application': 'wire organic electrochemical transistors, plant growth status monitoring, ion signals detection, sodium ion concentration testing', 'Doped?': 'not doped'}\n",
      "{'Polymer Mentioned Name': 'polyethylene oxide', 'Polymer Chemical Abbreviation': 'PEO', 'Polymer Application': 'electrolyte, electrochemical cell', 'Doped?': 'not doped'}\n",
      "{'Ln(2)Ni(0.8)Cu(0.2)O(4)': 'Ln(2)Ni(0.8)Cu(0.2)O(4)', 'Polymer Chemical Abbreviation': 'Ln(2)Ni(0.8)Cu(0.2)O(4)', 'Polymer Application': 'permeation membranes, fuel cell electrodes', 'Doped?': 'not doped', 'Polymer Mentioned Name': 'Ln(2)Ni(0.8)Cu(0.2)O(4)'}\n",
      "{'Polymer Mentioned Name': 'Gd1-xCaxCoO3-d', 'Polymer Chemical Abbreviation': 'GCC', 'Polymer Application': 'amperometric sensor system, membranes', 'Doped?': 'not doped'}\n",
      "{'Polymer Mentioned Name': 'La1-xSrxCo1-yCuyO3-d', 'Polymer Chemical Abbreviation': '', 'Polymer Application': '', 'Doped?': 'not doped'}\n",
      "{'Polymer Mentioned Name': 'Gd1-xCaxCoO3-d / Ce1-xGdxO2-d', 'Polymer Chemical Abbreviation': 'GCCCGO', 'Polymer Application': 'amperometric sensor system, membranes', 'Doped?': 'not doped'}\n",
      "{'Polymer Mentioned Name': 'poly(3,4-ethylenedioxythiophene)', 'Polymer Chemical Abbreviation': 'PEDOT', 'Polymer Application': 'organic electrochemical transistor arrays, interface with aqueous electrolytes', 'Doped?': 'p-doped'}\n",
      "{'Polymer Mentioned Name': 'poly(styrene sulfonate)', 'Polymer Chemical Abbreviation': 'PSS', 'Polymer Application': 'dopant', 'Doped?': 'dopant'}\n",
      "{'thiophene backbone with glycolated side chains': 'thiophene-glycol', 'Polymer Application': 'electrolyte-gated transistors, OECTs, electrochromism, volumetric capacitance', 'Doped?': 'not doped', 'Polymer Chemical Abbreviation': 'thiophene-glycol', 'Polymer Mentioned Name': 'thiophene backbone with glycolated side chains'}\n",
      "{'Polymer Mentioned Name': 'polyimide', 'Polymer Chemical Abbreviation': 'polyimide', 'Polymer Application': 'microfabrication, biosensors', 'Doped?': 'not doped'}\n",
      "{'Polymer Mentioned Name': 'parylene C', 'Polymer Chemical Abbreviation': 'parylene C', 'Polymer Application': 'microfabrication, biosensors', 'Doped?': 'not doped'}\n",
      "{'Polymer Mentioned Name': 'poly(3,4-ethylenedioxythiophene):poly(styrene sulfonate)', 'Polymer Chemical Abbreviation': 'PEDOT:PSS', 'Polymer Application': 'OECTs, biosensors, transistor, logic, inverters, glucose biosensors', 'Doped?': 'not doped'}\n",
      "{'Polymer Mentioned Name': 'polyaniline', 'Polymer Chemical Abbreviation': 'PANI', 'Polymer Application': 'advanced fibrous devices, frontier fabric electronics, tactile sensor, electrochemical transistor', 'Doped?': 'not doped'}\n",
      "{'LixTiO2': 'LixTiO2', 'Polymer Chemical Abbreviation': 'LixTiO2', 'Polymer Application': 'Lithium-sulfur batteries, cycling stability, sulfur electrode', 'Doped?': 'not doped', 'Polymer Mentioned Name': 'LixTiO2'}\n",
      "{'LixTiO2': 'LixTiO2', 'Polymer Chemical Abbreviation': 'LixTiO2', 'Polymer Application': 'Lithium-sulfur batteries, cycling stability, sulfur electrode', 'Doped?': 'not doped', 'Polymer Mentioned Name': 'LixTiO2'}\n",
      "{'Polymer Mentioned Name': 'poly[3-(6-hydroxy)hexylthiophene]', 'Polymer Chemical Abbreviation': 'P3HHT', 'Polymer Application': 'batteries, bioelectronics technologies, neuromorphic computing, sensing', 'Doped?': 'not doped'}\n",
      "{'Polymer Mentioned Name': 'poly(3,4-ethylenedioxythiophene):polystyrene sulfonate', 'Polymer Chemical Abbreviation': 'PEDOT:PSS', 'Polymer Application': 'batteries, bioelectronics technologies, neuromorphic computing, sensing', 'Doped?': 'not doped'}\n",
      "{'Polymer Mentioned Name': 'poly(2-(3,3 \" -bis(2-(2-(2-methoxyethoxy)ethoxy)ethoxy)-[2,2 \" -bithiophen]-5-yl)thieno[3,2-b]thiophene)', 'Polymer Chemical Abbreviation': 'p(g2T-TT)', 'Polymer Application': 'bioelectronics', 'Doped?': 'not doped'}\n",
      "{'Polymer Mentioned Name': 'poly 3,4-ethylenedioxythiophene: polystyrene sulfonate', 'Polymer Chemical Abbreviation': 'PEDOT:PSS', 'Polymer Application': 'bioelectronics, physiological signals, skin conductance, sweat volume, sensor, bioelectronic applications', 'Doped?': 'not doped'}\n",
      "{'Polymer Mentioned Name': 'LaxSr1-xFeO3', 'Polymer Chemical Abbreviation': 'LSF', 'Polymer Application': 'On Board Diagnostic, electrochemical sensors, potentiometric, amperometric', 'Doped?': 'Sr-doped'}\n",
      "{'Polymer Mentioned Name': 'Ti0.99Ga0.01O2-delta', 'Polymer Chemical Abbreviation': 'Ti0.99Ga0.01O2-delta', 'Polymer Application': 'isothermal electrochemical applications', 'Doped?': 'not doped'}\n",
      "{'Polymer Mentioned Name': 'Ce0.8Pr0.2O2-delta', 'Polymer Chemical Abbreviation': 'Ce0.8Pr0.2O2-delta', 'Polymer Application': 'isothermal electrochemical applications', 'Doped?': 'not doped'}\n",
      "{'Polymer Mentioned Name': 'La2NiO4+delta', 'Polymer Chemical Abbreviation': 'La2NiO4+delta', 'Polymer Application': 'isothermal electrochemical applications', 'Doped?': 'not doped'}\n",
      "{'Polymer Mentioned Name': 'SrFe0.5Ti0.5O3-6', 'Polymer Chemical Abbreviation': 'SFT50', 'Polymer Application': 'gas sensors, H-2 sensing', 'Doped?': 'not doped'}\n",
      "{'Polymer Mentioned Name': 'None', 'Polymer Chemical Abbreviation': 'None', 'Polymer Application': 'fuel cell', 'Doped?': 'not doped'}\n",
      "{'Polymer Mentioned Name': 'poly(p-phenylene)', 'Polymer Chemical Abbreviation': 'PPP', 'Polymer Application': 'supply, control', 'Doped?': 'not doped'}\n",
      "{'Polymer Mentioned Name': 'oligo(ethylene oxide)', 'Polymer Chemical Abbreviation': 'OEO', 'Polymer Application': 'ion-transporting', 'Doped?': 'not doped'}\n",
      "{'Polymer Mentioned Name': 'oligo(ethylene oxide) (OEO) grafted conjugated polymer', 'Polymer Chemical Abbreviation': 'PPP-R10', 'Polymer Application': 'chemical sensor systems', 'Doped?': 'not doped'}\n",
      "{'Polymer Mentioned Name': 'poly(3, 4-ethylenedioxythiophene):poly(styrene sulfonate)', 'Polymer Chemical Abbreviation': 'PEDOT:PSS', 'Polymer Application': 'microfluidic-based chemical and biological sensing', 'Doped?': 'not doped'}\n",
      "{'(Gd1-xCax)(2)Ti2O7': '(Gd1-xCax)(2)Ti2O7', 'Polymer Chemical Abbreviation': 'GCTO', 'Polymer Application': 'oxygen sensor', 'Doped?': 'not doped', 'Polymer Mentioned Name': '(Gd1-xCax)(2)Ti2O7'}\n",
      "{'Polymer Mentioned Name': 'BaCo0.70Fe0.22Nb0.08O3 - delta', 'Polymer Chemical Abbreviation': 'BCFNO', 'Polymer Application': 'thermomigration, chemical diffusivity measurement', 'Doped?': 'not doped'}\n",
      "{'Polymer Mentioned Name': 'poly(3-hexylthiophene)', 'Polymer Chemical Abbreviation': 'P3HT', 'Polymer Application': 'neuromorphic, OECT', 'Doped?': 'not_doped'}\n",
      "{'Conductive polymers': 'conductive_polymers', 'Polymer Chemical Abbreviation': 'none', 'Polymer Application': 'chemicals_in_the_brain,nerve_disorders,biomedical_devices', 'Doped?': 'not_doped', 'Polymer Mentioned Name': 'Conductive polymers'}\n",
      "{'Polymer Mentioned Name': 'poly(3,4-ethylenedioxythiophene):poly(4-styrenesulfonate)', 'Polymer Chemical Abbreviation': 'PEDOT:PSS', 'Polymer Application': 'biosensors, microfluid chips, organic electrochemical transistors', 'Doped?': 'not doped'}\n",
      "{'Polymer Mentioned Name': 'P(C,C)', 'Polymer Chemical Abbreviation': 'PCC', 'Polymer Application': 'OECTs, device, performance', 'Doped?': 'not doped'}\n",
      "{'Polymer Mentioned Name': 'P(O,O)', 'Polymer Chemical Abbreviation': 'POO', 'Polymer Application': 'OECTs, device, performance', 'Doped?': 'not doped'}\n",
      "{'Polymer Mentioned Name': 'P(C,O)', 'Polymer Chemical Abbreviation': 'PCO', 'Polymer Application': 'OECTs, device, performance, stability', 'Doped?': 'not doped'}\n",
      "{'Polymer Mentioned Name': 'poly(3,4-ethylenedioxythiophene)', 'Polymer Chemical Abbreviation': 'PEDOT', 'Polymer Application': 'flexible electronics, healthcare', 'Doped?': 'p-doped'}\n",
      "{'Polymer Mentioned Name': 'La0.8Sr0.2MnO3', 'Polymer Chemical Abbreviation': 'LSM', 'Polymer Application': 'cathode, ceramic capacitor', 'Doped?': 'not doped'}\n",
      "{'Polymer Mentioned Name': 'poly 3-(3-carboxypropyl)thiophene-2,5-diyl', 'Polymer Chemical Abbreviation': 'P3CP', 'Polymer Application': 'nanosized biomolecule receptor layer, organic electrochemical transistor, protein sensors', 'Doped?': 'not doped'}\n",
      "{'Polymer Mentioned Name': 'poly(3,4-ethylenedioxythiophene)', 'Polymer Chemical Abbreviation': 'PEDOT', 'Polymer Application': 'organic electrochemical transistors, chemical sensing, biological sensing', 'Doped?': 'p-doped'}\n",
      "{'Polymer Mentioned Name': 'poly(styrene sulfonate)', 'Polymer Chemical Abbreviation': 'PSS', 'Polymer Application': 'organic electrochemical transistors', 'Doped?': 'not doped'}\n",
      "{'Polymer Mentioned Name': 'poly(glycidyl methacrylate)', 'Polymer Chemical Abbreviation': 'PGMA', 'Polymer Application': 'biocompatible properties, covalently tether enzymes and other biomolecules', 'Doped?': 'not doped'}\n",
      "{'Polymer Mentioned Name': 'poly(2-hydroxyethyl methacrylate)', 'Polymer Chemical Abbreviation': 'PHEMA', 'Polymer Application': 'biocompatible properties, covalently tether enzymes and other biomolecules', 'Doped?': 'not doped'}\n",
      "{'Polymer Mentioned Name': 'poly(3,4-ethylenedioxithiophene)', 'Polymer Chemical Abbreviation': 'PEDOT', 'Polymer Application': 'resistors, OECTs, OFETs', 'Doped?': 'not_doped'}\n",
      "{'Polymer Mentioned Name': 'poly(3,4-ethylenedioxythiophene):tosylate', 'Polymer Chemical Abbreviation': 'PEDOT:TOS', 'Polymer Application': 'neuromorphic, bioelectronics, associative learning', 'Doped?': 'p-doped'}\n",
      "{'Polymer Mentioned Name': 'P3DDT-s-P3(EG(3))T', 'Polymer Chemical Abbreviation': 'P3DDT-s-P3EG3T', 'Polymer Application': 'next-generation electronic devices, energy storage', 'Doped?': 'p-doped'}\n",
      "{'Polymer Mentioned Name': 'P3DDS-s-P3(EG(3))T', 'Polymer Chemical Abbreviation': 'P3DDS-s-P3EG3T', 'Polymer Application': 'next-generation electronic devices, energy storage', 'Doped?': 'p-doped'}\n",
      "{'Polymer Mentioned Name': 'P3(EG(3))T', 'Polymer Chemical Abbreviation': 'P3EG3T', 'Polymer Application': 'next-generation electronic devices, energy storage', 'Doped?': 'p-doped'}\n",
      "{'Polymer Mentioned Name': 'poly(3-dodecylthiophene)', 'Polymer Chemical Abbreviation': 'P3DT', 'Polymer Application': 'next-generation electronic devices, energy storage', 'Doped?': 'p-doped'}\n",
      "{'Polymer Mentioned Name': 'poly(3-dodecylselenophene)', 'Polymer Chemical Abbreviation': 'P3DS', 'Polymer Application': 'next-generation electronic devices, energy storage', 'Doped?': 'p-doped'}\n",
      "{'Polymer Mentioned Name': 'La0.6Sr0.4Co0.2Fe0.8O3-delta', 'Polymer Chemical Abbreviation': 'LSCF6428', 'Polymer Application': 'electrodes', 'Doped?': 'not_doped'}\n",
      "{'Polymer Mentioned Name': 'poly(ethylene oxide)', 'Polymer Chemical Abbreviation': 'PEO', 'Polymer Application': 'solid polymer electrolyte films, electrochemical cells', 'Doped?': 'not doped'}\n",
      "{'Polymer Mentioned Name': 'poly(3-{[2-(2-methoxyethoxy)ethoxy]methyl}thiophene-2,5-diyl)', 'Polymer Chemical Abbreviation': 'P3MEEMT', 'Polymer Application': 'organic supercapacitors, redox flow batteries, bioelectronic sensors, thermoelectrics, neuromorphic computing', 'Doped?': 'p-doped'}\n",
      "{'Polymer Mentioned Name': 'poly[3-(6-hydroxy)hexylthiophene]', 'Polymer Chemical Abbreviation': 'P3HHT', 'Polymer Application': 'bioelectronic devices, biosensing', 'Doped?': 'not doped'}\n",
      "{'Polymer Mentioned Name': 'Poly(3,4-ethylenedioxythiophene)-poly(styrenesulfonate)', 'Polymer Chemical Abbreviation': 'PEDOT:PSS', 'Polymer Application': 'counter electrode, channel of an organic electrochemical transistor, on-site amplifier', 'Doped?': 'not doped'}\n",
      "{'Polymer Mentioned Name': 'Ag1.92Te', 'Polymer Chemical Abbreviation': 'Ag1.92Te', 'Polymer Application': 'electrochemical cell, galvanic cell', 'Doped?': 'not doped'}\n",
      "{'Polymer Mentioned Name': 'alpha-Ag2Te', 'Polymer Chemical Abbreviation': 'alpha-Ag2Te', 'Polymer Application': 'electrochemical cell, galvanic cell', 'Doped?': 'not doped'}\n",
      "{'Polymer Mentioned Name': 'alpha\"-Ag2Te', 'Polymer Chemical Abbreviation': 'alpha\"-Ag2Te', 'Polymer Application': 'electrochemical cell, galvanic cell', 'Doped?': 'not doped'}\n",
      "{'Polymer Mentioned Name': 'beta-Ag2Te', 'Polymer Chemical Abbreviation': 'beta-Ag2Te', 'Polymer Application': 'electrochemical cell, galvanic cell', 'Doped?': 'not doped'}\n",
      "{'Polymer Mentioned Name': 'yttria-stabilized zirconia', 'Polymer Chemical Abbreviation': 'YSZ', 'Polymer Application': 'diffusion barrier, oxygen sensor', 'Doped?': 'not doped'}\n",
      "{'Polymer Mentioned Name': 'La0.9Sr0.1Ga0.2Mg0.8O3', 'Polymer Chemical Abbreviation': 'LSGM', 'Polymer Application': 'MIEC membrane', 'Doped?': 'not doped'}\n",
      "{'Polymer Mentioned Name': 'poly(3,4-ethylenedioxythiophene)', 'Polymer Chemical Abbreviation': 'PEDOT', 'Polymer Application': 'electronic conductivity', 'Doped?': 'not_doped'}\n",
      "{'Polymer Mentioned Name': 'polyethylene oxide', 'Polymer Chemical Abbreviation': 'PEO', 'Polymer Application': 'ionic conductivity', 'Doped?': 'not_doped'}\n",
      "{'Polymer Mentioned Name': 'polyacrylic acid', 'Polymer Chemical Abbreviation': 'PAA', 'Polymer Application': 'ionic conductivity', 'Doped?': 'not_doped'}\n",
      "{'Polymer Mentioned Name': 'poly(3,4-ethylenedioxythiophene)', 'Polymer Chemical Abbreviation': 'PEDOT', 'Polymer Application': 'bio-signals sorting, adaptive sensing', 'Doped?': 'not doped'}\n",
      "{'Polymer Mentioned Name': 'poly(3,4-ethylenedioxythiophene):poly(styrenesulfonate)', 'Polymer Chemical Abbreviation': 'PEDOT:PSS', 'Polymer Application': 'bioelectronic devices', 'Doped?': 'not_doped'}\n",
      "{'Polymer Mentioned Name': 'poly(3,4-ethylenedioxythiophene)', 'Polymer Chemical Abbreviation': 'PEDOT', 'Polymer Application': 'organic electrochemical transistors, OECTs', 'Doped?': 'p-doped'}\n",
      "{'Polymer Mentioned Name': 'polystyrene sulfonate', 'Polymer Chemical Abbreviation': 'PSS', 'Polymer Application': 'organic electrochemical transistors, OECTs', 'Doped?': 'not doped'}\n",
      "{'Polymer Mentioned Name': 'hybrid halide perovskites', 'Polymer Chemical Abbreviation': 'CH3NH3PbI3', 'Polymer Application': 'solar cells, solar cell device architectures', 'Doped?': 'not doped'}\n",
      "{'Polymer Mentioned Name': 'polypyrrole', 'Polymer Chemical Abbreviation': 'PPy', 'Polymer Application': 'wearable electronics, healthcare, biological application, electrochemical sensing, ion detection', 'Doped?': 'not doped'}\n",
      "{'Polymer Mentioned Name': 'TiO2', 'Polymer Chemical Abbreviation': 'TiO2', 'Polymer Application': 'electrochemical capacitors, artificial neural networks, neuromorphic engineering', 'Doped?': 'not doped'}\n",
      "{'Polymer Mentioned Name': 'PEDOT:PSS', 'Polymer Chemical Abbreviation': 'PEDOT:PSS', 'Polymer Application': 'biosensor, transistor, point-of-care', 'Doped?': 'not_doped'}\n",
      "{'Polymer Mentioned Name': 'poly(3,4-ethylenedioxythiophene)', 'Polymer Chemical Abbreviation': 'PEDOT', 'Polymer Application': 'bioelectronics, stretchable OECT, transparent pressure sensors', 'Doped?': 'p-doped'}\n",
      "{'Melanin': 'melanin', 'Polymer Chemical Abbreviation': 'none', 'Polymer Application': 'all-solid-state organic electrochemical transistor, bioelectronic logic', 'Doped?': 'not_doped', 'Polymer Mentioned Name': 'Melanin'}\n",
      "{'Polymer Mentioned Name': 'poly(3,4-ethylenedioxythiophene):polystyrene sulfonate', 'Polymer Chemical Abbreviation': 'PEDOT:PSS', 'Polymer Application': 'Bioelectronics, detection of bioanalytes, detection of Tamoxifen', 'Doped?': 'not doped'}\n",
      "{'Polymer Mentioned Name': 'polyaniline', 'Polymer Chemical Abbreviation': 'PANI', 'Polymer Application': 'organic electrochemical transistor, complementary circuits, flexible biocompatible substrate, aqueous electrolyte', 'Doped?': 'not doped'}\n",
      "{'Polymer Mentioned Name': 'LSCF', 'Polymer Chemical Abbreviation': 'LSCF', 'Polymer Application': 'cathode, solid oxide fuel cells', 'Doped?': 'not doped'}\n",
      "{'Polymer Mentioned Name': 'LNO', 'Polymer Chemical Abbreviation': 'LNO', 'Polymer Application': 'cathode, solid oxide fuel cells', 'Doped?': 'not doped'}\n",
      "{'Polymer Mentioned Name': 'Ca3Co4O9+delta', 'Polymer Chemical Abbreviation': 'Ca3Co4O9+delta', 'Polymer Application': 'air electrode, solid oxide cells', 'Doped?': 'not doped'}\n",
      "{'Polymer Mentioned Name': 'La2NiO4+delta', 'Polymer Chemical Abbreviation': 'La2NiO4+delta', 'Polymer Application': 'well-investigated', 'Doped?': 'not doped'}\n",
      "{'La0.5Sr0.5Co0.8Ga0.2O3-delta': 'La0.5Sr0.5Co0.8Ga0.2O3-delta', 'Polymer Chemical Abbreviation': 'LSCGO', 'Polymer Application': 'electrical conductivity relaxation', 'Doped?': 'not_doped', 'Polymer Mentioned Name': 'La0.5Sr0.5Co0.8Ga0.2O3-delta'}\n",
      "{'Polymer Mentioned Name': '(La, Sr)(Co, Fe)O(3)', 'Polymer Chemical Abbreviation': 'LSCF', 'Polymer Application': 'cathode', 'Doped?': 'not_doped'}\n",
      "{'Polymer Mentioned Name': 'SrTi(1-x)Fe(x)O(3-delta)', 'Polymer Chemical Abbreviation': 'STF', 'Polymer Application': 'cathode', 'Doped?': 'not_doped'}\n",
      "{'Polymer Mentioned Name': 'poly(3,4-ethylenedioxythiophene)', 'Polymer Chemical Abbreviation': 'PEDOT', 'Polymer Application': 'bioelectronic', 'Doped?': 'p-doped'}\n",
      "{'Polymer Mentioned Name': 'poly(3,4-ethylenedioxythiophene)-poly(styrenesulphonate)', 'Polymer Chemical Abbreviation': 'PEDOT:PSS', 'Polymer Application': 'synaptic electronics, synaptic elements, spatiotemporal-correlated logics', 'Doped?': 'not doped'}\n",
      "{'Polymer Mentioned Name': 'PEDOT:PSS', 'Polymer Chemical Abbreviation': 'PEDOT:PSS', 'Polymer Application': 'biosensor, wearable, lactate detection', 'Doped?': 'p-doped'}\n",
      "{'Polymer Mentioned Name': 'polypyrrole', 'Polymer Chemical Abbreviation': 'PPy', 'Polymer Application': 'wearable devices, biosensing', 'Doped?': 'not doped'}\n",
      "{'Polymer Mentioned Name': 'polyaniline', 'Polymer Chemical Abbreviation': 'PANI', 'Polymer Application': 'OECTs, detection of small molecules, metabolites', 'Doped?': 'not doped'}\n",
      "{'Polymer Mentioned Name': 'polypyrrole', 'Polymer Chemical Abbreviation': 'PPY', 'Polymer Application': 'OECTs, detection of small molecules, metabolites', 'Doped?': 'not doped'}\n",
      "{'Polymer Mentioned Name': 'poly-3,4-ethylenedioxythiophene: polystyrene sulfonic acid', 'Polymer Chemical Abbreviation': 'PEDOT:PSS', 'Polymer Application': 'OECTs, detection of small molecules, metabolites', 'Doped?': 'not doped'}\n",
      "{'Polymer Mentioned Name': 'd-gdiPDI', 'Polymer Chemical Abbreviation': 'd-gdiPDI', 'Polymer Application': 'organic electrochemical transistors, OECTs, solid-electrolyte OECTs', 'Doped?': 'not doped'}\n",
      "{'Polymer Mentioned Name': 't-gdiPDI', 'Polymer Chemical Abbreviation': 't-gdiPDI', 'Polymer Application': 'organic electrochemical transistors, OECTs', 'Doped?': 'not doped'}\n",
      "{'Polymer Mentioned Name': 'La0.85Sr0.15MnO3-delta', 'Polymer Chemical Abbreviation': 'LSM', 'Polymer Application': 'cathode, solid oxide fuel cells', 'Doped?': 'not doped'}\n",
      "{'Polymer Mentioned Name': 'La0.6Sr0.4Co0.2Fe0.8O3-delta', 'Polymer Chemical Abbreviation': 'LSCF', 'Polymer Application': 'cathode, solid oxide fuel cells', 'Doped?': 'not doped'}\n",
      "{'Polymer Mentioned Name': 'halide perovskite', 'Polymer Chemical Abbreviation': 'MAPbI(3)', 'Polymer Application': 'memristors, solar cells, information storage, computing', 'Doped?': 'not doped'}\n",
      "{'Polymer Mentioned Name': 'BSCF', 'Polymer Chemical Abbreviation': 'BSCF', 'Polymer Application': 'cathode, composite cathode, fuel cell', 'Doped?': 'not doped'}\n",
      "{'Polymer Mentioned Name': 'PEDOT:PSS', 'Polymer Chemical Abbreviation': 'PEDOT:PSS', 'Polymer Application': 'synaptic behavior, bioelectronics, neuromorphic applications', 'Doped?': 'not doped'}\n",
      "{'Polymer Mentioned Name': 'poly(3,4-ethylenedioxythiophene)', 'Polymer Chemical Abbreviation': 'PEDOT', 'Polymer Application': 'bioelectronics, energy storage and management, soft robotics', 'Doped?': 'p-doped'}\n",
      "{'Polymer Mentioned Name': 'La0.6Sr0.4Co0.2Fe0.8O3-x', 'Polymer Chemical Abbreviation': 'LSCF', 'Polymer Application': 'oxygen reduction reaction, higher-performance materials', 'Doped?': 'not doped'}\n",
      "{'Polymer Mentioned Name': '(La0.8Sr0.2)(0.95)MnO3 +/- x', 'Polymer Chemical Abbreviation': 'LSM', 'Polymer Application': 'oxygen reduction reaction, higher-performance materials', 'Doped?': 'not doped'}\n",
      "{'Polymer Mentioned Name': 'poly(3,4-ethylenedioxythiophene):poly( styrene sulfonic acid)', 'Polymer Chemical Abbreviation': 'PEDOT:PSS', 'Polymer Application': 'detection of marine diatoms, biocompatibility, chemical and biochemical sensing', 'Doped?': 'not doped'}\n",
      "{'Polymer Mentioned Name': 'Pr0.5Ba0.5FeO3-delta', 'Polymer Chemical Abbreviation': 'PBF', 'Polymer Application': 'cathode, solid oxide fuel cell', 'Doped?': 'p-doped'}\n",
      "{'Polymer Mentioned Name': 'Pr0.5Ba0.3Ca0.2Fe0.7Ni0.3O3-delta', 'Polymer Chemical Abbreviation': 'PBCFNi30', 'Polymer Application': 'cathode, commercial high-temperature solid oxide fuel cell', 'Doped?': 'p-doped'}\n",
      "{'Polymer Mentioned Name': 'poly(3,4-ethylenedioxythiophene)', 'Polymer Chemical Abbreviation': 'PEDOT', 'Polymer Application': 'polymer electrolyte fuel cell, electrocatalytic reactors, gas separating membranes', 'Doped?': 'not doped'}\n",
      "{'PEDOT:PSS': 'PEDOT:PSS', 'Polymer Chemical Abbreviation': 'PEDOT:PSS', 'Polymer Application': 'environmental aromatic pollution monitoring, biosensor, organic electrochemical transistor', 'Doped?': 'p-doped', 'Polymer Mentioned Name': 'PEDOT:PSS'}\n",
      "{'Polymer Mentioned Name': 'PEDOTS', 'Polymer Chemical Abbreviation': 'PEDOTS', 'Polymer Application': 'organic electrochemical transistors, OECT devices, biological processes', 'Doped?': 'self-doped'}\n",
      "{'Polymer Mentioned Name': 'poly(3,4-ethylenedioxythiophene)', 'Polymer Chemical Abbreviation': 'PEDOT', 'Polymer Application': 'bio-sensors, disposable electronics', 'Doped?': 'p-doped'}\n",
      "{'Polymer Mentioned Name': 'poly(styrene sulfonic acid)', 'Polymer Chemical Abbreviation': 'PSS', 'Polymer Application': 'bio-sensors, disposable electronics', 'Doped?': 'not doped'}\n",
      "{'Polymer Mentioned Name': 'poly(2,5-bis(2-octyldodecyl)-3,6-di(thiophen-2-yl)-2,5-diketo-pyrrolopyrrole-alt-2,5-bis(3-triethyleneglycoloxy-thiophen-2-yl))', 'Polymer Chemical Abbreviation': 'PDPPTPT', 'Polymer Application': 'stretchable bioelectronic, optoelectronic device, electrocardiogram recording, synapse responses', 'Doped?': 'not doped'}\n",
      "{'Polymer Mentioned Name': 'PEDOT:PSS', 'Polymer Chemical Abbreviation': 'PEDOT:PSS', 'Polymer Application': 'neuromorphic, OECT-based, neuromorphic devices', 'Doped?': 'not doped'}\n",
      "{'Polymer Mentioned Name': 'PSSNa', 'Polymer Chemical Abbreviation': 'PSSNa', 'Polymer Application': 'ion conductor, electrolyte', 'Doped?': 'not doped'}\n",
      "{'Polymer Mentioned Name': 'PgBT(F)2gT', 'Polymer Chemical Abbreviation': 'PgBT(F)2gT', 'Polymer Application': 'organic electrochemical transistor', 'Doped?': 'not doped'}\n",
      "{'Polymer Mentioned Name': 'PgBT(F)2gTT', 'Polymer Chemical Abbreviation': 'PgBT(F)2gTT', 'Polymer Application': 'organic electrochemical transistor', 'Doped?': 'not doped'}\n",
      "{'Polymer Mentioned Name': 'PEDOT', 'Polymer Chemical Abbreviation': 'PEDOT', 'Polymer Application': 'liquid sensors, organic electrochemical transistors', 'Doped?': 'not doped'}\n",
      "{'Polymer Mentioned Name': 'PSS', 'Polymer Chemical Abbreviation': 'PSS', 'Polymer Application': 'liquid sensors, organic electrochemical transistors', 'Doped?': 'not doped'}\n",
      "{'Polymer Mentioned Name': 'poly(3,4-ethylenedioxythiophene)', 'Polymer Chemical Abbreviation': 'PEDOT', 'Polymer Application': 'on-skin electrodes, electrocardiogram, electromyography, skin-gated organic electrochemical transistors, augmented touch, plant interfaces', 'Doped?': 'not doped'}\n",
      "{'Polymer Mentioned Name': 'poly(3,4-ethylenedioxythiophene)', 'Polymer Chemical Abbreviation': 'PEDOT', 'Polymer Application': 'on-skin electrodes, electrocardiogram, electromyography, skin-gated organic electrochemical transistors, augmented touch, plant interfaces', 'Doped?': 'not doped'}\n",
      "{'Polymer Mentioned Name': 'AgI', 'Polymer Chemical Abbreviation': 'AgI', 'Polymer Application': 'acoustoelectric, ultrasonic, superionic', 'Doped?': 'not_doped'}\n",
      "{'Polymer Mentioned Name': 'Ag3SbS3', 'Polymer Chemical Abbreviation': 'Ag3SbS3', 'Polymer Application': 'acoustoelectric, ultrasonic, superionic', 'Doped?': 'not_doped'}\n",
      "{'Polymer Mentioned Name': 'Ag3AsS3', 'Polymer Chemical Abbreviation': 'Ag3AsS3', 'Polymer Application': 'acoustoelectric, ultrasonic, superionic', 'Doped?': 'not_doped'}\n",
      "{'Polymer Mentioned Name': 'Rb4AgI5', 'Polymer Chemical Abbreviation': 'Rb4AgI5', 'Polymer Application': 'deformation potential, ultrasonic', 'Doped?': 'not_doped'}\n",
      "{'Polymer Mentioned Name': 'Ba0.5Sr0.5Co0.8Fe0.2O3-delta', 'Polymer Chemical Abbreviation': 'BSCF', 'Polymer Application': 'fuel cells, oxygen separation membranes', 'Doped?': 'not doped'}\n",
      "{'Polymer Mentioned Name': 'Bi0.15Sr0.85Co0.8Fe0.2O3-delta', 'Polymer Chemical Abbreviation': 'BiSCF', 'Polymer Application': 'oxygen separation membrane', 'Doped?': 'not doped'}\n",
      "{'Polymer Mentioned Name': 'beta-Zn4Sb3', 'Polymer Chemical Abbreviation': 'beta-Zn4Sb3', 'Polymer Application': 'thermoelectric', 'Doped?': 'not_doped'}\n",
      "{'Polymer Mentioned Name': 'Sr2Fe15Mo05O6-delta', 'Polymer Chemical Abbreviation': 'SFMO', 'Polymer Application': 'Solid Oxide Fuel Cells, N2O reduction', 'Doped?': 'not doped'}\n",
      "{'Polymer Mentioned Name': 'PEDOT:PSS', 'Polymer Chemical Abbreviation': 'PEDOT:PSS', 'Polymer Application': 'viral neutralization assays, vaccine efficacy, cytopathic effect', 'Doped?': 'p-doped'}\n",
      "{'Polymer Mentioned Name': 'LaxSr1-xCoyFe1-yO3-delta', 'Polymer Chemical Abbreviation': 'LSCF', 'Polymer Application': 'volumic cathodes, solid oxide fuel cells', 'Doped?': 'not doped'}\n",
      "{'Polymer Mentioned Name': 'La0.6Sr0.4Co0.2Fe0.8O3-delta', 'Polymer Chemical Abbreviation': 'LSCF', 'Polymer Application': 'volumic cathodes, solid oxide fuel cells', 'Doped?': 'not doped'}\n",
      "{'Polymer Mentioned Name': 'Ce0.9Gd0.1O2-delta', 'Polymer Chemical Abbreviation': 'CGO', 'Polymer Application': 'substrates', 'Doped?': 'not doped'}\n",
      "{'Polymer Mentioned Name': 'poly(3,4-ethylenedioxythiophene) poly(styrene sulfonate)', 'Polymer Chemical Abbreviation': 'PEDOT:PSS', 'Polymer Application': 'organic electrochemical transistor, channel', 'Doped?': 'not doped'}\n",
      "{'Polymer Mentioned Name': 'thiophene-based', 'Polymer Chemical Abbreviation': 'P3HT', 'Polymer Application': 'bioelectronics, OECTs', 'Doped?': 'not_doped'}\n",
      "{'Polymer Mentioned Name': 'poly(3,4-ethylenedioxythiophene):polystyrene sulfonate', 'Polymer Chemical Abbreviation': 'PEDOT:PSS', 'Polymer Application': 'biosensors, epidermal growth factor receptor sensor, diagnostic, biomedical applications', 'Doped?': 'not doped'}\n",
      "{'Polymer Mentioned Name': 'None', 'Polymer Chemical Abbreviation': 'None', 'Polymer Application': 'None', 'Doped?': 'None'}\n",
      "{'Polymer Mentioned Name': 'polypyrrole', 'Polymer Chemical Abbreviation': 'PPy', 'Polymer Application': 'synaptic OECT, wearable neuromorphic electronics, brain-like sensory systems, energy-efficient neuromorphic computing, high-performance synaptic devices, smart textiles', 'Doped?': 'not doped'}\n",
      "{'Polymer Mentioned Name': 'poly(3,4-ethylenedioxythiophene): poly(styrene sulfonate)', 'Polymer Chemical Abbreviation': 'PEDOT:PSS', 'Polymer Application': 'wearable, real-time oxygen gas sensors, work safety applications', 'Doped?': 'not doped'}\n",
      "{'Polymer Mentioned Name': 'poly(3,4-ethylenedioxythiophene):polystyrene sulfonate', 'Polymer Chemical Abbreviation': 'PEDOT:PSS', 'Polymer Application': 'biosensing, bioelectronics', 'Doped?': 'not doped'}\n",
      "{'Polymer Mentioned Name': 'La0.6Sr0.4Co0.2Fe0.8O3-delta', 'Polymer Chemical Abbreviation': 'LSCF', 'Polymer Application': 'membrane material, pressure-driven air separator', 'Doped?': 'not doped'}\n",
      "{'Polymer Mentioned Name': 'poly(3,4-ethylenedioxythiophene)', 'Polymer Chemical Abbreviation': 'PEDOT', 'Polymer Application': 'organic electrochemical transistors', 'Doped?': 'not doped'}\n",
      "{'Polymer Mentioned Name': 'poly(styrenesulfonate)', 'Polymer Chemical Abbreviation': 'PSS', 'Polymer Application': 'organic electrochemical transistors', 'Doped?': 'not doped'}\n",
      "{'Polymer Mentioned Name': 'poly(vinyl sulfonate)', 'Polymer Chemical Abbreviation': 'PVS', 'Polymer Application': 'organic electrochemical transistors', 'Doped?': 'not doped'}\n",
      "{'Polymer Mentioned Name': 'poly(3,4-ethylenedioxythiophene):poly(styrene sulphonic acid)', 'Polymer Chemical Abbreviation': 'PEDOT:PSS', 'Polymer Application': 'electrochemical transistors, humidity sensor', 'Doped?': 'not doped'}\n",
      "{'Polymer Mentioned Name': 'Nafion', 'Polymer Chemical Abbreviation': 'Nafion', 'Polymer Application': 'electrolyte, humidity sensor', 'Doped?': 'not doped'}\n",
      "{'Polymer Mentioned Name': 'poly(3,4-ethylenedioxythiophene):poly(styrene sulfonate)', 'Polymer Chemical Abbreviation': 'PEDOT:PSS', 'Polymer Application': 'biomedical, neuromorphic, bioelectronic, additive manufacturing', 'Doped?': 'not doped'}\n",
      "{'Polymer Mentioned Name': 'poly-(3,4-ethylenedioxythiophene):poly-(styrenesulfonate)', 'Polymer Chemical Abbreviation': 'PEDOT:PSS', 'Polymer Application': 'OPECT biosensor, signal amplification, detection of environmental pollutants', 'Doped?': 'not doped'}\n",
      "{'Polymer Mentioned Name': 'poly(3,4-ethylenedioxythiophene)', 'Polymer Chemical Abbreviation': 'PEDOT', 'Polymer Application': 'bioelectronics, amplifying transducers', 'Doped?': 'p-doped'}\n",
      "{'Polymer Mentioned Name': '', 'Polymer Chemical Abbreviation': '', 'Polymer Application': 'bioelectronic devices, complementary circuits, sensor technologies', 'Doped?': 'doped'}\n",
      "{'Polymer Mentioned Name': 'PEDOT:PSS', 'Polymer Chemical Abbreviation': 'PEDOT:PSS', 'Polymer Application': 'electrochemical transistor, sensor-transducer, low-cost sensor tags', 'Doped?': 'not doped'}\n",
      "{'Polymer Mentioned Name': 'Nafion', 'Polymer Chemical Abbreviation': 'Nafion', 'Polymer Application': 'proton conductor, sensitivity layer, air humidity sensor', 'Doped?': 'not doped'}\n",
      "{'Polymer Mentioned Name': 'Ba0.5Sr0.5Co0.8Fe0.2O3-delta', 'Polymer Chemical Abbreviation': 'BSCF5582', 'Polymer Application': 'oxygen separation membranes', 'Doped?': 'not doped'}\n",
      "{'Polymer Mentioned Name': 'poly(3,4-ethylenedioxythiophene)', 'Polymer Chemical Abbreviation': 'PEDOT', 'Polymer Application': 'neurostimulation therapies, nerve growth', 'Doped?': 'not doped'}\n",
      "{'Polymer Mentioned Name': 'PEDOT-polystyrene sulfonate', 'Polymer Chemical Abbreviation': 'PEDOT-PSS', 'Polymer Application': 'neurostimulation therapies, nerve growth', 'Doped?': 'not doped'}\n",
      "{'Polymer Mentioned Name': '', 'Polymer Chemical Abbreviation': '', 'Polymer Application': '', 'Doped?': ''}\n",
      "{'Polymer Mentioned Name': 'La2NiO4+', 'Polymer Chemical Abbreviation': 'L2NO4', 'Polymer Application': 'analog computing, synaptic applications, artificial synapse', 'Doped?': 'not doped'}\n",
      "{'Polymer Mentioned Name': 'La2NiO4+', 'Polymer Chemical Abbreviation': 'L2NO4', 'Polymer Application': 'analog computing, synaptic applications, artificial synapse', 'Doped?': 'not doped'}\n",
      "{'Polymer Mentioned Name': 'polythiophene', 'Polymer Chemical Abbreviation': 'PTh', 'Polymer Application': 'energy storage, conversion, neuromorphic computing, bioelectronics', 'Doped?': 'not doped'}\n",
      "{'Polymer Mentioned Name': 'SrCe0.95Yb0.05O3-delta', 'Polymer Chemical Abbreviation': 'SrCeYbO', 'Polymer Application': 'galvanic cell, proton-conducting', 'Doped?': 'not doped'}\n",
      "{'Polymer Mentioned Name': 'Zr0.84Y0.16O1.92', 'Polymer Chemical Abbreviation': 'ZrYO', 'Polymer Application': 'galvanic cell', 'Doped?': 'not doped'}\n",
      "{'Polymer Mentioned Name': 'poly(3,4-ethylenedioxythiophene):poly(styrenesulfonate)', 'Polymer Chemical Abbreviation': 'PEDOT:PSS', 'Polymer Application': 'bioelectronics, sense quantitatively and specifically cations, OECT device, bioelectronics, interpret complex mechanisms in biological media such as in the brain', 'Doped?': 'not doped'}\n",
      "{'Polymer Mentioned Name': 'Poly(3,4-ethylenedioxythiophene): poly(styrene sulfonic acid)', 'Polymer Chemical Abbreviation': 'PEDOT:PSS', 'Polymer Application': 'organic electrochemical transistors, ion-sensitive properties', 'Doped?': 'not doped'}\n",
      "{'Polymer Mentioned Name': 'poly(3,4-ethylenedioxythiophene) polystyrene sulfonate', 'Polymer Chemical Abbreviation': 'PEDOT:PSS', 'Polymer Application': 'bioelectronic interfacing, organic electrochemical transistors', 'Doped?': 'not doped'}\n",
      "{'Polymer Mentioned Name': 'polyvinyl alcohol', 'Polymer Chemical Abbreviation': 'PVA', 'Polymer Application': 'bioelectronic interfacing, organic electrochemical transistors', 'Doped?': 'not doped'}\n",
      "{'Polymer Mentioned Name': 'poly(3,4-ethylenedioxythiophene)', 'Polymer Chemical Abbreviation': 'PEDOT', 'Polymer Application': 'ammonia detection, chemical sensor, biological sensor', 'Doped?': 'p-doped'}\n",
      "{'Polymer Mentioned Name': 'poly(3,4-ethylenedioxythiophene)', 'Polymer Chemical Abbreviation': 'PEDOT', 'Polymer Application': 'bioelectronics, cell culture, neuroregeneration, organic electrochemical transistor', 'Doped?': 'p-doped'}\n",
      "{'Polymer Mentioned Name': 'poly(3,4-ethylenedioxythiophene):polystyrene sulfonate', 'Polymer Chemical Abbreviation': 'PEDOT:PSS', 'Polymer Application': 'skin-inspired electronics, biomedical healthcare monitoring', 'Doped?': 'not doped'}\n",
      "{'Polymer Mentioned Name': 'PEDOT', 'Polymer Chemical Abbreviation': 'PEDOT', 'Polymer Application': 'organic electrochemical transistors', 'Doped?': 'p-doped'}\n",
      "{'Polymer Mentioned Name': 'MIECs', 'Polymer Chemical Abbreviation': 'MIECs', 'Polymer Application': 'SOFCs', 'Doped?': 'not_doped'}\n",
      "{'Polymer Mentioned Name': 'P3MEET', 'Polymer Chemical Abbreviation': 'P3MEET', 'Polymer Application': 'organic electrochemical transistors, OFET', 'Doped?': 'not doped'}\n",
      "{'Polymer Mentioned Name': 'P3MEEMT', 'Polymer Chemical Abbreviation': 'P3MEEMT', 'Polymer Application': 'organic electrochemical transistors, OFET', 'Doped?': 'not doped'}\n",
      "{'Polymer Mentioned Name': 'P3MEEET', 'Polymer Chemical Abbreviation': 'P3MEEET', 'Polymer Application': 'organic electrochemical transistors, OFET', 'Doped?': 'not doped'}\n",
      "{'Polymer Mentioned Name': 'Poly(3,4-EthyleneDiOxy Thiophene)', 'Polymer Chemical Abbreviation': 'PEDOT', 'Polymer Application': 'All-Organic Electrochemical Transistors, OECTs', 'Doped?': 'p-doped'}\n",
      "{'Polymer Mentioned Name': 'Poly(Styrene Sulfonate)', 'Polymer Chemical Abbreviation': 'PSS', 'Polymer Application': 'All-Organic Electrochemical Transistors, OECTs', 'Doped?': 'not doped'}\n",
      "{'Polymer Mentioned Name': 'PEDOT:PSS', 'Polymer Chemical Abbreviation': 'PEDOT:PSS', 'Polymer Application': 'bioelectronics, sensors, transistors', 'Doped?': 'not_doped'}\n",
      "{'Polymer Mentioned Name': 'La0.6Sr0.4FeO3-delta', 'Polymer Chemical Abbreviation': 'LSF', 'Polymer Application': 'oxygen reduction, oxygen evolution', 'Doped?': 'not doped'}\n",
      "{'Polymer Mentioned Name': 'PVA-co-PE', 'Polymer Chemical Abbreviation': 'PVA-co-PE', 'Polymer Application': 'fiber, wearable, biosensor', 'Doped?': 'not doped'}\n",
      "{'Polymer Mentioned Name': 'polypyrrole', 'Polymer Chemical Abbreviation': 'PPy', 'Polymer Application': 'OECT, biosensor, wearable, dopamine sensor', 'Doped?': 'not doped'}\n",
      "{'Polymer Mentioned Name': 'poly(3,4-ethylenedioxythiophene): poly(styrenesulfonate)', 'Polymer Chemical Abbreviation': 'PEDOT:PSS', 'Polymer Application': 'organic electrochemical transistors, OECTs, sensors', 'Doped?': 'not doped'}\n",
      "{'Polymer Mentioned Name': 'poly(3,4-ethylenedioxythiophene) polystyrene sulfonate', 'Polymer Chemical Abbreviation': 'PEDOT:PSS', 'Polymer Application': 'monitoring electrophysiological activities, OECT-based sensors, ultraflexible OECT', 'Doped?': 'not doped'}\n",
      "{'Polymer Mentioned Name': 'poly(3,4-ethylenedioxythiophene)', 'Polymer Chemical Abbreviation': 'PEDOT', 'Polymer Application': 'OECT, immunosensor, transducer platform, point-of-care diagnostic systems', 'Doped?': 'p-doped'}\n",
      "{'Polymer Mentioned Name': 'poly(styrenesulfonate)', 'Polymer Chemical Abbreviation': 'PSS', 'Polymer Application': 'OECT', 'Doped?': 'not doped'}\n",
      "{'Polymer Mentioned Name': 'glycolated polythiophenes', 'Polymer Chemical Abbreviation': 'PTh', 'Polymer Application': 'organic electrochemical transistors (OECTs)', 'Doped?': 'not doped'}\n",
      "{'Polymer Mentioned Name': 'poly(3,4-ethylenedioxythiophene)', 'Polymer Chemical Abbreviation': 'PEDOT', 'Polymer Application': 'organic electrochemical transistor, electrochemical sensing, wearable electronics, fitness, healthcare', 'Doped?': 'p-doped'}\n",
      "{'Polymer Mentioned Name': 'poly(styrene sulfonate)', 'Polymer Chemical Abbreviation': 'PSS', 'Polymer Application': 'dopant', 'Doped?': 'not doped'}\n",
      "{'Polymer Mentioned Name': 'NdCoO3', 'Polymer Chemical Abbreviation': 'NdCoO3', 'Polymer Application': 'heterogeneous oxidation catalysis, gas sensors', 'Doped?': 'not_doped'}\n",
      "{'Polymer Mentioned Name': 'poly(3-(methoxyethoxybutyl)thiophene)', 'Polymer Chemical Abbreviation': 'PMEBT', 'Polymer Application': 'MIEC', 'Doped?': 'not_doped'}\n",
      "{'Polymer Mentioned Name': 'poly(3-(methoxyethoxyethoxymethyl)thiophene)', 'Polymer Chemical Abbreviation': 'PMEET', 'Polymer Application': 'MIEC', 'Doped?': 'not_doped'}\n",
      "{'Polymer Mentioned Name': 'La0.6Sr0.4CoO3-delta', 'Polymer Chemical Abbreviation': 'LSC', 'Polymer Application': 'cathode, electrode', 'Doped?': 'not_doped'}\n",
      "{'Polymer Mentioned Name': 'La2NiO4+delta', 'Polymer Chemical Abbreviation': 'LNO', 'Polymer Application': 'oxygen surface exchange kinetics, surface redox process, chemical diffusion coefficient of oxygen', 'Doped?': 'not doped'}\n",
      "{'Polymer Mentioned Name': 'La2NiO4+delta', 'Polymer Chemical Abbreviation': 'La2NiO4+', 'Polymer Application': 'cathode material, protonic conducting solid oxide fuel cells', 'Doped?': 'not doped'}\n",
      "{'Polymer Mentioned Name': 'La1.5Pr0.5NiO4+delta', 'Polymer Chemical Abbreviation': 'La1.5Pr0.5NiO4+', 'Polymer Application': 'cathode, symmetrical cells', 'Doped?': 'p-doped'}\n",
      "{'Polymer Mentioned Name': 'La(1.5)Pro(0.5)Nio(0.8)Co(0.2)O(4+delta)', 'Polymer Chemical Abbreviation': 'La(1.5)Pro(0.5)Nio(0.8)Co(0.2)O(4+)', 'Polymer Application': 'cathode, symmetrical cells, protonic conducting solid oxide fuel cells', 'Doped?': 'p-doped'}\n",
      "{'Polymer Mentioned Name': 'La2NiO4+delta', 'Polymer Chemical Abbreviation': 'La2NiO4+delta', 'Polymer Application': 'solid oxide fuel cell (SOFC) cathode material', 'Doped?': 'not doped'}\n",
      "{'Polymer Mentioned Name': 'poly(3, 4-ethylenedioxythiophene)', 'Polymer Chemical Abbreviation': 'PEDOT', 'Polymer Application': 'organic electrochemical transistors, electrolyte-gating, electrochemical modulation, transistor channel', 'Doped?': 'not doped'}\n",
      "{'Polymer Mentioned Name': 'poly(styrene sulfonate)', 'Polymer Chemical Abbreviation': 'PSS', 'Polymer Application': 'organic electrochemical transistors, electrolyte-gating, electrochemical modulation, transistor channel', 'Doped?': 'not doped'}\n",
      "{'Polymer Mentioned Name': 'poly(benzimidazobenzophenanthroline)', 'Polymer Chemical Abbreviation': 'BBL', 'Polymer Application': 'biosensors, neuromorphic devices, complementary circuits', 'Doped?': 'not doped'}\n",
      "{'Polymer Mentioned Name': 'donor-acceptor type copolymer bearing hydrophilic ethylene glycol side chains', 'Polymer Chemical Abbreviation': 'P-90', 'Polymer Application': 'biosensors, neuromorphic devices, complementary circuits', 'Doped?': 'not doped'}\n",
      "{'PEDOT-N3': 'PEDOT-N3', 'Polymer Chemical Abbreviation': 'PEDOT-N3', 'Polymer Application': 'channel, transistors', 'Doped?': 'not_doped', 'Polymer Mentioned Name': 'PEDOT-N3'}\n",
      "{'Polymer Mentioned Name': 'poly(3,4-ethylenedioxythiophene):tosylate', 'Polymer Chemical Abbreviation': 'PEDOT:TOS', 'Polymer Application': 'OECTs, biological systems, pH response, neurotransmitter acetylcholine sensing', 'Doped?': 'not doped'}\n",
      "{'Polymer Mentioned Name': 'polyallylamine hydrochloride', 'Polymer Chemical Abbreviation': 'PAAH', 'Polymer Application': 'OECTs, biological systems, pH response, enzyme immobilization', 'Doped?': 'not doped'}\n",
      "{'Polymer Mentioned Name': 'Cu2Mo6S8', 'Polymer Chemical Abbreviation': 'Cu2Mo6S8', 'Polymer Application': 'Li-ion batteries', 'Doped?': 'not doped'}\n",
      "{'Polymer Mentioned Name': 'PBBTL', 'Polymer Chemical Abbreviation': 'PBBTL', 'Polymer Application': 'electrophysiological amplification, robotic hand control, prosthetic control, gesture control', 'Doped?': 'p-doped'}\n",
      "{'Polymer Mentioned Name': 'BBL', 'Polymer Chemical Abbreviation': 'BBL', 'Polymer Application': 'electrophysiological amplification, robotic hand control, prosthetic control, gesture control', 'Doped?': 'n-doped'}\n",
      "{'Polymer Mentioned Name': 'PEDOT:PSS', 'Polymer Chemical Abbreviation': 'PEDOT:PSS', 'Polymer Application': 'organic bioelectronics', 'Doped?': 'not doped'}\n",
      "{'Polymer Mentioned Name': 'P(EDOTCOOH-co-EDOTS)', 'Polymer Chemical Abbreviation': 'P(EDOTCOOH-co-EDOTS)', 'Polymer Application': 'organic electrochemical transistor, bioelectronic', 'Doped?': 'not doped'}\n",
      "{'Polymer Mentioned Name': 'poly(3,4-ethylenedioxythiophene):poly(styrenesulfonate)', 'Polymer Chemical Abbreviation': 'PEDOT:PSS', 'Polymer Application': 'organic electrochemical transistors, bioelectronic device, signal amplification', 'Doped?': 'not doped'}\n",
      "{'Polymer Mentioned Name': 'poly(vinyl alcohol)', 'Polymer Chemical Abbreviation': 'PVA', 'Polymer Application': 'organic electrochemical transistors', 'Doped?': 'not doped'}\n",
      "{'Polymer Mentioned Name': 'poly(ethylene dioxythiophene):poly(styrene sulfonate)', 'Polymer Chemical Abbreviation': 'PEDOT:PSS', 'Polymer Application': 'optogenetics, photodynamic therapy, advanced electronics, miRNA detection', 'Doped?': 'not doped'}\n",
      "{'Polymer Mentioned Name': 'beta-Zn4Sb3', 'Polymer Chemical Abbreviation': 'Zn4Sb3', 'Polymer Application': 'thermoelectric', 'Doped?': 'not_doped'}\n",
      "{'Polymer Mentioned Name': 'Cu2Se', 'Polymer Chemical Abbreviation': 'Cu2Se', 'Polymer Application': 'thermoelectric', 'Doped?': 'not_doped'}\n",
      "{'Polymer Mentioned Name': 'PEDOT:PSS', 'Polymer Chemical Abbreviation': 'PEDOT:PSS', 'Polymer Application': 'flexible electronics, sensors', 'Doped?': 'not doped'}\n",
      "{'Polymer Mentioned Name': 'poly(3,4-ethylenedioxythiophene)/polystyrene sulfonate', 'Polymer Chemical Abbreviation': 'PEDOT:PSS', 'Polymer Application': 'semiconductor layer material, wearable electronic devices, in-situ physiological monitoring, flexible biosensors', 'Doped?': 'not doped'}\n",
      "{'Polymer Mentioned Name': 'poly(3,4-ethylenedioxythiophene)/bromothymol blue', 'Polymer Chemical Abbreviation': 'PEDOT:BTB', 'Polymer Application': 'pH-sensitive polymer, gate electrode modification', 'Doped?': 'not doped'}\n",
      "{'Polymer Mentioned Name': 'polydimethylsiloxane', 'Polymer Chemical Abbreviation': 'PDMS', 'Polymer Application': 'triboelectric nanogenerators, wearable electronics, robotics, Internet of Things', 'Doped?': 'not doped'}\n",
      "{'Polymer Mentioned Name': 'poly(3,4-ethylene-dioxythiophene):poly(styrenesulfonate)', 'Polymer Chemical Abbreviation': 'PEDOT:PSS', 'Polymer Application': 'organic electrochemical transistor, transistor, channel', 'Doped?': 'not doped'}\n",
      "{'Polymer Mentioned Name': 'poly(N,N\"-bis(7-glycol)-naphthalene-1,4,5,8-bis(dicarboximide)-co-2,2\"-bithiophene-co-N,N\"-bis(2-octyldodecyl)-naphthalene-1,4,5,8-bis(dicarboximide)', 'Polymer Chemical Abbreviation': 'PNBDCDI', 'Polymer Application': 'bioelectronic, neuromorphic, bioelectronics', 'Doped?': 'n-doped'}\n",
      "{'Polymer Mentioned Name': 'LaNi1-xCoxO3-delta', 'Polymer Chemical Abbreviation': 'LaNi1-xCoxO3-delta', 'Polymer Application': 'intermediate temperature solid oxide fuel cell, IT-SOFC, cathode', 'Doped?': 'doped'}\n",
      "{'Polymer Mentioned Name': 'polymeric mixed ionic electronic conductor', 'Polymer Chemical Abbreviation': 'PMIEC', 'Polymer Application': 'solid-state electrolytes', 'Doped?': 'not doped'}\n",
      "{'Polymer Mentioned Name': 'polyp-phenylene', 'Polymer Chemical Abbreviation': 'PPP', 'Polymer Application': 'electronically conducting', 'Doped?': 'not doped'}\n",
      "{'Polymer Mentioned Name': 'poly(3, 4-ethylenedioxythiophene)-poly(styrenesulfonate)', 'Polymer Chemical Abbreviation': 'PEDOT:PSS', 'Polymer Application': 'OECTs, wearable, biosensors', 'Doped?': 'de-doped'}\n",
      "{'Polymer Mentioned Name': 'PEDOT-polyamine blends', 'Polymer Chemical Abbreviation': 'PEDOT', 'Polymer Application': 'organic electrochemical transistors, biosensors, conducting channels, biomolecular architectures, sensing surfaces', 'Doped?': 'not_doped'}\n",
      "{'Polymer Mentioned Name': 'polyallylamine hydrochloride', 'Polymer Chemical Abbreviation': 'PAH', 'Polymer Application': 'conducting channels, biomolecular architectures, sensing surfaces', 'Doped?': 'not_doped'}\n",
      "{'Polymer Mentioned Name': 'poly(3,4-ethylenedioxythiophene):poly(styrenesulfonate)', 'Polymer Chemical Abbreviation': 'PEDOT:PSS', 'Polymer Application': 'wearable health monitoring, sweat-based wearable biosensors, multiplexed sensing', 'Doped?': 'not doped'}\n",
      "{'Polymer Mentioned Name': 'poly(3,4-ethylenedioxythiophene): poly(styrenesulfonate)', 'Polymer Chemical Abbreviation': 'PEDOT:PSS', 'Polymer Application': 'energy storage, electronic devices', 'Doped?': 'not doped'}\n",
      "{'Polymer Mentioned Name': 'poly(diallyldimethylammonium)', 'Polymer Chemical Abbreviation': 'PolyDADMA', 'Polymer Application': 'energy storage', 'Doped?': 'not doped'}\n",
      "{'Polymer Mentioned Name': 'poly(3,4-ethylenedioxythiophene)', 'Polymer Chemical Abbreviation': 'PEDOT', 'Polymer Application': 'biosensors, organic electrochemical transistors', 'Doped?': 'not doped'}\n",
      "{'Polymer Mentioned Name': 'poly(4-styrenesulfonate)', 'Polymer Chemical Abbreviation': 'PSS', 'Polymer Application': 'organic electrochemical transistors', 'Doped?': 'not doped'}\n",
      "{'Polymer Mentioned Name': 'poly(3,4-ethylenedioxythiophene)', 'Polymer Chemical Abbreviation': 'PEDOT', 'Polymer Application': 'Organic electrochemical transistors, OECTs', 'Doped?': 'p-doped'}\n",
      "{'Polymer Mentioned Name': 'regioregular poly-(3-hexylthiophene-2,5-diyl)', 'Polymer Chemical Abbreviation': 'rr-P3HT', 'Polymer Application': 'biosensing devices, neuromorphic computing, organic bioelectronics, water-based electrochemical devices', 'Doped?': 'p-doped'}\n",
      "{'Polymer Mentioned Name': 'poly(3,4-ethylenedioxythiophene)', 'Polymer Chemical Abbreviation': 'PEDOT', 'Polymer Application': 'wearable electronics, biosensors, surface electrodes, monitor body conditions', 'Doped?': 'p-doped'}\n",
      "{'Polymer Mentioned Name': 'NBT', 'Polymer Chemical Abbreviation': 'Na0.5Bi0.5TiO3', 'Polymer Application': 'dielectric', 'Doped?': 'p-doped'}\n",
      "{'Polymer Mentioned Name': 'BNiT', 'Polymer Chemical Abbreviation': 'BiNi0.5Ti0.5O3', 'Polymer Application': '', 'Doped?': 'not_doped'}\n",
      "{'Polymer Mentioned Name': 'poly(3,4-ethylenedioxythiophene)', 'Polymer Chemical Abbreviation': 'PEDOT', 'Polymer Application': 'thermoelectric, electronic', 'Doped?': 'n-type'}\n",
      "{'Polymer Mentioned Name': 'poly(2-acrylamido-2-methyl-1-propanesulfonic acid)', 'Polymer Chemical Abbreviation': 'PAMPSA', 'Polymer Application': 'ionic, thermoelectric', 'Doped?': 'not doped'}\n",
      "{'Polymer Mentioned Name': 'poly(3,4-ethylenedioxythiophene): poly(styrene sulfonate)', 'Polymer Chemical Abbreviation': 'PEDOT:PSS', 'Polymer Application': 'voltage equalizer, supercapacitor cells, charging, printed organic electrochemical transistors', 'Doped?': 'not doped'}\n",
      "{'Polymer Mentioned Name': 'poly(3,4-ethylenedioxythiophene)', 'Polymer Chemical Abbreviation': 'PEDOT', 'Polymer Application': 'transistor, memristive device, bio-sensor', 'Doped?': 'p-doped'}\n",
      "{'Polymer Mentioned Name': 'LSM', 'Polymer Chemical Abbreviation': 'La0.8Sr0.2MnO3-x', 'Polymer Application': 'EMF measurements, determining the chemical diffusion coefficient, coefficient of surface chemical exchange', 'Doped?': 'not doped'}\n",
      "{'Polymer Mentioned Name': 'poly(3,4-ethylene dioxythiophene)', 'Polymer Chemical Abbreviation': 'PEDOT', 'Polymer Application': 'biosensing, bioelectronic, ion analysis, sensor', 'Doped?': 'not doped'}\n",
      "{'Polymer Mentioned Name': 'poly(styrene sulfonate)', 'Polymer Chemical Abbreviation': 'PSS', 'Polymer Application': 'biosensing, bioelectronic, ion analysis, sensor', 'Doped?': 'not doped'}\n",
      "{'Polymer Mentioned Name': 'poly(3,4-ethylenedioxythiophene)', 'Polymer Chemical Abbreviation': 'PEDOT', 'Polymer Application': 'dopamine sensor, biosensor', 'Doped?': 'not doped'}\n",
      "{'Polymer Mentioned Name': 'poly(styrene sulfonic acid)', 'Polymer Chemical Abbreviation': 'PSS', 'Polymer Application': 'dopamine sensor, biosensor', 'Doped?': 'not doped'}\n",
      "{'None': 'None', 'Polymer Chemical Abbreviation': 'None', 'Polymer Application': 'sensing, biomedical, light-harvesting', 'Doped?': 'not_doped', 'Polymer Mentioned Name': 'None'}\n",
      "{'Polymer Mentioned Name': 'La5.4Mo1-xNbxO11.1-x/2', 'Polymer Chemical Abbreviation': 'LaMoNbO', 'Polymer Application': 'hydrogen separation membranes', 'Doped?': 'n-doped'}\n",
      "{'Polymer Mentioned Name': 'poly(benzyl methacrylate-stat-n-butyl acrylate)', 'Polymer Chemical Abbreviation': 'PBMBA', 'Polymer Application': 'energy storage, biomedical engineering, sensors', 'Doped?': 'not doped'}\n",
      "{'Polymer Mentioned Name': 'lignosulfonate', 'Polymer Chemical Abbreviation': 'LS', 'Polymer Application': 'energy storage, biomedical engineering, sensors', 'Doped?': 'not doped'}\n",
      "{'Polymer Mentioned Name': 'polystyrene sulfonate', 'Polymer Chemical Abbreviation': 'PSS', 'Polymer Application': 'energy storage, biomedical engineering, sensors', 'Doped?': 'not doped'}\n",
      "{'Polymer Mentioned Name': 'Ag1.92Te', 'Polymer Chemical Abbreviation': 'Ag1.92Te', 'Polymer Application': 'impedance spectroscopy, potentiostatic and galvanostatic polarization experiments, coulometric titration cell', 'Doped?': 'not doped'}\n",
      "{'Polymer Mentioned Name': 'P(NDIEG7-FSVS)', 'Polymer Chemical Abbreviation': 'PNDIEG7-FSVS', 'Polymer Application': 'n-type OECTs, n-type OFETs', 'Doped?': 'n-doped'}\n",
      "{'Polymer Mentioned Name': 'P(NDIOD-FSVS)', 'Polymer Chemical Abbreviation': 'PNDIOD-FSVS', 'Polymer Application': 'n-type OFETs', 'Doped?': 'n-doped'}\n",
      "{'Polymer Mentioned Name': 'Pg4NDI-T2', 'Polymer Chemical Abbreviation': 'Pg4NDI-T2', 'Polymer Application': 'n-type OECTs, n-type OFETs', 'Doped?': 'n-doped'}\n",
      "{'Polymer Mentioned Name': 'Pg4NDI-gT2', 'Polymer Chemical Abbreviation': 'Pg4NDI-gT2', 'Polymer Application': 'n-type OECTs, n-type OFETs', 'Doped?': 'n-doped'}\n",
      "{'Polymer Mentioned Name': 'poly(benzimidazobenzophenanthroline)', 'Polymer Chemical Abbreviation': 'BBL', 'Polymer Application': 'channel material, OECTs, complementary inverters', 'Doped?': 'not doped'}\n",
      "{'Polymer Mentioned Name': 'polydiketopyrrolopyrroles', 'Polymer Chemical Abbreviation': 'PDPPs', 'Polymer Application': 'organic electrochemical transistors, bioelectronics, in vitro, in vivo', 'Doped?': 'not doped'}\n",
      "{'Polymer Mentioned Name': 'poly(3,4-ethylenedioxythiophene)', 'Polymer Chemical Abbreviation': 'PEDOT', 'Polymer Application': 'biosensor, transistor', 'Doped?': 'doped'}\n",
      "{'Polymer Mentioned Name': 'poly(3,4-ethylenedioxithiophene) poly(styrenesulfonate)', 'Polymer Chemical Abbreviation': 'PEDOT:PSS', 'Polymer Application': 'organic electrochemical transistors, electrochemical inverters, logic circuits', 'Doped?': 'not doped'}\n",
      "{'Polymer Mentioned Name': 'oligo 3-hexylthiophene', 'Polymer Chemical Abbreviation': 'O3HT', 'Polymer Application': 'wearable, medical electronics, flexible electrochemical devices, organic electrochemical transistor', 'Doped?': 'doped'}\n",
      "{'Polymer Mentioned Name': 'polycaprolactone', 'Polymer Chemical Abbreviation': 'PCL', 'Polymer Application': 'wearable, medical electronics, flexible electrochemical devices, organic electrochemical transistor', 'Doped?': 'not doped'}\n",
      "{'Polymer Mentioned Name': 'poly(3,4-ethylenedioxythiophene):polystyrene sulfonate', 'Polymer Chemical Abbreviation': 'PEDOT:PSS', 'Polymer Application': 'bioelectronics, transistor', 'Doped?': 'not doped'}\n",
      "{'OECT': 'OECT', 'Polymer Chemical Abbreviation': 'OECT', 'Polymer Application': 'in vivo sensing, biosensor, plant monitoring, irrigation, precision irrigation', 'Doped?': 'not_doped', 'Polymer Mentioned Name': 'OECT'}\n",
      "{'Polymer Mentioned Name': 'PEDOT:PSS', 'Polymer Chemical Abbreviation': 'PEDOT:PSS', 'Polymer Application': 'chemical sensing, biological sensing, glucose detection', 'Doped?': 'p-doped'}\n",
      "{'Polymer Mentioned Name': 'poly(3,4-ethylene dioxythiophene)', 'Polymer Chemical Abbreviation': 'PEDOT', 'Polymer Application': 'organic electrochemical transistor, transistor, gas detection', 'Doped?': 'not doped'}\n",
      "{'Polymer Mentioned Name': 'poly(3,4-ethylenedioxythiophene):poly(styrene sulfonate)', 'Polymer Chemical Abbreviation': 'PEDOT:PSS', 'Polymer Application': 'smart clothing, wearable devices, fibrous organic electrochemical transistor', 'Doped?': 'not doped'}\n",
      "{'Polymer Mentioned Name': 'chitosan', 'Polymer Chemical Abbreviation': 'CS', 'Polymer Application': 'neuromorphic computation, brain-inspired, artificial intelligence', 'Doped?': 'not doped'}\n",
      "{'Polymer Mentioned Name': 'SrCo0.95Sb0.05O3-delta', 'Polymer Chemical Abbreviation': 'SCS', 'Polymer Application': 'intermediate temperature solid oxide fuel cells, electrolysers, thermochemical water splitting reactors', 'Doped?': 'not doped'}\n",
      "{'Polymer Mentioned Name': 'SrCo0.95Mo0.05O3-delta', 'Polymer Chemical Abbreviation': 'SCM', 'Polymer Application': 'intermediate temperature solid oxide fuel cells, electrolysers, thermochemical water splitting reactors', 'Doped?': 'not doped'}\n",
      "{'Polymer Mentioned Name': 'poly(3,4-ethylenedioxythiophene):polystyrene sulfonate', 'Polymer Chemical Abbreviation': 'PEDOT:PSS', 'Polymer Application': 'electrochemical transistors, electrochemical ion pumps, bioelectronics', 'Doped?': 'not doped'}\n",
      "{'Polymer Mentioned Name': 'poly(3,4-ethylenedioxythiophene):polystyrene sulfonate', 'Polymer Chemical Abbreviation': 'PEDOT:PSS', 'Polymer Application': 'organic electrochemical transistors, electrochromics, flexible/stretchable supercapacitors, 60 Hz AC line filtering', 'Doped?': 'not doped'}\n",
      "{'Polymer Mentioned Name': 'polyaniline', 'Polymer Chemical Abbreviation': 'PANI', 'Polymer Application': 'pseudocapacitors', 'Doped?': 'not doped'}\n",
      "{'Polymer Mentioned Name': 'poly(3,4-ethyelenedioxythiophene)', 'Polymer Chemical Abbreviation': 'PEDOT', 'Polymer Application': 'organic electrochemical transistor, ionic-electronic thermodiffusion, electrochromic devices, surface switches', 'Doped?': 'p-doped'}\n",
      "{'Polymer Mentioned Name': 'SCAM', 'Polymer Chemical Abbreviation': 'Sm0.9Ca0.1Al1-xMnO3', 'Polymer Application': 'anode material, solid oxide full cells (SOFCs)', 'Doped?': 'not doped'}\n",
      "{'Polymer Mentioned Name': 'poly(3-hexylthiophene)', 'Polymer Chemical Abbreviation': 'P3HT', 'Polymer Application': 'neuromorphic behaviors, organic electrochemical transistors, spatiotemporally neural network', 'Doped?': 'not doped'}\n",
      "{'Polymer Mentioned Name': 'polyaniline', 'Polymer Chemical Abbreviation': 'PANI', 'Polymer Application': 'bio-sensor, ion-sensor, OECT', 'Doped?': 'acid (HCl) doped, not doped'}\n",
      "{'Polymer Mentioned Name': 'poly(3-hexylthiophene)', 'Polymer Chemical Abbreviation': 'P3HT', 'Polymer Application': 'EGOFET, bio-sensor, ion-sensor', 'Doped?': 'not doped'}\n",
      "{'Polymer Mentioned Name': 'PEDOT:PSS', 'Polymer Chemical Abbreviation': 'PEDOT:PSS', 'Polymer Application': 'bioelectronics, neuromorphic computing, biosensors, wearable electronics', 'Doped?': 'not doped'}\n",
      "{'Polymer Mentioned Name': 'ETE-COONa', 'Polymer Chemical Abbreviation': 'ETE-COONa', 'Polymer Application': 'bioelectronics', 'Doped?': 'not doped'}\n",
      "{'Polymer Mentioned Name': 'PEDOT:PSS', 'Polymer Chemical Abbreviation': 'PEDOT:PSS', 'Polymer Application': 'physiological recordings, miniaturized devices, biocompatible devices, local amplification, in vivo recordings, voltage readings', 'Doped?': 'p-doped'}\n",
      "{'Polymer Mentioned Name': 'poly(3,4-ethylenedioxythiophene) poly(styrenesulfonate)', 'Polymer Chemical Abbreviation': 'PEDOT:PSS', 'Polymer Application': 'biosensing', 'Doped?': 'not_doped'}\n",
      "{'Polymer Mentioned Name': 'La1-xSrxMnO3 +/-delta', 'Polymer Chemical Abbreviation': 'LSM', 'Polymer Application': 'electrodes, electrocatalytic, thin-film', 'Doped?': 'not_doped'}\n",
      "{'Polymer Mentioned Name': 'polylactic acid', 'Polymer Chemical Abbreviation': 'PLA', 'Polymer Application': 'substrates, disposable electronics, gate dielectric', 'Doped?': 'not doped'}\n",
      "{'Polymer Mentioned Name': 'Ba0.5Sr0.5Co0.8Fe0.2O3-delta', 'Polymer Chemical Abbreviation': 'BSCF', 'Polymer Application': 'fuel cell cathodes, planar mixed-conducting membranes', 'Doped?': 'not doped'}\n",
      "{'Polymer Mentioned Name': 'SrCo0.8Fe0.2O3-delta', 'Polymer Chemical Abbreviation': 'SCF', 'Polymer Application': 'fuel cell cathodes, planar mixed-conducting membranes', 'Doped?': 'not doped'}\n",
      "{'Polymer Mentioned Name': 'conductive polymer', 'Polymer Chemical Abbreviation': 'PEDOT:PSS', 'Polymer Application': 'wearable chemical sensors, healthcare applications, detecting biomarkers in body fluids', 'Doped?': 'p-doped'}\n",
      "{'Polymer Mentioned Name': 'poly(3,4-ethylenedioxythiophene)', 'Polymer Chemical Abbreviation': 'PEDOT', 'Polymer Application': 'neuromorphic computing, artificial synaptic devices, ultralow power consumption', 'Doped?': 'not doped'}\n",
      "{'Polymer Mentioned Name': 'poly(3,4-ethylenedioxythiophene):polystyrenesulfonate', 'Polymer Chemical Abbreviation': 'PEDOT:PSS', 'Polymer Application': 'glucose monitoring, sensor, electrode, transistor', 'Doped?': 'not doped'}\n",
      "{'Polymer Mentioned Name': 'poly(2-(3,3-bis(2-(2-(2-methoxyethoxy)ethoxy)ethoxy)-[2,2-bithiophen]-5-yl)thieno[3,2-b]thiophene)', 'Polymer Chemical Abbreviation': 'p(g2T-TT)', 'Polymer Application': 'biosensing, electrophysiological sensing, bioelectronic', 'Doped?': 'not_doped'}\n",
      "{'Polymer Mentioned Name': 'poly(3,4-ethylenedioxythiophene):poly(styrenesulfonate)', 'Polymer Chemical Abbreviation': 'PEDOT:PSS', 'Polymer Application': 'biosensing, electrophysiological sensing, bioelectronic', 'Doped?': 'not_doped'}\n",
      "{'Polymer Mentioned Name': 'La0.6Sr0.4CoO3-delta', 'Polymer Chemical Abbreviation': 'LSC', 'Polymer Application': 'oxygen reduction kinetics, chemical expansion', 'Doped?': 'not doped'}\n",
      "{'Polymer Mentioned Name': 'Ba0.5Sr0.5Co0.8Fe0.2O3-delta', 'Polymer Chemical Abbreviation': 'BSCF', 'Polymer Application': 'oxygen reduction kinetics, chemical expansion', 'Doped?': 'not doped'}\n",
      "{'Polymer Mentioned Name': 'LaNiO3-delta', 'Polymer Chemical Abbreviation': 'LNO', 'Polymer Application': 'oxygen reduction kinetics', 'Doped?': 'not doped'}\n",
      "{'Polymer Mentioned Name': 'La2NiO4+delta', 'Polymer Chemical Abbreviation': 'L2NO', 'Polymer Application': 'chemical expansion', 'Doped?': 'not doped'}\n",
      "{'Polymer Mentioned Name': 'GaBaCo2O5.5+delta', 'Polymer Chemical Abbreviation': 'GBCO', 'Polymer Application': 'oxygen reduction kinetics, chemical expansion', 'Doped?': 'not doped'}\n",
      "{'Polymer Mentioned Name': 'La0.7Sr0.3MnO3-delta', 'Polymer Chemical Abbreviation': 'LSM', 'Polymer Application': 'chemical expansion', 'Doped?': 'not doped'}\n",
      "{'Polymer Mentioned Name': 'poly(3,4-ethylenedioxythiophene):polystyrene sulfonate', 'Polymer Chemical Abbreviation': 'PEDOT:PSS', 'Polymer Application': 'wearable bioelectronics, bio-hybrid devices, adaptive neuromorphic technologies', 'Doped?': 'not doped'}\n",
      "{'Polymer Mentioned Name': 'Cyano-OCF-EO', 'Polymer Chemical Abbreviation': 'Cyano-OCF-EO', 'Polymer Application': 'metal-free sulfur evolution catalysts, separator modifier, Li-S cells', 'Doped?': 'not doped'}\n",
      "{'Polymer Mentioned Name': 'poly(3,4-ethylenedioxythiophene)', 'Polymer Chemical Abbreviation': 'PEDOT', 'Polymer Application': 'printed electronic components, organic electrochemical transistors, screen printing ink', 'Doped?': 'p-doped'}\n",
      "{'Polymer Mentioned Name': 'PEDOT:PSS', 'Polymer Chemical Abbreviation': 'PEDOT:PSS', 'Polymer Application': 'screen printing ink', 'Doped?': 'p-doped'}\n",
      "{'Polymer Mentioned Name': 'poly(3,4-ethylenedioxythiophene):poly(styrene sulfonate)', 'Polymer Chemical Abbreviation': 'PEDOT:PSS', 'Polymer Application': 'OECT, biosensing, transduction', 'Doped?': 'not doped'}\n",
      "{'Polymer Mentioned Name': 'PEDOT:PSS', 'Polymer Chemical Abbreviation': 'PEDOT:PSS', 'Polymer Application': 'cancer cell detection, biosensor, transistor', 'Doped?': 'not doped'}\n",
      "{'Polymer Mentioned Name': 'poly(3,4-ethylenedioxythiophene):polystyrene sulfonate', 'Polymer Chemical Abbreviation': 'PEDOT:PSS', 'Polymer Application': 'organic electrochemical transistor, channel, synaptic plasticity, flexible and biocompatible electronic devices', 'Doped?': 'not doped'}\n",
      "{'Polymer Mentioned Name': 'Nafion', 'Polymer Chemical Abbreviation': 'Nafion', 'Polymer Application': 'solid electrolyte', 'Doped?': 'not doped'}\n",
      "{'Polymer Mentioned Name': 'La0.6Sr0.4Co0.2Fe0.8O3-delta', 'Polymer Chemical Abbreviation': 'LSCF6428', 'Polymer Application': 'cathode, SOFC', 'Doped?': 'not doped'}\n",
      "{'Polymer Mentioned Name': 'Sm0.5Sr0.5CoFe3-delta', 'Polymer Chemical Abbreviation': 'SSC55', 'Polymer Application': 'nanocatalyst, cathode-infiltrated cell', 'Doped?': 'not doped'}\n",
      "{'Polymer Mentioned Name': '4a-azonia-naphthalene', 'Polymer Chemical Abbreviation': 'AN', 'Polymer Application': 'optoelectronic, bioelectronic, energy storage', 'Doped?': 'n-doped'}\n",
      "{'Polymer Mentioned Name': 'poly(3,4-ethylenedioxythiophene) polystyrene sulfonate', 'Polymer Chemical Abbreviation': 'PEDOT:PSS', 'Polymer Application': 'organic electrochemical transistors, monitoring devices, cell cultures', 'Doped?': 'not doped'}\n",
      "{'Polymer Mentioned Name': 'Gd-doped Ceria', 'Polymer Chemical Abbreviation': 'GDC', 'Polymer Application': 'solid oxide fuel cells, electrostrictive devices, memristive devices', 'Doped?': 'p-doped'}\n",
      "{'Polymer Mentioned Name': 'poly(3,4-ethylenedioxythiophene):poly(styrene sulfonic acid)', 'Polymer Chemical Abbreviation': 'PEDOT:PSS', 'Polymer Application': 'organic electrochemical transistors (OECTs)', 'Doped?': 'not doped'}\n",
      "{'Polymer Mentioned Name': 'poly(3, 4-ethylenedioxythiophene)', 'Polymer Chemical Abbreviation': 'PEDOT', 'Polymer Application': 'ion sensors, transistor, wearable healthcare monitoring', 'Doped?': 'not doped'}\n",
      "{'Polymer Mentioned Name': 'PEDOT:PSS', 'Polymer Chemical Abbreviation': 'PEDOT:PSS', 'Polymer Application': 'neuromorphic behavior, organic electrochemical transistors, paired-pulse depression, dynamic filtering', 'Doped?': 'not doped'}\n",
      "{'Polymer Mentioned Name': 'PSSNa', 'Polymer Chemical Abbreviation': 'PSSNa', 'Polymer Application': 'ionic conductor, ion injection, ion extraction', 'Doped?': 'not doped'}\n",
      "{'Polymer Mentioned Name': 'thieno[3,2-b]thiophene with oligoether side chains', 'Polymer Chemical Abbreviation': 'TTT-OE', 'Polymer Application': 'Organic electrochemical transistors', 'Doped?': 'not doped'}\n",
      "{'Polymer Mentioned Name': 'thieno[3,2-b]thiophene with oligoether side chains and bithiophene', 'Polymer Chemical Abbreviation': 'TTT-OE-BT', 'Polymer Application': 'Organic electrochemical transistors', 'Doped?': 'not doped'}\n",
      "{'Polymer Mentioned Name': 'PEDOT:PSS', 'Polymer Chemical Abbreviation': 'PEDOT:PSS', 'Polymer Application': 'in situ live pH-monitoring, pH sensing', 'Doped?': 'p-doped'}\n",
      "{'Polymer Mentioned Name': 'Conjugated ladder polymers (CLPs)', 'Polymer Chemical Abbreviation': 'CLPs', 'Polymer Application': 'organic semiconductors, organic electrochemical transistors, organic thermoelectric devices', 'Doped?': 'not doped'}\n",
      "{'Polymer Mentioned Name': 'polar polythiophenes with oligoethylene glycol side chains', 'Polymer Chemical Abbreviation': 'PTEG', 'Polymer Application': 'bulk material', 'Doped?': 'not doped'}\n",
      "{'Polymer Mentioned Name': 'copolymer comprising soft polythiophene blocks with tetraethylene glycol side chains and hard urethane segments', 'Polymer Chemical Abbreviation': 'PTEG-U', 'Polymer Application': 'free-standing solid, organic electrochemical transistors', 'Doped?': 'p-doped'}\n",
      "{'Polymer Mentioned Name': 'PEDOT:PSS', 'Polymer Chemical Abbreviation': 'PEDOT:PSS', 'Polymer Application': 'bioelectronics, electrical recording, assessing cell barrier properties', 'Doped?': 'p-doped'}\n",
      "{'Polymer Mentioned Name': 'p(gPyDPP-MeOT2)', 'Polymer Chemical Abbreviation': 'p(gPyDPP-MeOT2)', 'Polymer Application': 'bioelectronic devices', 'Doped?': 'not doped'}\n",
      "{'Polymer Mentioned Name': 'naphthalene 1,4,5,8 tetracarboxylic diimide bithiophene', 'Polymer Chemical Abbreviation': 'NDI-T2', 'Polymer Application': 'bioelectronic transducer, biosensing', 'Doped?': 'n-doped'}\n",
      "{'Polymer Mentioned Name': 'oligo(ether)-functionalized propylenedioxythiophene (ProDOT)-based copolymer', 'Polymer Chemical Abbreviation': 'ProDOT', 'Polymer Application': 'organic electrochemical transistors, electrochromic displays, energy-storage devices, biosensing', 'Doped?': 'not doped'}\n",
      "{'Polymer Mentioned Name': 'gT2', 'Polymer Chemical Abbreviation': 'gT2', 'Polymer Application': 'organic electrochemical transistors (OECTs)', 'Doped?': 'p-type'}\n",
      "{'Polymer Mentioned Name': 'g4T2-T2', 'Polymer Chemical Abbreviation': 'g4T2-T2', 'Polymer Application': 'organic electrochemical transistors (OECTs)', 'Doped?': 'p-type'}\n",
      "{'Polymer Mentioned Name': 'CNg4T2-CNT2', 'Polymer Chemical Abbreviation': 'CNg4T2-CNT2', 'Polymer Application': 'organic electrochemical transistors (OECTs)', 'Doped?': 'n-type'}\n",
      "{'Polymer Mentioned Name': 'poly(3,4-ethylenedioxythiophene)', 'Polymer Chemical Abbreviation': 'PEDOT', 'Polymer Application': 'organic electrochemical transistors, electrochemical signals, electrocatalyzed O-2 reduction', 'Doped?': 'not doped'}\n",
      "{'Polymer Mentioned Name': 'poly(styrenesulfonate)', 'Polymer Chemical Abbreviation': 'PSS', 'Polymer Application': 'organic electrochemical transistors', 'Doped?': 'not doped'}\n",
      "{'Polymer Mentioned Name': 'poly(acrylamide)', 'Polymer Chemical Abbreviation': 'PAA', 'Polymer Application': 'structural, electrochemical functions', 'Doped?': 'not doped'}\n",
      "{'Polymer Mentioned Name': 'poly[2,5-bis(3-tetradecylthiophen-2-yl)thieno[3,2-b]thiophene]', 'Polymer Chemical Abbreviation': 'PBTTT-C14', 'Polymer Application': 'OECTs, transistor, channel', 'Doped?': 'not doped'}\n",
      "{'Polymer Mentioned Name': 'poly(3-hexylthiophene-2,5-diyl)', 'Polymer Chemical Abbreviation': 'P3HT', 'Polymer Application': 'OECTs, transistor, flexible substrate', 'Doped?': 'not doped'}\n",
      "{'Polymer Mentioned Name': 'poly(methyl methacrylate)', 'Polymer Chemical Abbreviation': 'PMMA', 'Polymer Application': 'dielectric layer, transistor architecture, electrolyte dielectric/semiconductor interface', 'Doped?': 'not doped'}\n",
      "{'MIEC': 'MIEC', 'Polymer Chemical Abbreviation': 'MIEC', 'Polymer Application': 'neuromorphic computing, artificial neurons, artificial synapses, neural network', 'Doped?': 'not doped', 'Polymer Mentioned Name': 'MIEC'}\n",
      "{'Polymer Mentioned Name': 'polypyrrole', 'Polymer Chemical Abbreviation': 'PPy', 'Polymer Application': 'additive in sulfur cathodes, rechargeable lithium sulfur batteries', 'Doped?': 'not doped'}\n",
      "{'Polymer Mentioned Name': 'poly(2-acrylamido-2-methyl-1-propanesulfonic acid)', 'Polymer Chemical Abbreviation': 'PAAMPSA', 'Polymer Application': 'water-dispersible, intertwined with PPy', 'Doped?': 'not doped'}\n",
      "{'Polymer Mentioned Name': 'poly(3,4-ethylenedioxythiophene)', 'Polymer Chemical Abbreviation': 'PEDOT', 'Polymer Application': 'photo-active gating material, channel material', 'Doped?': 'not doped'}\n",
      "{'Polymer Mentioned Name': 'poly(3,4-ethylenedioxythiophene):poly(styrenesulfonate)', 'Polymer Chemical Abbreviation': 'PEDOT:PSS', 'Polymer Application': 'channel material', 'Doped?': 'not doped'}\n",
      "{'iLCE': 'ionic liquid crystal elastomers', 'Polymer Chemical Abbreviation': 'iLCE', 'Polymer Application': 'soft robotics, biosensing', 'Doped?': 'not doped', 'Polymer Mentioned Name': 'iLCE'}\n",
      "{'Polymer Mentioned Name': 'poly(3,4-ethylene dioxythiophene):polystyrene sulfonate', 'Polymer Chemical Abbreviation': 'PEDOT:PSS', 'Polymer Application': 'electrochemical transistor, biosensors, biochemical sensors', 'Doped?': 'not doped'}\n",
      "{'Polymer Mentioned Name': 'poly(3,4-ethylenedioxythiophene)', 'Polymer Chemical Abbreviation': 'PEDOT', 'Polymer Application': 'logic circuits, sensors, active matrix addressed displays', 'Doped?': 'p-doped'}\n",
      "{'Polymer Mentioned Name': 'poly[(2,5-bis(2-alkyloxy)phenylene)-alt-(5,6-difluoro-4,7-di(thiophene-2-yl)benzo[c][1,2,5]thiadiazole)]', 'Polymer Chemical Abbreviation': '', 'Polymer Application': 'thermoelectric, transistor', 'Doped?': 'p-doped'}\n",
      "{'Polymer Mentioned Name': '6,13-bis(triisopropylsilylethinyl) pentacene', 'Polymer Chemical Abbreviation': 'TIPS-pentacene', 'Polymer Application': 'organic field effect transistors, organic electrochemical transistors', 'Doped?': 'not doped'}\n",
      "{'Polymer Mentioned Name': 'polydimethylsiloxane', 'Polymer Chemical Abbreviation': 'PDMS', 'Polymer Application': 'flexible polymer substrates, skin-compatible', 'Doped?': 'not doped'}\n",
      "{'Polymer Mentioned Name': 'polydimethylsiloxane', 'Polymer Chemical Abbreviation': 'PDMS', 'Polymer Application': 'flexible polymer substrates, skin-compatible', 'Doped?': 'not doped'}\n",
      "{'Polymer Mentioned Name': 'thiol-ene cross-linked poly(dimethylsiloxane)', 'Polymer Chemical Abbreviation': 'TC-PDMS', 'Polymer Application': 'passivation layer, stretchable bioelectric devices, intrinsically stretchable organic electrochemical transistor, record electrocardiographic signals', 'Doped?': 'not doped'}\n",
      "{'Polymer Mentioned Name': 'PEDOT:PSS', 'Polymer Chemical Abbreviation': 'PEDOT:PSS', 'Polymer Application': 'organic electrochemical transistor, transfer curve, gate bias stress', 'Doped?': 'not doped'}\n",
      "{'Polymer Mentioned Name': 'poly(3,4-ethylenedioxythiophene):poly(styrenesulfonate)', 'Polymer Chemical Abbreviation': 'PEDOT:PSS', 'Polymer Application': 'organic electrochemical transistors, channel', 'Doped?': 'not doped'}\n",
      "{'Polymer Mentioned Name': 'poly(vinyl alcohol)', 'Polymer Chemical Abbreviation': 'PVA', 'Polymer Application': 'quasi-solid-state polymer electrolyte, ion-conducting', 'Doped?': 'not doped'}\n",
      "{'Polymer Mentioned Name': 'poly(3,4-ethylenedioxythiophene)', 'Polymer Chemical Abbreviation': 'PEDOT', 'Polymer Application': 'Organic ElectroChemical Transistors, memory devices, transistor', 'Doped?': 'not doped'}\n",
      "{'Polymer Mentioned Name': 'poly(L-lactide-co-glycolide)', 'Polymer Chemical Abbreviation': 'PLGA', 'Polymer Application': 'bioelectronic interfaces, electrocardiogram', 'Doped?': 'not doped'}\n",
      "{'Polymer Mentioned Name': 'poly[2,5-(2-octyldodecyl)-3,6-diketopyrrolopyrrole-alt-5,5-(2,5-di(thien-2-yl)thieno [3,2-b] thiophene]', 'Polymer Chemical Abbreviation': 'DPP-DTT', 'Polymer Application': 'organic electrochemical transistors, electrochemical doping, transconductance, volumetric capacitance', 'Doped?': 'not doped'}\n",
      "{'Polymer Mentioned Name': 'poly(benzimidazoben zophenanthroline)', 'Polymer Chemical Abbreviation': 'BBL', 'Polymer Application': 'OECT, bioelectronics, flexible electronic', 'Doped?': 'n-doped'}\n",
      "{'Polymer Mentioned Name': 'NDI-T2 copolymers', 'Polymer Chemical Abbreviation': 'NDI-T2', 'Polymer Application': 'organic electrochemical transistors (OECTs)', 'Doped?': 'not doped'}\n",
      "{'Polymer Mentioned Name': 'PEDOT:PSS', 'Polymer Chemical Abbreviation': 'PEDOT:PSS', 'Polymer Application': 'channel material, positive electrode', 'Doped?': 'not doped'}\n",
      "{'Polymer Mentioned Name': 'PSSNa', 'Polymer Chemical Abbreviation': 'PSSNa', 'Polymer Application': 'electrolyte', 'Doped?': 'not doped'}\n",
      "{'Polymer Mentioned Name': 'poly(3,4-ethylenedioxythiophene)', 'Polymer Chemical Abbreviation': 'PEDOT', 'Polymer Application': 'sensing, transduction, transducer, functional readout', 'Doped?': 'p-doped'}\n",
      "{'Polymer Mentioned Name': 'poly (3,4-ethylenedioxythiophene)', 'Polymer Chemical Abbreviation': 'PEDOT', 'Polymer Application': 'stretchable conductors, organic electrochemical transistors (OECT)', 'Doped?': 'p-doped'}\n",
      "{'Polymer Mentioned Name': 'gNDI-V', 'Polymer Chemical Abbreviation': 'gNDI-V', 'Polymer Application': 'electrochromic devices, organic electrochemical transistors (OECTs)', 'Doped?': 'not doped'}\n",
      "{'Polymer Mentioned Name': 'gNDI-T', 'Polymer Chemical Abbreviation': 'gNDI-T', 'Polymer Application': 'electrochromic devices, organic electrochemical transistors (OECTs)', 'Doped?': 'not doped'}\n",
      "{'Polymer Mentioned Name': 'poly(3,4-ethylenedioxythiophene)', 'Polymer Chemical Abbreviation': 'PEDOT', 'Polymer Application': 'energy conversion, storage, sensors, biomedical technologies, organic electrochemical transistor, bioscaffolds, medical devices', 'Doped?': 'p-doped'}\n",
      "{'Polymer Mentioned Name': 'poly(3-methoxypropyl acrylate)', 'Polymer Chemical Abbreviation': 'PMPA', 'Polymer Application': 'antithrombotic, ionic conductivity', 'Doped?': 'not doped'}\n",
      "{'Polymer Mentioned Name': 'Li1-xMn2O4', 'Polymer Chemical Abbreviation': 'LiMn2O4', 'Polymer Application': 'electrical, electromechanical, atomic-force-microscopy', 'Doped?': 'not_doped'}\n",
      "{'Organic Electrochemical Transistor': 'Organic Electrochemical Transistor', 'Polymer Chemical Abbreviation': 'OECT', 'Polymer Application': 'facial expression monitoring, hands-free typing system, eye-triggered music playback control system', 'Doped?': 'not doped', 'Polymer Mentioned Name': 'Organic Electrochemical Transistor'}\n",
      "{'Polymer Mentioned Name': 'poly(3,4-ethylenedioxythiophene):poly(styrene sulfonate)', 'Polymer Chemical Abbreviation': 'PEDOT:PSS', 'Polymer Application': 'binding-free detection, biosensors, OPECT', 'Doped?': 'de-doped'}\n",
      "{'Polymer Mentioned Name': 'poly(3,4-ethylenedioxythiophene)', 'Polymer Chemical Abbreviation': 'PEDOT', 'Polymer Application': 'organic electrochemical transistor, biosensor', 'Doped?': 'not doped'}\n",
      "{'Polymer Mentioned Name': 'polystyrene sulfonate', 'Polymer Chemical Abbreviation': 'PSS', 'Polymer Application': 'organic electrochemical transistor, biosensor', 'Doped?': 'not doped'}\n",
      "{'Polymer Mentioned Name': 'PEDOT', 'Polymer Chemical Abbreviation': 'PEDOT', 'Polymer Application': 'ascorbic acid sensor, organic electrochemical transistor', 'Doped?': 'not doped'}\n",
      "{'Polymer Mentioned Name': 'Pr0.1Ce0.9O2-delta', 'Polymer Chemical Abbreviation': 'PCO', 'Polymer Application': 'solid oxide fuel, electrolysis cells, oxygen permeation membranes, oxygen storage materials, gas sensors', 'Doped?': 'not doped'}\n",
      "{'Polymer Mentioned Name': 'poly[3-(potassium-n-alkanoate) thiophene-2,5-diyl]', 'Polymer Chemical Abbreviation': 'P3KnT', 'Polymer Application': 'energy storage, optoelectronics, bioelectronics', 'Doped?': 'self-doped'}\n",
      "{'Polymer Mentioned Name': 't-gdiPDI', 'Polymer Chemical Abbreviation': 't-gdiPDI', 'Polymer Application': 'biosensors, artificial neural computation', 'Doped?': 'not doped'}\n",
      "{'Polymer Mentioned Name': 'poly(3,4-ethylenedioxythiophene) polystyrene sulfonate', 'Polymer Chemical Abbreviation': 'PEDOT:PSS', 'Polymer Application': 'neuromorphic devices, biosensors, bioelectronics, wearable technology', 'Doped?': 'not doped'}\n",
      "{'Polymer Mentioned Name': 'cyclopentadithiophene-benzothiadiazole', 'Polymer Chemical Abbreviation': 'CDT-BT', 'Polymer Application': 'biosignal amplifiers, analyte sensors, neuromorphic electronics', 'Doped?': 'not doped'}\n",
      "{'Polymer Mentioned Name': 'PTHSTMA-co-P3HT', 'Polymer Chemical Abbreviation': 'PTHSTMA-co-P3HT', 'Polymer Application': 'organic electrochemical transistors, OECTs', 'Doped?': 'not doped'}\n",
      "{'Polymer Mentioned Name': 'PTHSTMA', 'Polymer Chemical Abbreviation': 'PTHSTMA', 'Polymer Application': 'organic electrochemical transistors, OECTs', 'Doped?': 'not doped'}\n",
      "{'Polymer Mentioned Name': 'P3HT', 'Polymer Chemical Abbreviation': 'P3HT', 'Polymer Application': 'organic electrochemical transistors, OECTs', 'Doped?': 'not doped'}\n",
      "{'Polymer Mentioned Name': 'poly(3,4-ethylenedioxythiophene): poly(styrenesulfonate)', 'Polymer Chemical Abbreviation': 'PEDOT:PSS', 'Polymer Application': 'organic electrochemical transistors, flexibility, biocompatibility, facile fabrication processes', 'Doped?': 'not doped'}\n",
      "{'Polymer Mentioned Name': 'f-BTI2TEG-FT', 'Polymer Chemical Abbreviation': 'f-BTI2TEG-FT', 'Polymer Application': 'OECT, low-power', 'Doped?': 'n-doped'}\n",
      "{'Polymer Mentioned Name': 'PTDPP-DT', 'Polymer Chemical Abbreviation': 'PTDPP-DT', 'Polymer Application': 'bioelectronic, organic electrochemical transistors', 'Doped?': 'p-doped'}\n",
      "{'Polymer Mentioned Name': 'poly(3,4-ethylenedioxythiophene):poly(styrene sulfonate)', 'Polymer Chemical Abbreviation': 'PEDOT:PSS', 'Polymer Application': 'bioelectronic devices, biomedical applications, sensing, biointerfacing', 'Doped?': 'not doped'}\n",
      "{'Polymer Mentioned Name': 'poly-(benzimidazobenzophenanthroline)', 'Polymer Chemical Abbreviation': 'BBL', 'Polymer Application': 'organic electrochemical transistor (OECT)', 'Doped?': 'not_doped'}\n",
      "{'Polymer Mentioned Name': 'conjugated polyelectrolytes', 'Polymer Chemical Abbreviation': 'CPEs', 'Polymer Application': 'bioelectronics', 'Doped?': 'not_doped'}\n",
      "{'Polymer Mentioned Name': 'poly(3,4-ethylenedioxythiophene)', 'Polymer Chemical Abbreviation': 'PEDOT', 'Polymer Application': 'transparent electrodes, hole injecting layers, thermoelectric materials', 'Doped?': 'p-doped'}\n",
      "{'Polymer Mentioned Name': 'poly[2-methoxy-5-(2-ethylhexyloxy)-1,4-phenylenevinylene]', 'Polymer Chemical Abbreviation': 'MEH-PPV', 'Polymer Application': 'polymer electrochemical transistors, polymer light-emitting electrochemical transistor, polymer electrochemical phototransistor', 'Doped?': 'not doped'}\n",
      "{'Polymer Mentioned Name': 'polyethylene oxide', 'Polymer Chemical Abbreviation': 'PEO', 'Polymer Application': 'solid electrolyte, integration in OECTs', 'Doped?': 'not doped'}\n",
      "{'Polymer Mentioned Name': 'TDPP-RD-G7', 'Polymer Chemical Abbreviation': 'TDPP-RD-G7', 'Polymer Application': 'OECTs', 'Doped?': 'not_doped'}\n",
      "{'p-type ladder conjugated polymer': 'p-type ladder conjugated polymer', 'Polymer Chemical Abbreviation': '', 'Polymer Application': 'OECTs, logic circuits, ambipolar OECTs', 'Doped?': 'p-doped', 'Polymer Mentioned Name': 'p-type ladder conjugated polymer'}\n",
      "{'n-type ladder polymer': 'n-type ladder polymer', 'Polymer Chemical Abbreviation': '', 'Polymer Application': 'OECTs, logic circuits, ambipolar OECTs', 'Doped?': 'n-doped', 'Polymer Mentioned Name': 'n-type ladder polymer'}\n",
      "{'Polymer Mentioned Name': 'poly(3,4-ethylenedioxythiophene)', 'Polymer Chemical Abbreviation': 'PEDOT', 'Polymer Application': 'healthcare applications, portable sensing technologies, pH monitoring', 'Doped?': 'doped'}\n",
      "{'Polymer Mentioned Name': 'poly(3,4ethylenedioxythiophene): poly(styrene sulfonate)', 'Polymer Chemical Abbreviation': 'PEDOT:PSS', 'Polymer Application': 'neuromorphic function, orientation selectivity, organic bioelectronics', 'Doped?': 'not doped'}\n",
      "{'Polymer Mentioned Name': 'poly(3-hexylthiophene)', 'Polymer Chemical Abbreviation': 'P3HT', 'Polymer Application': 'organic electrochemical transistors, stretchable semiconductor films, flexible/stretchable electronics, artificial synapses', 'Doped?': 'not doped'}\n",
      "{'Polymer Mentioned Name': 'polyethylene oxide', 'Polymer Chemical Abbreviation': 'PEO', 'Polymer Application': 'stretchable semiconductor films, organic electrochemical transistors', 'Doped?': 'not doped'}\n",
      "{'Polymer Mentioned Name': 'poly(3,4-ethylenedioxythiophene)', 'Polymer Chemical Abbreviation': 'PEDOT', 'Polymer Application': 'OECT, bacterial growth monitoring, research, diagnostic', 'Doped?': 'not doped'}\n",
      "{'Polymer Mentioned Name': 'poly(3,4-ethylene dioxythiophene):polystyrene sulfonate', 'Polymer Chemical Abbreviation': 'PEDOT:PSS', 'Polymer Application': 'biosensors, wearable, multi-ion detection, electrolytes monitoring', 'Doped?': 'not doped'}\n",
      "{'Polymer Mentioned Name': 'polythiophene', 'Polymer Chemical Abbreviation': 'PT', 'Polymer Application': 'light sensing device, organic opto-logic gates, modern electronics, photonics', 'Doped?': 'not doped'}\n",
      "{'Polymer Mentioned Name': 'PEDOT:PSS', 'Polymer Chemical Abbreviation': 'PEDOT:PSS', 'Polymer Application': 'organic electrochemical transistors, light sensing device, organic opto-logic gates, modern electronics, photonics', 'Doped?': 'not doped'}\n",
      "{'Polymer Mentioned Name': 'SrTi0.65Fe0.35O3-x', 'Polymer Chemical Abbreviation': 'STF', 'Polymer Application': 'fuel cell, electrochemistry', 'Doped?': 'not doped'}\n",
      "{'Polymer Mentioned Name': 'poly(3, 4-ethylenedioxythiophene)', 'Polymer Chemical Abbreviation': 'PEDOT', 'Polymer Application': 'organic electrochemical transistors, uric acid sensor, molecularly imprinted polymer membrane, fiber gate electrodes, clinical diagnostics, bioanalytical applications', 'Doped?': 'not doped'}\n",
      "{'Polymer Mentioned Name': 'PEDOT:PSS', 'Polymer Chemical Abbreviation': 'PEDOT:PSS', 'Polymer Application': 'organic electrochemical transistor, analysis of molecular products, liquid biopsies', 'Doped?': 'not doped'}\n",
      "{'Polymer Mentioned Name': 'PEDOT:PSS', 'Polymer Chemical Abbreviation': 'PEDOT:PSS', 'Polymer Application': 'biosensing, biosensing applications, accurate continuous monitoring', 'Doped?': 'not doped'}\n",
      "{'Polymer Mentioned Name': 'polyaniline', 'Polymer Chemical Abbreviation': 'PANI', 'Polymer Application': 'electrochemical sensitivity to pH', 'Doped?': 'not doped'}\n",
      "{'Polymer Mentioned Name': 'Poly(3,4-ethylene dioxythiophene)', 'Polymer Chemical Abbreviation': 'PEDOT', 'Polymer Application': 'enzymatic sensing of glucose and lactate', 'Doped?': 'p-doped'}\n",
      "{'Polymer Mentioned Name': 'Polythiophenes with alkyl side chain', 'Polymer Chemical Abbreviation': 'P3Ak', 'Polymer Application': 'organic electrochemical transistors', 'Doped?': 'not doped'}\n",
      "{'Polymer Mentioned Name': 'Polythiophenes with oligoethylene oxide side chain', 'Polymer Chemical Abbreviation': 'P3OEO', 'Polymer Application': 'organic electrochemical transistors', 'Doped?': 'not doped'}\n",
      "{'Polymer Mentioned Name': 'Polythiophenes with ester side chain', 'Polymer Chemical Abbreviation': 'P3E', 'Polymer Application': 'organic electrochemical transistors', 'Doped?': 'not doped'}\n",
      "{'Polymer Mentioned Name': 'Polythiophenes with hydroxy side chain', 'Polymer Chemical Abbreviation': 'P3OH', 'Polymer Application': 'organic electrochemical transistors', 'Doped?': 'not doped'}\n",
      "{'Polymer Mentioned Name': 'Polythiophenes with carboxylic acid side chain', 'Polymer Chemical Abbreviation': 'P3CA', 'Polymer Application': 'organic electrochemical transistors', 'Doped?': 'not doped'}\n",
      "{'Polymer Mentioned Name': 'polythiophene', 'Polymer Chemical Abbreviation': 'PT', 'Polymer Application': 'OECTs', 'Doped?': 'not_doped'}\n",
      "{'Polymer Mentioned Name': 'diketopyrrolopyrrole (DPP)-based D-A polymers', 'Polymer Chemical Abbreviation': 'DPP', 'Polymer Application': 'OECTs', 'Doped?': 'not_doped'}\n",
      "{'Polymer Mentioned Name': 'P(bgDPP-MeOT2)', 'Polymer Chemical Abbreviation': 'P(bgDPP-MeOT2)', 'Polymer Application': 'OECTs', 'Doped?': 'not_doped'}\n",
      "{'Polymer Mentioned Name': 'BTMP-EDOT', 'Polymer Chemical Abbreviation': 'BTMP-EDOT', 'Polymer Application': 'biosensing, detecting dopamine', 'Doped?': 'not doped'}\n",
      "{'Polymer Mentioned Name': 'P3MEET', 'Polymer Chemical Abbreviation': 'P3MEET', 'Polymer Application': 'biosensing, detecting dopamine', 'Doped?': 'not doped'}\n",
      "{'Polymer Mentioned Name': 'PEDOT-N3-OECTs', 'Polymer Chemical Abbreviation': 'PEDOT-N3', 'Polymer Application': 'organic bioelectronic devices, biosensors', 'Doped?': 'not doped'}\n",
      "{'Polymer Mentioned Name': 'poly(3,4-ethylenedioxythiophene): polystyrenesulfonate', 'Polymer Chemical Abbreviation': 'PEDOT:PSS', 'Polymer Application': 'clinical diagnosis, health monitoring, environmental surveillance', 'Doped?': 'co-doped'}\n",
      "{'Polymer Mentioned Name': 'poly(3,4-ethylenedioxythiophene):poly(styrene sulfonate)', 'Polymer Chemical Abbreviation': 'PEDOT:PSS', 'Polymer Application': 'electrochemical transistors, conductive nanofibers', 'Doped?': 'not doped'}\n",
      "{'Polymer Mentioned Name': 'poly(ethylene glycol)-poly(propylene glycol)-poly(ethylene glycol)', 'Polymer Chemical Abbreviation': 'PEG-PPG-PEG', 'Polymer Application': 'electrospun conductive nanofibers', 'Doped?': 'not doped'}\n",
      "{'Polymer Mentioned Name': 'p(g2T-T)', 'Polymer Chemical Abbreviation': 'p(g2T-T)', 'Polymer Application': 'biosensors, artificial neuromorphic systems, brain-machine interfaces', 'Doped?': 'not_doped'}\n",
      "{'Polymer Mentioned Name': 'poly(3,4-ethylenedioxythiophene)', 'Polymer Chemical Abbreviation': 'PEDOT', 'Polymer Application': 'glucose detection, electrochemical transistor, near field communication', 'Doped?': 'not doped'}\n",
      "{'Polymer Mentioned Name': 'poly(styrenesulfonate)', 'Polymer Chemical Abbreviation': 'PSS', 'Polymer Application': 'glucose detection, electrochemical transistor, near field communication', 'Doped?': 'not doped'}\n",
      "{'Polymer Mentioned Name': 'polymer polyethylenedioxythiophene: poly(styrene sulfonate)', 'Polymer Chemical Abbreviation': 'PEDOT:PSS', 'Polymer Application': 'microelectrode arrays, neural cuff electrodes, organic electrochemical transistors, biosensors, organic electronic ion pumps', 'Doped?': 'not_doped'}\n",
      "{'Polymer Mentioned Name': 'polypyrrole', 'Polymer Chemical Abbreviation': 'PPy', 'Polymer Application': 'wearable biosensors, biomarkers monitoring, disease diagnosis, wearable sweat biomonitoring', 'Doped?': 'not doped'}\n",
      "{'Polymer Mentioned Name': 'poly(3,4-ethylene dioxythiophene)', 'Polymer Chemical Abbreviation': 'PEDOT', 'Polymer Application': 'biosensors, metabolite sensing, amperometric detection', 'Doped?': 'p-doped'}\n",
      "{'Polymer Mentioned Name': 'poly(3,4-ethylenedioxythiophene)', 'Polymer Chemical Abbreviation': 'PEDOT', 'Polymer Application': 'bioelectronic interfaces, organic electrochemical transistors, electrochemical sensing, amperometric response, surface-enhanced Raman scattering', 'Doped?': 'p-doped'}\n",
      "{'Polymer Mentioned Name': 'polystyrenesulfonate-doped poly(3,4-ethylenedioxythiophene)', 'Polymer Chemical Abbreviation': 'PEDOT:PSS', 'Polymer Application': 'underlying layer, electrochemical sensing', 'Doped?': 'p-doped'}\n",
      "{'Nafion': 'Nafion', 'Polymer Chemical Abbreviation': 'Nafion', 'Polymer Application': 'OECT, pH sensor', 'Doped?': 'not doped', 'Polymer Mentioned Name': 'Nafion'}\n",
      "{'Polymer Mentioned Name': '4T/PEO4', 'Polymer Chemical Abbreviation': '4T/PEO4', 'Polymer Application': 'energy-storage, bioelectronics', 'Doped?': 'p-doped'}\n",
      "{'Polymer Mentioned Name': 'PEDOT:PSS', 'Polymer Chemical Abbreviation': 'PEDOT:PSS', 'Polymer Application': 'capture neuronal and cardiac signals, bioelectronic medical devices, monitoring micro-organs, diabetes', 'Doped?': 'not doped'}\n",
      "{'Polymer Mentioned Name': 'P-90', 'Polymer Chemical Abbreviation': 'P-90', 'Polymer Application': 'organic electrochemical transistors, OECTs, transistor', 'Doped?': 'n-doped'}\n",
      "{'Polymer Mentioned Name': 'PEDOT:PSS', 'Polymer Chemical Abbreviation': 'PEDOT:PSS', 'Polymer Application': 'organic electrochemical transistors, enzymatic activity transduction', 'Doped?': 'not doped'}\n",
      "{'Polymer Mentioned Name': '(5,5\")-biphenyl-(2,2\")-bithiophenes', 'Polymer Chemical Abbreviation': 'PTTPs', 'Polymer Application': 'organic electrochemical transistors, thermoelectrics, photovoltaics', 'Doped?': 'not doped'}\n",
      "{'Polymer Mentioned Name': 'poly(6-(thiophen-3-yl)hexane-1-sulfonate)', 'Polymer Chemical Abbreviation': 'PTHS', 'Polymer Application': 'electronic transducers, organic electrochemical transistors', 'Doped?': 'not doped'}\n",
      "{'Eumelanin': 'eumelanin', 'Polymer Chemical Abbreviation': 'eumelanin', 'Polymer Application': 'stem cell growth, differentiation, bioelectronic devices, organic electrochemical transistors', 'Doped?': 'not doped', 'Polymer Mentioned Name': 'Eumelanin'}\n",
      "{'Eumelanin': 'eumelanin', 'Polymer Chemical Abbreviation': 'eumelanin', 'Polymer Application': 'stem cell growth, differentiation, bioelectronic devices, organic electrochemical transistors', 'Doped?': 'not doped', 'Polymer Mentioned Name': 'Eumelanin'}\n",
      "{'Polymer Mentioned Name': 'poly(3,4-ethylenedioxythiophene) polystyrene sulfonate', 'Polymer Chemical Abbreviation': 'PEDOT:PSS', 'Polymer Application': 'OECT, biosensors, organ-on-a-chip', 'Doped?': 'not doped'}\n",
      "{'Polymer Mentioned Name': 'poly(3,4-ethylenedioxythiophene)', 'Polymer Chemical Abbreviation': 'PEDOT', 'Polymer Application': 'wearable electronics, electronic textiles, organic electrochemical transistors, thermoelectric modules', 'Doped?': 'not doped'}\n",
      "{'Polymer Mentioned Name': 'Nafion', 'Polymer Chemical Abbreviation': 'Nafion', 'Polymer Application': 'wearable electronics, electronic textiles, organic electrochemical transistors, thermoelectric modules', 'Doped?': 'not doped'}\n",
      "{'Polymer Mentioned Name': 'Pr0.8Nd0.2BaFe1.9Zn0.1O5+delta', 'Polymer Chemical Abbreviation': 'PNBFZ', 'Polymer Application': 'H-SOFC cathode, protonic ceramic fuel cells', 'Doped?': 'A-site doped'}\n",
      "{'Polymer Mentioned Name': 'PrBa0.9K0.1Fe1.9Zn0.1O5+delta', 'Polymer Chemical Abbreviation': 'PBKFZ', 'Polymer Application': 'H-SOFC cathode, protonic ceramic fuel cells', 'Doped?': 'A-site doped'}\n",
      "{'Polymer Mentioned Name': 'conducting polymer', 'Polymer Chemical Abbreviation': 'PEDOT:PSS', 'Polymer Application': 'wearable electronics, integrated devices, tactile sensor, organic electrochemical transistor', 'Doped?': 'not doped'}\n",
      "{'Polymer Mentioned Name': 'soft-polymer', 'Polymer Chemical Abbreviation': 'PAAMPSA', 'Polymer Application': 'wearable electronics, integrated devices', 'Doped?': 'not doped'}\n",
      "{'Polymer Mentioned Name': 'PEDOT:PSS', 'Polymer Chemical Abbreviation': 'PEDOT:PSS', 'Polymer Application': 'gate dielectrics, transistor, electrochemical textile transistor, inverter circuit, NOR-gated circuit, amplifier, fully textile electronic circuits', 'Doped?': 'not doped'}\n",
      "{'Polymer Mentioned Name': 'poly(3,4-ethylenedioxythiophene):poly(styrenesulfonate)', 'Polymer Chemical Abbreviation': 'PEDOT:PSS', 'Polymer Application': 'OECTs, bioelectronics, transistor, biosensing', 'Doped?': 'not_doped'}\n",
      "{'Polymer Mentioned Name': 'poly(3,4-ethylenedioxythiophene): poly(styrenesulfonate)', 'Polymer Chemical Abbreviation': 'PEDOT:PSS', 'Polymer Application': 'organic electrochemical transistor, thermoelectric materials', 'Doped?': 'p-doped'}\n",
      "{'Polymer Mentioned Name': 'poly(3,4-ethylenedioxythiophene) polystyrenesulfonate', 'Polymer Chemical Abbreviation': 'PEDOT:PSS', 'Polymer Application': 'Organic Electrochemical Transistors, bioelectronics', 'Doped?': 'not doped'}\n",
      "{'Polymer Mentioned Name': 'poly(3,4-ethylenedioxythiophene)', 'Polymer Chemical Abbreviation': 'PEDOT', 'Polymer Application': 'glucose sensor, transistor, gate electrode', 'Doped?': 'p-doped'}\n",
      "{'Polymer Mentioned Name': 'poly(styrene sulfonate)', 'Polymer Chemical Abbreviation': 'PSS', 'Polymer Application': 'gate electrode', 'Doped?': 'not doped'}\n",
      "{'Polymer Mentioned Name': 'BDOPV-TCNVT', 'Polymer Chemical Abbreviation': 'BDOPV-TCNVT', 'Polymer Application': 'neuromorphic computing, synaptic devices, bioelectronic', 'Doped?': 'not doped'}\n",
      "{'Polymer Mentioned Name': 'ClBDOPV-TCNVT', 'Polymer Chemical Abbreviation': 'ClBDOPV-TCNVT', 'Polymer Application': 'neuromorphic computing, synaptic devices, bioelectronic', 'Doped?': 'not doped'}\n",
      "{'Polymer Mentioned Name': 'poly(3,4-ethylenedioxythiophene): poly(styrene sulfonate)', 'Polymer Chemical Abbreviation': 'PEDOT:PSS', 'Polymer Application': 'wearable, implantable, neuromorphic, sustainable', 'Doped?': 'p-doped'}\n",
      "{'Polymer Mentioned Name': 'PE2-biOE2OE3(L)', 'Polymer Chemical Abbreviation': 'PE2-biOE2OE3(L)', 'Polymer Application': 'organic electrochemical transistors', 'Doped?': 'p-doped'}\n",
      "{'Polymer Mentioned Name': 'PE2-biOE2OE3(H)', 'Polymer Chemical Abbreviation': 'PE2-biOE2OE3(H)', 'Polymer Application': 'organic electrochemical transistors', 'Doped?': 'p-doped'}\n",
      "{'Polymer Mentioned Name': 'poly[2,5-bis(3-tetradecylthiophen-2-yl)thieno[3,2-b]thiophene]', 'Polymer Chemical Abbreviation': 'PBTTT', 'Polymer Application': 'organic electrochemical transistor, OECT', 'Doped?': 'not doped'}\n",
      "{'Polymer Mentioned Name': 'PBTTT analogue with hydrophilic side chains', 'Polymer Chemical Abbreviation': 'not specified', 'Polymer Application': 'organic electrochemical transistor, OECT', 'Doped?': 'not doped'}\n",
      "{'Polymer Mentioned Name': 'poly(3,4-ethylenedioxythiophene):poly (styrene sulfonate)', 'Polymer Chemical Abbreviation': 'PEDOT:PSS', 'Polymer Application': 'sensors, signal amplification, low energy consumption, low cost, easy adaptability, amperometric sensor, chemical sensors, detection of ascorbic acid', 'Doped?': 'not doped'}\n",
      "{'Polymer Mentioned Name': 'poly(3,4-ethylenedioxythiophene) polystyrene sulfonate', 'Polymer Chemical Abbreviation': 'PEDOT:PSS', 'Polymer Application': 'organic electrochemical transistors, soft organic bioelectronic devices, skin-attachable tattoo-OECTs, conformable, imperceptible, wearable organic biosensing', 'Doped?': 'not doped'}\n",
      "{'Polymer Mentioned Name': 'PEDOT:PSS', 'Polymer Chemical Abbreviation': 'PEDOT:PSS', 'Polymer Application': 'organic electrochemical transistors, OECTs, transistor operation, geometry-performance relationships', 'Doped?': 'not doped'}\n",
      "{'Polymer Mentioned Name': 'poly(3,4-ethylenedioxythiophene) poly(styrene sulfonate)', 'Polymer Chemical Abbreviation': 'PEDOT:PSS', 'Polymer Application': 'point-of-care medical applications, environmental monitoring, sensor, salinity in water, sweat monitoring', 'Doped?': 'not doped'}\n",
      "{'Polymer Mentioned Name': 'poly(3-hexylthiophene-2,5-diyl)', 'Polymer Chemical Abbreviation': 'P3HT', 'Polymer Application': 'organic electrochemical transistors', 'Doped?': 'p-doped'}\n",
      "{'Polymer Mentioned Name': 'PEDOT:PSS', 'Polymer Chemical Abbreviation': 'PEDOT:PSS', 'Polymer Application': 'neuromorphic engineering, neuromorphic hardware development, organic electrochemical transistors', 'Doped?': 'not doped'}\n",
      "{'Polymer Mentioned Name': 'poly[2,5-bis(3-tetradecylthiophen-2-yl) thieno[3,2-b]thiophene]', 'Polymer Chemical Abbreviation': 'PBTPT', 'Polymer Application': 'biochemical sensing, neural interfaces', 'Doped?': 'not doped'}\n",
      "{'Polymer Mentioned Name': 'poly[2,5-bis(3-tetradecylthiophen-2-yl) thieno[3,2-b]thiophene]', 'Polymer Chemical Abbreviation': 'PBTPT', 'Polymer Application': 'biochemical sensing, neural interfaces', 'Doped?': 'not doped'}\n",
      "{'Polymer Mentioned Name': 'benzidine', 'Polymer Chemical Abbreviation': 'Bz.', 'Polymer Application': 'rechargeable organic batteries', 'Doped?': 'not_doped'}\n",
      "{'Polymer Mentioned Name': 'o-tolidine', 'Polymer Chemical Abbreviation': 'o-TOL.', 'Polymer Application': 'rechargeable organic batteries', 'Doped?': 'not_doped'}\n",
      "{'Polymer Mentioned Name': 'alpha-Ag2Te', 'Polymer Chemical Abbreviation': 'Ag2Te', 'Polymer Application': 'solid state electrochemical cell, electrochemical, ionic and electronic conductivities', 'Doped?': 'not doped'}\n",
      "{'Polymer Mentioned Name': 'lanthanum strontium cobaltite', 'Polymer Chemical Abbreviation': 'LSC', 'Polymer Application': 'oxygen electrode, reversible solid oxide cells, fuel cell mode, electrolysis mode', 'Doped?': 'not doped'}\n",
      "{'Polymer Mentioned Name': 'poly(3,4-ethylenedioxythiophene):poly(styrene sulfonate)', 'Polymer Chemical Abbreviation': 'PEDOT:PSS', 'Polymer Application': 'opto-electronics devices, bio-electronics devices', 'Doped?': 'p-doped'}\n",
      "{'Polymer Mentioned Name': 'poly(benzimidazobenzophenanthroline):poly(ethyleneimine)', 'Polymer Chemical Abbreviation': 'BBL:PEI', 'Polymer Application': 'organic thermoelectric generators, organic electrochemical transistors, bioelectronics, wearable devices', 'Doped?': 'n-doped'}\n",
      "{'Polymer Mentioned Name': 'PEDOT:PSS', 'Polymer Chemical Abbreviation': 'PEDOT:PSS', 'Polymer Application': 'flexible textile interconnections, thermochromic fiber bundle, thermoelectric textile device, organic electrochemical transistor', 'Doped?': 'not doped'}\n",
      "{'Polymer Mentioned Name': 'PEDOT:PSS', 'Polymer Chemical Abbreviation': 'PEDOT:PSS', 'Polymer Application': 'flexible textile interconnections, thermochromic fiber bundle, thermoelectric textile device, organic electrochemical transistor', 'Doped?': 'not doped'}\n",
      "{'Polymer Mentioned Name': 'BSCF', 'Polymer Chemical Abbreviation': 'Ba0.5Sr0.5Co0.8Fe0.2O3-delta', 'Polymer Application': 'oxygen separation, decentral oxygen production, waste heat recovery', 'Doped?': 'not doped'}\n",
      "{'Polymer Mentioned Name': 'polyfluorene copolymer', 'Polymer Chemical Abbreviation': 'PFO-BPy', 'Polymer Application': 'selectively dispersing semi-conducting', 'Doped?': 'not doped'}\n",
      "{'Polymer Mentioned Name': 'equivalent polymer', 'Polymer Chemical Abbreviation': '', 'Polymer Application': 'wrapping, active layer', 'Doped?': 'not doped'}\n",
      "{'Polymer Mentioned Name': 'PEDOT:PSS', 'Polymer Chemical Abbreviation': 'PEDOT:PSS', 'Polymer Application': 'biosensing, electrophysiological monitoring', 'Doped?': 'not doped'}\n",
      "{'Polymer Mentioned Name': 'poly(ethylene terephthalate)', 'Polymer Chemical Abbreviation': 'PET', 'Polymer Application': 'flexible substrate, biosensor', 'Doped?': 'not_doped'}\n",
      "{'Polymer Mentioned Name': 'poly(3,4-ethylenedioxythiophene) poly(styrene sulphonate)', 'Polymer Chemical Abbreviation': 'PEDOT:PSS', 'Polymer Application': 'transistor channel, biosensor, biosensing system', 'Doped?': 'not doped'}\n",
      "{'Polymer Mentioned Name': 'poly(3-hexylthiophene)', 'Polymer Chemical Abbreviation': 'P3HT', 'Polymer Application': 'electrochromic devices, organic field-effect transistors, organic electrochemical transistors', 'Doped?': 'not doped'}\n",
      "{'Polymer Mentioned Name': 'poly(methyl methacrylate)', 'Polymer Chemical Abbreviation': 'PMMA', 'Polymer Application': 'electrolyte dielectrics', 'Doped?': 'not doped'}\n",
      "{'Polymer Mentioned Name': 'poly(vinylidene fluoride-co-hexafluoropropylene)', 'Polymer Chemical Abbreviation': 'P(VDF-HFP)', 'Polymer Application': 'electrolyte dielectrics', 'Doped?': 'not doped'}\n",
      "{'Polymer Mentioned Name': 'Sr-doped LaMnO3', 'Polymer Chemical Abbreviation': 'LaMnO3', 'Polymer Application': 'memory, logic, ferroelectric electronics', 'Doped?': 'p-doped'}\n",
      "{'Polymer Mentioned Name': 'PEDOT-PAH', 'Polymer Chemical Abbreviation': 'PEDOT-PAH', 'Polymer Application': 'organic electrochemical transistors, sensing interactions, monitoring, sensing platforms', 'Doped?': 'not doped'}\n",
      "{'Polymer Mentioned Name': 'poly(3,4-ethylenedioxythiophene)', 'Polymer Chemical Abbreviation': 'PEDOT', 'Polymer Application': 'glucose sensor, OECT, electrochemical transistor, biosensor', 'Doped?': 'not doped'}\n",
      "{'Polymer Mentioned Name': 'glycolated polythiophenes', 'Polymer Chemical Abbreviation': 'GPT', 'Polymer Application': 'organic electrochemical transistors, bioelectronic devices', 'Doped?': 'not doped'}\n",
      "{'Polymer Mentioned Name': 'poly(3,4-ethylenedioxythiophene):poly(styrenesulfonate)', 'Polymer Chemical Abbreviation': 'PEDOT:PSS', 'Polymer Application': 'organic electrochemical transistors, bioelectronic devices', 'Doped?': 'not doped'}\n",
      "{'Polymer Mentioned Name': 'poly(benzimidazobenzophenanthroline)', 'Polymer Chemical Abbreviation': 'BBL', 'Polymer Application': 'biosensors, fiber-based complementary logic circuits, bioelectronics', 'Doped?': 'n-doped'}\n",
      "{'Polymer Mentioned Name': 'Pr1-xSrxAlO3-delta', 'Polymer Chemical Abbreviation': 'PrSrAlO', 'Polymer Application': 'cathode', 'Doped?': 'doped'}\n",
      "{'Polymer Mentioned Name': 'Poly (3, 4-ethylenedioxythiophene)', 'Polymer Chemical Abbreviation': 'PEDOT', 'Polymer Application': 'organic electrochemical transistor, selective detection of glucose', 'Doped?': 'p-doped'}\n",
      "{'Polymer Mentioned Name': 'poly(3,4-ethylenedioxythiophene)', 'Polymer Chemical Abbreviation': 'PEDOT', 'Polymer Application': 'biosensor, thermoelectric fabrics, physiological monitoring device', 'Doped?': 'p-doped'}\n",
      "{'Polymer Mentioned Name': 'PEDOT:PSS', 'Polymer Chemical Abbreviation': 'PEDOT:PSS', 'Polymer Application': 'integrated circuits, bioelectronic applications, brain-inspired devices, neuromorphic devices', 'Doped?': 'not doped'}\n",
      "{'Polymer Mentioned Name': 'poly(3,4-ethylene dioxythiophene)-poly(styrene sulfonate)', 'Polymer Chemical Abbreviation': 'PEDOT:PSS', 'Polymer Application': 'organic electrochemical transistor, channel', 'Doped?': 'not doped'}\n",
      "{'Polymer Mentioned Name': 'poly(3,4-ethylenedioxythiophene):polystyrene sulfonate', 'Polymer Chemical Abbreviation': 'PEDOT:PSS', 'Polymer Application': 'electrochemical transistor, biosensor, osteogenic differentiation', 'Doped?': 'not doped'}\n",
      "{'Polymer Mentioned Name': 'PEDOT', 'Polymer Chemical Abbreviation': 'PEDOT', 'Polymer Application': 'hydrazine-sensing, bioelectronics, aqueous sensors', 'Doped?': 'PSS-doped'}\n",
      "{'Polymer Mentioned Name': 'poly(3,4-ethylenedioxythiophene):polystyrene sulfonate', 'Polymer Chemical Abbreviation': 'PEDOT:PSS', 'Polymer Application': 'electrochemical interfaces, organic electrochemical transistors', 'Doped?': 'not doped'}\n",
      "{'Polymer Mentioned Name': 'poly(3,4ethylenedioxythiophene):poly(styrene sulfonate)', 'Polymer Chemical Abbreviation': 'PEDOT:PSS', 'Polymer Application': 'neuromorphic devices, spatiotemporal information processing, visual cortex', 'Doped?': 'not doped'}\n",
      "{'Polymer Mentioned Name': 'zwitterionic-polymer', 'Polymer Chemical Abbreviation': 'zwitterionic-polymer', 'Polymer Application': 'bioelectronic arrays, health monitoring, medical diagnosis, medical treatment, life science studies, electrocoupling, biofouling resistance, surface adhesion, conform to undeveloped biosurfaces, on-skin electrocardiogram monitoring', 'Doped?': 'not doped'}\n",
      "{'Polymer Mentioned Name': 'novel n-type donor-acceptor-conjugated polymers based on glycolated lactone and bis-isatin units', 'Polymer Chemical Abbreviation': 'GLBI', 'Polymer Application': 'organic electrochemical transistors (OECTs)', 'Doped?': 'n-doped'}\n",
      "{'Polymer Mentioned Name': 'poly(3,4-ethylenedioxythiophene):polystyrene sulfonate', 'Polymer Chemical Abbreviation': 'PEDOT:PSS', 'Polymer Application': 'organic electrochemical transistors, resistive humidity sensors', 'Doped?': 'not doped'}\n",
      "{'Polymer Mentioned Name': 'poly(2,3-dihydrothieno-1,4-dioxin)-poly(styrenesulfonate)', 'Polymer Chemical Abbreviation': 'PEDOT:PSS', 'Polymer Application': 'electrophysiological biosensors, transducing, amplifying, ionic signals, biological systems, cell sensing', 'Doped?': 'not doped'}\n",
      "{'Polymer Mentioned Name': 'PEDOT-E', 'Polymer Chemical Abbreviation': 'PEDOT-E', 'Polymer Application': 'bioelectronic devices, organic electrochemical transistors, enzymatic biosensing, neural probes, cell interfacing', 'Doped?': 'not doped'}\n",
      "{'Polymer Mentioned Name': 'poly(3,4-ethylenedioxythiophene)', 'Polymer Chemical Abbreviation': 'PEDOT', 'Polymer Application': 'biochemical sensors, detection of H2O2 and glucose', 'Doped?': 'p-doped'}\n",
      "{'Polymer Mentioned Name': 'naphthalene diimide-bithiophene (NDI-T2) copolymer', 'Polymer Chemical Abbreviation': 'NDI-T2', 'Polymer Application': 'electrochemical devices, organic electrochemical transistors (OECTs)', 'Doped?': 'not_doped'}\n",
      "{'Polymer Mentioned Name': 'poly(3,4-ethylenedioxythiophene):poly(styrenesulfonic acid)', 'Polymer Chemical Abbreviation': 'PEDOT:PSS', 'Polymer Application': 'organic electronics, neural recordings', 'Doped?': 'not doped'}\n",
      "{'Polymer Mentioned Name': 'PEDOT:Nafion', 'Polymer Chemical Abbreviation': 'PEDOT:Nafion', 'Polymer Application': 'organic electrochemical transistor, memristor, artificial synapse', 'Doped?': 'not doped'}\n",
      "{'Polymer Mentioned Name': 'poly(benzimidazobenzophenanthroline)', 'Polymer Chemical Abbreviation': 'BBL', 'Polymer Application': 'n-channel material, OECTs, electrochemical complementary inverters', 'Doped?': 'not doped'}\n",
      "{'Polymer Mentioned Name': 'PEDOT:PSS', 'Polymer Chemical Abbreviation': 'PEDOT:PSS', 'Polymer Application': 'bioelectronics, organic electrochemical transistors, OECTs, electronic-textiles, bio-integrated electronics', 'Doped?': 'not doped'}\n",
      "{'Polymer Mentioned Name': 'poly(3,4-ethylenedioxythiophene):poly(styrenesulfonate)', 'Polymer Chemical Abbreviation': 'PEDOT:PSS', 'Polymer Application': 'organic electrochemical transistors', 'Doped?': 'not doped'}\n",
      "{'Polymer Mentioned Name': 'poly [3-(4-carboxypropyl)- thiophene]', 'Polymer Chemical Abbreviation': 'P3CPT', 'Polymer Application': 'organic electrochemical transistors', 'Doped?': 'not doped'}\n",
      "{'Polymer Mentioned Name': 'poly(3,4-ethylenedioxythiophene)', 'Polymer Chemical Abbreviation': 'PEDOT', 'Polymer Application': 'real-time Cu2+ ions detection, environment monitoring, public health', 'Doped?': 'not doped'}\n",
      "{'Polymer Mentioned Name': 'poly(styrene sulfonic acid)', 'Polymer Chemical Abbreviation': 'PSS', 'Polymer Application': 'real-time Cu2+ ions detection, environment monitoring, public health', 'Doped?': 'not doped'}\n",
      "{'Polymer Mentioned Name': 'PEDOT', 'Polymer Chemical Abbreviation': 'PEDOT', 'Polymer Application': 'organic electrochemical transistor', 'Doped?': 'not doped'}\n",
      "{'Polymer Mentioned Name': 'P(TPA-EDOT3)', 'Polymer Chemical Abbreviation': 'P(TPA-EDOT3)', 'Polymer Application': 'electrochemical transistor', 'Doped?': 'not doped'}\n",
      "{'Polymer Mentioned Name': 'PEDOT:PSS', 'Polymer Chemical Abbreviation': 'PEDOT:PSS', 'Polymer Application': 'organic electrochemical transistor', 'Doped?': 'not doped'}\n",
      "{'Polymer Mentioned Name': 'polypyrrole', 'Polymer Chemical Abbreviation': 'PPy', 'Polymer Application': 'biological sensing, lactate biosensor, noninvasive sensing, healthcare, detection', 'Doped?': 'not doped'}\n",
      "{'Polymer Mentioned Name': 'Na(2)MoS(4)', 'Polymer Chemical Abbreviation': 'Na2MoS4', 'Polymer Application': 'Na-ion batteries, Li-ion batteries', 'Doped?': 'not doped'}\n",
      "{'Polymer Mentioned Name': 'poly(3,4-ethylenedioxythiophene)-poly(styrenesulfonate)', 'Polymer Chemical Abbreviation': 'PEDOT:PSS', 'Polymer Application': 'crude oil detection, subsea environments, sensing', 'Doped?': 'not doped'}\n",
      "{'Polymer Mentioned Name': 'polystyrene', 'Polymer Chemical Abbreviation': 'PS', 'Polymer Application': 'oil adsorption, impedance measurement', 'Doped?': 'not doped'}\n",
      "{'Polymer Mentioned Name': 'poly(3,4-ethylenedioxythiophene)', 'Polymer Chemical Abbreviation': 'PEDOT', 'Polymer Application': 'organic electrochemical transistors', 'Doped?': 'p-doped'}\n",
      "{'Polymer Mentioned Name': 'poly(styrene-sulfonate)', 'Polymer Chemical Abbreviation': 'PSS', 'Polymer Application': 'organic electrochemical transistors', 'Doped?': 'not doped'}\n",
      "{'Polymer Mentioned Name': 'poly(3,4-ethylenedioxythiophene)', 'Polymer Chemical Abbreviation': 'PEDOT', 'Polymer Application': 'OECT, biosensor, gate electrode', 'Doped?': 'p-doped'}\n",
      "{'Polymer Mentioned Name': 'poly(benzimidazoanthradiisoquinolinedione)', 'Polymer Chemical Abbreviation': 'PBIASQ', 'Polymer Application': 'bioelectronics, electrophysiological signals, reconfigurable electronics', 'Doped?': 'n-doped'}\n",
      "{'Polymer Mentioned Name': 'poly(3,4-ethylenedioxythiophene)', 'Polymer Chemical Abbreviation': 'PEDOT', 'Polymer Application': 'flexible electronic devices, organic electrochemical transistor (OECT)', 'Doped?': 'not doped'}\n",
      "{'Polymer Mentioned Name': 'poly(ethylene glycol)-poly(propylene glycol)-poly(ethylene glycol)', 'Polymer Chemical Abbreviation': 'PEG-PPG-PEG', 'Polymer Application': 'inkjet printing', 'Doped?': 'not doped'}\n",
      "{'Polymer Mentioned Name': 'poly(3,4-ethylenedioxythiophene)', 'Polymer Chemical Abbreviation': 'PEDOT', 'Polymer Application': 'channel, photodetector, image sensor', 'Doped?': 'p-doped'}\n",
      "{'Polymer Mentioned Name': 'poly(styrene sulfonate)', 'Polymer Chemical Abbreviation': 'PSS', 'Polymer Application': 'channel', 'Doped?': 'not doped'}\n",
      "{'Polymer Mentioned Name': 'polyimide', 'Polymer Chemical Abbreviation': 'PI', 'Polymer Application': 'flexible substrate, biosensor, neuronal probes, in vitro, in vivo', 'Doped?': 'not doped'}\n",
      "{'Polymer Mentioned Name': 'P3MEEMT', 'Polymer Chemical Abbreviation': 'P3MEEMT', 'Polymer Application': 'organic electrochemical transistors, OECTs, bioelectronics', 'Doped?': 'not doped'}\n",
      "{'Polymer Mentioned Name': 'glycolated thiophene-based copolymer', 'Polymer Chemical Abbreviation': 'GTBC', 'Polymer Application': 'organic electrochemical transistor (OECT)', 'Doped?': 'not doped'}\n",
      "{'Polymer Mentioned Name': 'p(EDOT-ran-EDOTOH)', 'Polymer Chemical Abbreviation': 'p(EDOT-ran-EDOTOH)', 'Polymer Application': 'electronic biosensing, transistor channels, biofunctionalized, OECT', 'Doped?': 'not doped'}\n",
      "{'Polymer Mentioned Name': 'poly(3,4-ethylenedioxythiophene) polystyrene sulfonate', 'Polymer Chemical Abbreviation': 'PEDOT:PSS', 'Polymer Application': 'organic electrochemical transistors, OECTs, nanogap-OECTs, electrochemical impedance spectroscopy', 'Doped?': 'not doped'}\n",
      "{'Polymer Mentioned Name': 'poly-(diallyldimethylammonium chloride)', 'Polymer Chemical Abbreviation': 'PDDA', 'Polymer Application': 'electrochemical sensor, electrochemical transistors, detection of Tyrosine', 'Doped?': 'not doped'}\n",
      "{'Polymer Mentioned Name': 'hydrophilic conjugated polymer', 'Polymer Chemical Abbreviation': 'hcp', 'Polymer Application': 'electrochemical devices, electrochemical transistors', 'Doped?': 'not_doped'}\n",
      "{'Polymer Mentioned Name': 'PEDPT', 'Polymer Chemical Abbreviation': 'PEDPT', 'Polymer Application': 'chemical sensing, biological sensing, cancer cells detection', 'Doped?': 'not doped'}\n",
      "{'Polymer Mentioned Name': 'PEDOT:PSS', 'Polymer Chemical Abbreviation': 'PEDOT:PSS', 'Polymer Application': 'chemical sensing, biological sensing, cancer cells detection', 'Doped?': 'not doped'}\n",
      "{'Polymer Mentioned Name': 'poly(3-hexylthiophene-2,5-diyl)', 'Polymer Chemical Abbreviation': 'P3HT', 'Polymer Application': 'biosensors, flexible electronics', 'Doped?': 'not doped'}\n",
      "{'Polymer Mentioned Name': 'poly(2-(3,3 \"-bis(2-(2-(2-methoxyethoxy)ethoxy)ethoxy)-[2,2 \"-bithiophen]-5)yl thiophene)', 'Polymer Chemical Abbreviation': 'p(g2T-T)', 'Polymer Application': 'OECT, bioelectronics, ECG', 'Doped?': 'not doped'}\n",
      "{'Polymer Mentioned Name': 'poly(2-(3,3 \"-bis(2-(2-(2-methoxyethoxy)ethoxy)ethoxy)-[2,2 \"-bithiophen]-5)yl thiophene)', 'Polymer Chemical Abbreviation': 'p(g2T-T)', 'Polymer Application': 'OECT, bioelectronics, ECG', 'Doped?': 'not doped'}\n",
      "{'Polymer Mentioned Name': 'PEDOT:PSS', 'Polymer Chemical Abbreviation': 'PEDOT:PSS', 'Polymer Application': 'organic electrochemical transistors, sensing, characterization, nanoparticles detection', 'Doped?': 'not doped'}\n",
      "{'Polymer Mentioned Name': 'poly(3-hexylthiophene)', 'Polymer Chemical Abbreviation': 'P3HT', 'Polymer Application': 'organic electrochemical transistor', 'Doped?': 'p-doped'}\n",
      "{'Polymer Mentioned Name': 'polyaniline', 'Polymer Chemical Abbreviation': 'PANI', 'Polymer Application': 'environmental monitoring, food safety, chemistry, clinical diagnostics, bio-sensing', 'Doped?': 'not doped'}\n",
      "{'Polymer Mentioned Name': 'P3HT', 'Polymer Chemical Abbreviation': 'P3HT', 'Polymer Application': 'organic light emitting diodes, thermoelectrics, organic electrochemical transistors', 'Doped?': 'p-doped'}\n",
      "{'Polymer Mentioned Name': 'rr-P3HT', 'Polymer Chemical Abbreviation': 'rr-P3HT', 'Polymer Application': 'organic light emitting diodes, thermoelectrics, organic electrochemical transistors', 'Doped?': 'p-doped'}\n",
      "{'Polymer Mentioned Name': 'rra-P3HT', 'Polymer Chemical Abbreviation': 'rra-P3HT', 'Polymer Application': 'organic light emitting diodes, thermoelectrics, organic electrochemical transistors', 'Doped?': 'p-doped'}\n",
      "{'Polymer Mentioned Name': 'fullerene derivatives', 'Polymer Chemical Abbreviation': '', 'Polymer Application': 'bioelectronics, neuromorphic computing', 'Doped?': 'n-type'}\n",
      "{'Polymer Mentioned Name': 'PCBM', 'Polymer Chemical Abbreviation': 'PCBM', 'Polymer Application': 'bioelectronics, neuromorphic computing', 'Doped?': 'n-type'}\n",
      "{'Polymer Mentioned Name': 'C60-TEG', 'Polymer Chemical Abbreviation': 'C60-TEG', 'Polymer Application': 'bioelectronics, neuromorphic computing', 'Doped?': 'n-type'}\n",
      "{'Polymer Mentioned Name': 'organic electrochemical transistors', 'Polymer Chemical Abbreviation': 'OECT', 'Polymer Application': 'biosensors, neurotransmitters, dopamine recognition, molecular recognition, electronic devices', 'Doped?': 'not doped'}\n",
      "{'Polymer Mentioned Name': 'polypyrrole derivative', 'Polymer Chemical Abbreviation': 'PPY', 'Polymer Application': 'neuromorphic devices, ECG recording', 'Doped?': 'not doped'}\n",
      "{'Polymer Mentioned Name': 'poly(3,4-ethylenedioxythiophene)', 'Polymer Chemical Abbreviation': 'PEDOT', 'Polymer Application': 'OECTs, bioelectronics, biosensors, ion pumps', 'Doped?': 'not doped'}\n",
      "{'Polymer Mentioned Name': 'polypyrrole', 'Polymer Chemical Abbreviation': 'Ppy', 'Polymer Application': 'OECTs, bioelectronics, biosensors, ion pumps', 'Doped?': 'not doped'}\n",
      "{'Polymer Mentioned Name': 'IDIC-MEG', 'Polymer Chemical Abbreviation': 'IDIC-MEG', 'Polymer Application': 'organic electrochemical transistors, OECTs', 'Doped?': 'n-doped'}\n",
      "{'Polymer Mentioned Name': 'Poly-3,4-ethylenedioxythiophene:poly-4styrenesulfonate', 'Polymer Chemical Abbreviation': 'PEDOT:PSS', 'Polymer Application': 'biosensing, OECTs, ECG signal acquisition', 'Doped?': 'not doped'}\n",
      "{'Polymer Mentioned Name': 'gDPP-TTT', 'Polymer Chemical Abbreviation': 'gDPP-TTT', 'Polymer Application': 'organic electrochemical transistor, accumulation mode OECTs', 'Doped?': 'not doped'}\n",
      "{'Polymer Mentioned Name': 'gDPP-TTVTT', 'Polymer Chemical Abbreviation': 'gDPP-TTVTT', 'Polymer Application': 'organic electrochemical transistor, accumulation mode OECTs, field-effect transistor', 'Doped?': 'not doped'}\n",
      "{'Polymer Mentioned Name': 'poly(3,4-ethylenedioxythiophene)', 'Polymer Chemical Abbreviation': 'PEDOT', 'Polymer Application': 'organic electrochemical transistors, ion-sensitive properties, cation detection', 'Doped?': 'p-doped'}\n",
      "{'Polymer Mentioned Name': 'poly(3,4-ethylenedioxythiophene)', 'Polymer Chemical Abbreviation': 'PEDOT', 'Polymer Application': 'biosensing, drug delivery, temperature monitoring', 'Doped?': 'p-doped'}\n",
      "{'Polymer Mentioned Name': 'poly(styrene sulfonate)', 'Polymer Chemical Abbreviation': 'PSS', 'Polymer Application': '', 'Doped?': 'not doped'}\n",
      "{'Polymer Mentioned Name': 'poly(N-isopropylacrylamide)', 'Polymer Chemical Abbreviation': 'PNIPAM', 'Polymer Application': 'drug delivery, temperature monitoring', 'Doped?': 'not doped'}\n",
      "{'Polymer Mentioned Name': 'PEDOT:PSS', 'Polymer Chemical Abbreviation': 'PEDOT:PSS', 'Polymer Application': 'biosensing, detection of Delta(9)-THC', 'Doped?': 'not doped'}\n",
      "{'Polymer Mentioned Name': 'Indacenodithiophene (IDT) polymers with alkyl substituents', 'Polymer Chemical Abbreviation': 'PIDTC16-BT', 'Polymer Application': 'channel material, transistor, logic gate', 'Doped?': 'p-doped'}\n",
      "{'Polymer Mentioned Name': 'Indacenodithiophene (IDT) polymers with oligoethylene glycol (OEG) substituents', 'Polymer Chemical Abbreviation': 'PIDTPEG-BT', 'Polymer Application': 'channel material, transistor, logic gate', 'Doped?': 'p-doped'}\n",
      "{'Polymer Mentioned Name': 'thermoplastic polyurethane', 'Polymer Chemical Abbreviation': 'TPU', 'Polymer Application': 'solid electrolyte, OECTs, SSOECTs, inverter circuits', 'Doped?': 'not doped'}\n",
      "{'Polymer Mentioned Name': 'polyethylene terephthalate', 'Polymer Chemical Abbreviation': 'PET', 'Polymer Application': 'substrate', 'Doped?': 'not doped'}\n",
      "{'Polymer Mentioned Name': 'poly(3,4-ethylenedioxythiophene)-poly(styrenesulfonate)', 'Polymer Chemical Abbreviation': 'PEDOT:PSS', 'Polymer Application': 'microbial bioelectronics, microbial fuel cells, multiplexed bioelectronic devices, organic electrochemical transistor based microbial sensors', 'Doped?': 'not doped'}\n",
      "{'Polymer Mentioned Name': 'poly(2-hydroxyethylacrylate)', 'Polymer Chemical Abbreviation': 'PHEA', 'Polymer Application': 'microbial bioelectronics, microbial fuel cells, multiplexed bioelectronic devices, organic electrochemical transistor based microbial sensors', 'Doped?': 'not doped'}\n",
      "{'Polymer Mentioned Name': 'polydopamine', 'Polymer Chemical Abbreviation': 'PDA', 'Polymer Application': 'adhesion to an underlying indium tin oxide (ITO) electrode', 'Doped?': 'not doped'}\n",
      "{'Polymer Mentioned Name': 'donor-acceptor copolymers featuring electron-deficient isoindigo units and electron-rich 3,4-ethyl-E enedioxy (EDOT) groups', 'Polymer Chemical Abbreviation': 'isoindigo-EDOT', 'Polymer Application': 'in vitro bioelectronics, in vivo bioelectronics', 'Doped?': 'not doped'}\n",
      "{'Polymer Mentioned Name': 'poly(3,4-ethylenedioxythiophene)', 'Polymer Chemical Abbreviation': 'PEDOT', 'Polymer Application': 'DNA sensing, transistor', 'Doped?': 'not doped'}\n",
      "{'Polymer Mentioned Name': 'P(gPzDPP-CT2)', 'Polymer Chemical Abbreviation': 'P(gPzDPP-CT2)', 'Polymer Application': 'bioelectronics, neuromorphic computing, logic circuits, sensing', 'Doped?': 'n-doped'}\n",
      "{'Polymer Mentioned Name': 'poly(3,4-ethylene-dioxythiophene)', 'Polymer Chemical Abbreviation': 'PEDOT', 'Polymer Application': 'organic electrochemical transistors, bioelectronics', 'Doped?': 'not doped'}\n",
      "{'Polymer Mentioned Name': 'poly(styrene sulfonate)', 'Polymer Chemical Abbreviation': 'PSS', 'Polymer Application': '', 'Doped?': 'not doped'}\n",
      "{'Polymer Mentioned Name': 'polyaniline', 'Polymer Chemical Abbreviation': 'PANI', 'Polymer Application': 'OECT-based biosensors, in-vivo monitoring of salt stress in plants', 'Doped?': 'not doped'}\n",
      "{'Polymer Mentioned Name': 'polypyrrole', 'Polymer Chemical Abbreviation': 'PPY', 'Polymer Application': 'OECT-based biosensors, in-vivo monitoring of salt stress in plants', 'Doped?': 'not doped'}\n",
      "{'Polymer Mentioned Name': 'Poly (3,4-ethylenedioxythiophene)-poly (styrenesulfonate)', 'Polymer Chemical Abbreviation': 'PEDOT:PSS', 'Polymer Application': 'OECT-based biosensors, in-vivo monitoring of salt stress in plants', 'Doped?': 'not doped'}\n",
      "{'Polymer Mentioned Name': 'BaCe0.95Y0.05O3-alpha', 'Polymer Chemical Abbreviation': 'BCY', 'Polymer Application': 'hydrogen separation, gas separation', 'Doped?': 'not doped'}\n",
      "{'Polymer Mentioned Name': 'La0.6Sr0.4Co0.2Fe0.8O3-& delta,', 'Polymer Chemical Abbreviation': 'LSCF', 'Polymer Application': 'oxygen surface exchange reaction, catalytic activity', 'Doped?': 'not doped'}\n",
      "{'Polymer Mentioned Name': 'eumelanin', 'Polymer Chemical Abbreviation': 'eumelanin', 'Polymer Application': 'bioelectronic material', 'Doped?': 'not doped'}\n",
      "{'Polymer Mentioned Name': 'poly([4,4 \" -bis(2-(2-(2-methoxyethoxy)ethoxy)ethoxy)-2,2 \" -bithiophen-5,5 \" -diyl]-alt-[thieno[3,2-b]thiophene-2,5-diyl])', 'Polymer Chemical Abbreviation': 'pgBTTT', 'Polymer Application': 'organic electrochemical transistors, all-printed OECTs, printed electronic devices, logic circuits', 'Doped?': 'not doped'}\n",
      "{'Polymer Mentioned Name': 'PEDOT:PSS', 'Polymer Chemical Abbreviation': 'PEDOT:PSS', 'Polymer Application': 'chemical/biological sensing, health monitoring, wearable applications, biological detection', 'Doped?': 'not doped'}\n",
      "{'Polymer Mentioned Name': 'parent polymer', 'Polymer Chemical Abbreviation': 'PP', 'Polymer Application': 'OECTs', 'Doped?': 'p-type'}\n",
      "{'Polymer Mentioned Name': 'hybrid glycol/ionic polymer', 'Polymer Chemical Abbreviation': 'HGIP', 'Polymer Application': 'OECTs', 'Doped?': 'p-type'}\n",
      "{'Polymer Mentioned Name': 'fully glycolated derivative', 'Polymer Chemical Abbreviation': 'FGD', 'Polymer Application': 'OECTs', 'Doped?': 'p-type'}\n",
      "{'Polymer Mentioned Name': 'Nafion', 'Polymer Chemical Abbreviation': 'Nafion', 'Polymer Application': 'gate electrode, OECT sensors, flexible electronics', 'Doped?': 'not doped'}\n",
      "{'Polymer Mentioned Name': 'triethylene glycol functionalized diketopyrrolopyrrole (DPP)-based polymer', 'Polymer Chemical Abbreviation': 'DPP', 'Polymer Application': 'point-of-care bioelectronic devices, ambipolar OECTs, complementary metal-oxide-semiconductor-like logic circuits', 'Doped?': 'not doped'}\n",
      "{'Polymer Mentioned Name': 'poly(3,4-ethylenedioxythiophene):poly(styrenesulfonate)', 'Polymer Chemical Abbreviation': 'PEDOT:PSS', 'Polymer Application': 'circuit elements, neuromorphic devices, transducers for biological sensing, bioelectronics, flexible/wearable electronics', 'Doped?': 'not doped'}\n",
      "{'OECT': 'organic electrochemical transistor', 'Polymer Chemical Abbreviation': 'OECT', 'Polymer Application': 'intelligent tactile sensing system, portable real-time tactile perception applications, intelligent humanoid robots', 'Doped?': 'not doped', 'Polymer Mentioned Name': 'OECT'}\n",
      "{'OSC': 'organic solar cell', 'Polymer Chemical Abbreviation': 'OSC', 'Polymer Application': 'self-powered intelligent tactile sensing system, portable real-time tactile perception applications', 'Doped?': 'not doped', 'Polymer Mentioned Name': 'OSC'}\n",
      "{'Polymer Mentioned Name': 'Poly(3,4-ethylenedioxythiophene): poly(styrene sulfonic acid)', 'Polymer Chemical Abbreviation': 'PEDOT:PSS', 'Polymer Application': 'ion-sensitive, biosensors, cell-based', 'Doped?': 'not doped'}\n",
      "{'Polymer Mentioned Name': 'PEDOT:PSS', 'Polymer Chemical Abbreviation': 'PEDOT:PSS', 'Polymer Application': 'micro supercapacitors, organic electrochemical transistors, bioelectronics', 'Doped?': 'not doped'}\n",
      "{'Polymer Mentioned Name': 'Poly(3,4-ethylenedioxythiophene):poly(styrene sulfonic acid)', 'Polymer Chemical Abbreviation': 'PEDOT:PSS', 'Polymer Application': 'implantable, wearable, sensing, electronic', 'Doped?': 'not_doped'}\n",
      "{'Polymer Mentioned Name': 'poly(3,4-ethylenedioxythiophene)polystyrene sulfonate', 'Polymer Chemical Abbreviation': 'PEDOT:PSS', 'Polymer Application': 'synaptic device, OECT, channel', 'Doped?': 'not doped'}\n",
      "{'Polymer Mentioned Name': 'Nafion', 'Polymer Chemical Abbreviation': 'Nafion', 'Polymer Application': 'membrane, electrolyte', 'Doped?': 'not doped'}\n",
      "{'Polymer Mentioned Name': 'poly(3,4-ethylenedioxythiophene) polystyrenesulfonate', 'Polymer Chemical Abbreviation': 'PEDOT:PSS', 'Polymer Application': 'biosensing, drug delivery, tissue engineering, medical diagnostics', 'Doped?': 'not doped'}\n",
      "{'Polymer Mentioned Name': 'poly(3,4-ethylenedioxythiophene)', 'Polymer Chemical Abbreviation': 'PEDOT', 'Polymer Application': 'sensing', 'Doped?': 'p-doped'}\n",
      "{'Polymer Mentioned Name': 'poly(ether)urethane-polydimethylsiloxane', 'Polymer Chemical Abbreviation': 'PEtU-PDMS', 'Polymer Application': 'scaffold, wound pH monitoring, ulcers healing', 'Doped?': 'not doped'}\n",
      "{'Polymer Mentioned Name': 'poly(3,4-ethylenedioxythiophene):poly(styrene sulfonate)', 'Polymer Chemical Abbreviation': 'PEDOT:PSS', 'Polymer Application': 'biosensor, organic electrochemical transistor, OECT architecture, sensor, wearable device', 'Doped?': 'not doped'}\n",
      "{'Polymer Mentioned Name': 'PEDOT:PSS', 'Polymer Chemical Abbreviation': 'PEDOT:PSS', 'Polymer Application': 'bioelectronics, nanomedicine, sensing, real-time monitoring, drug loading, drug delivery', 'Doped?': 'not doped'}\n",
      "{'Polymer Mentioned Name': 'DPP-g2T', 'Polymer Chemical Abbreviation': 'DPP-g2T', 'Polymer Application': 'OECTs, printed logic circuitry, biocompatible integrated sensors, neuromorphic devices, electrooculographic signal monitoring', 'Doped?': 'not doped'}\n",
      "{'Polymer Mentioned Name': 'poly(3-hexylthiophene)', 'Polymer Chemical Abbreviation': 'P3HT', 'Polymer Application': 'energy storage, electronic devices', 'Doped?': 'not doped'}\n",
      "{'Polymer Mentioned Name': 'poly(vinylpyridine)', 'Polymer Chemical Abbreviation': 'PVP', 'Polymer Application': 'energy storage, electronic devices', 'Doped?': 'lithium ion-doped'}\n",
      "{'Polymer Mentioned Name': 'poly(3,4-ethylenedioxythiophene) polystyrene sulfonate', 'Polymer Chemical Abbreviation': 'PEDOT:PSS', 'Polymer Application': 'bioelectronic, OECT', 'Doped?': 'not doped'}\n",
      "{'Polymer Mentioned Name': 'PEDOT:PSS', 'Polymer Chemical Abbreviation': 'PEDOT:PSS', 'Polymer Application': 'OECT, lactate sensor, wearable, portable medical detection', 'Doped?': 'not doped'}\n",
      "{'Polymer Mentioned Name': 'PProDOT-DPP', 'Polymer Chemical Abbreviation': 'PProDOT-DPP', 'Polymer Application': 'bioelectronic, OECTs', 'Doped?': 'not doped'}\n",
      "{'Polymer Mentioned Name': 'poly(3,4 ethyldioxythiophene)', 'Polymer Chemical Abbreviation': 'PEDOT', 'Polymer Application': 'organic electrochemical transistor, selective cation sensor', 'Doped?': 'not doped'}\n",
      "{'Polymer Mentioned Name': 'poly(styrenesulfunate)', 'Polymer Chemical Abbreviation': 'PSS', 'Polymer Application': 'organic electrochemical transistor, selective cation sensor', 'Doped?': 'not doped'}\n",
      "{'Polymer Mentioned Name': 'PgNaN', 'Polymer Chemical Abbreviation': 'PgNaN', 'Polymer Application': 'organic electrochemical transistors, bioelectronics', 'Doped?': 'not doped'}\n",
      "{'Polymer Mentioned Name': 'PgNgN', 'Polymer Chemical Abbreviation': 'PgNgN', 'Polymer Application': 'organic electrochemical transistors, bioelectronics', 'Doped?': 'not doped'}\n",
      "{'Polymer Mentioned Name': 'poly(3,4-ethylenedioxythiophene):poly(styrene sulfonate)', 'Polymer Chemical Abbreviation': 'PEDOT:PSS', 'Polymer Application': 'wearable, sensing, energy harvesting, electrochemical transistors, thermoelectric', 'Doped?': 'not doped'}\n",
      "{'Polymer Mentioned Name': 'poly(3,4-ethylenedioxythiophene): poly(styrene sulfonate)', 'Polymer Chemical Abbreviation': 'PEDOT:PSS', 'Polymer Application': 'wearable electronics, wearable ion concentration sensors, OECTs, skin-mountable OECTs', 'Doped?': 'not doped'}\n",
      "{'Polymer Mentioned Name': 'poly(3,4-ethylenedioxythiophene):poly(styrenesulfonate)', 'Polymer Chemical Abbreviation': 'PEDOT:PSS', 'Polymer Application': 'amplify FSCV signals, on-site amplification, flexible multifunctional organic bioelectronics systems', 'Doped?': 'not doped'}\n",
      "{'Polymer Mentioned Name': 'poly(ethylenedioxythiophene)', 'Polymer Chemical Abbreviation': 'PEDOT', 'Polymer Application': 'flexible, low-cost, low-voltage sensors for aqueous solutions', 'Doped?': 'p-doped'}\n",
      "{'Polymer Mentioned Name': 'poly(styrene sulfonate)', 'Polymer Chemical Abbreviation': 'PSS', 'Polymer Application': 'flexible, low-cost, low-voltage sensors for aqueous solutions', 'Doped?': 'not doped'}\n",
      "{'Polymer Mentioned Name': 'poly(3-hexylthiophene)', 'Polymer Chemical Abbreviation': 'P3HT', 'Polymer Application': 'bioelectronics, synaptic transistors, neuromorphic systems', 'Doped?': 'not doped'}\n",
      "{'Polymer Mentioned Name': 'poly(vinylidene fluoride-co-trifluoroethylene)', 'Polymer Chemical Abbreviation': 'P(VDF-TrFE)', 'Polymer Application': 'hybrid electrolyte', 'Doped?': 'not doped'}\n",
      "{'Polymer Mentioned Name': 'poly(3,4-ethylenedioxythiophene):poly(styrenesulfonate)', 'Polymer Chemical Abbreviation': 'PEDOT:PSS', 'Polymer Application': 'breathalyzer, sensor, transistor', 'Doped?': 'not doped'}\n",
      "{'Polymer Mentioned Name': 'PEDOT', 'Polymer Chemical Abbreviation': 'PEDOT', 'Polymer Application': 'point-of-care biosensing, biosensors', 'Doped?': 'p-doped'}\n",
      "{'Polymer Mentioned Name': 'PSS', 'Polymer Chemical Abbreviation': 'PSS', 'Polymer Application': 'point-of-care biosensing, biosensors', 'Doped?': 'not doped'}\n",
      "{'PEDOT': 'PEDOT', 'Polymer Chemical Abbreviation': 'PEDOT', 'Polymer Application': 'integration in complex devices, sensors, transducers', 'Doped?': 'not_doped', 'Polymer Mentioned Name': 'PEDOT'}\n",
      "{'Polymer Mentioned Name': 'PEDOT:PSS', 'Polymer Chemical Abbreviation': 'PEDOT:PSS', 'Polymer Application': 'organic devices, Organic Electrochemical Transistors', 'Doped?': 'not doped'}\n",
      "{'Polymer Mentioned Name': 'P-3O', 'Polymer Chemical Abbreviation': 'P3O', 'Polymer Application': 'organic thermoelectrics, organic electrochemical transistors', 'Doped?': 'doped'}\n",
      "{'Polymer Mentioned Name': 'PEDOT:PSS', 'Polymer Chemical Abbreviation': 'PEDOT:PSS', 'Polymer Application': 'urea biosensor, organic electrochemical transistor, point-of-care, high-throughput monitoring', 'Doped?': 'not doped'}\n",
      "{'Polymer Mentioned Name': 'P3HT', 'Polymer Chemical Abbreviation': 'P3HT', 'Polymer Application': 'organic electronics, thermoelectrics, bioelectronics, biomedical sensors', 'Doped?': 'p-doped'}\n",
      "{'Polymer Mentioned Name': 'perovskite-type La0.8Sr0.2FeO3-delta', 'Polymer Chemical Abbreviation': 'LSF', 'Polymer Application': 'oxygen carrier, redox process', 'Doped?': 'not doped'}\n",
      "{'Polymer Mentioned Name': 'fluorite-type Ce0.9Gd0.1O2-delta', 'Polymer Chemical Abbreviation': 'CGO', 'Polymer Application': 'oxygen carrier, redox process', 'Doped?': 'not doped'}\n",
      "{'Polymer Mentioned Name': 'poly(benzimidazobenzophenanthroline)', 'Polymer Chemical Abbreviation': 'BBL', 'Polymer Application': 'glucose sensing, glucose sensors', 'Doped?': 'N-type'}\n",
      "{'Polymer Mentioned Name': 'polydimethylsiloxane', 'Polymer Chemical Abbreviation': 'PDMS', 'Polymer Application': 'wearable device, flexible sensors', 'Doped?': 'not doped'}\n",
      "{'Poly(n-vinyl-2-pyrrolidone)': 'PVP', 'Polymer Application': 'glucose sensors, lactate sensors', 'Doped?': 'not doped', 'Polymer Chemical Abbreviation': 'PVP', 'Polymer Mentioned Name': 'Poly(n-vinyl-2-pyrrolidone)'}\n",
      "{'Polymer Mentioned Name': 'cyclopentadithiophene-based polymers', 'Polymer Chemical Abbreviation': 'CPDT', 'Polymer Application': 'organic field-effect transistors, organic solar cells, organic thermoelectric devices', 'Doped?': 'not doped'}\n",
      "{'Polymer Mentioned Name': 'amide-based polymers', 'Polymer Chemical Abbreviation': 'ABP', 'Polymer Application': 'organic field-effect transistors, organic solar cells, organic thermoelectric devices', 'Doped?': 'not doped'}\n",
      "{'Polymer Mentioned Name': 'imide-based polymers', 'Polymer Chemical Abbreviation': 'IBP', 'Polymer Application': 'organic field-effect transistors, organic solar cells, organic thermoelectric devices', 'Doped?': 'not doped'}\n",
      "{'Polymer Mentioned Name': 'B <- N embedded polymers', 'Polymer Chemical Abbreviation': 'BNP', 'Polymer Application': 'organic field-effect transistors, organic solar cells, organic thermoelectric devices', 'Doped?': 'not doped'}\n",
      "{'Polymer Mentioned Name': 'poly(3,4-ethylendioxythiophene)', 'Polymer Chemical Abbreviation': 'PEDOT', 'Polymer Application': 'OECT, bioelectronic platform, urea sensing', 'Doped?': 'not doped'}\n",
      "{'Polymer Mentioned Name': 'polyallylamine', 'Polymer Chemical Abbreviation': 'PAH', 'Polymer Application': 'OECT, bioelectronic platform, urea sensing', 'Doped?': 'not doped'}\n",
      "{'Phthalocyanine': 'phthalocyanine', 'Polymer Chemical Abbreviation': 'Pc', 'Polymer Application': 'electrochemical sensing, biomarker detection, neurotransmitter detection', 'Doped?': 'not doped', 'Polymer Mentioned Name': 'Phthalocyanine'}\n",
      "{'Thiophene derivatives': 'thiophene derivatives', 'Polymer Chemical Abbreviation': 'PDTH', 'Polymer Application': 'electrochemical sensing, signal amplification', 'Doped?': 'not doped', 'Polymer Mentioned Name': 'Thiophene derivatives'}\n",
      "{'Polymer Mentioned Name': 'Poly(3,4-ethylenedioxythiophene):poly(styrene sulfonic acid)', 'Polymer Chemical Abbreviation': 'PEDOT:PSS', 'Polymer Application': 'organic electrochemical transistors, impedimetric readout method, cell adhesion detection', 'Doped?': 'not doped'}\n",
      "{'Polymer Mentioned Name': 'self-doped conjugated polyelectrolyte', 'Polymer Chemical Abbreviation': '', 'Polymer Application': 'reconfigurable organic logic devices, efficient computing systems, adaptive electronics', 'Doped?': 'self-doped'}\n",
      "{'Polymer Mentioned Name': 'poly(3,4-ethylenedioxythiophene) polystyrene sulfonate', 'Polymer Chemical Abbreviation': 'PEDOT:PSS', 'Polymer Application': 'biological sensing, chemical sensing, logic circuitry', 'Doped?': 'not doped'}\n",
      "{'Polymer Mentioned Name': 'polyimide', 'Polymer Chemical Abbreviation': 'PI', 'Polymer Application': 'flexible matrix, bioelectronic applications', 'Doped?': 'not doped'}\n",
      "{'Polymer Mentioned Name': 'poly(3,4-ethylenedioxythiophene)', 'Polymer Chemical Abbreviation': 'PEDOT', 'Polymer Application': 'fast transport of ions, electrolyte and polymer channel', 'Doped?': 'p-doped'}\n",
      "{'Polymer Mentioned Name': 'PEDOT', 'Polymer Chemical Abbreviation': 'PEDOT', 'Polymer Application': 'dopamine detection, electrochemical transistor, sensor', 'Doped?': 'p-doped'}\n",
      "{'Polymer Mentioned Name': 'Gd2TiMoO7', 'Polymer Chemical Abbreviation': 'Gd2TiMoO7', 'Polymer Application': 'energy conversion, storage devices, oxygen separation membranes', 'Doped?': 'not doped'}\n",
      "{'Polymer Mentioned Name': 'polythiophenes bearing glycolated side chains', 'Polymer Chemical Abbreviation': '', 'Polymer Application': 'organic electrochemical transistors', 'Doped?': 'not doped'}\n",
      "{'Polymer Mentioned Name': 'p(g2T-TT)', 'Polymer Chemical Abbreviation': 'p(g2T-TT)', 'Polymer Application': 'organic electrochemical transistors', 'Doped?': 'not doped'}\n",
      "{'Polymer Mentioned Name': 'poly(3,4-ethylenedioxythiophene)', 'Polymer Chemical Abbreviation': 'PEDOT', 'Polymer Application': 'bioelectronics, amplifying transducers, high-quality recordings of human brain rhythms', 'Doped?': 'p-doped'}\n",
      "{'Polymer Mentioned Name': 'poly(3,4ethylenedioxythiophene): poly (styrene sulfonic acid)', 'Polymer Chemical Abbreviation': 'PEDOT:PSS', 'Polymer Application': 'organic electrochemical transistors', 'Doped?': 'p-doped'}\n",
      "{'Polymer Mentioned Name': 'poly(3,4-ethylenedioxythiophene):poly(styrene sulfonate)', 'Polymer Chemical Abbreviation': 'PEDOT:PSS', 'Polymer Application': 'organic electrochemical transistor, biosensing', 'Doped?': 'not doped'}\n",
      "{'Polymer Mentioned Name': 'poly(3,4-ethylenedioxythiophene):polystyrene sulfonate', 'Polymer Chemical Abbreviation': 'PEDOT:PSS', 'Polymer Application': 'bioelectronics, neuromorphic computing, soft robotics', 'Doped?': 'not doped'}\n",
      "{'Polymer Mentioned Name': 'poly(ethylene glycol)-dimethacrylate', 'Polymer Chemical Abbreviation': 'PEGDMA', 'Polymer Application': 'electronics, biological interfacing, flexible, printed, conformable bioelectronic devices', 'Doped?': 'not doped'}\n",
      "{'Polymer Mentioned Name': 'sodium acrylate', 'Polymer Chemical Abbreviation': 'SA', 'Polymer Application': 'electronics, biological interfacing, flexible, printed, conformable bioelectronic devices', 'Doped?': 'not doped'}\n",
      "{'Polymer Mentioned Name': 'poly(3,4-ethylenedioxythiophene)', 'Polymer Chemical Abbreviation': 'PEDOT', 'Polymer Application': 'in vivo bioelectronics, organic electrochemical transistors', 'Doped?': 'not doped'}\n",
      "{'Polymer Mentioned Name': 'poly(styrene sulfonate)', 'Polymer Chemical Abbreviation': 'PSS', 'Polymer Application': 'organic electrochemical transistors, hole transport layer, hybrid solar cell', 'Doped?': 'not doped'}\n",
      "{'Polymer Mentioned Name': 'poly(3,4-ethylenedioxythiophene)', 'Polymer Chemical Abbreviation': 'PEDOT', 'Polymer Application': 'organic electrochemical transistors, hole transport layer, hybrid solar cell', 'Doped?': 'p-doped'}\n",
      "{'Polymer Mentioned Name': 'poly[(bithiophene)-alternate-(2,5-di(2-octyldodecyl)- 3,6-di(thienyl)-pyrrolyl pyrrolidone)]', 'Polymer Chemical Abbreviation': 'DPPT-TT', 'Polymer Application': 'neuromorphic devices, wearable sensing, computing systems', 'Doped?': 'not doped'}\n",
      "{'Polymer Mentioned Name': 'poly(methyl methacrylate)', 'Polymer Chemical Abbreviation': 'PMMA', 'Polymer Application': 'solid-state electrolyte, gate dielectric layer', 'Doped?': 'not doped'}\n",
      "{'Polymer Mentioned Name': '3,4-ethylenedioxythiophene', 'Polymer Chemical Abbreviation': 'EDOT', 'Polymer Application': 'simulate long-term potentiation and depotentiation processes, neuromorphic electronics', 'Doped?': 'not doped'}\n",
      "{'Polymer Mentioned Name': 'PEDOT:PSS', 'Polymer Chemical Abbreviation': 'PEDOT:PSS', 'Polymer Application': 'long-term depotentiation, overoxidation', 'Doped?': 'p-doped'}\n",
      "{'PEDOT:PSS': 'PEDOT:PSS', 'Polymer Chemical Abbreviation': 'PEDOT:PSS', 'Polymer Application': 'electrodes,transistors,biosensors,ion pumps', 'Doped?': 'p-doped', 'Polymer Mentioned Name': 'PEDOT:PSS'}\n",
      "{'Polymer Mentioned Name': 'poly(4-glycidyloxy-2,2,6,6-tetramethylpiperidine-1-oxyl)', 'Polymer Chemical Abbreviation': 'PTEO', 'Polymer Application': 'bioelectronic, OECT', 'Doped?': 'not doped'}\n",
      "{'Polymer Mentioned Name': 'poly(3-hexylthiophene)', 'Polymer Chemical Abbreviation': 'P3HT', 'Polymer Application': 'bioelectronic, OECT', 'Doped?': 'not doped'}\n",
      "{'Polymer Mentioned Name': 'PEDOT:PSS', 'Polymer Chemical Abbreviation': 'PEDOT:PSS', 'Polymer Application': 'glucose detection, biosensing, electrochemical glucose sensors', 'Doped?': 'not doped'}\n",
      "{'Polymer Mentioned Name': 'La1-xSrxCo1-yFeyO3-delta', 'Polymer Chemical Abbreviation': 'LSCF', 'Polymer Application': 'intermediate temperature solid oxide fuel cell (IT-SOFC) cathode', 'Doped?': 'doped'}\n",
      "{'Polymer Mentioned Name': 'poly(3,4ethylenedinxithiophene) poly(styrenesulfonate)', 'Polymer Chemical Abbreviation': 'PEDOT:PSS', 'Polymer Application': 'OECTs, transistor, electrochemical switching', 'Doped?': 'not doped'}\n",
      "{'Polymer Mentioned Name': 'poly (3-aminophenylboronic acid)', 'Polymer Chemical Abbreviation': 'PABA', 'Polymer Application': 'cancer cell identification, sialic acid detection, noninvasive cancer cell identification', 'Doped?': 'not doped'}\n",
      "{'Polymer Mentioned Name': 'poly(3, 4-ethylenedioxythiophene)', 'Polymer Chemical Abbreviation': 'PEDOT', 'Polymer Application': 'biosensing, bioelectronics, on-skin, on-organ', 'Doped?': 'p-doped'}\n",
      "{'Polymer Mentioned Name': 'Poly(DPP-TPD)', 'Polymer Chemical Abbreviation': 'Poly(DPP-TPD)', 'Polymer Application': 'n-type organic electrochemical transistor (OECT) devices', 'Doped?': 'n-doped'}\n",
      "{'Polymer Mentioned Name': 'naphthalenediimide-based copolymer', 'Polymer Chemical Abbreviation': 'NDI', 'Polymer Application': 'bioelectronics, biosensors, glucose sensors', 'Doped?': 'n-doped'}\n",
      "{'Polymer Mentioned Name': 'poly(3,4-ethylenedioxythio-phene): poly (styrene sulfonic acid)', 'Polymer Chemical Abbreviation': 'PEDOT:PSS', 'Polymer Application': 'pharmacological, toxicological, electrogenic cell monitoring', 'Doped?': 'not doped'}\n",
      "{'Polymer Mentioned Name': 'poly(3,4-ethylenedioxythiophene):poly(styrenesulfonate)', 'Polymer Chemical Abbreviation': 'PEDOT:PSS', 'Polymer Application': 'organic electrochemical transistor, biosensors, electrochromic devices', 'Doped?': 'not doped'}\n",
      "{'Polymer Mentioned Name': 'carboxylic-acid-functionalized polythiophene', 'Polymer Chemical Abbreviation': 'PTh', 'Polymer Application': 'neuromorphic electrochemical transistors, synaptic junctions, spatiotemporal iterative learning, speech recognition', 'Doped?': 'not doped'}\n",
      "{'Polymer Mentioned Name': 'poly(alkylthiophene)', 'Polymer Chemical Abbreviation': 'P3AT', 'Polymer Application': 'neuromorphic electrochemical transistors', 'Doped?': 'not doped'}\n",
      "{'Polymer Mentioned Name': 'PEDOT:PSS', 'Polymer Chemical Abbreviation': 'PEDOT:PSS', 'Polymer Application': 'organic electrochemical transistors', 'Doped?': 'not_doped'}\n",
      "{'Polymer Mentioned Name': 'TAPB-PDA', 'Polymer Chemical Abbreviation': 'TAPB-PDA', 'Polymer Application': 'ambipolar electronics, channel materials in organic electrochemical transistors, broadband photodetectors', 'Doped?': 'not doped'}\n",
      "{'Polymer Mentioned Name': 'thermoplastic polyurethane', 'Polymer Chemical Abbreviation': 'TPU', 'Polymer Application': 'solid electrolyte, OECTs, SSOECTs, inverter circuits', 'Doped?': 'not doped'}\n",
      "{'Polymer Mentioned Name': 'polyethylene terephthalate', 'Polymer Chemical Abbreviation': 'PET', 'Polymer Application': 'substrate', 'Doped?': 'not doped'}\n",
      "{'Polymer Mentioned Name': 'PEODOT:PSS', 'Polymer Chemical Abbreviation': 'PEDOT:PSS', 'Polymer Application': 'organic electronics, printed electronics, bioelectronics, chemical sensing, biological sensing', 'Doped?': 'not doped'}\n",
      "{'Polymer Mentioned Name': 'dithienyldiketopyrrolopyrrole based polymers', 'Polymer Chemical Abbreviation': 'DTDPP', 'Polymer Application': 'biological, bioelectronics', 'Doped?': 'not doped'}\n",
      "{'Polymer Mentioned Name': 'ethylenedioxythiophene', 'Polymer Chemical Abbreviation': 'EDOT', 'Polymer Application': 'biological, bioelectronics', 'Doped?': 'not doped'}\n",
      "{'Polymer Mentioned Name': 'poly(3,4-ethylenedioxythiophene)', 'Polymer Chemical Abbreviation': 'PEDOT', 'Polymer Application': 'bioelectronic, OECT', 'Doped?': 'not_doped'}\n",
      "{'OECT': 'OECT', 'Polymer Chemical Abbreviation': 'OECT', 'Polymer Application': 'in vivo monitoring, sensor', 'Doped?': 'not doped', 'Polymer Mentioned Name': 'OECT'}\n",
      "{'Polymer Mentioned Name': 'poly(3,4-ethylenedioxythiophene):poly(styrene sulfonate)', 'Polymer Chemical Abbreviation': 'Pedot:Pss', 'Polymer Application': 'viral infection monitoring, real-time electrical monitoring, biomedical research', 'Doped?': 'not doped'}\n",
      "{'Polymer Mentioned Name': 'poly(3,4-ethylenedioxythiophene):poly(styrenesulfonate)', 'Polymer Chemical Abbreviation': 'PEDOT:PSS', 'Polymer Application': 'biological applications, organic electrochemical transistors', 'Doped?': 'not doped'}\n",
      "{'Polymer Mentioned Name': 'poly(3,4-ethylenedioxythiophene)', 'Polymer Chemical Abbreviation': 'PEDOT', 'Polymer Application': 'sweat cortisol detection, wearable sensors, healthcare applications', 'Doped?': 'not doped'}\n",
      "{'Polymer Mentioned Name': 'polystyrenesulfonate', 'Polymer Chemical Abbreviation': 'PSS', 'Polymer Application': 'underlayer', 'Doped?': 'not doped'}\n",
      "{'Polymer Mentioned Name': 'polypyrrole', 'Polymer Chemical Abbreviation': 'PPy', 'Polymer Application': 'sensing, detection, electrochemical transistors', 'Doped?': 'not doped'}\n",
      "{'Polymer Mentioned Name': 'poly(3,4-ethylenedioxythiophene):poly(styrenesulfonate)', 'Polymer Chemical Abbreviation': 'PEDOT:PSS', 'Polymer Application': 'biosensors, glucose detection, lactate detection', 'Doped?': 'not doped'}\n",
      "{'Polymer Mentioned Name': 'Poly(3,4-ethylenedioxythiophene)-poly(styrenesulfonate)', 'Polymer Chemical Abbreviation': 'PEDOT:PSS', 'Polymer Application': 'ion level detector, biosensors, bio wearables', 'Doped?': 'not doped'}\n",
      "{'Polymer Mentioned Name': 'poly(3,4ethylenedioxythiophene)/polystyrene sulfonate', 'Polymer Chemical Abbreviation': 'PEDOT:PSS', 'Polymer Application': 'inkjet printing, source, drain, gate electrodes', 'Doped?': 'not doped'}\n",
      "{'Polymer Mentioned Name': '6,13-bis(triisopropylsilylethynyl) pentacene', 'Polymer Chemical Abbreviation': '', 'Polymer Application': 'p-type, active layer', 'Doped?': 'p-doped'}\n",
      "{'Polymer Mentioned Name': 'N1400', 'Polymer Chemical Abbreviation': '', 'Polymer Application': 'n-type, active layer', 'Doped?': 'n-doped'}\n",
      "{'Polymer Mentioned Name': 'poly(3,4-ethylenedioxythiophene)', 'Polymer Chemical Abbreviation': 'PEDOT', 'Polymer Application': 'integrated bioelectronics, high-frequency applications, bioimpedance analysis', 'Doped?': 'p-doped'}\n",
      "{'Polymer Mentioned Name': 'poly(styrene sulphonate)', 'Polymer Chemical Abbreviation': 'PSS', 'Polymer Application': 'integrated bioelectronics, high-frequency applications, bioimpedance analysis', 'Doped?': 'not doped'}\n",
      "{'Polymer Mentioned Name': 'poly(3-hexylthiophene)', 'Polymer Chemical Abbreviation': 'P3HT', 'Polymer Application': 'bioelectronic', 'Doped?': 'not_doped'}\n",
      "{'Polymer Mentioned Name': 'polythiophene derivative', 'Polymer Chemical Abbreviation': 'PTD', 'Polymer Application': 'organic electrochemical transistor', 'Doped?': 'p-type'}\n",
      "{'Polymer Mentioned Name': 'PEDOT:PSS', 'Polymer Chemical Abbreviation': 'PEDOT:PSS', 'Polymer Application': 'synaptic behavior, bioelectronics', 'Doped?': 'not doped'}\n",
      "{'Polymer Mentioned Name': 'poly(3-hexylthiophene)', 'Polymer Chemical Abbreviation': 'P3HT', 'Polymer Application': 'channel layer, flexible self-supporting organic synaptic transistors', 'Doped?': 'not doped'}\n",
      "{'Polymer Mentioned Name': 'poly-(dioxyethylenethiophene):poly-(styrenesulfonate)', 'Polymer Chemical Abbreviation': 'PEDOT:PSS', 'Polymer Application': 'bioelectronic devices, sensors, neural interfaces', 'Doped?': 'not doped'}\n",
      "{'Polymer Mentioned Name': 'poly-(dioxyethylenethiophene):tetrabutylammonium hexafluorophosphate', 'Polymer Chemical Abbreviation': 'PEDOT:PF6', 'Polymer Application': 'bioelectronic devices, sensors, neural interfaces', 'Doped?': 'not doped'}\n",
      "{'Polymer Mentioned Name': 'poly(3,4-[2-(2-methoxyethoxy)ethoxy]methyl}thiophene-2,5-diyl)', 'Polymer Chemical Abbreviation': 'P3MEEMT', 'Polymer Application': 'accumulation-mode organic electrochemical transistors, OECTs, OFETs', 'Doped?': 'not doped'}\n",
      "{'Polymer Mentioned Name': 'poly(3-hexylthiophene-2,5-diyl)', 'Polymer Chemical Abbreviation': 'P3HT', 'Polymer Application': 'OECTs, OFETs', 'Doped?': 'not doped'}\n",
      "{'Polymer Mentioned Name': 'poly(3,4-ethylenedioxythiophene): poly(styrene sulfonate)', 'Polymer Chemical Abbreviation': 'PEDOT:PSS', 'Polymer Application': 'organic electrochemical transistor, neuroinspired platforms, spatiotemporal information processing', 'Doped?': 'not doped'}\n",
      "{'Polymer Mentioned Name': 'ionic liquid crystal elastomers', 'Polymer Chemical Abbreviation': 'iLCE', 'Polymer Application': 'solid electrolytes, wearable devices, flexible, substrate-free organic electrochemical transistors', 'Doped?': 'not doped'}\n",
      "{'Polymer Mentioned Name': 'PEDOT:PSS', 'Polymer Chemical Abbreviation': 'PEDOT:PSS', 'Polymer Application': 'biosensors, ion detection', 'Doped?': 'not doped'}\n",
      "{'Polymer Mentioned Name': 'fullerene derivative', 'Polymer Chemical Abbreviation': 'fullerene', 'Polymer Application': 'cation detection, sweat biosensors', 'Doped?': 'not doped'}\n",
      "{'Polymer Mentioned Name': 'poly(3,4-ethylenedioxythiophene)', 'Polymer Chemical Abbreviation': 'PEDOT', 'Polymer Application': 'smart textile applications, wearable electronics, textile electronics', 'Doped?': 'not doped'}\n",
      "{'Polymer Mentioned Name': 'P3HT', 'Polymer Chemical Abbreviation': 'P3HT', 'Polymer Application': 'biosensing, low-voltage portable power supplies', 'Doped?': 'p-doped'}\n",
      "{'Polymer Mentioned Name': 'PBTTT', 'Polymer Chemical Abbreviation': 'PBTTT', 'Polymer Application': 'biosensing, low-voltage portable power supplies', 'Doped?': 'p-doped'}\n",
      "{'Polymer Mentioned Name': 'DPPT-TT', 'Polymer Chemical Abbreviation': 'DPPT-TT', 'Polymer Application': 'biosensing, low-voltage portable power supplies', 'Doped?': 'p-doped'}\n",
      "{'Polymer Mentioned Name': 'poly(3-hexylthiophene)', 'Polymer Chemical Abbreviation': 'P3HT', 'Polymer Application': 'neuromorphic devices, synaptic behavior, organic electrochemical transistors', 'Doped?': 'not doped'}\n",
      "{'Polymer Mentioned Name': 'poly(3,4-ethylenedioxythiophene) polystyrene sulfonate', 'Polymer Chemical Abbreviation': 'PEDOT:PSS', 'Polymer Application': 'OECTs, biosensing, neuromorphic computing', 'Doped?': 'not doped'}\n",
      "{'Polymer Mentioned Name': 'conjugated polyelectrolyte PCPDTBT-SO3K', 'Polymer Chemical Abbreviation': 'PCPDTBT-SO3K', 'Polymer Application': 'OECTs, biosensing, neuromorphic computing', 'Doped?': 'not doped'}\n",
      "{'Nafion': 'Nafion', 'Polymer Chemical Abbreviation': 'Nf', 'Polymer Application': 'sarcosine sensors, biosensor, prostate cancer detection', 'Doped?': 'not doped', 'Polymer Mentioned Name': 'Nafion'}\n",
      "{'Polymer Mentioned Name': 'poly(3,4-ethylenedioxythiophene)', 'Polymer Chemical Abbreviation': 'PEDOT', 'Polymer Application': 'biosensing, neural network computation', 'Doped?': 'not doped'}\n",
      "{'Polymer Mentioned Name': 'poly(3,4-ethylenedioxythiophene):polystyrene sulfonate', 'Polymer Chemical Abbreviation': 'PEDOT:PSS', 'Polymer Application': 'wound exudate, wound health status, wound-healing evaluation', 'Doped?': 'not doped'}\n",
      "{'Polymer Mentioned Name': 'polypyrrole', 'Polymer Chemical Abbreviation': 'PPy', 'Polymer Application': 'fiber organic electrochemical transistors, glucose sensors, portable and wearable electronics devices, healthcare and biological applications', 'Doped?': 'not doped'}\n",
      "{'Polymer Mentioned Name': 'poly(3,4-ethylenedioxythiophene)', 'Polymer Chemical Abbreviation': 'PEDOT', 'Polymer Application': 'supercapacitor, power source, biosensors', 'Doped?': 'not doped'}\n",
      "{'Polymer Mentioned Name': 'n-type polymer', 'Polymer Chemical Abbreviation': '', 'Polymer Application': 'metabolite sensing, biosensors, enzyme-based electrocatalytic energy generation/storage devices', 'Doped?': 'n-doped'}\n",
      "{'Polymer Mentioned Name': 'poly(3,4-ethylenedioxythiophene):poly(styrenesulfonate)', 'Polymer Chemical Abbreviation': 'PEDOT:PSS', 'Polymer Application': 'bioelectronics, ion-to-electron transducers', 'Doped?': 'ionic-liquid-doped'}\n",
      "{'Polymer Mentioned Name': 'poly(3,4-ethylenedioxythiophene) polystyrenesulfonate', 'Polymer Chemical Abbreviation': 'PEDOT:PSS', 'Polymer Application': 'electrochemical impedance spectroscopy, organic electrochemical transistors, electrodes', 'Doped?': 'not doped'}\n",
      "{'Polymer Mentioned Name': 'PEDOT:PSS', 'Polymer Chemical Abbreviation': 'PEDOT:PSS', 'Polymer Application': 'sensors, wearable, lab-on-a-chip', 'Doped?': 'not doped'}\n",
      "{'Polymer Mentioned Name': 'poly(3,4-ethylenedioxythiophene)-polystyrene sulfonate', 'Polymer Chemical Abbreviation': 'PEDOT:PSS', 'Polymer Application': 'wood electrochemical transistor, transistor channel, electrochemical transistor, bio-based electronic devices', 'Doped?': 'not doped'}\n",
      "{'Polymer Mentioned Name': 'poly(3,4-ethylenedioxythiophene):poly(4-styrenesulfonate)', 'Polymer Chemical Abbreviation': 'PEDOT:PSS', 'Polymer Application': 'flexible electrochromic displays, organic electrochemical transistors, supercapacitors, artificial muscle', 'Doped?': 'not doped'}\n",
      "{'Polymer Mentioned Name': 'poly(3,4-ethylenedioxythiophene):poly(styrenesulfonate)', 'Polymer Chemical Abbreviation': 'PEDOT:PSS', 'Polymer Application': 'biosensing, biosensors', 'Doped?': 'not doped'}\n",
      "{'Polymer Mentioned Name': 'poly(3,4-ethylenedioxythiophene):poly(styrene sulfonate)', 'Polymer Chemical Abbreviation': 'PEDOT:PSS', 'Polymer Application': 'OECTs, bioelectronic devices', 'Doped?': 'not doped'}\n",
      "{'Polymer Mentioned Name': 'poly(3,4-ethylenedioxythiophene)', 'Polymer Chemical Abbreviation': 'PEDOT', 'Polymer Application': 'OECTs, bioelectronic devices', 'Doped?': 'not doped'}\n",
      "{'Polymer Mentioned Name': 'poly(3,4-ethylenedioxythiophene):polystyrene sulfonate', 'Polymer Chemical Abbreviation': 'PEDOT:PSS', 'Polymer Application': 'organic electrochemical transistors, channel layer, neuromorphic computing, biomimetic technology', 'Doped?': 'not doped'}\n",
      "{'Polymer Mentioned Name': 'PEDOT:PSS', 'Polymer Chemical Abbreviation': 'PEDOT:PSS', 'Polymer Application': 'bioelectronics, organic electrochemical transistors', 'Doped?': 'not doped'}\n",
      "{'Polymer Mentioned Name': 'poly(EDOTS-g-EDOT)', 'Polymer Chemical Abbreviation': 'poly(EDOTS-g-EDOT)', 'Polymer Application': 'organic electrochemical transistors', 'Doped?': 'not doped'}\n",
      "{'Polymer Mentioned Name': 'PEDOT', 'Polymer Chemical Abbreviation': 'PEDOT', 'Polymer Application': 'Organic Electrochemical Transistor, plant response to salt stress, Electrochemical impedance spectroscopic studies, biosensor', 'Doped?': 'PSS'}\n",
      "{'Polymer Mentioned Name': 'PNDI2OD-2Tz', 'Polymer Chemical Abbreviation': 'PNDI2OD-2Tz', 'Polymer Application': 'OECTs, biosensors', 'Doped?': 'not_doped'}\n",
      "{'Polymer Mentioned Name': 'PNDIODTEG-2Tz', 'Polymer Chemical Abbreviation': 'PNDIODTEG-2Tz', 'Polymer Application': 'OECTs, biosensors', 'Doped?': 'not_doped'}\n",
      "{'Polymer Mentioned Name': 'PNDI2TEG-2Tz', 'Polymer Chemical Abbreviation': 'PNDI2TEG-2Tz', 'Polymer Application': 'OECTs, biosensors, neuromorphic computing, electrochemical resistive random-access memory devices', 'Doped?': 'not_doped'}\n",
      "{'Polymer Mentioned Name': 'p(g2T-T)', 'Polymer Chemical Abbreviation': 'p(g2T-T)', 'Polymer Application': 'neuromorphic devices, implantable electronics', 'Doped?': 'p-doped'}\n",
      "{'Polymer Mentioned Name': 'Homo-gDPP', 'Polymer Chemical Abbreviation': 'Homo-gDPP', 'Polymer Application': 'neuromorphic devices, implantable electronics', 'Doped?': 'n-doped'}\n",
      "{'Polymer Mentioned Name': 'beta-myrcene', 'Polymer Chemical Abbreviation': 'BM', 'Polymer Application': 'energy storage, cathode, polymer electrolyte', 'Doped?': 'not doped'}\n",
      "{'Polymer Mentioned Name': 'poly(3,4-ethylenedioxythiophene)', 'Polymer Chemical Abbreviation': 'PEDOT', 'Polymer Application': 'biological interfacing, drug delivery systems, neuromorphic devices', 'Doped?': 'p-doped'}\n",
      "{'Polymer Mentioned Name': 'poly(2-(3,3 \" -bis(2-(2-(2-methoxyethoxy)ethoxy) ethoxy)-[2,2 \" -bithiophen]-5-yl)thieno[3,2-b]thiophene)', 'Polymer Chemical Abbreviation': 'p(g2T-TT)', 'Polymer Application': 'biological interfacing, drug delivery systems, neuromorphic devices', 'Doped?': 'not doped'}\n",
      "{'Polymer Mentioned Name': 'gNDI-FBT', 'Polymer Chemical Abbreviation': 'gNDI-FBT', 'Polymer Application': 'energy-storage devices, electrochromic devices, organic electrochemical transistors', 'Doped?': 'n-doped'}\n",
      "{'Polymer Mentioned Name': 'gNDI-2,2\"-bis(3,4-ethylenedioxy)bithiophene', 'Polymer Chemical Abbreviation': 'gNDI-BEDOT', 'Polymer Application': 'energy-storage devices, electrochromic devices, organic electrochemical transistors', 'Doped?': 'n-doped'}\n",
      "{'Polymer Mentioned Name': 'gNDI-2,2\"-bithiophene', 'Polymer Chemical Abbreviation': 'gNDI-BT', 'Polymer Application': 'energy-storage devices, electrochromic devices, organic electrochemical transistors', 'Doped?': 'n-doped'}\n",
      "{'Polymer Mentioned Name': 'gNDI-3,3\"-difluoro-2,2\"-bithiophene', 'Polymer Chemical Abbreviation': 'gNDI-FBT', 'Polymer Application': 'energy-storage devices, electrochromic devices, organic electrochemical transistors', 'Doped?': 'n-doped'}\n",
      "{'Polymer Mentioned Name': 'poly(3,4-ethylenedioxythiophene)', 'Polymer Chemical Abbreviation': 'PEDOT', 'Polymer Application': 'electrochemical transistors, sensors, electrochemical sensor circuit', 'Doped?': 'p-doped'}\n",
      "{'Polymer Mentioned Name': 'Poly(diallyldimethylammonium chloride)', 'Polymer Chemical Abbreviation': 'PDDA', 'Polymer Application': 'composites conductive fiber, layer-by-layer assembly, FECTs', 'Doped?': 'not doped'}\n",
      "{'Polymer Mentioned Name': 'Poly(3, 4-ethylenedioxythiophene)-Poly(styrenesulfonate)', 'Polymer Chemical Abbreviation': 'PEDOT:PSS', 'Polymer Application': 'composites conductive fiber, layer-by-layer assembly, FECTs, biosensor, wearable healthcare', 'Doped?': 'not doped'}\n",
      "{'Polymer Mentioned Name': 'Nafion', 'Polymer Chemical Abbreviation': 'NAF', 'Polymer Application': 'coating, modification, dopamine sensors', 'Doped?': 'not doped'}\n",
      "{'Polymer Mentioned Name': 'chitosan', 'Polymer Chemical Abbreviation': 'CHIT', 'Polymer Application': 'coating, dopamine sensors', 'Doped?': 'not doped'}\n",
      "{'Polymer Mentioned Name': 'gAIID-2FT', 'Polymer Chemical Abbreviation': 'gAIID-2FT', 'Polymer Application': 'organic electrochemical transistors, OECTs', 'Doped?': 'n-doped'}\n",
      "{'Polymer Mentioned Name': 'glycolated 1,4-dithienyl-2,3,5,6-tetrafluorophenylene unit copolymerized with thiophene', 'Polymer Chemical Abbreviation': 'GDTP-T', 'Polymer Application': 'organic electrochemical transistors', 'Doped?': 'not doped'}\n",
      "{'Polymer Mentioned Name': 'glycolated 1,4-dithienyl-2,3,5,6-tetrafluorophenylene unit copolymerized with bithiophene', 'Polymer Chemical Abbreviation': 'GDTP-BT', 'Polymer Application': '', 'Doped?': 'not doped'}\n",
      "{'Polymer Mentioned Name': 'glycolated 1,4-dithienyl-2,3,5,6-tetrafluorophenylene unit copolymerized with thienothiophene', 'Polymer Chemical Abbreviation': 'GDTP-TT', 'Polymer Application': '', 'Doped?': 'not doped'}\n",
      "{'Polymer Mentioned Name': 'glycolated 1,4-dithienyl-2,3,5,6-tetrafluorophenylene unit copolymerized with 1,2,4,5-tetrafluorobenzene', 'Polymer Chemical Abbreviation': 'GDTP-TFB', 'Polymer Application': '', 'Doped?': 'not doped'}\n",
      "{'Polymer Mentioned Name': 'poly(3,4-ethylenedioxythiophene)', 'Polymer Chemical Abbreviation': 'PEDOT', 'Polymer Application': 'biosensing, bioelectronics', 'Doped?': 'p-doped'}\n",
      "{'Polymer Mentioned Name': 'poly(styrene sulfonate)', 'Polymer Chemical Abbreviation': 'PSS', 'Polymer Application': 'biosensing, bioelectronics', 'Doped?': 'not doped'}\n",
      "{'Polymer Mentioned Name': 'polyaniline', 'Polymer Chemical Abbreviation': 'PANI', 'Polymer Application': 'flexible biosensors, OECT sensors', 'Doped?': 'not doped'}\n",
      "{'Polymer Mentioned Name': 'poly(3,4-ethylenedioxythiophene) polystyrene sulfonate', 'Polymer Chemical Abbreviation': 'PEDOT:PSS', 'Polymer Application': 'organic electrochemical transistors, channel material', 'Doped?': 'not doped'}\n",
      "{'Polymer Mentioned Name': 'poly(3,4-ethylenedioxythiophene)', 'Polymer Chemical Abbreviation': 'PEDOT', 'Polymer Application': 'biological, neuromorphic', 'Doped?': 'p-doped'}\n",
      "{'Polymer Mentioned Name': 'poly(styrene sulfonate)', 'Polymer Chemical Abbreviation': 'PSS', 'Polymer Application': 'biological, neuromorphic', 'Doped?': 'not doped'}\n",
      "{'Polymer Mentioned Name': 'poly-(3-hexyl-thiophene)', 'Polymer Chemical Abbreviation': 'P3HT', 'Polymer Application': 'water-gated OTFT sensors', 'Doped?': 'not doped'}\n",
      "{'Polymer Mentioned Name': 'poly-(3-carboxypentyl-thiphene)', 'Polymer Chemical Abbreviation': 'P3CPT', 'Polymer Application': 'water-gated OTFT sensors', 'Doped?': 'not doped'}\n",
      "{'Polymer Mentioned Name': 'co-polymer P3HT-co-poly-(3-ethoxypentanoic acid-thiophene)', 'Polymer Chemical Abbreviation': 'P3HT-COOH15', 'Polymer Application': 'EGOFET sensors, biorecognition elements', 'Doped?': 'not doped'}\n",
      "{'Polymer Mentioned Name': 'naphthalene diimide', 'Polymer Chemical Abbreviation': 'NDI', 'Polymer Application': 'electrochemical applications, electro-chemical devices, organic electrochemical transistors', 'Doped?': 'n-doped'}\n",
      "{'Polymer Mentioned Name': 'naphthodithiophene diimide', 'Polymer Chemical Abbreviation': 'NDTI', 'Polymer Application': 'organic electrochemical transistors, electrochemical charging, ON-OFF switching', 'Doped?': 'n-doped'}\n",
      "{'OECT': 'OECT', 'Polymer Chemical Abbreviation': 'OECT', 'Polymer Application': 'ECG mapping, wearable electronics, healthcare products, sports training, fitness scenarios', 'Doped?': 'not doped', 'Polymer Mentioned Name': 'OECT'}\n",
      "{'Polymer Mentioned Name': 'poly(benzobisimidazobenzophenathrolinedione)', 'Polymer Chemical Abbreviation': 'BBL', 'Polymer Application': 'organic electrochemical transistors, thermoelectrics', 'Doped?': 'not doped'}\n",
      "{'Polymer Mentioned Name': 'poly(benzimidazoanthradiisoquinolinedione)', 'Polymer Chemical Abbreviation': 'BAL', 'Polymer Application': 'thermoelectrics', 'Doped?': 'n-doped'}\n",
      "{'Polymer Mentioned Name': 'poly(benzobisimidazobenzophenathrolinedione)', 'Polymer Chemical Abbreviation': 'BBL', 'Polymer Application': 'organic electrochemical transistors, thermoelectrics', 'Doped?': 'not doped'}\n",
      "{'Polymer Mentioned Name': 'poly(benzimidazoanthradiisoquinolinedione)', 'Polymer Chemical Abbreviation': 'BAL', 'Polymer Application': 'thermoelectrics', 'Doped?': 'n-doped'}\n",
      "{'N,N\"-bis(salicylidene)ethylenediaminonickel(II)': 'Ni-salen', 'Polymer Application': 'electrochemical transistor', 'Doped?': 'p-doped', 'Polymer Chemical Abbreviation': 'Ni-salen', 'Polymer Mentioned Name': 'N,N\"-bis(salicylidene)ethylenediaminonickel(II)'}\n",
      "{'N,N\"-bis(3-methoxysalicylidene)ethylenediaminonickel(II)': 'Ni-methoxy-salen', 'Polymer Application': 'channel material, electrochemical transistors', 'Doped?': 'p-doped', 'Polymer Chemical Abbreviation': 'Ni-methoxy-salen', 'Polymer Mentioned Name': 'N,N\"-bis(3-methoxysalicylidene)ethylenediaminonickel(II)'}\n",
      "{'Polymer Mentioned Name': 'diketopyrrolopyrrole unit based D-A polymers', 'Polymer Chemical Abbreviation': 'D-A', 'Polymer Application': 'organic electrochemical transistors (OECTs)', 'Doped?': 'not doped'}\n",
      "{'Polymer Mentioned Name': 'P4E4', 'Polymer Chemical Abbreviation': 'P4E4', 'Polymer Application': 'organic electrochemical transistors', 'Doped?': 'not doped'}\n",
      "{'Polymer Mentioned Name': 'poly(dioxythiophene)s', 'Polymer Chemical Abbreviation': 'PDOT', 'Polymer Application': 'bioelectrochemical devices, organic electrochemical transistors (OECTs)', 'Doped?': 'not doped'}\n",
      "{'Polymer Mentioned Name': 'PEDOT:PSS', 'Polymer Chemical Abbreviation': 'PEDOT:PSS', 'Polymer Application': 'OECTs, bioengineering, biomedical sensors, wearable electronics, flexible electronics', 'Doped?': 'p-doped'}\n",
      "{'Polymer Mentioned Name': 'poly(glycerol 1,3-diglycerolate diacrylate)', 'Polymer Chemical Abbreviation': 'PGDGDA', 'Polymer Application': 'wearable electrophysiology probes, electrocardiogram, physiological signal monitoring', 'Doped?': 'not doped'}\n",
      "{'Polymer Mentioned Name': 'chitosan', 'Polymer Chemical Abbreviation': 'CHIT', 'Polymer Application': 'glucose sensors, gate electrodes, biocompatible', 'Doped?': 'not doped'}\n",
      "{'Polymer Mentioned Name': 'Nafion', 'Polymer Chemical Abbreviation': 'NAF', 'Polymer Application': 'glucose sensors, gate electrodes, biocompatible', 'Doped?': 'not doped'}\n",
      "{'Polymer Mentioned Name': 'P3HT', 'Polymer Chemical Abbreviation': 'P3HT', 'Polymer Application': 'OTFTs, gas sensors, OECTs', 'Doped?': 'p-doped'}\n",
      "{'Polymer Mentioned Name': 'C8BTBT', 'Polymer Chemical Abbreviation': 'C8BTBT', 'Polymer Application': 'OTFTs', 'Doped?': 'p-doped'}\n",
      "{'Polymer Mentioned Name': 'N2200', 'Polymer Chemical Abbreviation': 'N2200', 'Polymer Application': 'OTFTs, chemically doped conducting films', 'Doped?': 'n-doped'}\n",
      "{'Polymer Mentioned Name': 'poly(3,4-ethylenedioxythiophene): poly(styrene sulfonic acid)', 'Polymer Chemical Abbreviation': 'PEDOT:PSS', 'Polymer Application': 'gallic acid sensors, electrochemical transistors', 'Doped?': 'not doped'}\n",
      "{'Polymer Mentioned Name': 'poly(diallyldimethylammonium chloride)', 'Polymer Chemical Abbreviation': 'PDDA', 'Polymer Application': 'gate electrodes, nanocomposites', 'Doped?': 'not doped'}\n",
      "{'Polymer Mentioned Name': 'poly(3,4-ethylenedioxythiophene):poly(styrene sulfonate)', 'Polymer Chemical Abbreviation': 'PEDOT:PSS', 'Polymer Application': 'biomedical applications, monitoring of the integrity of epithelial tissue, in vitro cell sensing', 'Doped?': 'not doped'}\n",
      "{'Polymer Mentioned Name': 'isoindigo-derived polymers', 'Polymer Chemical Abbreviation': 'IIDP', 'Polymer Application': 'organic field-effect transistors, chemical sensors, organic electrochemical transistors, organic phototransistors, organic photovoltaics, organic thermoelectrics, organic spin valves, biophotonic applications', 'Doped?': 'not doped'}\n",
      "{'a new electropolymerizable polymer': 'a new electropolymerizable polymer', 'Polymer Chemical Abbreviation': 'none', 'Polymer Application': 'biosensing, pattern classification, real-time classification, embedded sensing, processing', 'Doped?': 'not doped', 'Polymer Mentioned Name': 'a new electropolymerizable polymer'}\n",
      "{'Polymer Mentioned Name': 'poly(3,4-ethylenedioxythiophene):poly(styrenesulfonate)', 'Polymer Chemical Abbreviation': 'PEDOT:PSS', 'Polymer Application': 'OECT, OPECT, optoelectronics, optologics, unipolar inverters, portable and wearable devices', 'Doped?': 'not doped'}\n",
      "{'Polymer Mentioned Name': 'poly(3,4-ethylenedioxythiophene)', 'Polymer Chemical Abbreviation': 'PEDOT', 'Polymer Application': 'organic electrochemical transistors, OECT circuits, logic circuits', 'Doped?': 'p-doped'}\n",
      "{'Polymer Mentioned Name': 'poly(styrensulfonate)', 'Polymer Chemical Abbreviation': 'PSS', 'Polymer Application': 'organic electrochemical transistors, OECT circuits, logic circuits', 'Doped?': 'not doped'}\n",
      "{'Polymer Mentioned Name': 'poly(3,4-ethylenedioxythiophene):polystyrenesulfonate', 'Polymer Chemical Abbreviation': 'PEDOT:PSS', 'Polymer Application': 'chemical and biological detections, signal amplification, low operating voltage, solution compatibility, high biocompatibility, sensitive detections of metabolites', 'Doped?': 'not doped'}\n",
      "{'Polymer Mentioned Name': 'poly(3-hexylthiophene)', 'Polymer Chemical Abbreviation': 'P3HT', 'Polymer Application': 'chemical and biological detections, signal amplification, low operating voltage, solution compatibility, high biocompatibility, sensitive detections of metabolites', 'Doped?': 'not doped'}\n",
      "{'Polymer Mentioned Name': 'PEDOT:PSS', 'Polymer Chemical Abbreviation': 'PEDOT:PSS', 'Polymer Application': 'biosensing, logic circuitry, wearable, standalone sensing', 'Doped?': 'p-doped'}\n",
      "{'Polymer Mentioned Name': 'PEDOT:PSS', 'Polymer Chemical Abbreviation': 'PEDOT:PSS', 'Polymer Application': 'real-time monitoring, bio-sensing, detection', 'Doped?': 'not doped'}\n",
      "{'Polymer Mentioned Name': 'PLGA', 'Polymer Chemical Abbreviation': 'PLGA', 'Polymer Application': 'OFET, substrates', 'Doped?': 'not doped'}\n",
      "{'Polymer Mentioned Name': 'PLA', 'Polymer Chemical Abbreviation': 'PLA', 'Polymer Application': 'neural self differentiation, scaffolds', 'Doped?': 'not doped'}\n",
      "{'Polymer Mentioned Name': 'Polythiophene', 'Polymer Chemical Abbreviation': 'PT', 'Polymer Application': 'biosensors, nanowires', 'Doped?': 'not doped'}\n",
      "{'Polymer Mentioned Name': 'PEDOT:PSS', 'Polymer Chemical Abbreviation': 'PEDOT:PSS', 'Polymer Application': 'biosensors, organic electrochemical transistors, ion-to-electron converters', 'Doped?': 'not doped'}\n",
      "{'Polymer Mentioned Name': 'PEDOT:PSS', 'Polymer Chemical Abbreviation': 'PEDOT:PSS', 'Polymer Application': 'OECTs, biosensors', 'Doped?': 'not_doped'}\n",
      "{'Polymer Mentioned Name': 'polyaniline', 'Polymer Chemical Abbreviation': 'PANI', 'Polymer Application': 'OECTs, biosensors', 'Doped?': 'not_doped'}\n",
      "{'Polymer Mentioned Name': 'poly(3,4-ethylenedioxythiophene):poly(styrene sulfonate)', 'Polymer Chemical Abbreviation': 'PEDOT:PSS', 'Polymer Application': 'detection, lysozyme, biodetection, transistor', 'Doped?': 'not doped'}\n",
      "{'Polymer Mentioned Name': 'poly(3,4-ethylenedioxythiophene)', 'Polymer Chemical Abbreviation': 'PEDOT', 'Polymer Application': 'organic electrochemical transistors, inverters, logic circuits, amplifiers', 'Doped?': 'not doped'}\n",
      "{'Polymer Mentioned Name': 'PEDOT', 'Polymer Chemical Abbreviation': 'PEDOT', 'Polymer Application': 'bioelectronic, OECTs', 'Doped?': 'not doped'}\n",
      "{'Polymer Mentioned Name': 'PEDOT-Phos', 'Polymer Chemical Abbreviation': 'PEDOT-Phos', 'Polymer Application': 'bioelectronic, OECTs', 'Doped?': 'not doped'}\n",
      "{'Polymer Mentioned Name': 'PEDOT:PSS', 'Polymer Chemical Abbreviation': 'PEDOT:PSS', 'Polymer Application': 'OECT, virus sensing, wearable monitoring', 'Doped?': 'not doped'}\n",
      "{'Polymer Mentioned Name': 'EDOT', 'Polymer Chemical Abbreviation': 'EDOT', 'Polymer Application': 'OECT, virus sensing', 'Doped?': 'not doped'}\n",
      "{'Polymer Mentioned Name': 'EDOTOA', 'Polymer Chemical Abbreviation': 'EDOTOA', 'Polymer Application': 'OECT, virus sensing', 'Doped?': 'not doped'}\n",
      "{'Polymer Mentioned Name': 'poly(3,4-ethylenedioxythiophene)', 'Polymer Chemical Abbreviation': 'PEDOT', 'Polymer Application': 'channel semiconductor, electrochemical transistor', 'Doped?': 'p-doped'}\n",
      "{'Polymer Mentioned Name': 'phosphorylcholine-functionalized poly (3,4-ethylene dioxythiophene)', 'Polymer Chemical Abbreviation': 'PEDOT-PC', 'Polymer Application': 'OECT biosensor, point-of-care diagnostics', 'Doped?': 'not doped'}\n",
      "{'Polymer Mentioned Name': 'PEDOT:PSS', 'Polymer Chemical Abbreviation': 'PEDOT:PSS', 'Polymer Application': 'biological inspection, identification, analysis', 'Doped?': 'not doped'}\n",
      "{'Polymer Mentioned Name': 'poly(3,4-ethylenedioxythiophene):tosylate', 'Polymer Chemical Abbreviation': 'PEDOT:Tos', 'Polymer Application': 'bioelectronic, OECTs, printable productions', 'Doped?': 'not doped'}\n",
      "{'Polymer Mentioned Name': 'Poly(3,4-ethylenedioxythiophene):poly(styrenesulfonate)', 'Polymer Chemical Abbreviation': 'PEDOT:PSS', 'Polymer Application': 'organic electronics, organic electrochemical transistors', 'Doped?': 'not doped'}\n",
      "{'Polymer Mentioned Name': 'poly(3,4-ethylenedioxythiophene)', 'Polymer Chemical Abbreviation': 'PEDOT', 'Polymer Application': 'bioelectronic interface devices, biosensors', 'Doped?': 'p-doped'}\n",
      "{'Polymer Mentioned Name': 'Nafion', 'Polymer Chemical Abbreviation': 'Nafion', 'Polymer Application': 'in vitro cardiac electrophysiology, electrophysiological analysis', 'Doped?': 'not doped'}\n",
      "{'Polymer Mentioned Name': 'poly(3,4-ethylenedioxy-thiophene):polystyrene sulfonate', 'Polymer Chemical Abbreviation': 'PEDOT:PSS', 'Polymer Application': 'immunosensor, biosensing, point-of-care device', 'Doped?': 'not doped'}\n",
      "{'Polymer Mentioned Name': 'PEDOT-polyamine', 'Polymer Chemical Abbreviation': 'PEDOT-PA', 'Polymer Application': 'flexible, wearable sensors, monitoring, detecting', 'Doped?': 'not doped'}\n",
      "{'Polymer Mentioned Name': 'PEDOT-PAH', 'Polymer Chemical Abbreviation': 'PEDOT-PAH', 'Polymer Application': 'enzyme immobilization, biosensor', 'Doped?': 'not doped'}\n",
      "{'Polymer Mentioned Name': 'poly(3,4-ethylenedioxythiophene)', 'Polymer Chemical Abbreviation': 'PEDOT', 'Polymer Application': 'biosensors, bioelectronics', 'Doped?': 'not_doped'}\n",
      "{'Polymer Mentioned Name': 'polystyrene sulfonate acid', 'Polymer Chemical Abbreviation': 'PSS', 'Polymer Application': 'biosensors, bioelectronics', 'Doped?': 'not_doped'}\n",
      "{'Polymer Mentioned Name': 'poly(3-hexylthiophene)', 'Polymer Chemical Abbreviation': 'P3HT', 'Polymer Application': 'neuromorphic computing, synaptic OECTs, stretchable synaptic OECTs', 'Doped?': 'not doped'}\n",
      "{'Polymer Mentioned Name': 'styrene-ethylene-butylene-styrene', 'Polymer Chemical Abbreviation': 'SEBS', 'Polymer Application': 'stretchable synaptic OECTs, porous elastic film', 'Doped?': 'not doped'}\n",
      "{'Polymer Mentioned Name': 'poly(N-dodecylacrylamide)', 'Polymer Chemical Abbreviation': 'pDDA', 'Polymer Application': 'conduction channel layer, Langmuir-Blodgett film', 'Doped?': 'not doped'}\n",
      "{'Polymer Mentioned Name': 'poly(3-hexylthiophene)', 'Polymer Chemical Abbreviation': 'PHT', 'Polymer Application': 'conduction channel layer, organic electrochemical transistor', 'Doped?': 'not doped'}\n",
      "{'Polymer Mentioned Name': 'poly(3-hexylthiophene)', 'Polymer Chemical Abbreviation': 'P3HT', 'Polymer Application': 'organic electrochemical transistor, OECT, stretchability', 'Doped?': 'not doped'}\n",
      "{'Polymer Mentioned Name': 'poly(2,5-bis(3-triethyleneglycoloxythiophen-2-yl)-co-thiophene)', 'Polymer Chemical Abbreviation': 'Pg2T-T', 'Polymer Application': 'organic electrochemical transistor, OECT, stretchability', 'Doped?': 'not doped'}\n",
      "{'Polymer Mentioned Name': 'PEDOT:PSS', 'Polymer Chemical Abbreviation': 'PEDOT:PSS', 'Polymer Application': 'surface biocompatibility, biosensor array, multielectrode arrays, organic electrochemical transistors', 'Doped?': 'not doped'}\n",
      "{'Polymer Mentioned Name': 'poly(3,4-ethylenedioxythiophene)', 'Polymer Chemical Abbreviation': 'PEDOT', 'Polymer Application': 'energy storage, sensing, actuation', 'Doped?': 'not doped'}\n",
      "{'Polymer Mentioned Name': 'PEDOT:PSS', 'Polymer Chemical Abbreviation': 'PEDOT:PSS', 'Polymer Application': 'AA detection, food, Vitamin C, orange juice, antioxidants', 'Doped?': 'not doped'}\n",
      "{'Polymer Mentioned Name': 'poly(3,4-ethylenedioxythiophene):poly(styrenesulfonate)', 'Polymer Chemical Abbreviation': 'PEDOT:PSS', 'Polymer Application': 'hydrazine-sensing, bioelectronics, biosensors', 'Doped?': 'not doped'}\n",
      "{'Polymer Mentioned Name': 'polythiophene homopolymers with ethylene glycol units in their side chains', 'Polymer Chemical Abbreviation': 'PT-EG', 'Polymer Application': 'organic electrochemical transistor (OECT)', 'Doped?': 'not_doped'}\n",
      "{'Polymer Mentioned Name': 'poly(3-{[2-(2-methoxyethoxy)ethoxy]methyl}thiophene-2,5-diyl)', 'Polymer Chemical Abbreviation': 'P3MEEMT', 'Polymer Application': 'organic electrochemical transistor (OECT)', 'Doped?': 'not_doped'}\n",
      "{'Polymer Mentioned Name': 'ladder-type benzimidazobenzophenanthroline', 'Polymer Chemical Abbreviation': 'BBL', 'Polymer Application': 'n-type devices', 'Doped?': 'n-doped'}\n",
      "{'Polymer Mentioned Name': 'PVA', 'Polymer Chemical Abbreviation': 'PVA', 'Polymer Application': 'OECT, channel materials', 'Doped?': 'not doped'}\n",
      "{'Polymer Mentioned Name': 'PEDOT:PSS', 'Polymer Chemical Abbreviation': 'PEDOT:PSS', 'Polymer Application': 'OECT, channel materials', 'Doped?': 'not doped'}\n",
      "{'Polymer Mentioned Name': 'PVA', 'Polymer Chemical Abbreviation': 'PVA', 'Polymer Application': 'OECT, channel materials', 'Doped?': 'not doped'}\n",
      "{'Polymer Mentioned Name': 'PEDOT:PSS', 'Polymer Chemical Abbreviation': 'PEDOT:PSS', 'Polymer Application': 'OECT, channel materials', 'Doped?': 'not doped'}\n",
      "{'Polymer Mentioned Name': 'peptide-appended naphthalene diimide-based', 'Polymer Chemical Abbreviation': 'NDIP', 'Polymer Application': 'thermoresponsive, mechanosensitive, photoresponsive, photoswitching', 'Doped?': 'not doped'}\n",
      "{'Polymer Mentioned Name': 'polyacrylic acid', 'Polymer Chemical Abbreviation': 'PAA', 'Polymer Application': 'optoelectronic, energy storage', 'Doped?': 'not doped'}\n",
      "{'Polymer Mentioned Name': 'polyaniline', 'Polymer Chemical Abbreviation': 'PANI', 'Polymer Application': 'optoelectronic, energy storage', 'Doped?': 'not doped'}\n",
      "{'Polymer Mentioned Name': 'poly(3,4-ethylenedioxythiophene)polystyrene sulfonate', 'Polymer Chemical Abbreviation': 'PEDOT:PSS', 'Polymer Application': 'bioelectronic devices, organic electrochemical transistors, bioelectronics', 'Doped?': 'not doped'}\n",
      "{'Polymer Mentioned Name': 'polyacrylamide', 'Polymer Chemical Abbreviation': 'PAAm', 'Polymer Application': 'bioelectronic devices, organic electrochemical transistors, bioelectronics', 'Doped?': 'not doped'}\n",
      "{'Polymer Mentioned Name': 'ethylene glycol-treated crosslinked OMIEC', 'Polymer Chemical Abbreviation': 'EG/GOPS-PEDOT:PSS', 'Polymer Application': 'electrochemical cycling', 'Doped?': 'p-doped'}\n",
      "{'Polymer Mentioned Name': 'acid-treated OMIEC', 'Polymer Chemical Abbreviation': 'crys-PEDOT:PSS', 'Polymer Application': 'electrochemical doping, electrochemical dedoping', 'Doped?': 'p-doped'}\n",
      "{'Polymer Mentioned Name': 'single-component OMIEC', 'Polymer Chemical Abbreviation': 'pg2T-TT', 'Polymer Application': 'electrochemical doping, electrochemical dedoping', 'Doped?': 'p-doped'}\n",
      "{'Polymer Mentioned Name': 'polythiophene with tetraethylene glycol side chains', 'Polymer Chemical Abbreviation': 'PTTEG', 'Polymer Application': 'wearable electronics, bioelectronics', 'Doped?': 'not doped'}\n",
      "{'Polymer Mentioned Name': 'poly(thiophene methacrylate)', 'Polymer Chemical Abbreviation': 'PTMA', 'Polymer Application': 'photo-switching, photocurrent switching', 'Doped?': 'not doped'}\n",
      "{'Polymer Mentioned Name': 'poly 3-(3-carboxypropyl) thiophene-2,5-diyl', 'Polymer Chemical Abbreviation': 'PT-COOH', 'Polymer Application': 'bioreceptor layers, sensing signal, OECT devices', 'Doped?': 'not doped'}\n",
      "{'Polymer Mentioned Name': 'hydroxylated polythiophene', 'Polymer Chemical Abbreviation': 'PT-OH', 'Polymer Application': 'bioreceptor layers, sensing signal, OECT devices, OCP measurement', 'Doped?': 'not doped'}\n",
      "{'Polymer Mentioned Name': 'bithiophene-thienothiophene conjugated backbone', 'Polymer Chemical Abbreviation': 'BT-TT', 'Polymer Application': 'OECT channel materials', 'Doped?': 'not_doped'}\n",
      "{'Polymer Mentioned Name': 'PEDOT:PSS-based soft channel', 'Polymer Chemical Abbreviation': 'PEDOT:PSS', 'Polymer Application': 'wearable electronics, OECTs, amplifier, skin-mountable', 'Doped?': 'not doped'}\n",
      "{'Polymer Mentioned Name': 'DPPDTT', 'Polymer Chemical Abbreviation': 'DPPDTT', 'Polymer Application': 'flexible electronics, bioelectronics', 'Doped?': 'not doped'}\n",
      "{'Polymer Mentioned Name': 'P3HT', 'Polymer Chemical Abbreviation': 'P3HT', 'Polymer Application': 'flexible electronics, bioelectronics', 'Doped?': 'not doped'}\n",
      "{'Polymer Mentioned Name': 'Pg2T-T', 'Polymer Chemical Abbreviation': 'Pg2T-T', 'Polymer Application': 'flexible electronics, bioelectronics', 'Doped?': 'not doped'}\n",
      "{'Polymer Mentioned Name': 'poly(3,4-ethylenedioxythiophene):polystyrene sulfonate', 'Polymer Chemical Abbreviation': 'PEDOT:PSS', 'Polymer Application': 'Organic Electro-Chemical Transistors, biosensing, dopamine detection', 'Doped?': 'not doped'}\n",
      "{'Polymer Mentioned Name': 'Poly(ethylene glycol) diacrylate', 'Polymer Chemical Abbreviation': 'PEGDA', 'Polymer Application': '3D printing, resin composite', 'Doped?': 'not doped'}\n",
      "{'Polymer Mentioned Name': 'poly(allylamine)', 'Polymer Chemical Abbreviation': 'PAA', 'Polymer Application': 'nanocomposites, solution chemistry', 'Doped?': 'not doped'}\n"
     ]
    }
   ],
   "source": [
    "\n",
    "polymer_dicts, _ = prepare_dict(responses_cleaned)\n",
    "\n",
    "polymers = []\n",
    "\n",
    "for polymer in polymer_dicts:\n",
    "    print(polymer[list(polymer.keys())[0]])\n",
    "    polymers.append(polymer[list(polymer.keys())[0]]['Polymer Chemical Abbreviation'])\n"
   ]
  },
  {
   "cell_type": "code",
   "execution_count": 45,
   "metadata": {},
   "outputs": [
    {
     "name": "stdout",
     "output_type": "stream",
     "text": [
      "Quantidade polímeros: 1059 | Quantidade polímeros únicos: 426\n"
     ]
    }
   ],
   "source": [
    "# Função para encontrar a interseção entre dois conjuntos de polímeros\n",
    "def verificar_interseccao(p1, p2):\n",
    "    conjunto1 = {p1['Polymer Chemical Abbreviation'].replace('/', '-').replace(':', '-').lower(),\n",
    "                 p1['Polymer Mentioned Name'].replace('/', '-').replace(':', '-').lower()}\n",
    "    conjunto2 = {p2['Polymer Chemical Abbreviation'].replace('/', '-').replace(':', '-').lower(),\n",
    "                 p2['Polymer Mentioned Name'].replace('/', '-').replace(':', '-').lower()}\n",
    "    return not conjunto1.isdisjoint(conjunto2)\n",
    "\n",
    "# Agrupar polímeros com base na interseção\n",
    "def agrupar_polimeros(polimeros):\n",
    "    grupos = []\n",
    "    visitados = set()\n",
    "    \n",
    "    for i, dados1 in enumerate(polimeros):\n",
    "        \n",
    "        if i in visitados:\n",
    "            continue\n",
    "        \n",
    "        grupo_atual = set()\n",
    "        grupo_nome_atual = []\n",
    "        \n",
    "        # Adicionar o polímero atual ao grupo\n",
    "        grupo_atual.add(i)\n",
    "        grupo_nome_atual.append([dados1[list(dados1.keys())[0]]['Polymer Chemical Abbreviation'], list(dados1.keys())[0]])\n",
    "        visitados.add(i)\n",
    "        \n",
    "        # Comparar com elementos subsequentes\n",
    "        for j in range(i + 1, len(polimeros)):\n",
    "            dados2 = polimeros[j]\n",
    "            if verificar_interseccao(dados1[list(dados1.keys())[0]], dados2[list(dados2.keys())[0]]):\n",
    "                grupo_atual.add(j)\n",
    "                grupo_nome_atual.append([dados2[list(dados2.keys())[0]]['Polymer Chemical Abbreviation'], list(dados2.keys())[0]])\n",
    "                visitados.add(j)\n",
    "        \n",
    "        grupos.append(grupo_nome_atual)\n",
    "    \n",
    "    return grupos\n",
    "\n",
    "\n",
    "grupos_nomes_encontrados = agrupar_polimeros(polymer_dicts)\n",
    "#grupos_nomes_encontrados = sorted(grupos_nomes_encontrados, key=len, reverse=True)\n",
    "grupos_nomes = [list(map(list, set(map(tuple, grupo)))) for _, grupo in enumerate(grupos_nomes_encontrados, start=1)]\n",
    "grupos_nomes = sorted(grupos_nomes, key=len, reverse=True)\n",
    "soma = 0\n",
    "\n",
    "for i, grupo in enumerate(grupos_nomes, start=1):\n",
    "    soma += len(grupo)\n",
    "    #print(f\"{grupo[0][0]}: {len(grupo)}\")\n",
    "print(f\"Quantidade polímeros: {soma} | Quantidade polímeros únicos: {len(grupos_nomes)}\")\n"
   ]
  },
  {
   "cell_type": "code",
   "execution_count": 46,
   "metadata": {},
   "outputs": [],
   "source": [
    "items_to_remove = [r'(?i)\\bmixed\\b',\n",
    "                   r'(?i)\\bnone\\b',\n",
    "                   r'MIEC.*',\n",
    "                   'based', \n",
    "                   r'[Pp]olymer',\n",
    "                   r'OECT.*',\n",
    "                   'conjug',\n",
    "                   r'^$', \n",
    "                   r'^PSS$'\n",
    "                   ]\n"
   ]
  },
  {
   "cell_type": "code",
   "execution_count": 47,
   "metadata": {},
   "outputs": [
    {
     "name": "stdout",
     "output_type": "stream",
     "text": [
      "Polímeros identificados antes: 426\n",
      "Polímeros identificados após remoção: 416\n"
     ]
    }
   ],
   "source": [
    "\n",
    "print(\"Polímeros identificados antes:\", len(grupos_nomes))\n",
    "for item in items_to_remove:\n",
    "    for p in grupos_nomes:\n",
    "        pattern = re.compile(item)\n",
    "        if pattern.search(p[0][0]):\n",
    "            #print(item, '\\n', p)\n",
    "            grupos_nomes.remove(p)\n",
    "\n",
    "print(\"Polímeros identificados após remoção:\",len(grupos_nomes))"
   ]
  },
  {
   "cell_type": "code",
   "execution_count": 48,
   "metadata": {},
   "outputs": [
    {
     "data": {
      "text/html": [
       "<div>\n",
       "<style scoped>\n",
       "    .dataframe tbody tr th:only-of-type {\n",
       "        vertical-align: middle;\n",
       "    }\n",
       "\n",
       "    .dataframe tbody tr th {\n",
       "        vertical-align: top;\n",
       "    }\n",
       "\n",
       "    .dataframe thead th {\n",
       "        text-align: right;\n",
       "    }\n",
       "</style>\n",
       "<table border=\"1\" class=\"dataframe\">\n",
       "  <thead>\n",
       "    <tr style=\"text-align: right;\">\n",
       "      <th></th>\n",
       "      <th>Nome</th>\n",
       "      <th>Quantidade_Encontrada</th>\n",
       "      <th>Identificação_Encontrados</th>\n",
       "    </tr>\n",
       "  </thead>\n",
       "  <tbody>\n",
       "    <tr>\n",
       "      <th>0</th>\n",
       "      <td>PEDOT:PSS</td>\n",
       "      <td>212</td>\n",
       "      <td>[[PEDOT:PSS, 977], [PEDOT:PSS, 275], [PEDOT:PS...</td>\n",
       "    </tr>\n",
       "    <tr>\n",
       "      <th>1</th>\n",
       "      <td>PEDOT</td>\n",
       "      <td>113</td>\n",
       "      <td>[[PEDOT, 881], [PEDOT, 399], [PEDOT, 945], [PE...</td>\n",
       "    </tr>\n",
       "    <tr>\n",
       "      <th>2</th>\n",
       "      <td>P3HT</td>\n",
       "      <td>32</td>\n",
       "      <td>[[P3HT, 1478], [P3HT, 1362], [P3HT, 47], [P3HT...</td>\n",
       "    </tr>\n",
       "    <tr>\n",
       "      <th>3</th>\n",
       "      <td>BBL</td>\n",
       "      <td>13</td>\n",
       "      <td>[[BBL, 733], [BBL, 1273], [BBL, 1112], [BBL, 6...</td>\n",
       "    </tr>\n",
       "    <tr>\n",
       "      <th>4</th>\n",
       "      <td>PPy</td>\n",
       "      <td>13</td>\n",
       "      <td>[[PPy, 1389], [PPy, 845], [PPY, 1206], [Ppy, 1...</td>\n",
       "    </tr>\n",
       "    <tr>\n",
       "      <th>...</th>\n",
       "      <td>...</td>\n",
       "      <td>...</td>\n",
       "      <td>...</td>\n",
       "    </tr>\n",
       "    <tr>\n",
       "      <th>411</th>\n",
       "      <td>PT-COOH</td>\n",
       "      <td>1</td>\n",
       "      <td>[[PT-COOH, 1562]]</td>\n",
       "    </tr>\n",
       "    <tr>\n",
       "      <th>412</th>\n",
       "      <td>PT-OH</td>\n",
       "      <td>1</td>\n",
       "      <td>[[PT-OH, 1562]]</td>\n",
       "    </tr>\n",
       "    <tr>\n",
       "      <th>413</th>\n",
       "      <td>BT-TT</td>\n",
       "      <td>1</td>\n",
       "      <td>[[BT-TT, 1566]]</td>\n",
       "    </tr>\n",
       "    <tr>\n",
       "      <th>414</th>\n",
       "      <td>DPPDTT</td>\n",
       "      <td>1</td>\n",
       "      <td>[[DPPDTT, 1571]]</td>\n",
       "    </tr>\n",
       "    <tr>\n",
       "      <th>415</th>\n",
       "      <td>PEGDA</td>\n",
       "      <td>1</td>\n",
       "      <td>[[PEGDA, 1575]]</td>\n",
       "    </tr>\n",
       "  </tbody>\n",
       "</table>\n",
       "<p>416 rows × 3 columns</p>\n",
       "</div>"
      ],
      "text/plain": [
       "          Nome  Quantidade_Encontrada  \\\n",
       "0    PEDOT:PSS                    212   \n",
       "1        PEDOT                    113   \n",
       "2         P3HT                     32   \n",
       "3          BBL                     13   \n",
       "4          PPy                     13   \n",
       "..         ...                    ...   \n",
       "411    PT-COOH                      1   \n",
       "412      PT-OH                      1   \n",
       "413      BT-TT                      1   \n",
       "414     DPPDTT                      1   \n",
       "415      PEGDA                      1   \n",
       "\n",
       "                             Identificação_Encontrados  \n",
       "0    [[PEDOT:PSS, 977], [PEDOT:PSS, 275], [PEDOT:PS...  \n",
       "1    [[PEDOT, 881], [PEDOT, 399], [PEDOT, 945], [PE...  \n",
       "2    [[P3HT, 1478], [P3HT, 1362], [P3HT, 47], [P3HT...  \n",
       "3    [[BBL, 733], [BBL, 1273], [BBL, 1112], [BBL, 6...  \n",
       "4    [[PPy, 1389], [PPy, 845], [PPY, 1206], [Ppy, 1...  \n",
       "..                                                 ...  \n",
       "411                                  [[PT-COOH, 1562]]  \n",
       "412                                    [[PT-OH, 1562]]  \n",
       "413                                    [[BT-TT, 1566]]  \n",
       "414                                   [[DPPDTT, 1571]]  \n",
       "415                                    [[PEGDA, 1575]]  \n",
       "\n",
       "[416 rows x 3 columns]"
      ]
     },
     "execution_count": 48,
     "metadata": {},
     "output_type": "execute_result"
    }
   ],
   "source": [
    "df = []\n",
    "for i,grupo in enumerate(grupos_nomes, start=1):\n",
    "    linha_df = {'Nome': grupo[0][0], 'Quantidade_Encontrada': len(grupo), 'Identificação_Encontrados': grupo}\n",
    "    df.append(linha_df)\n",
    "polímeros_estruturados = pd.DataFrame(df)\n",
    "polímeros_estruturados"
   ]
  },
  {
   "cell_type": "code",
   "execution_count": 49,
   "metadata": {},
   "outputs": [
    {
     "name": "stderr",
     "output_type": "stream",
     "text": [
      "C:\\Users\\thaynara220042\\AppData\\Local\\Temp\\ipykernel_1532\\2917285224.py:8: FutureWarning: \n",
      "\n",
      "Passing `palette` without assigning `hue` is deprecated and will be removed in v0.14.0. Assign the `y` variable to `hue` and set `legend=False` for the same effect.\n",
      "\n",
      "  sns.barplot(x=polímeros_estruturados[:10]['Quantidade_Encontrada'], y=polímeros_estruturados[:10]['Nome'], palette=\"viridis\")\n"
     ]
    },
    {
     "data": {
      "image/png": "[encoded data removed]",
      "text/plain": [
       "<Figure size 1000x600 with 1 Axes>"
      ]
     },
     "metadata": {},
     "output_type": "display_data"
    }
   ],
   "source": [
    "import seaborn as sns\n",
    "import matplotlib.pyplot as plt\n",
    "\n",
    "\n",
    "plt.figure(figsize=(10, 6))\n",
    "\n",
    "\n",
    "sns.barplot(x=polímeros_estruturados[:10]['Quantidade_Encontrada'], y=polímeros_estruturados[:10]['Nome'], palette=\"viridis\")\n",
    "plt.xlabel('Frequência')\n",
    "plt.ylabel('Material')\n",
    "\n",
    "# Ajustando layout para não cortar legendas\n",
    "plt.tight_layout()\n",
    "plt.title('Polímeros OMIEC Mais Frequentes')\n",
    "# Salvando a imagem\n",
    "#plt.savefig('gráficos/llama3-70B-OMIEC190824_RESPONSES_ranking.png')\n",
    "\n",
    "# Exibindo a imagem\n",
    "plt.show()\n"
   ]
  },
  {
   "cell_type": "markdown",
   "metadata": {},
   "source": [
    "Tendência de publicações sobre a temática durante os anos"
   ]
  },
  {
   "cell_type": "code",
   "execution_count": 50,
   "metadata": {},
   "outputs": [
    {
     "name": "stderr",
     "output_type": "stream",
     "text": [
      "C:\\Users\\thaynara220042\\AppData\\Local\\Temp\\ipykernel_1532\\3684753008.py:12: FutureWarning: \n",
      "\n",
      "Passing `palette` without assigning `hue` is deprecated and will be removed in v0.14.0. Assign the `x` variable to `hue` and set `legend=False` for the same effect.\n",
      "\n",
      "  sns.barplot(\n"
     ]
    },
    {
     "data": {
      "image/png": "[encoded data removed]",
      "text/plain": [
       "<Figure size 1000x600 with 1 Axes>"
      ]
     },
     "metadata": {},
     "output_type": "display_data"
    }
   ],
   "source": [
    "import seaborn as sns\n",
    "import matplotlib.pyplot as plt\n",
    "\n",
    "# Supondo que 'raw_data' seja o seu DataFrame e 'Publication Year' seja a coluna com os anos de publicação\n",
    "publication_counts = raw_data['Publication Year'].value_counts()\n",
    "\n",
    "# Ordenar os valores pela data para melhorar a visualização (opcional)\n",
    "publication_counts = publication_counts.sort_index()\n",
    "\n",
    "# Criar o gráfico de barras com Seaborn usando a paleta \"viridis\"\n",
    "plt.figure(figsize=(10, 6))\n",
    "sns.barplot(\n",
    "    x=publication_counts.index, \n",
    "    y=publication_counts.values, \n",
    "    palette=\"viridis\"  # Aplica a paleta de cores \"viridis\"\n",
    ")\n",
    "\n",
    "# Configurar o título e os rótulos dos eixos\n",
    "plt.title('Número de Publicações por Ano')\n",
    "plt.xlabel('Ano de Publicação')\n",
    "plt.ylabel('Número de Publicações')\n",
    "\n",
    "# Mostrar o gráfico\n",
    "plt.xticks(rotation=45)  # Rotaciona os rótulos do eixo x para melhor visualização\n",
    "\n",
    "# Ajustando layout para não cortar legendas\n",
    "plt.tight_layout()\n",
    "\n",
    "# Salvando a imagem\n",
    "#plt.savefig('gráficos/llama3-70B-OMIEC160824_publicação_por_ano.png')\n",
    "\n",
    "plt.show()\n"
   ]
  },
  {
   "cell_type": "markdown",
   "metadata": {},
   "source": [
    "### Localizando os artigos em que aparecem os polímeros"
   ]
  },
  {
   "cell_type": "code",
   "execution_count": 51,
   "metadata": {},
   "outputs": [
    {
     "name": "stdout",
     "output_type": "stream",
     "text": [
      "BBL | Citações: 13 \n",
      " Organic electrochemical transistors (OECTs) have the potential to revolutionize the field of organic bioelectronics. To date, most of the reported OECTs include p-type (semi-)conducting polymers as the channel material, while n-type OECTs are yet at an early stage of development, with the best performing electron-transporting materials still suffering from low transconductance, low electron mobility, and slow response time. Here, the high electrical conductivity of multi-walled carbon nanotubes (MWCNTs) and the large volumetric capacitance of the ladder-type pi-conjugated redox polymer poly(benzimidazobenzophenanthroline) (BBL) are leveraged to develop n-type OECTs with record-high performance. It is demonstrated that the use of MWCNTs enhances the electron mobility by more than one order of magnitude, yielding fast transistor transient response (down to 15 ms) and high mu C* (electron mobility x volumetric capacitance) of about 1 F cm(-1) V-1 s(-1). This enables the development of complementary inverters with a voltage gain of >16 and a large worst-case noise margin at a supply voltage of <0.6 V, while consuming less than 1 mu W of power. \n",
      "\n",
      "BBL | Citações: 0 \n",
      " Glucose sensors have emerged as indispensable tools in monitoring glucose concentrations, enabling individuals to take proactive measures in managing their health effectively. Organic electrochemical transistors (OECTs) have emerged as promising platforms for glucose sensing, offering inherent advantages, such as stability in aqueous environments, low operating voltage requirements, and remarkable sensitivity. In this study, we present the development of an OECT-based glucose sensor using a N-type conducting polymer poly(benzimidazobenzophenanthroline) (BBL) as the active layer. BBL exhibited high performance and stability in an aqueous electrolyte, making it an ideal candidate for glucose sensing applications. By incorporating ferrocene (FC) as an electron mediator and immobilizing glucose oxidase (GOx) on the gate electrode, we achieved remarkable sensitivity and linearity within the glucose concentration range relevant to typical blood sugar levels. Stability tests revealed consistent performance over multiple cycles and continuous stressing, indicating the sensor's longterm stability and reliability. Additionally, we investigated the role of FC through electrochemical absorption and Raman shift spectra, providing insights into the glucose sensing mechanism. Moreover, the glucose sensor demonstrated promising performance on a flexible PET substrate, highlighting its versatility for practical applications in glucose sensing and beyond. \n",
      "\n",
      "BBL | Citações: 234 \n",
      " Organic electrochemical transistors (OECTs) have been the subject of intense research in recent years. To date, however, most of the reported OECTs rely entirely on p-type (hole transport) operation, while electron transporting (n-type) OECTs are rare. The combination of efficient and stable p-type and n-type OECTs would allow for the development of complementary circuits, dramatically advancing the sophistication of OECT-based technologies. Poor stability in air and aqueous electrolyte media, low electron mobility, and/or a lack of electrochemical reversibility, of available high-electron affinity conjugated polymers, has made the development of n-type OECTs troublesome. Here, it is shown that ladder-type polymers such as poly(benzimidazobenzophenanthroline) (BBL) can successfully work as stable and efficient n-channel material for OECTs. These devices can be easily fabricated by means of facile spray-coating techniques. BBL-based OECTs show high transconductance (up to 9.7 mS) and excellent stability in ambient and aqueous media. It is demonstrated that BBL-based n-type OECTs can be successfully integrated with p-type OECTs to form electrochemical complementary inverters. The latter show high gains and large worst-case noise margin at a supply voltage below 0.6 V. \n",
      "\n",
      "BBL | Citações: 5 \n",
      " Organic electrochemical transistors (OECTs) based complementary inverters have been considered as promising candidates in electrophysiological amplification, owing to their low power consumption, and high gain. To create complementary inverters, it is important to use highly stable p-type and n-type polymers with well-balanced current. In this study, the electrochemical stability of p-type ladder-conjugated polymer-based OECT is improved through an annealing process that maintains its doped-state drain current from 76% to 105% after 4,500 cycles in ambient environment. Next an OECT-based complementary inverter made from p-type and n-type ladder-conjugated polymers (PBBTL and BBL) that possess ultra-low power consumption (& AP;170 nW), high gain (67 V/V), and high noise margin (92%) with full rail-to-rail swing, is presented. Furthermore, its potential for amplifying the envelope of surface electromyography (EMG) for robotic hand control is demonstrated. The high variation in the output (0.35 V) allows the amplified EMG signals to be directly captured by a commercial analog-to-digital converter, which in turn controls the robot hand to grasp different objects with low delay and low noise. These results demonstrate the capability of OECT inverter-based amplifier in future signal processing-free human-machine interface, particularly useful for prosthetic control and gesture control applications. A highly stable complementary inverter, functioning as a voltage amplifier, is achieved by serially connecting two ladder-type polymer-based organic electrochemical transistors. The proposed inverter effectively amplifies the low-frequency information of surface electromyograph signals to several hundred millivolts and transforms them into triggers for activating robotic motion control without the need for post-signal processing.image \n",
      "\n",
      "BBL | Citações: 85 \n",
      " Organic electrochemical transistors (OECTs) are the building blocks of biosensors, neuromorphic devices, and complementary circuits. One rule in the materials design for OECTs is the inclusion of a hydrophilic component in the chemical structure to enable ion transport in the film. Here, it is shown that the ladder-type, side-chain free polymer poly(benzimidazobenzophenanthroline) (BBL) performs significantly better in OECTs than the donor-acceptor type copolymer bearing hydrophilic ethylene glycol side chains (P-90). A combination of electrochemical techniques reveals that BBL exhibits a more efficient ion-to-electron coupling and higher OECT mobility than P-90. In situ atomic force microscopy scans evidence that BBL, which swells negligibly in electrolytes, undergoes a drastic and permanent change in morphology upon electrochemical doping. In contrast, P-90 substantially swells when immersed in electrolytes and shows moderate morphology changes induced by dopant ions. Ex situ grazing incidence wide-angle X-ray scattering suggests that the particular packing of BBL crystallites is minimally affected after doping, in contrast to P-90. BBL's ability to show exceptional mixed transport is due to the crystallites' connectivity, which resists water uptake. This side chain-free route for the design of mixed conductors could bring the n-type OECT performance closer to the bar set by their p-type counterparts. \n",
      "\n",
      "BBL | Citações: 97 \n",
      " Organic electrochemical transistors (OECTs) hold promise for developing a variety of high-performance (bio-)electronic devices/circuits. While OECTs based on p-type semiconductors have achieved tremendous progress in recent years, n-type OECTs still suffer from low performance, hampering the development of power-efficient electronics. Here, it is demonstrated that fine-tuning the molecular weight of the rigid, ladder-type n-type polymer poly(benzimidazobenzophenanthroline) (BBL) by only one order of magnitude (from 4.9 to 51 kDa) enables the development of n-type OECTs with record-high geometry-normalized transconductance (g(m,norm) approximate to 11 S cm(-1)) and electron mobility x volumetric capacitance (mu C* approximate to 26 F cm(-1) V-1 s(-1)), fast temporal response (0.38 ms), and low threshold voltage (0.15 V). This enhancement in OECT performance is ascribed to a more efficient intermolecular charge transport in high-molecular-weight BBL than in the low-molecular-weight counterpart. OECT-based complementary inverters are also demonstrated with record-high voltage gains of up to 100 V V-1 and ultralow power consumption down to 0.32 nW, depending on the supply voltage. These devices are among the best sub-1 V complementary inverters reported to date. These findings demonstrate the importance of molecular weight in optimizing the OECT performance of rigid organic mixed ionic-electronic conductors and open for a new generation of power-efficient organic (bio-)electronic devices. \n",
      "\n",
      "BBL | Citações: 26 \n",
      " We study the organic electrochemical transistor (OECT) performance of the ladder polymer poly-(benzimidazobenzophenanthroline) (BBL) in an attempt to better understand how an apparently hydrophobic side-chain-free polymer is able to operate as an OECT with favorable redox kinetics in an aqueous environment. We examine two BBLs of different molecular masses from different sources. Regardless of molecular mass, both BBLs show significant film swelling during the initial reduction step. By combining electrochemical quartz crystal microbalance gravimetry, in-operando atomic force micros-copy, and both ex-situ and in-operando grazing incidence wide-angle X-ray scattering (GIWAXS), we provide a detailed structural picture of the electrochemical charge injection process in BBL in the absence of any hydrophilic side-chains. Compared with ex-situ measurements, in-operando GIWAXS shows both more swelling upon electrochemical doping than has previously been recognized and less contraction upon dedoping. The data show that BBL films undergo an irreversible hydration driven by the initial electrochemical doping cycle with significant water retention and lamellar expansion that persists across subsequent oxidation/ reduction cycles. This swelling creates a hydrophilic environment that facilitates the subsequent fast hydrated ion transport in the absence of the hydrophilic side-chains used in many other polymer systems. Due to its rigid ladder backbone and absence of hydrophilic side-chains, the primary BBL water uptake does not significantly degrade the crystalline order, and the original dehydrated, unswelled state can be recovered after drying. The combination of doping induced hydrophilicity and robust crystalline order leads to efficient ionic transport and good stability. \n",
      "\n",
      "BBL | Citações: 1 \n",
      " The doping levels of conjugated polymers significantly influence their conductivity, energetics, and optical properties. Recently, a highly conductive n-doped polymer called poly (3,7-dihydrobenzo[1,2-b:4,5-b ']difuran-2,6-dione) (poly(benzodifurandione), n-PBDF) is discovered, opening new possibilities for n-type conducting polymers in printed electronics and other fields. Controlling the doping level of n-PBDF is of great interest due to its wide range of potential applications. Here controlled dedoping and redoping of n-PBDF is reported and a mechanistic understating of such a process is provided. Dedoping occurs through electron transfer and proton capture, wherein the ionic dopants, tris(4-bromophenyl)ammoniumyl hexachloroantimonate (Magic Blue), exhibit efficient proton capture ability and stronger interaction with n-PBDF, resulting in high dedoping efficiency. Moreover, chemically dedoped PBDF can be redoped using various proton-coupled electron transfer agents. By manipulating the doping levels of n-PBDF thin films, ranging from highly doped to dedoped states, the system demonstrates controllable conductivity in five orders of magnitude, adjustable optical properties, and energetics. As a result, these characteristics demonstrate the potential applications of n-PBDF in organic electrochemical transistors and thermoelectrics. The recent discovery of n-PBDF marks a notable breakthrough in the realm of conducting polymers. This work reports on the controlled dedoping and redoping of n-PBDF and offers a mechanistic understanding of the process. By controlling n-PBDF between highly doped and dedoped states, the thin film demonstrates controllable conductivity, adjustable optical properties, and tunable energetics. image \n",
      "\n",
      "BBL | Citações: 13 \n",
      " Organic electrochemical transistors (OECTs) are a rapidly advancing technology that plays a crucial role in the development of next-generation bioelectronic devices. Recent advances in p-type/n-type organic mixed ionic-electronic conductors (OMIECs) have enabled power-efficient complementary OECT technologies for various applications, such as chemical/biological sensing, large-scale logic gates, and neuromorphic computing. However, ensuring long-term operational stability remains a significant challenge that hinders their widespread adoption. While p-type OMIECs are generally more stable than n-type OMIECs, they still face limitations, especially during prolonged operations. Here, we demonstrate that simple methylation of the pyrrole-benzothiazine-based (PBBT) ladder polymer backbone results in stable and high-performance p-type OECTs. The methylated PBBT (PBBT-Me) exhibits a 25-fold increase in OECT mobility and an impressive 36-fold increase in & mu;C* (mobility x volumetric capacitance) compared to the non-methylated PBBT-H polymer. Combining the newly developed PBBT-Me with the ladder n-type poly(benzimidazobenzophenanthroline) (BBL), we developed complementary inverters with a record-high DC gain of 194 V V-1 and excellent stability. These state-of-the-art complementary inverters were used to demonstrate leaky integrate-and-fire type organic electrochemical neurons (LIF-OECNs) capable of biologically relevant firing frequencies of about 2 Hz and of operating continuously for up to 6.5 h. This achievement represents a significant improvement over previous results and holds great potential for developing stable bioelectronic circuits capable of in-sensor computing. \n",
      "\n",
      "BBL | Citações: 0 \n",
      " The ladder-type benzimidazobenzophenanthroline (BBL) polymer is one of the most important and most studied n-type conducting polymers. It is also an organic mixed ion-electron conductor (OMIEC), which can undergo electrochemical switching in electrolyte solutions by accommodating opposite ions. The extensive morphological changes of the OMIEC material during operation affect the transport properties and, hence, the device performance. However, molecular insights into the dynamic structural changes during the electrochemical switching are limited, as they are difficult or impossible to access in experiments. The computational microscope based on molecular dynamics (MD) calculations can provide us with complete insights into the detailed dynamic morphological changes that are currently missing, to a large extent, for the BBL polymer. In the present study, using atomistic MD simulations, we obtained microscopic insights into the electrochemical switching of BBL film in two different electrolytes, namely, single-atom counterion K+ (potassium) in water and molecular counterion DMBI+ (dimethyl-3-butyl imidazolium) in chloroform. For both cases, the maximum crystallinity is found up to a moderate reduction level. Beyond that, ion intercalation initiates a structural phase transition and causes a decrease in the crystalline order of the film. At the higher reduction levels, the single-atom K+ counterions are stabilized within the lamellar stacked BBL chains; in contrast, the DMBI+ counterions with higher molecular weights are stabilized within the BBL pi-pi stacks, forming pi-pi stacking between BBL and DMBI+. Our findings substantiate how molecular dopants can improve the thermomechanical stability of the material and why smaller single-atom counterions are preferred for maintaining better crystallinity. The detailed microscopic insights into the morphological changes during the electrochemical switching of BBL film, which cannot be directly accessed experimentally, can definitely help design n-type OMIEC-based devices made of BBL. \n",
      "\n",
      "BBL | Citações: 5 \n",
      " Organic electrochemical transistors (OECTs) have attracted increasing attention due to their merits of high transconductance, low operating voltage, and good biocompatibility, ideal for biosensors. However, further advances in their practical applications face challenges of low n-type performance and poor stability. Here, it is demonstrated that wet-spinning the commercially available n-type conjugated polymer poly(benzimidazobenzophenanthroline) (BBL) into highly aligned and crystalline fibers enhances both OECT performance and stability. Although BBL is only soluble in high-boiling-point strong acids, it can be wet-spun into high-quality fibers with adjustable diameters. The BBL fiber OECTs exhibit a record-high area-normalized transconductance (gm,A) of 2.40 mu S mu m-2 and over 10 times higher figure-of-merit (mu C*) than its thin-film counterparts. More importantly, these fiber OECTs exhibit remarkable stability with no noticeable performance attenuation after 1500 cycles over 4 h operation, outperforming all previously reported n-type OECTs. The superior performance and stability can be attributed to shorter pi-pi stacking distance and ordered molecular arrangement in the fibers, endowing the BBL fiber OECT-based biosensors with outstanding sensitivity while keeping a miniaturized form factor. This work demonstrates that, beyond new material development, developing new fabrication technology is also crucial for addressing the performance and stability issues in n-type OECTs. A meticulously designed wet-spinning method successfully produces n-type semiconducting fibers with reduced pi-pi stacking distance and ordered molecular arrangement. Organic electrochemical transistors based on these fibers exhibit superior performance and unprecedented stability, advancing the development of highly sensitive biosensors and fiber-based complementary logic circuits, and paving the way for fiber-based bioelectronics. image \n",
      "\n",
      "BBL | Citações: 0 \n",
      " Recently, organic electrochemical transistor (OECT) has been extensively studied as an emerging flexible electronic due to its high transconductance, biocompatibility, and capability of ion-to-electron transformation. To further promote the application of OECTs in bioelectronics, n-type and p- type conducting polymers with comparable performance are required. However, recent studies typically focus on the p-type OECTs, while the development of n-type OECT suffers from the instability and low electrical performance of the electron-transporting polymers. Here, a strategy to improve the n-type OECT transconductance that the construction of the carbon nanotube network in the channel to enhance the carrier transport efficiency was reported. The transconductance of poly(benzimidazoben zophenanthroline) (BBL)/single-walled carbon nanotubes hybrid film OECT was improved by similar to 15 times of the pristine BBL OECTs, and the operational stability in the aqueous environment was also enhanced. Furthermore, the carbon nanotube network mitigates the transconductance degradation of the flexible devices induced by crack damage, and the mechanism of the performance enhancement was clarified. \n",
      "\n",
      "BBL | Citações: 11 \n",
      " Since the 1960s, poly(benzobisimidazobenzophenathrolinedione) (BBL) has been the only n-type ladder-type conjugated polymer (LCP) that is utilized in thin film electronic devices. Its high electrochemical and thermal stabilities make it a promising candidate for organic electrochemical transistors (OECTs) and thermoelectrics (OTEs) applications. Here we report the synthesis and characterization of a new pi-extended poly(benzimidazoanthradiisoquinolinedione) (BAL). The tetrachlorinated BAL (Cl4-BAL) is fully soluble in methanesulfonic acid (MSA) and can be spin-coated into good quality thin films, enabling the fabrication and characterization of OTEs. Doping of Cl4-BAL films using our in-house benzyl viologen radical cation (BV center dot+) n-dopant shows better electrical air-stability as compared to BBL due to its very low LUMO value (-4.83 eV), making it a promising material toward air-stable n-doped conducting polymers. \n",
      "\n"
     ]
    }
   ],
   "source": [
    "busca = 'BBL'\n",
    "\n",
    "resultado = polímeros_estruturados.loc[polímeros_estruturados['Nome'] == busca]\n",
    "for ID in list(resultado['Identificação_Encontrados'])[0]:\n",
    "    print(busca,\"| Citações:\", raw_data.loc[ID[1]]['Times Cited, All Databases'] , '\\n', raw_data.loc[ID[1]]['Abstract'], '\\n')"
   ]
  },
  {
   "cell_type": "markdown",
   "metadata": {},
   "source": [
    "### Frequência de publicação para TOP5 polímeros"
   ]
  },
  {
   "cell_type": "code",
   "execution_count": 52,
   "metadata": {},
   "outputs": [],
   "source": [
    "dfs = []\n",
    "\n",
    "for polymer in polímeros_estruturados[:5]['Nome']:\n",
    "    resultado = polímeros_estruturados.loc[polímeros_estruturados['Nome'] == polymer]\n",
    "    lista_ids = [ID[1] for ID in list(resultado['Identificação_Encontrados'])[0]]\n",
    "    publication_counts = raw_data.iloc[lista_ids]['Publication Year'].value_counts()\n",
    "    publication_counts = publication_counts.sort_index().reset_index()\n",
    "    publication_counts.columns = ['Year', 'Count']\n",
    "    publication_counts['Polymer'] = polymer\n",
    "    dfs.append(publication_counts)"
   ]
  },
  {
   "cell_type": "code",
   "execution_count": 53,
   "metadata": {},
   "outputs": [
    {
     "data": {
      "image/png": "[encoded data removed]",
      "text/plain": [
       "<Figure size 1200x600 with 1 Axes>"
      ]
     },
     "metadata": {},
     "output_type": "display_data"
    }
   ],
   "source": [
    "import seaborn as sns\n",
    "import matplotlib.pyplot as plt\n",
    "import pandas as pd\n",
    "\n",
    "dfs = []\n",
    "\n",
    "for polymer in polímeros_estruturados[:5]['Nome']:\n",
    "    resultado = polímeros_estruturados.loc[polímeros_estruturados['Nome'] == polymer]\n",
    "    lista_ids = [ID[1] for ID in list(resultado['Identificação_Encontrados'])[0]]\n",
    "    publication_counts = raw_data.iloc[lista_ids]['Publication Year'].value_counts()\n",
    "    publication_counts = publication_counts.sort_index().reset_index()\n",
    "    publication_counts.columns = ['Year', 'Count']\n",
    "    publication_counts['Polymer'] = polymer\n",
    "    dfs.append(publication_counts)\n",
    "    \n",
    "combined_df = pd.concat(dfs)\n",
    "\n",
    "# Definir o intervalo de anos que você deseja garantir\n",
    "anos_desejados = range(combined_df['Year'].min(), combined_df['Year'].max() + 1)\n",
    "\n",
    "# Criar um DataFrame de referência com todos os anos para cada polímero\n",
    "reference_df = pd.DataFrame([(polymer, year) for polymer in combined_df['Polymer'].unique() for year in anos_desejados], columns=['Polymer', 'Year'])\n",
    "\n",
    "# Mesclar com o DataFrame combinado para garantir que todos os anos estejam presentes\n",
    "combined_df = pd.merge(reference_df, combined_df, on=['Polymer', 'Year'], how='left').fillna(0)\n",
    "\n",
    "# Plotar os dados\n",
    "plt.figure(figsize=(12, 6))\n",
    "sns.lineplot(data=combined_df, x='Year', y='Count', hue='Polymer', marker='o')\n",
    "plt.title('Frequência de Publicação por Ano para os 5 Polímeros Mais Frequentes')\n",
    "plt.xlabel('Ano')\n",
    "plt.ylabel('Número de Publicações')\n",
    "plt.legend(title='Polímero')\n",
    "plt.grid(True)\n",
    "\n",
    "#plt.xlim(left=2010)\n",
    "\n",
    "plt.savefig('gráficos/llama3-70B-OMIEC190824_freq_publicação_polimero.png')\n",
    "\n",
    "plt.show()\n"
   ]
  },
  {
   "cell_type": "markdown",
   "metadata": {},
   "source": [
    "### Demais análises"
   ]
  },
  {
   "cell_type": "code",
   "execution_count": 178,
   "metadata": {},
   "outputs": [
    {
     "name": "stdout",
     "output_type": "stream",
     "text": [
      "2621\n"
     ]
    }
   ],
   "source": [
    "aplicações = []\n",
    "for i in polymer_dicts:\n",
    "    app = i[list(i.keys())[0]]['Polymer Application'].split(',')\n",
    "    aplicações.extend(app)\n",
    "    '''for f in app:\n",
    "        if 'intermediate temperature solid oxide fuel cells' in f.lower():\n",
    "            print(i, '\\n')\n",
    "            print(raw_data.loc[list(i.keys())[0]]['Abstract'], '\\n')'''\n",
    "print(len(aplicações))"
   ]
  },
  {
   "cell_type": "code",
   "execution_count": 179,
   "metadata": {},
   "outputs": [],
   "source": [
    "aplicações = pd.Series([a.lower().strip() for a in aplicações ])"
   ]
  },
  {
   "cell_type": "code",
   "execution_count": 180,
   "metadata": {},
   "outputs": [
    {
     "data": {
      "text/plain": [
       "1175"
      ]
     },
     "execution_count": 180,
     "metadata": {},
     "output_type": "execute_result"
    }
   ],
   "source": [
    "len(np.unique(aplicações))"
   ]
  },
  {
   "cell_type": "code",
   "execution_count": 181,
   "metadata": {},
   "outputs": [],
   "source": [
    "replacements = {\n",
    "    r\"\\borganic(?:\\s+electrochemical(?:\\s+transistors?)?)?\\b|\\belectrochemical\\s+transistors?\\b\": 'oect',\n",
    "    r\"\\b(oect|oects)\\b(?:\\s*.*)?[\\)\\']?\" : 'oect'\n",
    "}\n",
    "\n",
    "for pattern, replacement in replacements.items():\n",
    "    aplicações = aplicações.str.replace(pattern, replacement, regex=True, case=False)"
   ]
  },
  {
   "cell_type": "code",
   "execution_count": 182,
   "metadata": {},
   "outputs": [
    {
     "data": {
      "text/plain": [
       "1126"
      ]
     },
     "execution_count": 182,
     "metadata": {},
     "output_type": "execute_result"
    }
   ],
   "source": [
    "len(np.unique(aplicações))"
   ]
  },
  {
   "cell_type": "code",
   "execution_count": 183,
   "metadata": {},
   "outputs": [
    {
     "data": {
      "text/plain": [
       "oect                                               472\n",
       "bioelectronics                                      94\n",
       "biosensors                                          55\n",
       "biosensing                                          37\n",
       "neuromorphic computing                              31\n",
       "bioelectronic                                       24\n",
       "biosensor                                           24\n",
       "transistor                                          24\n",
       "energy storage                                      22\n",
       "bioelectronic devices                               20\n",
       "cathode                                             19\n",
       "sensors                                             17\n",
       "neuromorphic devices                                16\n",
       "wearable electronics                                15\n",
       "sensing                                             14\n",
       "wearable                                            14\n",
       "                                                    12\n",
       "cathode materials                                   12\n",
       "thermoelectrics                                     12\n",
       "intermediate temperature solid oxide fuel cells     11\n",
       "Name: count, dtype: int64"
      ]
     },
     "execution_count": 183,
     "metadata": {},
     "output_type": "execute_result"
    }
   ],
   "source": [
    "aplicações.value_counts().head(20)"
   ]
  },
  {
   "cell_type": "markdown",
   "metadata": {},
   "source": [
    "Verificando que foi extraído sobre dopagem"
   ]
  },
  {
   "cell_type": "code",
   "execution_count": 185,
   "metadata": {},
   "outputs": [
    {
     "name": "stdout",
     "output_type": "stream",
     "text": [
      "1057\n"
     ]
    }
   ],
   "source": [
    "dopado = []\n",
    "for i in polymer_dicts:\n",
    "    dop = i[list(i.keys())[0]]['Doped?'].split(',')\n",
    "    dopado.extend(dop)\n",
    "    '''for f in app:\n",
    "        if 'intermediate temperature solid oxide fuel cells' in f.lower():\n",
    "            print(i, '\\n')\n",
    "            print(raw_data.loc[list(i.keys())[0]]['Abstract'], '\\n')'''\n",
    "print(len(dopado))"
   ]
  },
  {
   "cell_type": "code",
   "execution_count": 197,
   "metadata": {},
   "outputs": [],
   "source": [
    "dopado = pd.Series([d.lower().strip().replace('-', ' ').replace('_', ' ').replace('type', 'doped') for d in dopado ])"
   ]
  },
  {
   "cell_type": "code",
   "execution_count": 202,
   "metadata": {},
   "outputs": [],
   "source": [
    "items_to_remove = [ r'^$', \n",
    "                   r'(?i)\\bnone\\b'\n",
    "                   ]\n",
    "\n",
    "    \n",
    "for item in items_to_remove:\n",
    "    dopado = dopado[~dopado.str.contains(item, regex=True)]"
   ]
  },
  {
   "cell_type": "code",
   "execution_count": 204,
   "metadata": {},
   "outputs": [
    {
     "data": {
      "text/plain": [
       "21"
      ]
     },
     "execution_count": 204,
     "metadata": {},
     "output_type": "execute_result"
    }
   ],
   "source": [
    "len(np.unique(dopado))"
   ]
  },
  {
   "cell_type": "code",
   "execution_count": 203,
   "metadata": {},
   "outputs": [
    {
     "data": {
      "text/plain": [
       "not doped                  801\n",
       "p doped                    142\n",
       "n doped                     68\n",
       "doped                       16\n",
       "self doped                   5\n",
       "acceptor doped               4\n",
       "electrochemically doped      2\n",
       "a site doped                 2\n",
       "de doped                     2\n",
       "acid (hcl) doped             1\n",
       "ionic liquid doped           1\n",
       "lithium ion doped            1\n",
       "pss doped                    1\n",
       "co doped                     1\n",
       "donor doped                  1\n",
       "sr doped                     1\n",
       "dopant                       1\n",
       "ambipolar                    1\n",
       "y doped                      1\n",
       "electrochemical doping       1\n",
       "Name: count, dtype: int64"
      ]
     },
     "execution_count": 203,
     "metadata": {},
     "output_type": "execute_result"
    }
   ],
   "source": [
    "dopado.value_counts().head(20)"
   ]
  },
  {
   "cell_type": "markdown",
   "metadata": {},
   "source": [
    "### Playground"
   ]
  },
  {
   "cell_type": "code",
   "execution_count": 55,
   "metadata": {},
   "outputs": [
    {
     "data": {
      "application/vnd.plotly.v1+json": {
       "config": {
        "plotlyServerURL": "https://plot.ly"
       },
       "data": [
        {
         "alignmentgroup": "True",
         "hovertemplate": "Publication Year=%{x}<br>Number of Publications=%{y}<br>color=%{marker.color}<extra></extra>",
         "legendgroup": "",
         "marker": {
          "color": [
           1986,
           1990,
           1991,
           1992,
           1993,
           1994,
           1995,
           1996,
           1997,
           1998,
           1999,
           2000,
           2001,
           2002,
           2003,
           2004,
           2005,
           2006,
           2007,
           2008,
           2009,
           2010,
           2011,
           2012,
           2013,
           2014,
           2015,
           2016,
           2017,
           2018,
           2019,
           2020,
           2021,
           2022,
           2023,
           2024
          ],
          "coloraxis": "coloraxis",
          "pattern": {
           "shape": ""
          }
         },
         "name": "",
         "offsetgroup": "",
         "orientation": "v",
         "showlegend": false,
         "textposition": "auto",
         "type": "bar",
         "x": [
          1986,
          1990,
          1991,
          1992,
          1993,
          1994,
          1995,
          1996,
          1997,
          1998,
          1999,
          2000,
          2001,
          2002,
          2003,
          2004,
          2005,
          2006,
          2007,
          2008,
          2009,
          2010,
          2011,
          2012,
          2013,
          2014,
          2015,
          2016,
          2017,
          2018,
          2019,
          2020,
          2021,
          2022,
          2023,
          2024
         ],
         "xaxis": "x",
         "y": [
          1,
          3,
          1,
          8,
          2,
          4,
          7,
          13,
          12,
          9,
          13,
          7,
          14,
          9,
          14,
          11,
          8,
          10,
          8,
          10,
          17,
          18,
          28,
          28,
          33,
          43,
          56,
          54,
          65,
          75,
          105,
          119,
          146,
          203,
          234,
          215
         ],
         "yaxis": "y"
        }
       ],
       "layout": {
        "barmode": "relative",
        "coloraxis": {
         "colorbar": {
          "title": {
           "text": "color"
          }
         },
         "colorscale": [
          [
           0,
           "#440154"
          ],
          [
           0.1111111111111111,
           "#482878"
          ],
          [
           0.2222222222222222,
           "#3e4989"
          ],
          [
           0.3333333333333333,
           "#31688e"
          ],
          [
           0.4444444444444444,
           "#26828e"
          ],
          [
           0.5555555555555556,
           "#1f9e89"
          ],
          [
           0.6666666666666666,
           "#35b779"
          ],
          [
           0.7777777777777778,
           "#6ece58"
          ],
          [
           0.8888888888888888,
           "#b5de2b"
          ],
          [
           1,
           "#fde725"
          ]
         ],
         "showscale": false
        },
        "legend": {
         "tracegroupgap": 0
        },
        "template": {
         "data": {
          "bar": [
           {
            "error_x": {
             "color": "#2a3f5f"
            },
            "error_y": {
             "color": "#2a3f5f"
            },
            "marker": {
             "line": {
              "color": "#E5ECF6",
              "width": 0.5
             },
             "pattern": {
              "fillmode": "overlay",
              "size": 10,
              "solidity": 0.2
             }
            },
            "type": "bar"
           }
          ],
          "barpolar": [
           {
            "marker": {
             "line": {
              "color": "#E5ECF6",
              "width": 0.5
             },
             "pattern": {
              "fillmode": "overlay",
              "size": 10,
              "solidity": 0.2
             }
            },
            "type": "barpolar"
           }
          ],
          "carpet": [
           {
            "aaxis": {
             "endlinecolor": "#2a3f5f",
             "gridcolor": "white",
             "linecolor": "white",
             "minorgridcolor": "white",
             "startlinecolor": "#2a3f5f"
            },
            "baxis": {
             "endlinecolor": "#2a3f5f",
             "gridcolor": "white",
             "linecolor": "white",
             "minorgridcolor": "white",
             "startlinecolor": "#2a3f5f"
            },
            "type": "carpet"
           }
          ],
          "choropleth": [
           {
            "colorbar": {
             "outlinewidth": 0,
             "ticks": ""
            },
            "type": "choropleth"
           }
          ],
          "contour": [
           {
            "colorbar": {
             "outlinewidth": 0,
             "ticks": ""
            },
            "colorscale": [
             [
              0,
              "#0d0887"
             ],
             [
              0.1111111111111111,
              "#46039f"
             ],
             [
              0.2222222222222222,
              "#7201a8"
             ],
             [
              0.3333333333333333,
              "#9c179e"
             ],
             [
              0.4444444444444444,
              "#bd3786"
             ],
             [
              0.5555555555555556,
              "#d8576b"
             ],
             [
              0.6666666666666666,
              "#ed7953"
             ],
             [
              0.7777777777777778,
              "#fb9f3a"
             ],
             [
              0.8888888888888888,
              "#fdca26"
             ],
             [
              1,
              "#f0f921"
             ]
            ],
            "type": "contour"
           }
          ],
          "contourcarpet": [
           {
            "colorbar": {
             "outlinewidth": 0,
             "ticks": ""
            },
            "type": "contourcarpet"
           }
          ],
          "heatmap": [
           {
            "colorbar": {
             "outlinewidth": 0,
             "ticks": ""
            },
            "colorscale": [
             [
              0,
              "#0d0887"
             ],
             [
              0.1111111111111111,
              "#46039f"
             ],
             [
              0.2222222222222222,
              "#7201a8"
             ],
             [
              0.3333333333333333,
              "#9c179e"
             ],
             [
              0.4444444444444444,
              "#bd3786"
             ],
             [
              0.5555555555555556,
              "#d8576b"
             ],
             [
              0.6666666666666666,
              "#ed7953"
             ],
             [
              0.7777777777777778,
              "#fb9f3a"
             ],
             [
              0.8888888888888888,
              "#fdca26"
             ],
             [
              1,
              "#f0f921"
             ]
            ],
            "type": "heatmap"
           }
          ],
          "heatmapgl": [
           {
            "colorbar": {
             "outlinewidth": 0,
             "ticks": ""
            },
            "colorscale": [
             [
              0,
              "#0d0887"
             ],
             [
              0.1111111111111111,
              "#46039f"
             ],
             [
              0.2222222222222222,
              "#7201a8"
             ],
             [
              0.3333333333333333,
              "#9c179e"
             ],
             [
              0.4444444444444444,
              "#bd3786"
             ],
             [
              0.5555555555555556,
              "#d8576b"
             ],
             [
              0.6666666666666666,
              "#ed7953"
             ],
             [
              0.7777777777777778,
              "#fb9f3a"
             ],
             [
              0.8888888888888888,
              "#fdca26"
             ],
             [
              1,
              "#f0f921"
             ]
            ],
            "type": "heatmapgl"
           }
          ],
          "histogram": [
           {
            "marker": {
             "pattern": {
              "fillmode": "overlay",
              "size": 10,
              "solidity": 0.2
             }
            },
            "type": "histogram"
           }
          ],
          "histogram2d": [
           {
            "colorbar": {
             "outlinewidth": 0,
             "ticks": ""
            },
            "colorscale": [
             [
              0,
              "#0d0887"
             ],
             [
              0.1111111111111111,
              "#46039f"
             ],
             [
              0.2222222222222222,
              "#7201a8"
             ],
             [
              0.3333333333333333,
              "#9c179e"
             ],
             [
              0.4444444444444444,
              "#bd3786"
             ],
             [
              0.5555555555555556,
              "#d8576b"
             ],
             [
              0.6666666666666666,
              "#ed7953"
             ],
             [
              0.7777777777777778,
              "#fb9f3a"
             ],
             [
              0.8888888888888888,
              "#fdca26"
             ],
             [
              1,
              "#f0f921"
             ]
            ],
            "type": "histogram2d"
           }
          ],
          "histogram2dcontour": [
           {
            "colorbar": {
             "outlinewidth": 0,
             "ticks": ""
            },
            "colorscale": [
             [
              0,
              "#0d0887"
             ],
             [
              0.1111111111111111,
              "#46039f"
             ],
             [
              0.2222222222222222,
              "#7201a8"
             ],
             [
              0.3333333333333333,
              "#9c179e"
             ],
             [
              0.4444444444444444,
              "#bd3786"
             ],
             [
              0.5555555555555556,
              "#d8576b"
             ],
             [
              0.6666666666666666,
              "#ed7953"
             ],
             [
              0.7777777777777778,
              "#fb9f3a"
             ],
             [
              0.8888888888888888,
              "#fdca26"
             ],
             [
              1,
              "#f0f921"
             ]
            ],
            "type": "histogram2dcontour"
           }
          ],
          "mesh3d": [
           {
            "colorbar": {
             "outlinewidth": 0,
             "ticks": ""
            },
            "type": "mesh3d"
           }
          ],
          "parcoords": [
           {
            "line": {
             "colorbar": {
              "outlinewidth": 0,
              "ticks": ""
             }
            },
            "type": "parcoords"
           }
          ],
          "pie": [
           {
            "automargin": true,
            "type": "pie"
           }
          ],
          "scatter": [
           {
            "fillpattern": {
             "fillmode": "overlay",
             "size": 10,
             "solidity": 0.2
            },
            "type": "scatter"
           }
          ],
          "scatter3d": [
           {
            "line": {
             "colorbar": {
              "outlinewidth": 0,
              "ticks": ""
             }
            },
            "marker": {
             "colorbar": {
              "outlinewidth": 0,
              "ticks": ""
             }
            },
            "type": "scatter3d"
           }
          ],
          "scattercarpet": [
           {
            "marker": {
             "colorbar": {
              "outlinewidth": 0,
              "ticks": ""
             }
            },
            "type": "scattercarpet"
           }
          ],
          "scattergeo": [
           {
            "marker": {
             "colorbar": {
              "outlinewidth": 0,
              "ticks": ""
             }
            },
            "type": "scattergeo"
           }
          ],
          "scattergl": [
           {
            "marker": {
             "colorbar": {
              "outlinewidth": 0,
              "ticks": ""
             }
            },
            "type": "scattergl"
           }
          ],
          "scattermapbox": [
           {
            "marker": {
             "colorbar": {
              "outlinewidth": 0,
              "ticks": ""
             }
            },
            "type": "scattermapbox"
           }
          ],
          "scatterpolar": [
           {
            "marker": {
             "colorbar": {
              "outlinewidth": 0,
              "ticks": ""
             }
            },
            "type": "scatterpolar"
           }
          ],
          "scatterpolargl": [
           {
            "marker": {
             "colorbar": {
              "outlinewidth": 0,
              "ticks": ""
             }
            },
            "type": "scatterpolargl"
           }
          ],
          "scatterternary": [
           {
            "marker": {
             "colorbar": {
              "outlinewidth": 0,
              "ticks": ""
             }
            },
            "type": "scatterternary"
           }
          ],
          "surface": [
           {
            "colorbar": {
             "outlinewidth": 0,
             "ticks": ""
            },
            "colorscale": [
             [
              0,
              "#0d0887"
             ],
             [
              0.1111111111111111,
              "#46039f"
             ],
             [
              0.2222222222222222,
              "#7201a8"
             ],
             [
              0.3333333333333333,
              "#9c179e"
             ],
             [
              0.4444444444444444,
              "#bd3786"
             ],
             [
              0.5555555555555556,
              "#d8576b"
             ],
             [
              0.6666666666666666,
              "#ed7953"
             ],
             [
              0.7777777777777778,
              "#fb9f3a"
             ],
             [
              0.8888888888888888,
              "#fdca26"
             ],
             [
              1,
              "#f0f921"
             ]
            ],
            "type": "surface"
           }
          ],
          "table": [
           {
            "cells": {
             "fill": {
              "color": "#EBF0F8"
             },
             "line": {
              "color": "white"
             }
            },
            "header": {
             "fill": {
              "color": "#C8D4E3"
             },
             "line": {
              "color": "white"
             }
            },
            "type": "table"
           }
          ]
         },
         "layout": {
          "annotationdefaults": {
           "arrowcolor": "#2a3f5f",
           "arrowhead": 0,
           "arrowwidth": 1
          },
          "autotypenumbers": "strict",
          "coloraxis": {
           "colorbar": {
            "outlinewidth": 0,
            "ticks": ""
           }
          },
          "colorscale": {
           "diverging": [
            [
             0,
             "#8e0152"
            ],
            [
             0.1,
             "#c51b7d"
            ],
            [
             0.2,
             "#de77ae"
            ],
            [
             0.3,
             "#f1b6da"
            ],
            [
             0.4,
             "#fde0ef"
            ],
            [
             0.5,
             "#f7f7f7"
            ],
            [
             0.6,
             "#e6f5d0"
            ],
            [
             0.7,
             "#b8e186"
            ],
            [
             0.8,
             "#7fbc41"
            ],
            [
             0.9,
             "#4d9221"
            ],
            [
             1,
             "#276419"
            ]
           ],
           "sequential": [
            [
             0,
             "#0d0887"
            ],
            [
             0.1111111111111111,
             "#46039f"
            ],
            [
             0.2222222222222222,
             "#7201a8"
            ],
            [
             0.3333333333333333,
             "#9c179e"
            ],
            [
             0.4444444444444444,
             "#bd3786"
            ],
            [
             0.5555555555555556,
             "#d8576b"
            ],
            [
             0.6666666666666666,
             "#ed7953"
            ],
            [
             0.7777777777777778,
             "#fb9f3a"
            ],
            [
             0.8888888888888888,
             "#fdca26"
            ],
            [
             1,
             "#f0f921"
            ]
           ],
           "sequentialminus": [
            [
             0,
             "#0d0887"
            ],
            [
             0.1111111111111111,
             "#46039f"
            ],
            [
             0.2222222222222222,
             "#7201a8"
            ],
            [
             0.3333333333333333,
             "#9c179e"
            ],
            [
             0.4444444444444444,
             "#bd3786"
            ],
            [
             0.5555555555555556,
             "#d8576b"
            ],
            [
             0.6666666666666666,
             "#ed7953"
            ],
            [
             0.7777777777777778,
             "#fb9f3a"
            ],
            [
             0.8888888888888888,
             "#fdca26"
            ],
            [
             1,
             "#f0f921"
            ]
           ]
          },
          "colorway": [
           "#636efa",
           "#EF553B",
           "#00cc96",
           "#ab63fa",
           "#FFA15A",
           "#19d3f3",
           "#FF6692",
           "#B6E880",
           "#FF97FF",
           "#FECB52"
          ],
          "font": {
           "color": "#2a3f5f"
          },
          "geo": {
           "bgcolor": "white",
           "lakecolor": "white",
           "landcolor": "#E5ECF6",
           "showlakes": true,
           "showland": true,
           "subunitcolor": "white"
          },
          "hoverlabel": {
           "align": "left"
          },
          "hovermode": "closest",
          "mapbox": {
           "style": "light"
          },
          "paper_bgcolor": "white",
          "plot_bgcolor": "#E5ECF6",
          "polar": {
           "angularaxis": {
            "gridcolor": "white",
            "linecolor": "white",
            "ticks": ""
           },
           "bgcolor": "#E5ECF6",
           "radialaxis": {
            "gridcolor": "white",
            "linecolor": "white",
            "ticks": ""
           }
          },
          "scene": {
           "xaxis": {
            "backgroundcolor": "#E5ECF6",
            "gridcolor": "white",
            "gridwidth": 2,
            "linecolor": "white",
            "showbackground": true,
            "ticks": "",
            "zerolinecolor": "white"
           },
           "yaxis": {
            "backgroundcolor": "#E5ECF6",
            "gridcolor": "white",
            "gridwidth": 2,
            "linecolor": "white",
            "showbackground": true,
            "ticks": "",
            "zerolinecolor": "white"
           },
           "zaxis": {
            "backgroundcolor": "#E5ECF6",
            "gridcolor": "white",
            "gridwidth": 2,
            "linecolor": "white",
            "showbackground": true,
            "ticks": "",
            "zerolinecolor": "white"
           }
          },
          "shapedefaults": {
           "line": {
            "color": "#2a3f5f"
           }
          },
          "ternary": {
           "aaxis": {
            "gridcolor": "white",
            "linecolor": "white",
            "ticks": ""
           },
           "baxis": {
            "gridcolor": "white",
            "linecolor": "white",
            "ticks": ""
           },
           "bgcolor": "#E5ECF6",
           "caxis": {
            "gridcolor": "white",
            "linecolor": "white",
            "ticks": ""
           }
          },
          "title": {
           "x": 0.05
          },
          "xaxis": {
           "automargin": true,
           "gridcolor": "white",
           "linecolor": "white",
           "ticks": "",
           "title": {
            "standoff": 15
           },
           "zerolinecolor": "white",
           "zerolinewidth": 2
          },
          "yaxis": {
           "automargin": true,
           "gridcolor": "white",
           "linecolor": "white",
           "ticks": "",
           "title": {
            "standoff": 15
           },
           "zerolinecolor": "white",
           "zerolinewidth": 2
          }
         }
        },
        "title": {
         "text": "Number of Publications per Year"
        },
        "xaxis": {
         "anchor": "y",
         "domain": [
          0,
          1
         ],
         "tickangle": 45,
         "title": {
          "text": "Publication Year"
         }
        },
        "yaxis": {
         "anchor": "x",
         "domain": [
          0,
          1
         ],
         "title": {
          "text": "Number of Publications"
         }
        }
       }
      }
     },
     "metadata": {},
     "output_type": "display_data"
    }
   ],
   "source": [
    "import plotly.express as px\n",
    "\n",
    "# Supondo que 'raw_data' seja o seu DataFrame e 'Publication Year' seja a coluna com os anos de publicação\n",
    "publication_counts = raw_data['Publication Year'].value_counts()\n",
    "\n",
    "# Ordenar os valores pela data para melhorar a visualização (opcional)\n",
    "publication_counts = publication_counts.sort_index()\n",
    "\n",
    "# Criar o gráfico de barras com Plotly\n",
    "fig = px.bar(\n",
    "    x=publication_counts.index, \n",
    "    y=publication_counts.values, \n",
    "    labels={'x': 'Publication Year', 'y': 'Number of Publications'},\n",
    "    title='Number of Publications per Year',\n",
    "    color=publication_counts.index,  # Adiciona cor baseado no índice (ano de publicação)\n",
    "    color_continuous_scale='viridis'  # Aplica a paleta \"viridis\"\n",
    ")\n",
    "\n",
    "# Configurar o layout\n",
    "fig.update_layout(\n",
    "    xaxis=dict(tickangle=45),  # Rotaciona os rótulos do eixo x para melhor visualização\n",
    "    yaxis_title='Number of Publications',\n",
    "    xaxis_title='Publication Year',\n",
    "    coloraxis_showscale=False  # Oculta a barra de escala de cores, se indesejado\n",
    ")\n",
    "\n",
    "# Mostrar o gráfico\n",
    "fig.show()\n"
   ]
  },
  {
   "cell_type": "code",
   "execution_count": null,
   "metadata": {},
   "outputs": [],
   "source": []
  }
 ],
 "metadata": {
  "kernelspec": {
   "display_name": "trabFinal",
   "language": "python",
   "name": "python3"
  },
  "language_info": {
   "codemirror_mode": {
    "name": "ipython",
    "version": 3
   },
   "file_extension": ".py",
   "mimetype": "text/x-python",
   "name": "python",
   "nbconvert_exporter": "python",
   "pygments_lexer": "ipython3",
   "version": "3.10.14"
  }
 },
 "nbformat": 4,
 "nbformat_minor": 2
}
