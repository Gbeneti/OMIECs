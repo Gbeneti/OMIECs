{
 "cells": [
  {
   "cell_type": "code",
   "execution_count": 70,
   "metadata": {},
   "outputs": [],
   "source": [
    "import numpy as np\n",
    "import pandas as pd\n",
    "from groq import Groq\n",
    "import os\n",
    "import time"
   ]
  },
  {
   "cell_type": "code",
   "execution_count": 71,
   "metadata": {},
   "outputs": [],
   "source": [
    "response = pd.read_excel('../../dataframes/llama3-70B-OMIEC_RESPONSES.xlsx')\n",
    "raw_data =  pd.read_excel('../../data/raw/OMIEC_07_08_24.xls')"
   ]
  },
  {
   "cell_type": "code",
   "execution_count": 491,
   "metadata": {},
   "outputs": [],
   "source": [
    "result = pd.concat([response, raw_data], axis=1)\n",
    "result.drop('index', axis=1, inplace=True)"
   ]
  },
  {
   "cell_type": "code",
   "execution_count": 492,
   "metadata": {},
   "outputs": [],
   "source": [
    "def prepare_corpus(df):\n",
    "    corpus = []\n",
    "    for index, row in df.iterrows():\n",
    "        for token in set(str(row['response']).replace('\\n', ';').split(';')):\n",
    "            corpus.append(token.strip().replace('/', \"-\").replace(\":\", \"-\"))\n",
    "            \n",
    "    return pd.Series(corpus)"
   ]
  },
  {
   "cell_type": "code",
   "execution_count": 493,
   "metadata": {},
   "outputs": [],
   "source": [
    "corpus = prepare_corpus(result)\n",
    "corpus = corpus[corpus != 'nan']\n",
    "corpus = corpus[corpus != '']\n",
    "corpus = corpus.reset_index(drop=True)"
   ]
  },
  {
   "cell_type": "code",
   "execution_count": 494,
   "metadata": {},
   "outputs": [
    {
     "data": {
      "text/plain": [
       "622"
      ]
     },
     "execution_count": 494,
     "metadata": {},
     "output_type": "execute_result"
    }
   ],
   "source": [
    "len(corpus)"
   ]
  },
  {
   "cell_type": "code",
   "execution_count": 495,
   "metadata": {},
   "outputs": [
    {
     "data": {
      "text/plain": [
       "array(['EG-GOPS-PEDOT-PSS',\n",
       "       'Glycolated Poly(3,4-ethylenedioxythiophene) (PEDOT)', 'PEDOT',\n",
       "       'PEDOT- PSS', 'PEDOT-Cl', 'PEDOT-EDOTCOOH', 'PEDOT-EDOTS',\n",
       "       'PEDOT-PBA', 'PEDOT-PSS', 'PEDOT-PolyDADMA FSI',\n",
       "       'PEDOT-PolyDADMA TFSI', 'PEDOT-PolyDADMA Tos', 'PEDOT-SBPH',\n",
       "       'PEDOT-b-PEG', 'PEDOT-tos', 'PEO-PEDOT', 'PEO-PEDOT-KOTf',\n",
       "       'Poly(3,4-ethylene-dioxythiophene) (PEDOT)',\n",
       "       'Poly(3,4-ethylenedioxythiophene) (PEDOT)',\n",
       "       'Poly(3,4-ethylenedioxythiophene)-poly(4-styrenesulfonate) (PEDOT-PSS)',\n",
       "       'Poly(3,4-ethylenedioxythiophene)-poly(styrenesulfonate) (PEDOT-PSS)',\n",
       "       'poly(3,4-ethylenedioxythiophene) (PEDOT)', 'poly(PEDOT)'],\n",
       "      dtype='<U69')"
      ]
     },
     "execution_count": 495,
     "metadata": {},
     "output_type": "execute_result"
    }
   ],
   "source": [
    "np.unique(corpus[corpus.str.contains(r'PEDOT', regex=True)].values.tolist())"
   ]
  },
  {
   "cell_type": "code",
   "execution_count": 496,
   "metadata": {},
   "outputs": [],
   "source": [
    "replacements = {\n",
    "    r'.*\\s\\(([^)]+)\\)$': r'\\1', # para polímeros que estão no formato 'nome_polímero (abreviação_polímero)', substitui pela abreviação apenas\n",
    "    r'[Pp]oly\\(3,4-ethylenedioxythiophene\\)': 'PEDOT',\n",
    "    r'\\b[Pp]EDOT[-\\s]?[Pp]oly\\(?[0-9]*[-\\s]*styrenesulfonate\\)?\\b': 'PEDOT-PSS',\n",
    "    r'\\b[Pp]EDOT\\s*[-\\s]*PSS\\)?': 'PEDOT-PSS',\n",
    "    r'\\bPEDOT-PSS\\)$': 'PEDOT-PSS',\n",
    "    r'[Pp]olypyrrole': 'PPy',\n",
    "    r'[Pp]olyethylenedioxythiophene': 'PEDOT',\n",
    "    r'[Pp]olythiophene[s]?': 'PT',  \n",
    "    r'[Pp]oly\\((thiophene)\\)': 'PT',\n",
    "    r'[Pp]oly\\(3-methylthiophene\\)': 'P3MT',\n",
    "    r'[Pp]oly\\(3-hexylthiophene\\)': 'P3HT',\n",
    "    r'[Pp]oly\\(3-hexylthiophene[-\\d,]*diyl\\)': 'P3HT'\n",
    "\n",
    "}\n",
    "\n",
    "items_to_remove = [r'(?i)\\bmixed\\b',\n",
    "                   r'(?i)\\bnone\\b',\n",
    "                   r'OMIEC.*',\n",
    "                   'based', \n",
    "                   r'[Pp]olymer',\n",
    "                   r'OECT.*',\n",
    "                   'conjug'\n",
    "                   ]\n"
   ]
  },
  {
   "cell_type": "code",
   "execution_count": 497,
   "metadata": {},
   "outputs": [],
   "source": [
    "for pattern, replacement in replacements.items():\n",
    "    corpus = corpus.str.replace(pattern, replacement, regex=True, case=False)\n",
    "    \n",
    "for item in items_to_remove:\n",
    "    corpus = corpus[~corpus.str.contains(item, regex=True)]"
   ]
  },
  {
   "cell_type": "code",
   "execution_count": 498,
   "metadata": {},
   "outputs": [
    {
     "data": {
      "text/plain": [
       "529"
      ]
     },
     "execution_count": 498,
     "metadata": {},
     "output_type": "execute_result"
    }
   ],
   "source": [
    "len(corpus)"
   ]
  },
  {
   "cell_type": "code",
   "execution_count": 499,
   "metadata": {},
   "outputs": [
    {
     "data": {
      "text/plain": [
       "357"
      ]
     },
     "execution_count": 499,
     "metadata": {},
     "output_type": "execute_result"
    }
   ],
   "source": [
    "len(corpus.unique())"
   ]
  },
  {
   "cell_type": "code",
   "execution_count": 500,
   "metadata": {},
   "outputs": [
    {
     "data": {
      "text/plain": [
       "PEDOT-PSS                                        68\n",
       "PEDOT                                            32\n",
       "P3HT                                             20\n",
       "PEO                                               8\n",
       "PT                                                7\n",
       "TTF-CA                                            6\n",
       "PPy                                               6\n",
       "PSS                                               5\n",
       "PPV                                               4\n",
       "PANI                                              4\n",
       "BBL                                               3\n",
       "P3MT                                              3\n",
       "PAN                                               3\n",
       "p(g2T-T)                                          2\n",
       "Polyaniline                                       2\n",
       "Homo-gDPP                                         2\n",
       "MEH-PPV                                           2\n",
       "IDTBT                                             2\n",
       "PEO-PVP                                           2\n",
       "PSSNa                                             2\n",
       "poly(ethylene oxide)                              2\n",
       "P3MEEET                                           2\n",
       "PPy-PSS                                           2\n",
       "PTEO                                              2\n",
       "[CpTiCpCo](infinity)                              2\n",
       "P3T                                               2\n",
       "PPS                                               2\n",
       "PANI-PSS                                          2\n",
       "PProDOT                                           2\n",
       "L2NO4                                             1\n",
       "CPE-K                                             1\n",
       "C18TCNQ                                           1\n",
       "C60                                               1\n",
       "PTTFs                                             1\n",
       "PTMA                                              1\n",
       "PBI-NH3+                                          1\n",
       "poly[Ni(CH3Osalen)]                               1\n",
       "PProDOT-Ph                                        1\n",
       "CuHCF                                             1\n",
       "CoHCF                                             1\n",
       "MAPbI(3)                                          1\n",
       "FAPbI(3)                                          1\n",
       "1-octyl-3-methylimidazolium chloride              1\n",
       "1-octyl-3-methylimizadolium bromide               1\n",
       "1-butyl-3-methylimidazolium hydrogen sulphate     1\n",
       "1-octyl-3-methylimidazolium hydrogen sulphate     1\n",
       "1-butyl-3-methylimidazolium bromide               1\n",
       "EDOT                                              1\n",
       "PTAA                                              1\n",
       "PMO                                               1\n",
       "Name: count, dtype: int64"
      ]
     },
     "execution_count": 500,
     "metadata": {},
     "output_type": "execute_result"
    }
   ],
   "source": [
    "corpus.value_counts().head(50)"
   ]
  },
  {
   "cell_type": "code",
   "execution_count": 502,
   "metadata": {},
   "outputs": [
    {
     "data": {
      "text/plain": [
       "array(['EG-GOPS-PEDOT-PSS', 'PEDOT', 'PEDOT-Cl', 'PEDOT-EDOTCOOH',\n",
       "       'PEDOT-EDOTS', 'PEDOT-PBA', 'PEDOT-PSS', 'PEDOT-PolyDADMA FSI',\n",
       "       'PEDOT-PolyDADMA TFSI', 'PEDOT-PolyDADMA Tos', 'PEDOT-SBPH',\n",
       "       'PEDOT-b-PEG', 'PEDOT-tos', 'PEO-PEDOT', 'PEO-PEDOT-KOTf',\n",
       "       'poly(PEDOT)'], dtype='<U20')"
      ]
     },
     "execution_count": 502,
     "metadata": {},
     "output_type": "execute_result"
    }
   ],
   "source": [
    "np.unique(corpus[corpus.str.contains(r'PEDOT', regex=True)].values.tolist())"
   ]
  },
  {
   "cell_type": "code",
   "execution_count": null,
   "metadata": {},
   "outputs": [],
   "source": []
  },
  {
   "cell_type": "code",
   "execution_count": null,
   "metadata": {},
   "outputs": [],
   "source": []
  }
 ],
 "metadata": {
  "kernelspec": {
   "display_name": "trabFinal",
   "language": "python",
   "name": "python3"
  },
  "language_info": {
   "codemirror_mode": {
    "name": "ipython",
    "version": 3
   },
   "file_extension": ".py",
   "mimetype": "text/x-python",
   "name": "python",
   "nbconvert_exporter": "python",
   "pygments_lexer": "ipython3",
   "version": "3.10.14"
  }
 },
 "nbformat": 4,
 "nbformat_minor": 2
}
