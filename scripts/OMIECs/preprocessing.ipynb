{
 "cells": [
  {
   "cell_type": "code",
   "execution_count": 3,
   "metadata": {},
   "outputs": [],
   "source": [
    "import numpy as np\n",
    "import pandas as pd\n",
    "from groq import Groq\n",
    "import os\n",
    "import time"
   ]
  },
  {
   "cell_type": "code",
   "execution_count": 15,
   "metadata": {},
   "outputs": [],
   "source": [
    "response = pd.read_excel('../../dataframes/llama3-70B-OMIEC160824_0.3_temp_RESPONSES.xlsx')\n",
    "raw_data =  pd.read_excel('../../data/raw/OMIEC_16_08_24.xls')"
   ]
  },
  {
   "cell_type": "code",
   "execution_count": 16,
   "metadata": {},
   "outputs": [
    {
     "data": {
      "text/markdown": [
       "The performance of next generation solid-state lithium metal batteries (LMBs) is intimately related to the ionic-electronic interconnection within the cathode material. In batteries containing liquid electrolytes, the soaking of the electrolyte and the addition of carbon provide sufficient ionic and electronic conductivity through the cathode. However, in solid-state systems, cathodes are completely dry, and thus, they lack mobile Li ions and good electronic interconnection. Organic mixed ionic-electronic conductors (OMIECs) are promising binders to provide that interconnection through a compact carbon-free cathode. However, most of the OMIECs have been developed based on solvent swelling of conducting polymers or combining with ionic liquids as composites. These options are not the most adequate ones for LMBs due to liquid-related issues such as leakage. Here, a novel approach towards all-solid-state OMIECs is presented by combining PEDOT:PSS and different organic ionic plastic crystals (OIPCs): C(2)mpyrFSI and C(2)mpyrTFSI, obtaining a synergistic effect with higher ionic and electronic conductivities than those of the neat materials (sigma(electronic) of 580 S cm(-1) and sigma(ionic) of 3.7 10(-5) S cm(-1) at 70 degrees C). These outstanding values for all-solid state OMIECs resulted from highly ordered conducting pathways as demonstrated by XRD and AFM. The optimum composition with respect to electronic and ionic conductivity (80/20 PEDOT:PSS/C(2)mpyFSI) was subsequently tested, for the first time, as a binder in a LiFePO4 cathode formulation in a carbon-free solid-state battery. The solid-state Li|LiFePO4 cell with the OMIEC binder showed an enhanced discharge capacity (157 mA h g(-1) at C/10) and improved rate capability, in comparison to a solid-state cathode formulation using an ionic conducting polymeric binder and carbon additive. A specific capacity of 145.5 mA h g(-1) at C/2 rate was achieved with an excellent capacity retention of 99.7% (145.2 mA h g(-1)) after 500 cycles."
      ],
      "text/plain": [
       "<IPython.core.display.Markdown object>"
      ]
     },
     "metadata": {},
     "output_type": "display_data"
    }
   ],
   "source": [
    "from IPython.display import display, Markdown\n",
    "\n",
    "display(Markdown(raw_data['Abstract'][98]))"
   ]
  },
  {
   "cell_type": "code",
   "execution_count": 17,
   "metadata": {},
   "outputs": [],
   "source": [
    "result = pd.concat([response, raw_data], axis=1)\n",
    "result.drop('index', axis=1, inplace=True)"
   ]
  },
  {
   "cell_type": "code",
   "execution_count": 18,
   "metadata": {},
   "outputs": [],
   "source": [
    "def prepare_corpus(df):\n",
    "    corpus = []\n",
    "    for index, row in df.iterrows():\n",
    "        for token in set(str(row['response']).replace('\\n', ';').split(';')):\n",
    "            corpus.append(token.strip().replace('/', \"-\").replace(\":\", \"-\"))\n",
    "            \n",
    "    return pd.Series(corpus)"
   ]
  },
  {
   "cell_type": "code",
   "execution_count": 19,
   "metadata": {},
   "outputs": [],
   "source": [
    "corpus = prepare_corpus(result)\n",
    "corpus = corpus[corpus != 'nan']\n",
    "corpus = corpus[corpus != '']\n",
    "corpus = corpus.reset_index(drop=True)"
   ]
  },
  {
   "cell_type": "code",
   "execution_count": 20,
   "metadata": {},
   "outputs": [
    {
     "data": {
      "text/plain": [
       "174"
      ]
     },
     "execution_count": 20,
     "metadata": {},
     "output_type": "execute_result"
    }
   ],
   "source": [
    "len(corpus)"
   ]
  },
  {
   "cell_type": "code",
   "execution_count": 21,
   "metadata": {},
   "outputs": [
    {
     "data": {
      "text/plain": [
       "array(['EG-GOPS-PEDOT-PSS', 'Mel-PEDOT-PSS', 'PEDOT', 'PEDOT- PSS',\n",
       "       'PEDOT-PBA', 'PEDOT-PSS', 'PEDOT-PolyDADMA CF3SO3',\n",
       "       'PEDOT-PolyDADMA Cl', 'PEDOT-PolyDADMA FSI',\n",
       "       'PEDOT-PolyDADMA TFSI', 'PEDOT-PolyDADMA Tos', 'PEDOT-b-PEG',\n",
       "       'PEO-PEDOT', 'crys-PEDOT-PSS'], dtype='<U22')"
      ]
     },
     "execution_count": 21,
     "metadata": {},
     "output_type": "execute_result"
    }
   ],
   "source": [
    "np.unique(corpus[corpus.str.contains(r'PEDOT', regex=True)].values.tolist())"
   ]
  },
  {
   "cell_type": "code",
   "execution_count": 22,
   "metadata": {},
   "outputs": [],
   "source": [
    "\"\"\"replacements = {\n",
    "    r'.*\\s\\(([^)]+)\\)$': r'\\1', # para polímeros que estão no formato 'nome_polímero (abreviação_polímero)', substitui pela abreviação apenas\n",
    "    r'[Pp]oly\\(3,4-ethylenedioxythiophene\\)': 'PEDOT',\n",
    "    r'\\b[Pp]EDOT[-\\s]?[Pp]oly\\(?[0-9]*[-\\s]*styrenesulfonate\\)?\\b': 'PEDOT-PSS',\n",
    "    r'\\b[Pp]EDOT\\s*[-\\s]*PSS\\)?': 'PEDOT-PSS',\n",
    "    r'\\bPEDOT-PSS\\)$': 'PEDOT-PSS',\n",
    "    r'[Pp]olypyrrole': 'PPy',\n",
    "    r'[Pp]olyethylenedioxythiophene': 'PEDOT',\n",
    "    r'[Pp]olythiophene[s]?': 'PT',  \n",
    "    r'[Pp]oly\\((thiophene)\\)': 'PT',\n",
    "    r'[Pp]oly\\(3-methylthiophene\\)': 'P3MT',\n",
    "    r'[Pp]oly\\(3-hexylthiophene\\)': 'P3HT',\n",
    "    r'[Pp]oly\\(3-hexylthiophene[-\\d,]*diyl\\)': 'P3HT'\n",
    "\n",
    "}\"\"\"\n",
    "\n",
    "items_to_remove = [r'(?i)\\bmixed\\b',\n",
    "                   r'(?i)\\bnone\\b',\n",
    "                   r'MIEC.*',\n",
    "                   'based', \n",
    "                   r'[Pp]olymer',\n",
    "                   r'OECT.*',\n",
    "                   'conjug'\n",
    "                   ]\n"
   ]
  },
  {
   "cell_type": "code",
   "execution_count": 23,
   "metadata": {},
   "outputs": [],
   "source": [
    "'''for pattern, replacement in replacements.items():\n",
    "    corpus = corpus.str.replace(pattern, replacement, regex=True, case=False)'''\n",
    "    \n",
    "for item in items_to_remove:\n",
    "    corpus = corpus[~corpus.str.contains(item, regex=True)]"
   ]
  },
  {
   "cell_type": "code",
   "execution_count": 24,
   "metadata": {},
   "outputs": [
    {
     "data": {
      "text/plain": [
       "169"
      ]
     },
     "execution_count": 24,
     "metadata": {},
     "output_type": "execute_result"
    }
   ],
   "source": [
    "len(corpus)"
   ]
  },
  {
   "cell_type": "code",
   "execution_count": 25,
   "metadata": {},
   "outputs": [
    {
     "data": {
      "text/plain": [
       "122"
      ]
     },
     "execution_count": 25,
     "metadata": {},
     "output_type": "execute_result"
    }
   ],
   "source": [
    "len(corpus.unique())"
   ]
  },
  {
   "cell_type": "code",
   "execution_count": 27,
   "metadata": {},
   "outputs": [
    {
     "data": {
      "text/plain": [
       "PEDOT-PSS                                     20\n",
       "PEDOT                                          7\n",
       "P3HT                                           6\n",
       "PEO                                            5\n",
       "P3MEEET                                        4\n",
       "PT                                             3\n",
       "BBL                                            3\n",
       "PProDOT                                        2\n",
       "f-BTI2g-TVT                                    2\n",
       "P3MEEMT                                        2\n",
       "PPP                                            2\n",
       "p(g2T-TT)                                      2\n",
       "LSCF6428                                       2\n",
       "P-5O                                           1\n",
       "2SgPDI                                         1\n",
       "gPDI                                           1\n",
       "P-6O                                           1\n",
       "P-3O                                           1\n",
       "Pg2T-S                                         1\n",
       "gNDI-Br-2                                      1\n",
       "PTTBT-P                                        1\n",
       "PANI-PSS                                       1\n",
       "P-4O                                           1\n",
       "Pg2T-T                                         1\n",
       "Pg2T-SVS                                       1\n",
       "ND                                             1\n",
       "PBBT-Me                                        1\n",
       "PBBT-H                                         1\n",
       "p(g(7)NC(4)N)                                  1\n",
       "PEO-PEDOT                                      1\n",
       "p(g(7)NC(n)N)                                  1\n",
       "MEH-PPV                                        1\n",
       "Ru(bpy)(3)(PF6)(2)                             1\n",
       "p(g(7)NC(10)N)                                 1\n",
       "oEG-substituted regioregular polythiophene     1\n",
       "p(g3T)                                         1\n",
       "PE2gTT                                         1\n",
       "PT2gT                                          1\n",
       "PE2gT                                          1\n",
       "PT2gTT                                         1\n",
       "hPDI[3]-H                                      1\n",
       "P(NDIMTEG-T)                                   1\n",
       "hPDI[3]-C-11                                   1\n",
       "TIIP                                           1\n",
       "PEDOT-b-PEG                                    1\n",
       "CPE                                            1\n",
       "P3HOTS(-)TMA(+)-co-P3MEEET                     1\n",
       "gIDT-BBT                                       1\n",
       "p(g2T-T)                                       1\n",
       "P3HOTS(-)TMA(+)                                1\n",
       "Name: count, dtype: int64"
      ]
     },
     "execution_count": 27,
     "metadata": {},
     "output_type": "execute_result"
    }
   ],
   "source": [
    "corpus.value_counts().head(50)"
   ]
  },
  {
   "cell_type": "code",
   "execution_count": 28,
   "metadata": {},
   "outputs": [
    {
     "name": "stderr",
     "output_type": "stream",
     "text": [
      "C:\\Users\\thaynara220042\\AppData\\Local\\Temp\\ipykernel_26476\\2760201650.py:10: FutureWarning: \n",
      "\n",
      "Passing `palette` without assigning `hue` is deprecated and will be removed in v0.14.0. Assign the `y` variable to `hue` and set `legend=False` for the same effect.\n",
      "\n",
      "  sns.barplot(x=top_10_counts.values, y=top_10_counts.index, palette=\"viridis\")\n"
     ]
    },
    {
     "data": {
      "image/png": "[encoded data removed]",
      "text/plain": [
       "<Figure size 1000x600 with 1 Axes>"
      ]
     },
     "metadata": {},
     "output_type": "display_data"
    }
   ],
   "source": [
    "import seaborn as sns\n",
    "import matplotlib.pyplot as plt\n",
    "\n",
    "top_10_counts = corpus.value_counts().head(10)\n",
    "\n",
    "# Ajustando o tamanho da figura\n",
    "plt.figure(figsize=(10, 6))\n",
    "\n",
    "# Plotando o histograma\n",
    "sns.barplot(x=top_10_counts.values, y=top_10_counts.index, palette=\"viridis\")\n",
    "plt.xlabel('Frequência')\n",
    "plt.ylabel('Material')\n",
    "\n",
    "# Ajustando layout para não cortar legendas\n",
    "plt.tight_layout()\n",
    "\n",
    "# Salvando a imagem\n",
    "#plt.savefig('gráficos/llama3-70B-OMIEC160824_RESPONSES_ranking.png')\n",
    "\n",
    "# Exibindo a imagem\n",
    "plt.show()\n"
   ]
  },
  {
   "cell_type": "markdown",
   "metadata": {},
   "source": [
    "Tendência de publicações sobre a temática durante os anos"
   ]
  },
  {
   "cell_type": "code",
   "execution_count": 29,
   "metadata": {},
   "outputs": [
    {
     "name": "stderr",
     "output_type": "stream",
     "text": [
      "C:\\Users\\thaynara220042\\AppData\\Local\\Temp\\ipykernel_26476\\3736620246.py:12: FutureWarning: \n",
      "\n",
      "Passing `palette` without assigning `hue` is deprecated and will be removed in v0.14.0. Assign the `x` variable to `hue` and set `legend=False` for the same effect.\n",
      "\n",
      "  sns.barplot(\n"
     ]
    },
    {
     "data": {
      "image/png": "[encoded data removed]",
      "text/plain": [
       "<Figure size 1000x600 with 1 Axes>"
      ]
     },
     "metadata": {},
     "output_type": "display_data"
    }
   ],
   "source": [
    "import seaborn as sns\n",
    "import matplotlib.pyplot as plt\n",
    "\n",
    "# Supondo que 'raw_data' seja o seu DataFrame e 'Publication Year' seja a coluna com os anos de publicação\n",
    "publication_counts = raw_data['Publication Year'].value_counts()\n",
    "\n",
    "# Ordenar os valores pela data para melhorar a visualização (opcional)\n",
    "publication_counts = publication_counts.sort_index()\n",
    "\n",
    "# Criar o gráfico de barras com Seaborn usando a paleta \"viridis\"\n",
    "plt.figure(figsize=(10, 6))\n",
    "sns.barplot(\n",
    "    x=publication_counts.index, \n",
    "    y=publication_counts.values, \n",
    "    palette=\"viridis\"  # Aplica a paleta de cores \"viridis\"\n",
    ")\n",
    "\n",
    "# Configurar o título e os rótulos dos eixos\n",
    "plt.title('Número de Publicações por Ano')\n",
    "plt.xlabel('Ano de Publicação')\n",
    "plt.ylabel('Número de Publicações')\n",
    "\n",
    "# Mostrar o gráfico\n",
    "plt.xticks(rotation=45)  # Rotaciona os rótulos do eixo x para melhor visualização\n",
    "\n",
    "# Ajustando layout para não cortar legendas\n",
    "plt.tight_layout()\n",
    "\n",
    "# Salvando a imagem\n",
    "plt.savefig('gráficos/llama3-70B-OMIEC160824_publicação_por_ano.png')\n",
    "\n",
    "plt.show()\n"
   ]
  },
  {
   "cell_type": "markdown",
   "metadata": {},
   "source": [
    "Localizando os artigos em que aparecem os polímeros"
   ]
  },
  {
   "cell_type": "code",
   "execution_count": 30,
   "metadata": {},
   "outputs": [
    {
     "name": "stderr",
     "output_type": "stream",
     "text": [
      "C:\\Users\\thaynara220042\\AppData\\Local\\Temp\\ipykernel_26476\\4170896890.py:9: FutureWarning: The behavior of DataFrame concatenation with empty or all-NA entries is deprecated. In a future version, this will no longer exclude empty or all-NA columns when determining the result dtypes. To retain the old behavior, exclude the relevant entries before the concat operation.\n",
      "  polímeros_encontrados = pd.concat([new_row_df, polímeros_encontrados], ignore_index=True)\n"
     ]
    }
   ],
   "source": [
    "polímeros_encontrados = pd.DataFrame(columns=['Nome'] + result.columns.tolist())\n",
    "\n",
    "for index, row in result.iterrows():\n",
    "    for token in set(str(row['response']).replace('\\n', ';').split(';')):\n",
    "            polimero = token.strip().replace('/', \"-\").replace(\":\", \"-\")\n",
    "            new_row = row.to_dict() \n",
    "            new_row['Nome'] = polimero\n",
    "            new_row_df = pd.DataFrame([new_row])\n",
    "            polímeros_encontrados = pd.concat([new_row_df, polímeros_encontrados], ignore_index=True)"
   ]
  },
  {
   "cell_type": "code",
   "execution_count": 31,
   "metadata": {},
   "outputs": [
    {
     "name": "stdout",
     "output_type": "stream",
     "text": [
      "P3MEEET | Citações: 93 \n",
      " Functionalizing conjugated polymers with polar ethylene glycol side chains enables enhanced swelling and facilitates ion transport in addition to electronic transport in such systems. Here, we investigate three polythiophene homopolymers (P3MEET, P3MEEMT, and P3MEEET) having differently linked (without spacer and with methyl and ethyl spacer, respectively) diethylene glycol side chains. All the polymers were tested in organic electrochemical transistors (OECTs). They show drastic differences in the device performance. The highest mu(OECT) C* product of 11.5 F/cm.V.s was obtained for ethyl-spaced P3MEEET. How the injection and transport of ions is influenced by the side-chain linkage was studied with electrochemical impedance spectroscopy, which shows a dramatic increase in volumetric capacitance from 80 +/- 9 up to 242 +/- 17 F/cm(3) on going from P3MEET to P3MEEET. Thus, ethyl-spaced P3MEEET exhibits one of the highest reported volumetric capacitance values among p-type polymers. Moreover, P3MEEET exhibits in dry thin films an organic field-effect transistor (OFET) hole mobility of 0.005 cm(2)/Vs, highest among the three, which is one order of magnitude higher than that for P3MEEMT. The extracted hole mobility from OECT (oxidized swollen state) and the hole mobility in solid-state thin films (OFET) show contradictory trends for P3MEEMT and P3MEEET. In order to understand exactly the properties in the hydrated and dry states, the crystal structure of the polymers was investigated with wide-angle X-ray scattering (WAXS) and grazing incidence WAXS, and the water uptake under applied potential was monitored using electrochemical quartz crystal microbalance with dissipation monitoring (E-QCMD). These measurements reveal an amorphous state for P3MEET and a semicrystalline state for P3MEEMT and P3MEEEET. On the other hand, E-QCMD confirms that P3MEEET swells 10 times more than P3MEEMT in the oxidized state. Thus, the importance of the ethyl spacer toward crystallinity and mixed-conduction properties was clearly demonstrated, emphasizing the impact of side chain linkage of diethylene glycol. This detailed study offers a better understanding of how to design high-performance organic mixed conductors. \n",
      "\n",
      "P3MEEET | Citações: 0 \n",
      " Organic mixed ionic-electronic conductors with tunable doping, low threshold voltages, and air stability are crucial for bioelectronic applications. A homopolymer based on an alkoxy thiophene monomer and its copolymer with a thiophene carrying ethylene glycol side chains are synthesized and converted to self-doped conjugated polyelectrolytes, P3HOTS(-)TMA(+), and P3HOTS(-)TMA(+)-co-P3MEEET. The self-doping occurs during the conversion to polyelectrolytes. Both polyelectrolytes show high electrical conductivity without any external dopants. UV-Vis-NIR spectroscopy and spectroelectrochemistry confirm excellent air stability of the doped state. In an organic electrochemical transistor (OECT), the P3HOTS(-)TMA(+) operates in depletion mode, while P3HOTS(-)TMA(+)-co-P3MEEET exhibits accumulation mode of operation with low threshold voltage, both showing fast response times. On the other hand, the non-doped homopolymer, P3MEEET, shows a high negative threshold voltage in accumulation mode. Thus, copolymerization with the self-dopable monomer changes the mode of operation as well as the threshold voltage substantially. Ultraviolet photoelectron spectroscopy reveals a considerable reduction of the hole injection barrier for the self-doped system P3HOTS(-)TMA(+). Mott-Schottky analysis shows reduction in charge carrier concentration in the copolymer compared to the homopolymer. Thus, the copolymerization strategy with a self-dopable monomer is an efficient tool for tuning the degree of doping leading to low threshold voltage in OECTs. \n",
      "\n",
      "P3MEEET | Citações: 12 \n",
      " Developing material design guidelines for organic mixed ionic-electronic conductors (OMIECs) is critical to enable high efficacy mixed transport within bioelectronics. One important feature which has yet to be thoroughly explored is the role of molecular weight on OMIEC performance. In this work, we examined a series of prototypical glycolated polythiophene materials (P3MEEET) with systematically increasing molecular weights within organic electrochemical transistors (OECTs-a common testbed for investigating mixed transport. We find that there is improved performance beyond an intermediate molecular weight; however, this relationship is electrolyte dependent. Operando analysis suggests that the enhanced mobility at higher molecular weights may be negated by significant swelling when operated in NaCl due to disruption of intercrystallite charge percolation. The role of molecular weight is revealed through operation in KTFSI, as doping occurs through cation expulsion, preventing detrimental swelling and maintaining percolative pathways. These findings demonstrate the importance of both molecular weight and electrolyte composition to enhance the performance of OMIECs. \n",
      "\n",
      "P3MEEET | Citações: 0 \n",
      " Organic mixed ionic-electronic conductors (OMIECs) have emerged as promising materials for a wide range of next-generation technologies, including bioelectronics and neuromorphic computing. The performance of these materials depends on the transport of ions through the polycrystalline polymer matrix as well as how the distribution of ions and polarons in crystalline and amorphous regions impacts electronic transport. However, it is often challenging to distinguish whether ions enter crystalline or amorphous regions. In this work, steady-state and time-resolved photoluminescence (PL) spectroelectrochemistry is used to probe initial ion insertion in crystalline and amorphous regions of the OMIEC material poly(3-[2-[2-(2-methoxyethoxy)ethoxy]ethyl]thiophene -2,5-diyl) (P3MEEET) as a function of applied voltage. It is found that PL spectroelectrochemistry reports on the initial stages of electrochemical doping through the quenching of PL emission. By distinguishing between amorphous and crystalline contributions to the PL spectrum, ion insertion in crystalline and amorphous regions as a function of voltage is tracked. It is found that PL spectroelectrochemistry is much more sensitive to the initial injection of ions than complementary methods, highlighting its potential as a sensitive tool for interrogating ion injection in OMIECs. Photoluminescence (PL) spectroscopy can distinguish between electrochemical doping in crystalline versus disordered regions of p-type organic mixed ionic-electronic conductors (OMIECs). With increasing voltage, the crystalline component of the PL spectrum quenches before the disordered component, revealing that crystalline regions dope first followed by disordered regions. Compared to other methods to probe ion injection in OMIECs, PL is much more sensitive to the initial stages of electrochemical doping. image \n",
      "\n"
     ]
    }
   ],
   "source": [
    "for index, row in polímeros_encontrados[polímeros_encontrados['Nome'] == 'P3MEEET'].iterrows():\n",
    "    print(row['Nome'],\"| Citações:\", row['Times Cited, All Databases'] , '\\n', row['Abstract'], '\\n')"
   ]
  },
  {
   "cell_type": "code",
   "execution_count": 33,
   "metadata": {},
   "outputs": [
    {
     "data": {
      "image/png": "[encoded data removed]",
      "text/plain": [
       "<Figure size 1200x600 with 1 Axes>"
      ]
     },
     "metadata": {},
     "output_type": "display_data"
    }
   ],
   "source": [
    "import seaborn as sns\n",
    "import matplotlib.pyplot as plt\n",
    "import pandas as pd\n",
    "\n",
    "dfs = []\n",
    "\n",
    "\n",
    "for polymer in corpus.value_counts().head(5).index:\n",
    "    publication_counts = polímeros_encontrados[polímeros_encontrados['Nome'] == polymer]['Publication Year'].value_counts()\n",
    "    publication_counts = publication_counts.sort_index().reset_index()\n",
    "    publication_counts.columns = ['Year', 'Count']\n",
    "    publication_counts['Polymer'] = polymer\n",
    "    dfs.append(publication_counts)\n",
    "\n",
    "\n",
    "combined_df = pd.concat(dfs)\n",
    "\n",
    "plt.figure(figsize=(12, 6))\n",
    "sns.lineplot(data=combined_df, x='Year', y='Count', hue='Polymer', marker='o')\n",
    "plt.title('Frequência de Publicação por Ano para os 5 Polímeros Mais Frequentes')\n",
    "plt.xlabel('Ano')\n",
    "plt.ylabel('Número de Publicações')\n",
    "plt.legend(title='Polímero')\n",
    "plt.grid(True)\n",
    "\n",
    "plt.xlim(left=2015)\n",
    "\n",
    "plt.savefig('gráficos/llama3-70B-OMIEC160824_freq_publicação_polimero.png')\n",
    "\n",
    "plt.show()\n"
   ]
  },
  {
   "cell_type": "markdown",
   "metadata": {},
   "source": [
    "### Playground"
   ]
  },
  {
   "cell_type": "code",
   "execution_count": 20,
   "metadata": {},
   "outputs": [
    {
     "name": "stdout",
     "output_type": "stream",
     "text": [
      "Mel; PEDOT:PSS \n",
      " Organic mixed ionic-electronic conductors (OMIECs) can efficiently couple and transport ionic and electronic charge species, making them key elements for bioelectronics, neuromorphic computing, soft robotics, and energy storage applications. Here, we have synthesized a water-soluble, bio-inspired ion conductor melanin (Mel) and blended it with benchmark conducting polymer poly(3,4-ethylenedioxythiophene) polystyrene sulfonate (PEDOT:PSS) to form a new OMIEC. We explored the potential of Mel/PEDOT:PSS OMIEC blends in two critical device applications: organic electrochemical transistors (OECTs) and supercapacitors (SuperCaps). Mel incorporation into PEDOT:PSS enhances the ionic-electronic coupling when ions from an electrolyte are injected into the material, increasing the volumetric capacitance of PEDOT:PSS films ten-fold. The addition of Mel in PEDOT:PSS also increases the transconductance of OECTs (from 7 +/- 1 to 11 +/- 3 mS), and the energy and power densities of SuperCaps, from 0.41 +/- 0.02 to 0.62 +/- 0.01 W h kg-1 and from 119 +/- 14 to 190 +/- 6 W kg-1, respectively. This work exploits the fundamental properties, device physics, and technological potential of a new and green OMIEC, ultimately aiming the development of sustainable electronics. A new and green blend based on PEDOT:PSS and synthetic melanin is demonstrated as an organic mixed ionic electronic conductor (OMIEC) with enhanced ionic-electronic coupling for organic electrochemical transistors and supercapacitors. \n",
      "\n",
      "PEDOT:PSS \n",
      " The conversion of electrochemical processes into mechanical deformation in organic mixed ionic-electronic conductors (OMIECs) enables artificial muscle-like actuators but is also critical for degradation processes affecting OMIEC-based devices. To provide a microscopic understanding of electroactuation, the modulated electrochemical atomic force microscopy (mEC-AFM) is introduced here as a novel in-operando characterization method for electroactive materials. The technique enables multidimensional spectroscopic investigations of local electroactuation and charge uptake giving access to the electroactuation transfer function. For poly(3,4-ethylenedioxythiophene) polystyrene sulfonate (PEDOT:PSS) based microelectrodes, the spectroscopic measurements are combined with multichannel mEC-AFM imaging, providing maps of local electroactuation amplitude and phase as well as surface morphology. The results demonstrate that the amplitude and timescales of electroactuation are governed by the drift motion of hydrated ions. Accordingly, slower water diffusion processes are not limiting, and the results illustrate how OMIEC microactuators can operate at sub-millisecond timescales. In this work, the modulated electrochemical atomic force microscopy (mEC-AFM) is introduced to study microscopic electroactuation processes in organic mixed ionic-electronic conductors. By combining spectroscopic measurements with multichannel mEC-AFM imaging, it is demonstrated that electroswelling is governed by the drift motion of hydrated ions, achieving sub-millisecond operation in PEDOT:PSS microactuators. image \n",
      "\n",
      "PEDOT:PSS \n",
      " Ion transport in organic mixed ionic-electronic conductors (OMIECs) is crucial due to its direct impact on device response time and operating mechanisms but is often assessed indirectly or necessitates extra assumptions. Operando x-ray fluorescence (XRF) is a powerful, direct probe for elemental characterization of bulk OMIECs and was used to directly quantify ion composition and mobility in a model OMIEC, poly(3,4-ethylenedioxythiophene)-poly(styrene sulfonate) (PEDOT:PSS), during device operation. The first cycle revealed slow electrowetting and cation-proton exchange. Subsequent cycles showed rapid response with minor cation fluctuation (similar to 5%). Comparison with optical-tracked electrochromic fronts revealed mesoscale structure-dependent proton transport. The calculated effective ion mobility demonstrated thickness-dependent behavior, emphasizing an interfacial ion transport pathway with a higher mobile ion density. The decoupling of interfacial effects on bulk ion mobility and the decoupling of cation and proton migration elucidate ion transport in conventional and emerging OMIEC-based devices and has broader implications for other ionic conductors writ large. \n",
      "\n",
      "PEDOT; \n",
      " Thin films of organic mixed ionic electronic conductors (OMIECs) constitute the functional layer in organic electrochemical transistors (OECTs), organic bioelectronic transducers and other ionic-electronic devices. The thin-film configuration constrains devices to be fabricated on impermeable substrates in the form of 2D microstructures with lateral electrodes to drive an electronic current through the thin film. In order to alleviate such constraints, novel OMIEC deposition methods are needed that produce alternatives to thin-film devices and that are compatible with permeable substrates and electronic transport in the vertical direction. Here OMIECs filled nanoporous membranes are introduced as functional layer in devices with mixed ionic electronic transport. Electropolymerization of ethylenedioxythiophene (EDOT) monomers is used to fabricate OMIEC filled nanochannels. Electronic and ionic transport through such nanochannels are investigated and modulation of electronic as well as ionic carrier density by action of a third gate electrode is demonstrated. The novel OMIEC nanochannels enable the fabrication of vertical OECTs with high transconductance and organic ionic transistors using only additive fabrication methods. A method is developed to electropolymerize PEDOT based organic mixed ionic electronic conductors into the nanochannels of tracketched membranes. Gated electronic and ionic transport through the membranes is investigated. The results demonstrate that the method gives access to high transconductance vertical OECTs fabricated without photolithography and to novel ionic transistors. image \n",
      "\n",
      "PEDOT:PSS \n",
      " Organic mixed ionic-electronic conductors, such as poly(3,4-ethylenedioxythiophene):poly(styrenesulfonate) (PEDOT:PSS), are essential materials for the fabrication of bioelectronic devices due to their unique ability to couple and transport ionic and electronic charges. The growing interest in bioelectronic devices has led to the development of organic electrochemical transistors (OECTs) that can operate in aqueous solutions and transduce ionic signals of biological origin into measurable electronic signals. A common challenge with OECTs is maintaining the stability and performance of the PEDOT:PSS films operating under aqueous conditions. Although the conventional approach of blending the PEDOT:PSS dispersions with a cross-linker such as (3-glycidyloxypropyl)trimethoxysilane (GOPS) helps to ensure strong adhesion of the films to device substrates, it also impacts the morphology and thus electrical properties of the PEDOT:PSS films, which leads to a significant reduction in the performance of OECTs. In this study, we instead functionalize only the surface of the device substrates with GOPS to introduce a silane monolayer before spin-coating the PEDOT:PSS dispersion on the substrate. In all cases, having a GOPS monolayer instead of a blend leads to increased electronic performance metrics, such as three times higher electronic conductivity, volumetric capacitance, and mobility-capacitance product [mu C*] value in OECT devices, ultimately leading to a record value of 406 +/- 39 F cm(-1) V-1 s(-1) for amorphous PEDOT:PSS. This increased performance does not come at the expense of operational stability, as both the blend and surface functionalization show similar performance when subjected to pulsed gate bias stress, long-term electrochemical cycling tests, and aging over 150 days. Overall, this study establishes a novel approach to using GOPS as a surface monolayer instead of a blended cross-linker, for achieving high-performance organic mixed ionic-electronic conductors that are stable in water for bioelectronics. \n",
      "\n",
      "PEDOT:PSS \n",
      " The structure and packing of organic mixed ionic-electronic conductors have an especially significant effect on transport properties. In operating devices, this structure is not fixed but is responsive to changes in electrochemical potential, ion intercalation, and solvent swelling. Toward this end, the steady-state and transient structure of the model organic mixed conductor, poly(3,4-ethylenedioxythiophene) polystyrene sulfonate (PEDOT:PSS), is characterized using multimodal time-resolved operando techniques. Steady-state operando X-ray scattering reveals a doping-induced lamellar expansion of 1.6 angstrom followed by 0.4 angstrom relaxation at high doping levels. Time-resolved operando X-ray scattering reveals asymmetric rates of lamellar structural change during doping and dedoping that do not directly depend on potential or charging transients. Time-resolved spectroscopy establishes a link between structural transients and the complex kinetics of electronic charge carrier subpopulations, in particular the polaron-bipolaron equilibrium. These findings provide insight into the factors limiting the response time of organic mixed-conductor-based devices, and present the first real-time observation of the structural changes during doping and dedoping of a conjugated polymer system via X-ray scattering. \n",
      "\n",
      "PEDOT/PSS \n",
      " Understanding the mass uptake, morphological changes, and charge transport in organic mixed ionic-electronic conductors (OMIECs) during device operation is crucial for applications in energy, actuators, and bioelectronics. In this work, we quantify the chemical composition and theological properties of a model OMIEC material, acid-treated poly(3,4-ethylenedioxythio-phene)/polystyrene sulfonate (PEDOT/PSS), during electrochemical cycling using electrochemical quartz crystal microbalance (EQCM) and elemental analysis techniques. We find an asymmetry in the de- and redoping mass transport kinetics and attribute this process to subsecond ion migration and slower ion reorganization. Furthermore, the kinetic constants from the EQCM measurements are compared to those from organic electrochemical transistors and from changes in structural packing by normalizing the corresponding RC time constants across experiments. This multimodal investigation allows us to deduce a sequence of mass, charge, and structure kinetics in OMIEC materials during the de-and redoping processes. The kinetics of processes in acid-treated PEDOT/PSS in response to step voltages can be clustered into three main subprocesses, namely, fast polarization, charge carrier population kinetics and macroscale transport, and slow relaxation. These findings provide a basis for future OMIEC design by determining the factors that affect response time and short-term stability of OMIEC devices. \n",
      "\n",
      "PEDOT:PSS \n",
      " Precise monitoring of changes in ion concentration in electrolytic environments is of growing interest in multiple fields, such as bioelectronics, food packaging, agricultural sensing, and control of industrial chemical processes. However, combining sensitivity, ion-selectivity, and cost reduction has been proven to be a difficult task. In this work, we use an organic mixed ionic-electronic conductor [poly(3,4-ethlyenedioxythiophene) doped with poly(styrene sulfonate), PEDOT:PSS] to realize a sensor showing good selectivity and sensitivity to alkali ions without employing ion-selective membranes. We achieve this by combining a straightforward impedance analysis and static current-voltage measurement of an organic electrochemical transistor. We show that, after a calibration stage, the composition of unknown solutions can be determined. The ease of fabrication of this system, combined with the proposed measurement method and the potential biocompatibility of the organic semiconductor, makes such a sensor suitable for applications in biological environments, such as within the body or soil. \n",
      "\n",
      "PEDOT:PSS \n",
      " Organic mixed ionic-electronic conductors (OMIECs) combine electronic semiconductor functionality with ionic conductivity, biocompatibility, and electrochemical stability in water and are currently investigated as the active material in devices for bioelectronics, neuromorphic computing, as well as energy conversion and storage. Operation speed of such devices depends on fast electronic transport in OMIECs. However, due to contact resistance problems, reliable measurements of electronic mobility are difficult to achieve in this class of materials. To address the problem, the electrolyte-gated van der Pauw (EgVDP) method is introduced for the simple and accurate determination of the electrical characteristics of OMIEC thin films, independent of contact effects. The technique is applied to the most widespread OMIEC blend, poly(3,4-ethylenedioxythiophene) doped with poly(styrenesulfonic acid) (PEDOT:PSS). By comparing with organic electrochemical transistor (OECT) measurements, it is found that gate voltage dependent contact resistance effects lead to systematic errors in OECT based transport characterization. These observations confirm that a contact-independent technique is crucial for the proper characterization of OMIECs, and the EgVDP method reveals to be a simple, elegant, but effective technique for this scope. \n",
      "\n",
      "PEO-PEDOT; PEO-PEDOT/KOTf \n",
      " Organic mixed ionic-electronic conductors (OMIECs) are organic materials capable of transporting both ionic species and electronic charges, facilitating ionic-electronic coupling and enhancing electrical conductivity. PEO-PEDOT/KOTf composite films synthesized in this study demonstrate significant electrical conductivity enhancement due to the ionic-electronic coupling. The electrical conductivity of PEO-PEDOT is 7.05 S.cm(-1), predominantly arising from the electronic transport of PEDOT polarons with a minor contribution from ionic transport in PEO. However, introducing KOTf into the PEO-PEDOT matrix at varying concentrations gradually increases electrical conductivity. At a KOTf concentration of 16 wt.%, the electrical conductivity reaches 51.06 S.cm(-1). This pronounced enhancement can be primarily due to the ionic-electronic coupling occurring at the interface between phase-separated regions within the polymer matrix. The incorporation of KOTf into PEO-PEDOT was characterized using FTIR spectroscopy. Moreover, our investigation involved X-ray diffraction and differential scanning calorimetry analysis, which unveiled a notable trend. As the KOTf concentrations increased, the degree of crystallinity in the PEO-PEDOT/KOTf composite films declined. This observation provides valuable insights into the structural changes occurring within the films as KOTf is integrated. The potential implications of this discovery span across numerous fields, opening exciting possibilities for advancing electronic and energy-related technologies. \n",
      "\n",
      "PEDOT:PSS \n",
      " Recent studies are being focused on establishing a link between structural and mixed ionic-electronic transport properties based on the characterization of organic mixed ionic-electronic conductors (OMIECs) under operation conditions in organic electrochemical transistor (OECT) devices. Here, we report the simultaneous access to microstructural, chemical, and physical information using impedance spectroscopy and micro-Raman imaging techniques to address the mixed ionic-electronic transport mechanisms in PEDOT:PSS-based OMIECs working as OECT channel materials. We focused on the out-of-plane and in-plane mixed ionic-electronic transport mechanisms and complement our experimental studies with computational simulations using molecular dynamics (MD) and density functional theory (DFT) methodologies. Our studies revealed that the out-of-plane transport is based on ionic injection and diffusion mainly associated with the formation of nanopore channels in PEDOT:PSS exhibiting sulfonic groups toward the aqueous media. Thus, we also evidenced that the dedoping is not only due to the direct interaction of positive ions with PEDOT:PSS bulk region but also indirectly by the rearrangements of sulfonic groups from PSS toward the aqueous media. The in-plane transport in the OECT channel was properly described as a mixed ionic-electronic transport, with not only ionic transport of sodium (Na+) but also hydronium (H3O+) species mainly through nanopores and PEDOT:PSS bulk regions and with electronic transport mainly through the PEDOT:PSS bulk region. Although it is shown that the electronic transport monotonically declines with increasing ionic concentration, the Na+ diluted regime (1 mM) exhibits weak selectivity compared to H3O+ species, and the Na+ concentrated regime (100 mM) induces extreme porosity in PEDOT:PSS yielding to the destruction of the device. These results introduce some particular features for PEDOT:PSS-based OECT channel materials that need to be considered not only for ionic concentration and selectivity but also other related stability issues. \n",
      "\n",
      "PE2gTT; PE2gT; PT2gTT; PT2gT; PEDOT:PSS \n",
      " Four glycolated polythiophene-based organic mixed ionic-electronic conductors (OMIECs), PE2gTT, PE2gT, PT2gTT, and PT2gT are prepared by atom-efficient direct arylation polymerization, avoiding the need for toxic organometallic precursors. PE2gT, PT2gTT, and PT2gT are operable in p-type accumulation mode organic electrochemical transistors (OECTs), with PT2gT displaying the best device performance with a mu C* product figure-of-merit of 290 F cm-1 V-1 s-1. A record volumetric capacitance among p-type glycolated polythiophene OMIECs of 313 F cm-3 is observed for PE2gT, ascribed to the high proportionality of polar components in its materials design. The good OECT performance of PE2gT with mu C* = 84.2 F cm-1 V-1 s-1, comparable with state-of-the-art poly(3,4-ethylenedioxythiophene):poly(styrenesulfonate) (PEDOT:PSS) devices, coupled with its synthetic accessibility and favorable accumulation mode operation makes PE2gT an ideal glycolated alternative to PEDOT:PSS in bioelectronics. PE2gT with the least negative threshold voltage also displays the best OECT operational cycling stability, linked to better resistance of its oxidized state against parasitic redox side reactions . Shelf life stability of OECTs stored (without bias) is observed to be better for materials with a more negative threshold voltage and higher average molecular weight (PT2gT), that are less susceptible to ambient auto-oxidation and film delamination. Four glycolated polythiophene polymers, PE2gTT, PE2gT, PT2gTT, and PT2gT are synthesized by atom-efficient direct arylation polymerization for application as active materials in organic electrochemical transistors. PT2gT exhibits the best device performance with a mu C* product figure-of-merit of 290 F cm-1 V-1 s-1, whilst volumetric capacitances of PE2gT, PT2gTT, and PT2gT are all among the highest reported for glycolated polythiophenes.image \n",
      "\n",
      "PEDOT-b-PEG; PVDF \n",
      " Organic electrodes are promising candidates for next generation lithium-ion batteries due to their low cost and sustainable nature; however, they often suffer from very low conductivity and active material loadings. The conventional binder used in organic-based Li-ion batteries is poly(vinylidene fluoride) (PVDF), yet it is electrochemically inactive and thus occupies volume and mass without storing energy. Here, we report an organic mixed ionic-electronic conducting polymer, poly[norbornene-1,2bis(C(O)OPEDOT)](25)-b-[norbornene-1,2-bis-(C(O)PEG(12))](25) denoted PEDOT-b-PEG for simplicity, as a cathode binder to address the aforementioned issues. The polymer contains a poly(3,4-ethylenedioxythiophene) (PEDOT) functionality to provide electronic conductivity, as well as poly(ethylene glycol) (PEG) chains to impart ionic conductivity to the cathode composite. We compare electrodes containing a perylene diimide (PDI) active material, conductive carbon, and a polymeric binder (either PVDF or PEDOT-b-PEG) with different weight ratios to study the impact of active material loading and type of binder on the performance of the cell. The lithium-ion cells prepared with the PEDOT-b-PEG polymer binder result in higher capacities and decreased impedance at all active material loadings compared to cathodes prepared with the PVDF-containing electrodes, demonstrating potential as a new binder to achieve higher active material loadings in organic electrodes. The strategy of preparing these polymers should be broadly applicable to other classes of mixed polymer conductors. \n",
      "\n",
      "PEDOT/PSS \n",
      " Solid-state lithium-metal batteries are considered as one of the most promising candidates for next-generation energy storage devices with high energy density and enhanced safety. Great efforts have been made to design solid-state electrolytes with enhanced ionic conductivity and to protect the electrochemical interface of the lithium anode. However, the obstruction of ionic-electronic transport within the cathode remains as another key challenge that needs to be addressed for the practical application of solid-state batteries. Here, we prepared organic mixed ionic-electronic conductors (OMIECs) by in-situ co-polymerization of three organic monomers (boron-type crosslinker, ionic liquid, and sulfolene) in the network of poly(3,4-ethylenedioxythiophene)/poly(4-styrenesulfonate). The as-prepared OMIECs show an electronic conductivity up to 33.6 S cm-1 and ionic conductivity of 1.7x10-4 S cm-1 at 30 degrees C, and also binder functionality, providing a combined path for Li+/e- transport in cathodes and maintaining mechanical/(electro-)chemical stability. As a result, solid-state cathodes composed of 90.0 wt % active materials and only 10.0 wt % OMIECs display exceptional electrochemical characteristics at 30 degrees C, including high C-rate capabilities and prolonged cycle life. This novel design of all-in-one OMIECs for carbon-free cathodes demonstrates a promising strategy for developing multifunctional additives for high-performance solid-state batteries. The strategy of OMIECs design endows carbon-free solid-state cathodes with optimized ratio, temporally stable interface, and fast electronic/ionic transport path. Therefore, the utilization of OMIECs as a binder in solid-state cathodes results in a long cycling life, high-rate capability, and good coulomb efficiency at 30 degrees C. These advancements position the trifunctional OMIECs as a viable option for widespread commercial applications. image \n",
      "\n",
      "PEDOT-PBA \n",
      " Organic mixed ionic-electronic conductors (OMIECs) have emerged as promising materials for biological sensing, owing to their electrochemical activity, stability in an aqueous environment, and biocompatibility. Yet, OMIEC-based sensors rely predominantly on the use of composite matrices to enable stimuli-responsive functionality, which can exhibit issues with intercomponent interfacing. In this study, an approach is presented for non-enzymatic glucose detection by harnessing a newly synthesized functionalized monomer, EDOT-PBA. This monomer integrates electrically conducting and receptor moieties within a single organic component, obviating the need for complex composite preparation. By engineering the conditions for electrodeposition, two distinct polymer film architectures are developed: pristine PEDOT-PBA and molecularly imprinted PEDOT-PBA. Both architectures demonstrated proficient glucose binding and signal transduction capabilities. Notably, the molecularly imprinted polymer (MIP) architecture demonstrated faster stabilization upon glucose uptake while it also enabled a lower limit of detection, lower standard deviation, and a broader linear range in the sensor output signal compared to its non-imprinted counterpart. This material design not only provides a robust and efficient platform for glucose detection but also offers a blueprint for developing selective sensors for a diverse array of target molecules, by tuning the receptor units correspondingly. A synthetically tailored electroactive monomer with binding affinity for sugars is used to fabricate 3D polymer scaffolds via electrodeposition. By controlling the polymer deposition conditions, mixed ionic-electronic conducting polymer films with built-in selectivity toward glucose are obtained without the use of enzymes or other external mediators. Proof-of-concept organic electrochemical transistor-based sensors are fabricated to evaluate the sensor performance. image \n",
      "\n",
      "PEDOT; EDOTS; EDOTCOOH \n",
      " Organic mixed ionic-electronic conductors (OMIECs) are being explored in applications such as bioelectronics, biosensors, energy conversion and storage, and optoelectronics. OMIECs are largely composed of conjugated polymers that couple ionic and electronic transport in their structure as well as synthetic flexibility. Despite extensive research, previous studies have mainly focused on either enhancing ion conduction or enabling synthetic modification. This limited the number of OMIECs that excel in both domains. Here, a series of OMIECs based on functionalized poly(3,4-ethylenedioxythiophene) (PEDOT) copolymers that combine efficient ion/electron transport with the versatility of post-functionalization were developed. EDOT monomers bearing sulfonic (EDOTS) and carboxylic acid (EDOTCOOH) groups were electrochemically copolymerized in different ratios on oxygen plasma-treated conductive substrates. The plasma treatment enabled the synthesis of copolymers containing high ratios of EDOTS (up to 68%), otherwise not possible with untreated substrates. This flexibility in synthesis resulted in the fabrication of copolymers with tunable properties in terms of conductivity (2-0.0019 S/cm) and ion/electron transport, for example, as revealed by their volumetric capacitances (122-11 F/cm(3)). The importance of the organic nature of the OMIECs that are amenable to synthetic modification was also demonstrated. EDOTCOOH was successfully post-functionalized without influencing the ionic and electronic transport of the copolymers. This opens a new way to tailor the properties of the OMIECs to specific applications, especially in the field of bioelectronics. \n",
      "\n",
      "PEDOT:PSS \n",
      " Understanding charge-compensating interactions and ionic dynamics in organic mixed conductors can be challenging. Operando NMR spectroscopy is now used to quantify cation and water movement during doping/dedoping in mixed conductor films. Although organic mixed ionic-electronic conductors are widely proposed for use in bioelectronics, energy generation/storage and neuromorphic computing, our fundamental understanding of the charge-compensating interactions between the ionic and electronic carriers and the dynamics of ions remains poor, particularly for hydrated devices and on electrochemical cycling. Here we show that operando Na-23 and H-1 nuclear magnetic resonance (NMR) spectroscopy can quantify cation and water movement during the doping/dedoping of films comprising the widely used mixed conductor poly(3,4-ethylene dioxythiophene) poly(styrene sulfonate) (PEDOT:PSS). A distinct Na-23 quadrupolar splitting is observed due to the partial ordering of the PSS chains within the PEDOT:PSS-rich domains, with respect to the substrate. Operando Na-23 NMR studies reveal a close-to-linear correlation between the quadrupolar splitting and the charge stored, which is quantitatively explained by a model in which the holes on the PEDOT backbone are bound to the PSS SO3- groups; an increase in hole concentration during doping inversely correlates with the number of Na+ ions bound to the PSS chains within the PEDOT-rich ordered domains, leading to a decrease in ions within the ordered regions and a decrease in quadrupolar splitting. The Na+-to-electron coupling efficiency, measured via Na-23 NMR intensity changes, is close to 100% when using a 1 M NaCl electrolyte. Operando H-1 NMR spectroscopy confirms that the Na+ ions injected into/extracted from the wet films are hydrated. These findings shed light on the working principles of organic mixed conductors and demonstrate the utility of operando NMR spectroscopy in revealing structure-property relationships in electroactive polymers. \n",
      "\n",
      "PEDOT:PSS; C(2)mpyrFSI; C(2)mpyrTFSI \n",
      " The performance of next generation solid-state lithium metal batteries (LMBs) is intimately related to the ionic-electronic interconnection within the cathode material. In batteries containing liquid electrolytes, the soaking of the electrolyte and the addition of carbon provide sufficient ionic and electronic conductivity through the cathode. However, in solid-state systems, cathodes are completely dry, and thus, they lack mobile Li ions and good electronic interconnection. Organic mixed ionic-electronic conductors (OMIECs) are promising binders to provide that interconnection through a compact carbon-free cathode. However, most of the OMIECs have been developed based on solvent swelling of conducting polymers or combining with ionic liquids as composites. These options are not the most adequate ones for LMBs due to liquid-related issues such as leakage. Here, a novel approach towards all-solid-state OMIECs is presented by combining PEDOT:PSS and different organic ionic plastic crystals (OIPCs): C(2)mpyrFSI and C(2)mpyrTFSI, obtaining a synergistic effect with higher ionic and electronic conductivities than those of the neat materials (sigma(electronic) of 580 S cm(-1) and sigma(ionic) of 3.7 10(-5) S cm(-1) at 70 degrees C). These outstanding values for all-solid state OMIECs resulted from highly ordered conducting pathways as demonstrated by XRD and AFM. The optimum composition with respect to electronic and ionic conductivity (80/20 PEDOT:PSS/C(2)mpyFSI) was subsequently tested, for the first time, as a binder in a LiFePO4 cathode formulation in a carbon-free solid-state battery. The solid-state Li|LiFePO4 cell with the OMIEC binder showed an enhanced discharge capacity (157 mA h g(-1) at C/10) and improved rate capability, in comparison to a solid-state cathode formulation using an ionic conducting polymeric binder and carbon additive. A specific capacity of 145.5 mA h g(-1) at C/2 rate was achieved with an excellent capacity retention of 99.7% (145.2 mA h g(-1)) after 500 cycles. \n",
      "\n",
      "PEDOT:PSS \n",
      " The commercially available polyelectrolyte complex poly(3,4-ethylenedioxythiophene):poly(styrene sulfonate) (PEDOT:PSS) is ubiquitous in organic and hybrid electronics. As such, it has often been used as a benchmark material for fundamental studies and the development of new electronic devices. Yet, most studies on PEDOT:PSS have focused on its electronic conductivity in dry environments, with less consideration given to its ion transport, coupled ionic-electronic transport, and charge storage properties in aqueous environments. These properties are essential for applications in bioelectronics (sensors, actuators), charge storage devices, and electrochromic displays. Importantly, past studies on mixed ionic-electronic transport in PEDOT:PSS neglected to consider how the molecular structure of PSS affects mixed ionic-electronic transport. Herein, we therefore investigated the effect of the molecular weight and size distribution of PSS on the electronic properties and morphology of PEDOT:PSS both in dry and aqueous environments, and overall performance in organic electrochemical transistors (OECTs). Using reversible addition-fragmentation chain transfer (RAFT) polymerization with two different chain transfer agents, six PSS samples with monomodal, narrow (D = 1.1) and broad (D = 1.7) size distributions and varying molecular weights were synthesized and used as matrices for PEDOT. We found that using higher molecular weight of PSS (M-n = 145 kg mol(-1)) and broad dispersity led to OECTs with the highest transconductance (up to 16 mS) and [mu C*] values (similar to 140 F cm(-1) V-1 s(-1)) in PEDOT:PSS, despite having a lower volumetric capacitance (C* = 35 +/- 4 F cm(-3)). The differences were best explained by studying the microstructure of the films by atomic force microscopy (AFM). We found that heterogeneities in the PEDOT:PSS films (interconnected and large PEDOT- and PSS-rich domains) obtained from high molecular weight and high dispersity PSS led to higher charge mobility (mu(OECT) similar to 4 cm(2) V-1 s(-1)) and hence transconductance. These studies highlight the importance of considering molecular weight and size distribution in organic mixed ionic-electronic conductor, and could pave the way to designing high performance organic electronics for biological interfaces. \n",
      "\n",
      "PEDOT-PSS \n",
      " The thermoelectric (TE) phenomena are intensively explored by the scientific community due to the rather inefficient way energy resources are used with a large fraction of energy wasted in the form of heat. Among various materials, mixed ion-electron conductors (MIEC) are recently being explored as potential thermoelectrics, primarily due to their low thermal conductivity. The combination of electronic and ionic charge carriers in those inorganic or organic materials leads to complex evolution of the thermovoltage (V-oc) with time, temperature, and/or humidity. One of the most promising organic thermoelectric materials, poly(3,4-ethyelenedioxythiophene)-polystyrene sulfonate (PEDOT-PSS), is an MIEC. A previous study reveals that at high humidity, PEDOT-PSS undergoes an ionic Seebeck effect due to mobile protons. Yet, this phenomenon is not well understood. In this work, the time dependence of the V-oc is studied and its behavior from the contribution of both charge carriers (holes and protons) is explained. The presence of a complex reorganization of the charge carriers promoting an internal electrochemical reaction within the polymer film is identified. Interestingly, it is demonstrated that the time dependence behavior of V-oc is a way to distinguish between three classes of polymeric materials: electronic conductor, ionic conductor, and mixed ionic-electronic conductor. \n",
      "\n",
      "PEDOT:PSS \n",
      " Eutectogels are a new class of soft ion conductive materials that are attracting attention as an alternative to conventional hydrogels and costly ionic liquid gels to build wearable sensors and bioelectrodes. Herein, the first example of mixed ionic and electronic conductive eutectogels showing high adhesion, flexibility, nonvolatility, and reversible low-temperature gel transition for 3D printing manufacturing is reporting. The eutectogels consist of choline chloride/glycerol deep eutectic solvent, poly(3,4-ethylenedioxythiophene): lignin sulfonate, and gelatin as the biocompatible polymer matrix. These soft materials are flexible and stretchable, show high ionic and electronic conductivities of 7.3 and 8.7 mS cm(-1), respectively, and have high adhesion energy. Due to this unique combination of properties, they could be applied as strain sensors to precisely detect physical movements. Furthermore, these soft mixed ionic electronic conductors possess excellent capacity as conformal electrodes to record epidermal physiological signals, such as electrocardiograms and electromyograms, over a long time. \n",
      "\n",
      "PEDOT \n",
      " Polymer blends and composite films were facilely prepared from their aqueous solutions with varying contents of poly(3,4-ethylenedioxythiophene) (PEDOT), polyethylene oxide (PEO), and polyacrylic acid (PAA). The physicochemical and electric properties of the composite films were analyzed by Raman spectra, infrared spectra (FT-IR), scanning electronic microscopy (SEM), thermogravimetric analysis (TGA), and four-point probe method. PEDOT was successfully incorporated into each blend which was confirmed by spectra analysis. The crystallization of PAA or PEO and the structure of PEDOT should be taken into consideration for the electronic conductivity. According to Raman spectra, in the case of PEDOT-PAA-PEO, conformation of the PEDOT backbone changed from the quinoid to the benzoid structure partly. The ionic conductivities of lithium-ion salt-mixed PAA-PEO and ternary blend were characterized by AC impedance spectroscopy. The ternary blend with LiCoO2 presents good electronic and ionic conductivity, and it appears to be a new candidate for polymeric mixed ionic electronic conductor. (c) 2014 Society of Plastics Engineer \n",
      "\n",
      "PEDOT:PSS \n",
      " The electrochemical dedoping and redoping processes of a thin poly(3,4-ethylenedioxythiophene):poly(styrenesulfonate) (PEDOT:PSS) film immersed in an electrolyte are studied at different temperatures with time-resolved spectroelectrochemistry in the visible and near-infrared range. The spectral signatures of neutral, polaronic, and bipolaronic states of PEDOT are resolved using multivariate curve resolution analysis. Kinetic modeling of their dynamics reveals that both the dedoping and redoping are sequential processes and occur within a few hundred milliseconds in the system. Evaluation of the temperature-dependence with the Van't Hoff, Arrhenius, and Eyring formalisms highlights the role of entropy in both the establishment of the redox equilibrium at a given voltage bias and the reaction rates. This study provides a significant understanding of the fundamental mechanisms determining the level and rate of the electrochemical processes in PEDOT:PSS and will help tailor the design of faster and more efficient bioelectronic devices based on mixed ionic-electronic conductors. \n",
      "\n",
      "PEDOT \n",
      " Mixed ionic-electronic conductors (MIECs) were explored for various applications due to their ionic and electronic species as separate charge carriers. MIECs have received considerable focus for polymer electrolyte fuel cell (PEFC) electrodes, electrocatalytic reactors, and gas separating membranes. Among MIECs, combinations of conducting polymers on highly conducting graphitic carbon nanostructures are particularly attractive because of their catalytic properties, electrochemical stability, and versatility for implementing various applications. In this regard, an optimum composition of a conducting polymer poly(3,4-ethylenedioxythiophene) (PEDOT) on reduced graphene oxide (rGO) supported platinum improved fuel cell performance and long-term durability. PEDOT was prepared by a micelle-mediated reverse-micro-emulsion technique, followed by grafting it over the GO. Further, Pt was deposited on PEDOT-GO using a microwave-assisted polyol method. The morphological and microstructural characteristics of electrocatalysts were investigated using different techniques. The optimum level of PEDOT embraced on rGO supported Pt retained 60% of initial ECSA and cell performance, even after 10000 potential cycles between 1 and 1.5 V. \n",
      "\n",
      "PEDOT:PSS \n",
      " Poly(3,4-ethylenedioxythiophene) doped with poly(styrenesulfonate), PEDOT: PSS, has been utilized for over two decades as a stable, solution-processable hole conductor. While its hole transport properties have been the subject of intense investigation, recent work has turned to PEDOT: PSS as a mixed ionic/electronic conductor in applications including bioelectronics, energy storage and management, and soft robotics. Conducting polymers can efficiently transport both holes and ions when sufficiently hydrated, however, little is known about the role of morphology on mixed conduction. Here, we show that bulk ionic and electronic mobilities are simultaneously affected by processing-induced changes in nano- and meso-scale structure in PEDOT: PSS films. We quantify domain composition, and find that domain purification on addition of dispersion co-solvents limits ion mobility, even while electronic conductivity improves. We show that an optimal morphology allows for the balanced ionic and electronic transport that is critical for prototypical mixed conductor devices. These findings may pave the way for the rational design of polymeric materials and processing routes to enhance devices reliant on mixed conduction. \n",
      "\n",
      "P3HHT;p(g2T-TT);PEDOT:PSS \n",
      " Organic mixed conductors find use in batteries, bioelectronics technologies, neuromorphic computing, and sensing. While great progress has been achieved, polymer-based mixed conductors frequently experience significant volumetric changes during ion uptake/rejection, i.e., during doping/de-doping and charging/discharging. Although ion dynamics may be enhanced in expanded networks, these volumetric changes can have undesirable consequences, e.g., negatively affecting hole/electron conduction and severely shortening device lifetime. Here, the authors present a new material poly[3-(6-hydroxy)hexylthiophene] (P3HHT) that is able to transport ions and electrons/holes, as tested in electrochemical absorption spectroscopy and organic electrochemical transistors, and that exhibits low swelling, attributed to the hydroxylated alkyl side-chain functionalization. P3HHT displays a thickness change upon passive swelling of only +2.5%, compared to +90% observed for the ubiquitous poly(3,4-ethylenedioxythiophene):polystyrene sulfonate, and +10 to +15% for polymers such as poly(2-(3,3 '-bis(2-(2-(2-methoxyethoxy)ethoxy)ethoxy)-[2,2 '-bithiophen]-5-yl)thieno[3,2-b]thiophene) (p[g2T-TT]). Applying a bias pulse during swelling, this discrepancy becomes even more pronounced, with the thickness of P3HHT films changing by <10% while that of p(g2T-TT) structures increases by +75 to +80%. Importantly, the initial P3HHT film thickness is essentially restored after de-doping while p(g2T-TT) remains substantially swollen. The authors, thus, expand the materials-design toolbox for the creation of low-swelling soft mixed conductors with tailored properties and applications in bioelectronics and beyond. \n",
      "\n",
      "PEDOT; PEDOT-PSS \n",
      " Innovative neurostimulation therapies require improved electrode materials, such as poly(3,4-ethylenedioxythiophene) (PEDOT) polymers or IrOx mixed ionic-electronic conductors and better understanding of how their electrochemistry influences nerve growth. Amphibian neurons growing on transparent films of electronic (metal) conductors and electronic-ionic conductors (polymers and semiconducting oxides) are monitored. Materials are not connected directly to the power supply, but a dipole is created wirelessly within them by electrodes connected to the culture medium in which they are immersed. Without electrical stimulation neurons grow on gold, platinum, PEDOT-polystyrene sulfonate (PEDOT-PSS), IrOx, and mixed oxide (Ir-Ti)O-x, but growth is not related to surface texture or hydrophilicity. Stimulation induces a dipole in all conductive materials, but neurons grow differently on electronic conductors and mixed-valence mixed-ionic conductors. Stimulation slows, but steers neurite extension on gold but not on platinum. The rate and direction of neurite growth on PEDOT-PSS resemble that on glass, but on IrOx and (Ir-Ti)O-x neurites grow faster and in random directions. This suggests electrochemical changes induced in these materials control growth speed and direction selectively. Evidence that the electric dipole induced in conductive material controls nerve growth will impact electrotherapies exploiting wireless stimulation of implanted material arrays, even where transparency is required. \n",
      "\n",
      "PEDOT:PSS; PEDOT:PolyDADMA FSI; PEDOT:PolyDADMA Cl; PEDOT:PolyDADMA TFSI; PEDOT:PolyDADMA Tos \n",
      " Mixed ionic-electronic conductors, such as poly(3,4-ethylenedioxythiophene): poly(styrenesulfonate) (PEDOT:PSS) are postulated to be the next generation materials in energy storage and electronic devices. Although many studies have aimed to enhance the electronic conductivity and mechanical properties of these materials, there has been little focus on ionic conductivity. In this work, blends based on PEDOT stabilized by the polyelectrolyte poly(diallyldimethylammonium) (PolyDADMA X) are reported, where the X anion is either chloride (Cl), bis(fluorosulfonyl)imide (FSI), bis(trifluoromethylsulfonyl)imide (TFSI), triflate (CF3SO3) or tosylate (Tos). Electronic conductivity values of 0.6 S cm(-1)were achieved in films of PEDOT:PolyDADMA FSI (without any post-treatment), with an ionic conductivity of 5 x 10(-6)S cm(-1)at 70 degrees C. Organic ionic plastic crystals (OIPCs) based on the cation N-ethyl-N-methylpyrrolidinium (C(2)mpyr(+)) with similar anions were added to synergistically enhance both electronic and ionic conductivities. PEDOT:PolyDADMA X / [C(2)mpyr][X] composites (80/20 wt%) resulted in higher ionic conductivity values (e.g., 2 x 10(-5)S cm(-1)at 70 degrees C for PEDOT:PolyDADMA FSI/[C(2)mpyr][FSI]) and improved electrochemical performance versus the neat PEDOT:PolyDADMA X with no OIPC. Herein, new materials are presented and discussed including new PEDOT:PolyDADMA and organic ionic plastic crystal blends highlighting their promising properties for energy storage applications. \n",
      "\n",
      "PEDOT \n",
      " A wearable and transparent thermoelectric (TE) hydrogel based on bisulfate transport was demonstrated to record a negative ionic Seebeck coefficient of -25.0 mV K-1, ionic power factor of 9.94 mW m(-1) K-2, and an ionic figure of merit of 7.2 at 80% relative humidity and room temperature. The n-type TE hydrogel was made of electronic poly(3,4-ethylenedioxythiophene), ionic poly(2-acrylamido-2-methyl-1-propanesulfonic acid), and biocompatible bisulfate, which was used as a thermally diffusive anion carrier for the first time in TE devices, to realize a soft mixed ionic-electronic conductor. The composition of this hydrogel was precisely controlled by varying the contents of ammonium persulfate and 3,4-ethylenedioxythiophene to afford a transparent and self-healable film that recovered within 15 min after cutting (cut width of similar to 35 mu m). Bisulfate transport was visualized using an anion detective fluorophore as a tool to intuitively elucidate the Soret effect, in which ion carriers thermodiffuse from hot to cold parts, and to quantify the thermovoltage simultaneously. A flexible band-type TE energy harvester with 20 legs was fabricated to afford a thermovoltage of -2.75 V at a temperature gradient of 5.5 K, and the harvested energy was used to operate a light-emitting diode for the first time in an organic TE module with a small temperature gradient (<10 K). Moreover, a colorful wearable band-type module and photothermal all organic TE device were demonstrated to be effective self-powered body-worn TE harvesters under ambient conditions. \n",
      "\n",
      "PEDOT:PSS;p(g2T-TT) \n",
      " Bioelectronics based on organic mixed conductors offers tremendous application potential in biological interfacing, drug delivery systems, and neuromorphic devices. The ion injection and water swelling upon electrochemical switching can significantly change the molecular packing of polymeric mixed conductors and thus influence the device performance. Herein, we quantify ion and water injection, and analyze the change of microscopic molecular packing of typical polymeric mixed conducting materials, namely poly(3,4-ethylenedioxythiophene) doped with poly(styrene sulfonate) (PEDOT:PSS) and poly(2-(3,3 '-bis(2-(2-(2-methoxyethoxy)ethoxy) ethoxy)-[2,2 '-bithiophen]-5-yl)thieno[3,2-b]thiophene) (p(g2T-TT)), by integrating electrochemical quartz crystal microbalance with dissipation monitoring, in situ charge accumulation spectroscopy, and electrical current-voltage measurement. The penetration of ions and water can lead to viscous and disordered microstructures in organic mixed conductors and the water uptake property plays a more dominant role in morphological disruption compared with ion uptake is demonstrated. This study demonstrates the potential application of the combined optical, gravimetric, and electrical operando platform in evaluating the structural kinetics of organic mixed conductors and highlights the importance of concertedly tuning the hydration process, structural integrity, and charge transport properties of organic mixed conductors in order to achieve high performance and stable bioelectronic devices. \n",
      "\n",
      "PEDOT:PSS \n",
      " Ionic/protonic to electronic transducers based on organic thin film transistors have shown great promise for applications in bioelectronic interface devices and biosensors, and development of materials that exhibit mixed ionic/electronic conduction are an essential part of these devices. In this work, we investigated the proton sensing properties of an all solid-state and low voltage operating organic thin film transistor (OTFT) that uses the organic mixed conductor poly(3,4-ethylenedioxythiophene) doped with poly(styrene sulfonate) (PEDOT:PSS) as the gate electrode. To address the limited sensitivity due to the lack of porosity in PEDOT:PSS base sensors, we proposed a composite gate electrode material composed of PEDOT:PSS and proton conducting mesoporous SO3H-Si-MCM-41 nanoparticles for improved proton sensitivity. The composite gate electrode doubles the proton sensitivity of the OTFT, indicating a clear advantage of adding SO3H-Si-MCM-41 in the PEDOT:PSS gate. Moreover, the OTFTs with the composite gate electrode maintained OTFT characteristics similar to that of the PEDOT:PSS gated OTFT. A detailed and systematic study of the effect of variation in the composition of PEDOT:PSS:SO3H-Si-MCM-41 on OTFT characteristics and sensing properties is carried out. Our results open up the possibility of combining inorganic nanomaterials with organic conductors in the development of highly efficient bioelectronic sensing platforms. \n",
      "\n",
      "EG/GOPS-PEDOT:PSS;crys-PEDOT:PSS;pg2T-TT \n",
      " Understanding the ionic composition and distributionin organicmixed ionic-electronic conductors (OMIECs) is crucial for understandingtheir structure-property relationships. Despite this, directmeasurements of OMIEC ionic composition and distribution are not common.In this work, we investigated the ionic composition and mesoscopicstructure of three typical p-type OMIEC materials: an ethylene glycol-treatedcrosslinked OMIEC with a large excess fixed anionic charge (EG/GOPS-PEDOT:PSS),an acid-treated OMIEC with a tunable fixed anionic charge (crys-PEDOT:PSS),and a single-component OMIEC without any fixed anionic charge (pg2T-TT).A combination of X-ray fluorescence (XRF) and X-ray photoelectronspectroscopies, gravimetry, coulometry, and grazing incidence small-angleX-ray scattering (GISAXS) techniques was employed to characterizethese OMIECs following electrolyte exposure and electrochemical cycling.In particular, XRF provided quantitative ion-to-monomer compositionsfor these OMIECs from passive ion uptake following aqueous electrolyteexposure and potential-driven ion uptake/expulsion following electrochemicaldoping and dedoping. Single-ion (cation) transport in EG/GOPS-PEDOT:PSSdue to Donnan exclusion was directly confirmed, while significantfixed anion concentrations in crys-PEDOT:PSS doping and dedoping wereshown to occur through mixed anion and cation transport. Controllingthe fixed anionic (PSS-) charge density in crys-PEDOT:PSSmapped the strength of Donnan exclusion in OMIEC systems followinga Donnan-Gibbs model. Anion transport dominated pg2T-TT dopingand dedoping, but a surprising degree of anionic charge trapping (& SIM;10(20) cm(-3)) was observed. GISAXS revealed minimalion segregation both between PEDOT- and PSS-rich domains in EG/GOPS-PEDOT:PSSand between amorphous and semicrystalline domains in pg2T-TT but showedsignificant ion segregation in crys-PEDOT:PSS at length scales oftens of nm, ascribed to inter-nanofibril void space. These resultsbring new clarity to the ionic composition and distribution of OMIECswhich are crucial for accurately connecting the structure and propertiesof these materials. \n",
      "\n",
      "PEDOT:PSS \n",
      " Organic electrochemical transistors (OECT) are gaining momentum in future applications of biosensors and bioelectronics. Nonetheless, contact (or series) resistances (R-S/D) remain underexplored, even though physical processes between the source/drain electrodes and organic mixed ionic-electron conductors (OMIECs) drive a substantial part of their performances. To address this shortcoming, in this study, low-dimension OECTs featuring 2 mu m-long poly(3,4-ethylenedioxythiophene) and polystyrene sulfonate acid (PEDOT:PSS) channel are explored. Normalized contact resistances (R-S/D center dot W) values as low as 1.4 W cm are obtained. It is observed that channel PEDOT:PSS thickness is not detrimental to R-S/D but is impacting the cut-off frequency. A figure-of-merit (h) expressing the charge-carrier injection (or extraction, respectively) efficiency shows that planar depletion-mode OECTs are not contact-limited up to L = 30 mu m channel length. Finally, an unprecedented approach that highlight the importance of optimizing the micro-fabrication technologies is shown, by decreasing the contact overlap length, according to OMIECs physicochemical contact properties. Indeed, a transfer-length method coupled to a current-crowding model allow to fully understand the behavior of low-dimension PEDOT:PSS OECTs and next, to optimize its circuits design. This is paving the way toward the development of OECTs-based integrated circuits with faster switching speed, broadening further their scopes and future use as advanced bioelectronics platforms. \n",
      "\n",
      "PEDOT:PSS \n",
      " In this work, we investigate organic electrochemical transistors (OECTs) as a novel artificial electronic device for the realization of synaptic behavior, bioelectronics, and a variety of applications. A numerical method considering the Poisson-Boltzmann statistics is introduced to reproduce associated charge densities, electrostatics and switching properties of OECTs. We shed light on the working principle of OECTs by taking into account the ionic charge distribution in the electrolyte and incomplete ionization of the organic semiconductor describing the underlying electrochemical redox reaction. This enables analyzing the OECTs electrical performance as well as a simplified chemical properties via an electrical double layer, doping and de-doping of the OMIEC layer. We have fabricated, characterized, simulated and analyzed OECTs based on PEDOT:PSS, and we show that the proposed model reveals important properties of the device's working mechanism. The model shows a good agreement with the experimental data of the fabricated devices. \n",
      "\n"
     ]
    }
   ],
   "source": [
    "for index, row in result.iterrows():    \n",
    "    if not isinstance(row['response'], float) and  'PEDOT' in row['response']:\n",
    "        print(row['response'], '\\n', row['Abstract'], '\\n' )"
   ]
  },
  {
   "cell_type": "markdown",
   "metadata": {},
   "source": [
    "Tendência de publicações por ano plotado com plotly"
   ]
  },
  {
   "cell_type": "code",
   "execution_count": 17,
   "metadata": {},
   "outputs": [
    {
     "data": {
      "application/vnd.plotly.v1+json": {
       "config": {
        "plotlyServerURL": "https://plot.ly"
       },
       "data": [
        {
         "alignmentgroup": "True",
         "hovertemplate": "Publication Year=%{x}<br>Number of Publications=%{y}<br>color=%{marker.color}<extra></extra>",
         "legendgroup": "",
         "marker": {
          "color": [
           1990,
           1991,
           1992,
           1993,
           1994,
           1995,
           1996,
           1997,
           1998,
           1999,
           2000,
           2001,
           2002,
           2003,
           2004,
           2005,
           2006,
           2007,
           2008,
           2009,
           2010,
           2011,
           2012,
           2013,
           2014,
           2015,
           2016,
           2017,
           2018,
           2019,
           2020,
           2021,
           2022,
           2023,
           2024
          ],
          "coloraxis": "coloraxis",
          "pattern": {
           "shape": ""
          }
         },
         "name": "",
         "offsetgroup": "",
         "orientation": "v",
         "showlegend": false,
         "textposition": "auto",
         "type": "bar",
         "x": [
          1990,
          1991,
          1992,
          1993,
          1994,
          1995,
          1996,
          1997,
          1998,
          1999,
          2000,
          2001,
          2002,
          2003,
          2004,
          2005,
          2006,
          2007,
          2008,
          2009,
          2010,
          2011,
          2012,
          2013,
          2014,
          2015,
          2016,
          2017,
          2018,
          2019,
          2020,
          2021,
          2022,
          2023,
          2024
         ],
         "xaxis": "x",
         "y": [
          3,
          1,
          8,
          2,
          4,
          7,
          12,
          11,
          9,
          13,
          7,
          13,
          7,
          13,
          11,
          7,
          9,
          5,
          8,
          14,
          9,
          15,
          17,
          19,
          27,
          19,
          27,
          23,
          21,
          29,
          35,
          37,
          57,
          68,
          69
         ],
         "yaxis": "y"
        }
       ],
       "layout": {
        "barmode": "relative",
        "coloraxis": {
         "colorbar": {
          "title": {
           "text": "color"
          }
         },
         "colorscale": [
          [
           0,
           "#440154"
          ],
          [
           0.1111111111111111,
           "#482878"
          ],
          [
           0.2222222222222222,
           "#3e4989"
          ],
          [
           0.3333333333333333,
           "#31688e"
          ],
          [
           0.4444444444444444,
           "#26828e"
          ],
          [
           0.5555555555555556,
           "#1f9e89"
          ],
          [
           0.6666666666666666,
           "#35b779"
          ],
          [
           0.7777777777777778,
           "#6ece58"
          ],
          [
           0.8888888888888888,
           "#b5de2b"
          ],
          [
           1,
           "#fde725"
          ]
         ],
         "showscale": false
        },
        "legend": {
         "tracegroupgap": 0
        },
        "template": {
         "data": {
          "bar": [
           {
            "error_x": {
             "color": "#2a3f5f"
            },
            "error_y": {
             "color": "#2a3f5f"
            },
            "marker": {
             "line": {
              "color": "#E5ECF6",
              "width": 0.5
             },
             "pattern": {
              "fillmode": "overlay",
              "size": 10,
              "solidity": 0.2
             }
            },
            "type": "bar"
           }
          ],
          "barpolar": [
           {
            "marker": {
             "line": {
              "color": "#E5ECF6",
              "width": 0.5
             },
             "pattern": {
              "fillmode": "overlay",
              "size": 10,
              "solidity": 0.2
             }
            },
            "type": "barpolar"
           }
          ],
          "carpet": [
           {
            "aaxis": {
             "endlinecolor": "#2a3f5f",
             "gridcolor": "white",
             "linecolor": "white",
             "minorgridcolor": "white",
             "startlinecolor": "#2a3f5f"
            },
            "baxis": {
             "endlinecolor": "#2a3f5f",
             "gridcolor": "white",
             "linecolor": "white",
             "minorgridcolor": "white",
             "startlinecolor": "#2a3f5f"
            },
            "type": "carpet"
           }
          ],
          "choropleth": [
           {
            "colorbar": {
             "outlinewidth": 0,
             "ticks": ""
            },
            "type": "choropleth"
           }
          ],
          "contour": [
           {
            "colorbar": {
             "outlinewidth": 0,
             "ticks": ""
            },
            "colorscale": [
             [
              0,
              "#0d0887"
             ],
             [
              0.1111111111111111,
              "#46039f"
             ],
             [
              0.2222222222222222,
              "#7201a8"
             ],
             [
              0.3333333333333333,
              "#9c179e"
             ],
             [
              0.4444444444444444,
              "#bd3786"
             ],
             [
              0.5555555555555556,
              "#d8576b"
             ],
             [
              0.6666666666666666,
              "#ed7953"
             ],
             [
              0.7777777777777778,
              "#fb9f3a"
             ],
             [
              0.8888888888888888,
              "#fdca26"
             ],
             [
              1,
              "#f0f921"
             ]
            ],
            "type": "contour"
           }
          ],
          "contourcarpet": [
           {
            "colorbar": {
             "outlinewidth": 0,
             "ticks": ""
            },
            "type": "contourcarpet"
           }
          ],
          "heatmap": [
           {
            "colorbar": {
             "outlinewidth": 0,
             "ticks": ""
            },
            "colorscale": [
             [
              0,
              "#0d0887"
             ],
             [
              0.1111111111111111,
              "#46039f"
             ],
             [
              0.2222222222222222,
              "#7201a8"
             ],
             [
              0.3333333333333333,
              "#9c179e"
             ],
             [
              0.4444444444444444,
              "#bd3786"
             ],
             [
              0.5555555555555556,
              "#d8576b"
             ],
             [
              0.6666666666666666,
              "#ed7953"
             ],
             [
              0.7777777777777778,
              "#fb9f3a"
             ],
             [
              0.8888888888888888,
              "#fdca26"
             ],
             [
              1,
              "#f0f921"
             ]
            ],
            "type": "heatmap"
           }
          ],
          "heatmapgl": [
           {
            "colorbar": {
             "outlinewidth": 0,
             "ticks": ""
            },
            "colorscale": [
             [
              0,
              "#0d0887"
             ],
             [
              0.1111111111111111,
              "#46039f"
             ],
             [
              0.2222222222222222,
              "#7201a8"
             ],
             [
              0.3333333333333333,
              "#9c179e"
             ],
             [
              0.4444444444444444,
              "#bd3786"
             ],
             [
              0.5555555555555556,
              "#d8576b"
             ],
             [
              0.6666666666666666,
              "#ed7953"
             ],
             [
              0.7777777777777778,
              "#fb9f3a"
             ],
             [
              0.8888888888888888,
              "#fdca26"
             ],
             [
              1,
              "#f0f921"
             ]
            ],
            "type": "heatmapgl"
           }
          ],
          "histogram": [
           {
            "marker": {
             "pattern": {
              "fillmode": "overlay",
              "size": 10,
              "solidity": 0.2
             }
            },
            "type": "histogram"
           }
          ],
          "histogram2d": [
           {
            "colorbar": {
             "outlinewidth": 0,
             "ticks": ""
            },
            "colorscale": [
             [
              0,
              "#0d0887"
             ],
             [
              0.1111111111111111,
              "#46039f"
             ],
             [
              0.2222222222222222,
              "#7201a8"
             ],
             [
              0.3333333333333333,
              "#9c179e"
             ],
             [
              0.4444444444444444,
              "#bd3786"
             ],
             [
              0.5555555555555556,
              "#d8576b"
             ],
             [
              0.6666666666666666,
              "#ed7953"
             ],
             [
              0.7777777777777778,
              "#fb9f3a"
             ],
             [
              0.8888888888888888,
              "#fdca26"
             ],
             [
              1,
              "#f0f921"
             ]
            ],
            "type": "histogram2d"
           }
          ],
          "histogram2dcontour": [
           {
            "colorbar": {
             "outlinewidth": 0,
             "ticks": ""
            },
            "colorscale": [
             [
              0,
              "#0d0887"
             ],
             [
              0.1111111111111111,
              "#46039f"
             ],
             [
              0.2222222222222222,
              "#7201a8"
             ],
             [
              0.3333333333333333,
              "#9c179e"
             ],
             [
              0.4444444444444444,
              "#bd3786"
             ],
             [
              0.5555555555555556,
              "#d8576b"
             ],
             [
              0.6666666666666666,
              "#ed7953"
             ],
             [
              0.7777777777777778,
              "#fb9f3a"
             ],
             [
              0.8888888888888888,
              "#fdca26"
             ],
             [
              1,
              "#f0f921"
             ]
            ],
            "type": "histogram2dcontour"
           }
          ],
          "mesh3d": [
           {
            "colorbar": {
             "outlinewidth": 0,
             "ticks": ""
            },
            "type": "mesh3d"
           }
          ],
          "parcoords": [
           {
            "line": {
             "colorbar": {
              "outlinewidth": 0,
              "ticks": ""
             }
            },
            "type": "parcoords"
           }
          ],
          "pie": [
           {
            "automargin": true,
            "type": "pie"
           }
          ],
          "scatter": [
           {
            "fillpattern": {
             "fillmode": "overlay",
             "size": 10,
             "solidity": 0.2
            },
            "type": "scatter"
           }
          ],
          "scatter3d": [
           {
            "line": {
             "colorbar": {
              "outlinewidth": 0,
              "ticks": ""
             }
            },
            "marker": {
             "colorbar": {
              "outlinewidth": 0,
              "ticks": ""
             }
            },
            "type": "scatter3d"
           }
          ],
          "scattercarpet": [
           {
            "marker": {
             "colorbar": {
              "outlinewidth": 0,
              "ticks": ""
             }
            },
            "type": "scattercarpet"
           }
          ],
          "scattergeo": [
           {
            "marker": {
             "colorbar": {
              "outlinewidth": 0,
              "ticks": ""
             }
            },
            "type": "scattergeo"
           }
          ],
          "scattergl": [
           {
            "marker": {
             "colorbar": {
              "outlinewidth": 0,
              "ticks": ""
             }
            },
            "type": "scattergl"
           }
          ],
          "scattermapbox": [
           {
            "marker": {
             "colorbar": {
              "outlinewidth": 0,
              "ticks": ""
             }
            },
            "type": "scattermapbox"
           }
          ],
          "scatterpolar": [
           {
            "marker": {
             "colorbar": {
              "outlinewidth": 0,
              "ticks": ""
             }
            },
            "type": "scatterpolar"
           }
          ],
          "scatterpolargl": [
           {
            "marker": {
             "colorbar": {
              "outlinewidth": 0,
              "ticks": ""
             }
            },
            "type": "scatterpolargl"
           }
          ],
          "scatterternary": [
           {
            "marker": {
             "colorbar": {
              "outlinewidth": 0,
              "ticks": ""
             }
            },
            "type": "scatterternary"
           }
          ],
          "surface": [
           {
            "colorbar": {
             "outlinewidth": 0,
             "ticks": ""
            },
            "colorscale": [
             [
              0,
              "#0d0887"
             ],
             [
              0.1111111111111111,
              "#46039f"
             ],
             [
              0.2222222222222222,
              "#7201a8"
             ],
             [
              0.3333333333333333,
              "#9c179e"
             ],
             [
              0.4444444444444444,
              "#bd3786"
             ],
             [
              0.5555555555555556,
              "#d8576b"
             ],
             [
              0.6666666666666666,
              "#ed7953"
             ],
             [
              0.7777777777777778,
              "#fb9f3a"
             ],
             [
              0.8888888888888888,
              "#fdca26"
             ],
             [
              1,
              "#f0f921"
             ]
            ],
            "type": "surface"
           }
          ],
          "table": [
           {
            "cells": {
             "fill": {
              "color": "#EBF0F8"
             },
             "line": {
              "color": "white"
             }
            },
            "header": {
             "fill": {
              "color": "#C8D4E3"
             },
             "line": {
              "color": "white"
             }
            },
            "type": "table"
           }
          ]
         },
         "layout": {
          "annotationdefaults": {
           "arrowcolor": "#2a3f5f",
           "arrowhead": 0,
           "arrowwidth": 1
          },
          "autotypenumbers": "strict",
          "coloraxis": {
           "colorbar": {
            "outlinewidth": 0,
            "ticks": ""
           }
          },
          "colorscale": {
           "diverging": [
            [
             0,
             "#8e0152"
            ],
            [
             0.1,
             "#c51b7d"
            ],
            [
             0.2,
             "#de77ae"
            ],
            [
             0.3,
             "#f1b6da"
            ],
            [
             0.4,
             "#fde0ef"
            ],
            [
             0.5,
             "#f7f7f7"
            ],
            [
             0.6,
             "#e6f5d0"
            ],
            [
             0.7,
             "#b8e186"
            ],
            [
             0.8,
             "#7fbc41"
            ],
            [
             0.9,
             "#4d9221"
            ],
            [
             1,
             "#276419"
            ]
           ],
           "sequential": [
            [
             0,
             "#0d0887"
            ],
            [
             0.1111111111111111,
             "#46039f"
            ],
            [
             0.2222222222222222,
             "#7201a8"
            ],
            [
             0.3333333333333333,
             "#9c179e"
            ],
            [
             0.4444444444444444,
             "#bd3786"
            ],
            [
             0.5555555555555556,
             "#d8576b"
            ],
            [
             0.6666666666666666,
             "#ed7953"
            ],
            [
             0.7777777777777778,
             "#fb9f3a"
            ],
            [
             0.8888888888888888,
             "#fdca26"
            ],
            [
             1,
             "#f0f921"
            ]
           ],
           "sequentialminus": [
            [
             0,
             "#0d0887"
            ],
            [
             0.1111111111111111,
             "#46039f"
            ],
            [
             0.2222222222222222,
             "#7201a8"
            ],
            [
             0.3333333333333333,
             "#9c179e"
            ],
            [
             0.4444444444444444,
             "#bd3786"
            ],
            [
             0.5555555555555556,
             "#d8576b"
            ],
            [
             0.6666666666666666,
             "#ed7953"
            ],
            [
             0.7777777777777778,
             "#fb9f3a"
            ],
            [
             0.8888888888888888,
             "#fdca26"
            ],
            [
             1,
             "#f0f921"
            ]
           ]
          },
          "colorway": [
           "#636efa",
           "#EF553B",
           "#00cc96",
           "#ab63fa",
           "#FFA15A",
           "#19d3f3",
           "#FF6692",
           "#B6E880",
           "#FF97FF",
           "#FECB52"
          ],
          "font": {
           "color": "#2a3f5f"
          },
          "geo": {
           "bgcolor": "white",
           "lakecolor": "white",
           "landcolor": "#E5ECF6",
           "showlakes": true,
           "showland": true,
           "subunitcolor": "white"
          },
          "hoverlabel": {
           "align": "left"
          },
          "hovermode": "closest",
          "mapbox": {
           "style": "light"
          },
          "paper_bgcolor": "white",
          "plot_bgcolor": "#E5ECF6",
          "polar": {
           "angularaxis": {
            "gridcolor": "white",
            "linecolor": "white",
            "ticks": ""
           },
           "bgcolor": "#E5ECF6",
           "radialaxis": {
            "gridcolor": "white",
            "linecolor": "white",
            "ticks": ""
           }
          },
          "scene": {
           "xaxis": {
            "backgroundcolor": "#E5ECF6",
            "gridcolor": "white",
            "gridwidth": 2,
            "linecolor": "white",
            "showbackground": true,
            "ticks": "",
            "zerolinecolor": "white"
           },
           "yaxis": {
            "backgroundcolor": "#E5ECF6",
            "gridcolor": "white",
            "gridwidth": 2,
            "linecolor": "white",
            "showbackground": true,
            "ticks": "",
            "zerolinecolor": "white"
           },
           "zaxis": {
            "backgroundcolor": "#E5ECF6",
            "gridcolor": "white",
            "gridwidth": 2,
            "linecolor": "white",
            "showbackground": true,
            "ticks": "",
            "zerolinecolor": "white"
           }
          },
          "shapedefaults": {
           "line": {
            "color": "#2a3f5f"
           }
          },
          "ternary": {
           "aaxis": {
            "gridcolor": "white",
            "linecolor": "white",
            "ticks": ""
           },
           "baxis": {
            "gridcolor": "white",
            "linecolor": "white",
            "ticks": ""
           },
           "bgcolor": "#E5ECF6",
           "caxis": {
            "gridcolor": "white",
            "linecolor": "white",
            "ticks": ""
           }
          },
          "title": {
           "x": 0.05
          },
          "xaxis": {
           "automargin": true,
           "gridcolor": "white",
           "linecolor": "white",
           "ticks": "",
           "title": {
            "standoff": 15
           },
           "zerolinecolor": "white",
           "zerolinewidth": 2
          },
          "yaxis": {
           "automargin": true,
           "gridcolor": "white",
           "linecolor": "white",
           "ticks": "",
           "title": {
            "standoff": 15
           },
           "zerolinecolor": "white",
           "zerolinewidth": 2
          }
         }
        },
        "title": {
         "text": "Number of Publications per Year"
        },
        "xaxis": {
         "anchor": "y",
         "domain": [
          0,
          1
         ],
         "tickangle": 45,
         "title": {
          "text": "Publication Year"
         }
        },
        "yaxis": {
         "anchor": "x",
         "domain": [
          0,
          1
         ],
         "title": {
          "text": "Number of Publications"
         }
        }
       }
      }
     },
     "metadata": {},
     "output_type": "display_data"
    }
   ],
   "source": [
    "import plotly.express as px\n",
    "\n",
    "# Supondo que 'raw_data' seja o seu DataFrame e 'Publication Year' seja a coluna com os anos de publicação\n",
    "publication_counts = raw_data['Publication Year'].value_counts()\n",
    "\n",
    "# Ordenar os valores pela data para melhorar a visualização (opcional)\n",
    "publication_counts = publication_counts.sort_index()\n",
    "\n",
    "# Criar o gráfico de barras com Plotly\n",
    "fig = px.bar(\n",
    "    x=publication_counts.index, \n",
    "    y=publication_counts.values, \n",
    "    labels={'x': 'Publication Year', 'y': 'Number of Publications'},\n",
    "    title='Number of Publications per Year',\n",
    "    color=publication_counts.index,  # Adiciona cor baseado no índice (ano de publicação)\n",
    "    color_continuous_scale='viridis'  # Aplica a paleta \"viridis\"\n",
    ")\n",
    "\n",
    "# Configurar o layout\n",
    "fig.update_layout(\n",
    "    xaxis=dict(tickangle=45),  # Rotaciona os rótulos do eixo x para melhor visualização\n",
    "    yaxis_title='Number of Publications',\n",
    "    xaxis_title='Publication Year',\n",
    "    coloraxis_showscale=False  # Oculta a barra de escala de cores, se indesejado\n",
    ")\n",
    "\n",
    "# Mostrar o gráfico\n",
    "fig.show()\n"
   ]
  }
 ],
 "metadata": {
  "kernelspec": {
   "display_name": "trabFinal",
   "language": "python",
   "name": "python3"
  },
  "language_info": {
   "codemirror_mode": {
    "name": "ipython",
    "version": 3
   },
   "file_extension": ".py",
   "mimetype": "text/x-python",
   "name": "python",
   "nbconvert_exporter": "python",
   "pygments_lexer": "ipython3",
   "version": "3.10.14"
  }
 },
 "nbformat": 4,
 "nbformat_minor": 2
}
