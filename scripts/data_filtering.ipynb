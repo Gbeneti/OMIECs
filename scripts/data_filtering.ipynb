{
 "cells": [
  {
   "cell_type": "code",
   "execution_count": 1,
   "metadata": {},
   "outputs": [],
   "source": [
    "import numpy as np\n",
    "import pandas as pd"
   ]
  },
  {
   "cell_type": "code",
   "execution_count": 2,
   "metadata": {},
   "outputs": [],
   "source": [
    "OMIEC = pd.read_excel('data/OMIEC.xls')\n",
    "OMIEC_NEUROMORPHIC = pd.read_excel('data/OMIEC_NEUROMORPHIC.xls')"
   ]
  },
  {
   "cell_type": "code",
   "execution_count": 3,
   "metadata": {},
   "outputs": [],
   "source": [
    "abstract = OMIEC['Abstract']"
   ]
  },
  {
   "cell_type": "code",
   "execution_count": 4,
   "metadata": {},
   "outputs": [
    {
     "data": {
      "text/plain": [
       "0     The field of organic mixed ionic-electronic co...\n",
       "1     Neuromorphic computing offers the opportunity ...\n",
       "2     In a recent paper published in Science Advance...\n",
       "3     Organic electrochemical transistors (OECTs) ha...\n",
       "4     Organic mixed ionic-electronic conductors (OMI...\n",
       "5     Organic mixed ionic-electronic conductors (OMI...\n",
       "6     Organic electrochemical transistors are a prom...\n",
       "7     Owing to its close resemblance to biological s...\n",
       "8     Over the last decade, the organic electrochemi...\n",
       "9     Organic artificial neurons operating in liquid...\n",
       "10    A novel organic neuromorphic device performing...\n",
       "11    Signal communication mechanisms within the hum...\n",
       "12    Neuromorphic devices are likely to be the next...\n",
       "13    Organic mixed ionic-electronic conductors (OMI...\n",
       "14    Organic mixed ionic-electronic conductors (OMI...\n",
       "15    Conducting polymers are mixed ionic-electronic...\n",
       "16    Electronic and ionic transport governs lithium...\n",
       "17    Organic electrochemical transistors (OECTs) ha...\n",
       "18    Understanding charge-compensating interactions...\n",
       "19    Recent research demonstrates the viability of ...\n",
       "20    Organic mixed ionic-electronic conductors (OMI...\n",
       "21    Organic electrochemical transistors (OECTs) ar...\n",
       "22    Operational stability underpins the successful...\n",
       "23    Organic-inorganic halide perovskites (OHPs) ha...\n",
       "24    Organic electrochemical transistors (OECTs) ar...\n",
       "25    Organic electrochemical transistors (OECTs) ar...\n",
       "26    Organic electrochemical transistors (OECTs) re...\n",
       "27    We investigate the mechanism of ion-dependent ...\n",
       "28    Neuromorphic computing targets realizing biomi...\n",
       "29    Organic electrochemical transistors (OECTs) ar...\n",
       "30    The computation of the brain relies on the hig...\n",
       "31    Hybrid halide perovskites are attractive candi...\n",
       "32    Conjugated polymers are increasingly used as o...\n",
       "33    The ion/chemical-based modulation feature of o...\n",
       "34    Owing to low-power, fast and highly adaptive o...\n",
       "35    In organic mixed ionic-electronic conductors (...\n",
       "36    Poly(3,4-ethylenedioxythiophene):polystyrene s...\n",
       "37    Organic electrochemical transistors (OECTs) ar...\n",
       "38    Organic mixed ionic electronic conductors (OMI...\n",
       "39    Valence change memories, in which internal red...\n",
       "40    Organic mixed ionic-electronic conductors (OMI...\n",
       "41    ABS T R A C T : The state-o f-t h e-a r t p o ...\n",
       "42    The heterogeneity of peculiar ions and carrier...\n",
       "43    In the past two decades, organic electronic ma...\n",
       "Name: Abstract, dtype: object"
      ]
     },
     "execution_count": 4,
     "metadata": {},
     "output_type": "execute_result"
    }
   ],
   "source": [
    "abstract"
   ]
  },
  {
   "cell_type": "code",
   "execution_count": null,
   "metadata": {},
   "outputs": [],
   "source": []
  }
 ],
 "metadata": {
  "kernelspec": {
   "display_name": "gbeneti-LNLS",
   "language": "python",
   "name": "python3"
  },
  "language_info": {
   "codemirror_mode": {
    "name": "ipython",
    "version": 3
   },
   "file_extension": ".py",
   "mimetype": "text/x-python",
   "name": "python",
   "nbconvert_exporter": "python",
   "pygments_lexer": "ipython3",
   "version": "3.11.6"
  }
 },
 "nbformat": 4,
 "nbformat_minor": 2
}
